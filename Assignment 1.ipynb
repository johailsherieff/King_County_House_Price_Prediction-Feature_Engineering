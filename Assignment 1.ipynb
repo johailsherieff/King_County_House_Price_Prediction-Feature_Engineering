{
 "cells": [
  {
   "cell_type": "markdown",
   "metadata": {},
   "source": [
    "# King County House Price Prediction"
   ]
  },
  {
   "cell_type": "markdown",
   "metadata": {},
   "source": [
    "## Abstract:\n",
    "\n",
    "Purpose of this research is to study about the supervised algorithms and to see how well they perform when they are given hyperparameters. The performance is measured by the accuracy to the predict the price of the house depending upon the hyperparameters used in the alogrithm. The supervised algorithms which are used to predict the housing prices are Random Forest Classifier, XGBoost Classifier, Logistic Regression, Random Forest Regression, XGBoost Regression, Linear Regression, Ridge Regression and SVM(Support Vector Machines). XGBoost Classifer proves to be effective with  an accuracy of 0.9091610 performs better than other supervised models with Random Forest Classifier with an accuracy of 0.902533 is very close than other supervised algorithms."
   ]
  },
  {
   "cell_type": "markdown",
   "metadata": {},
   "source": [
    "## Dataset:\n",
    "\n",
    "King County House Price Prediction the data has been taken from a kaggle dataset https://www.kaggle.com/harlfoxem/housesalesprediction/home containing the house sale prices for King County also includes Seattle where the dataset of the housing prices is recorded from May 2014 to May 2015.\n",
    "\n",
    "The dataset includes:\n",
    "id - to have unique identification for each house with a series of number\n",
    "\n",
    "date - date the house was sold\n",
    "\n",
    "price - Prediction price of the house\n",
    "\n",
    "bedrooms - no. of bedrooms in the house\n",
    "\n",
    "bathrooms - no. of bathrooms in the house\n",
    "\n",
    "spft_living - square footage of the living room\n",
    "\n",
    "sqft_lot - square footage of the lot\n",
    "\n",
    "waterfront - if the house has a waterfront view\n",
    "\n",
    "view - how many times the house has been viewed by the buyers\n",
    "\n",
    "condition - the condition of the house\n",
    "\n",
    "grade - grade given to the house by depending upon the King County grading system\n",
    "\n",
    "sqft_above - square footage of the house apart from the basement\n",
    "\n",
    "sqft_basement - square footage of the basement of the house\n",
    "\n",
    "yr_built - year the house was built\n",
    "\n",
    "yr_renovatedYear - year the house was renovated\n",
    "\n",
    "zipcode - zipcode of the house\n",
    "\n",
    "lat - Latitude coordinate of the house \n",
    "\n",
    "long - Longitude coordinate of the house\n",
    "\n",
    "sqft_living15 - Denotes the living room area in 2015(implies-- some renovations) and which might not have affected the lot size of the house \n",
    "\n",
    "sqft_lot15 - Denotes that lot size area in 2015(implies-- some renovations)"
   ]
  },
  {
   "cell_type": "code",
   "execution_count": 90,
   "metadata": {},
   "outputs": [],
   "source": [
    "import pandas as pd\n",
    "import seaborn as sns\n",
    "import matplotlib.pyplot as plt\n",
    "import numpy as np\n",
    "from pandas import Series\n",
    "%matplotlib inline\n",
    "import xlwt \n",
    "from xlwt import Workbook "
   ]
  },
  {
   "cell_type": "code",
   "execution_count": 91,
   "metadata": {},
   "outputs": [],
   "source": [
    "features = pd.read_csv('./Data/king_county_cleansed.csv')"
   ]
  },
  {
   "cell_type": "code",
   "execution_count": 92,
   "metadata": {},
   "outputs": [],
   "source": [
    "wb = Workbook()\n",
    "sheet1 = wb.add_sheet('Sheet 1') "
   ]
  },
  {
   "cell_type": "code",
   "execution_count": 93,
   "metadata": {},
   "outputs": [
    {
     "data": {
      "text/html": [
       "<div>\n",
       "<style scoped>\n",
       "    .dataframe tbody tr th:only-of-type {\n",
       "        vertical-align: middle;\n",
       "    }\n",
       "\n",
       "    .dataframe tbody tr th {\n",
       "        vertical-align: top;\n",
       "    }\n",
       "\n",
       "    .dataframe thead th {\n",
       "        text-align: right;\n",
       "    }\n",
       "</style>\n",
       "<table border=\"1\" class=\"dataframe\">\n",
       "  <thead>\n",
       "    <tr style=\"text-align: right;\">\n",
       "      <th></th>\n",
       "      <th>index</th>\n",
       "      <th>price</th>\n",
       "      <th>bedrooms</th>\n",
       "      <th>bathrooms</th>\n",
       "      <th>sqft_living</th>\n",
       "      <th>sqft_lot</th>\n",
       "      <th>waterfront</th>\n",
       "      <th>sqft_above</th>\n",
       "      <th>sqft_basement</th>\n",
       "      <th>yr_built</th>\n",
       "      <th>...</th>\n",
       "      <th>grade#10</th>\n",
       "      <th>grade#11</th>\n",
       "      <th>grade#12</th>\n",
       "      <th>grade#13</th>\n",
       "      <th>zipcode#98004</th>\n",
       "      <th>zipcode#98102</th>\n",
       "      <th>zipcode#98109</th>\n",
       "      <th>zipcode#98112</th>\n",
       "      <th>zipcode#98039</th>\n",
       "      <th>zipcode#98040</th>\n",
       "    </tr>\n",
       "  </thead>\n",
       "  <tbody>\n",
       "    <tr>\n",
       "      <th>0</th>\n",
       "      <td>16768</td>\n",
       "      <td>437500</td>\n",
       "      <td>3</td>\n",
       "      <td>2.25</td>\n",
       "      <td>1970</td>\n",
       "      <td>35100</td>\n",
       "      <td>0</td>\n",
       "      <td>1970</td>\n",
       "      <td>0</td>\n",
       "      <td>1977</td>\n",
       "      <td>...</td>\n",
       "      <td>0</td>\n",
       "      <td>0</td>\n",
       "      <td>0</td>\n",
       "      <td>0</td>\n",
       "      <td>0</td>\n",
       "      <td>0</td>\n",
       "      <td>0</td>\n",
       "      <td>0</td>\n",
       "      <td>0</td>\n",
       "      <td>0</td>\n",
       "    </tr>\n",
       "    <tr>\n",
       "      <th>1</th>\n",
       "      <td>9596</td>\n",
       "      <td>790000</td>\n",
       "      <td>3</td>\n",
       "      <td>2.50</td>\n",
       "      <td>2600</td>\n",
       "      <td>4750</td>\n",
       "      <td>0</td>\n",
       "      <td>1700</td>\n",
       "      <td>900</td>\n",
       "      <td>1951</td>\n",
       "      <td>...</td>\n",
       "      <td>0</td>\n",
       "      <td>0</td>\n",
       "      <td>0</td>\n",
       "      <td>0</td>\n",
       "      <td>0</td>\n",
       "      <td>0</td>\n",
       "      <td>0</td>\n",
       "      <td>0</td>\n",
       "      <td>0</td>\n",
       "      <td>0</td>\n",
       "    </tr>\n",
       "    <tr>\n",
       "      <th>2</th>\n",
       "      <td>9587</td>\n",
       "      <td>675000</td>\n",
       "      <td>5</td>\n",
       "      <td>2.50</td>\n",
       "      <td>2820</td>\n",
       "      <td>67518</td>\n",
       "      <td>0</td>\n",
       "      <td>2820</td>\n",
       "      <td>0</td>\n",
       "      <td>1979</td>\n",
       "      <td>...</td>\n",
       "      <td>0</td>\n",
       "      <td>0</td>\n",
       "      <td>0</td>\n",
       "      <td>0</td>\n",
       "      <td>0</td>\n",
       "      <td>0</td>\n",
       "      <td>0</td>\n",
       "      <td>0</td>\n",
       "      <td>0</td>\n",
       "      <td>0</td>\n",
       "    </tr>\n",
       "    <tr>\n",
       "      <th>3</th>\n",
       "      <td>20602</td>\n",
       "      <td>555000</td>\n",
       "      <td>4</td>\n",
       "      <td>2.50</td>\n",
       "      <td>3310</td>\n",
       "      <td>6500</td>\n",
       "      <td>0</td>\n",
       "      <td>3310</td>\n",
       "      <td>0</td>\n",
       "      <td>2012</td>\n",
       "      <td>...</td>\n",
       "      <td>0</td>\n",
       "      <td>0</td>\n",
       "      <td>0</td>\n",
       "      <td>0</td>\n",
       "      <td>0</td>\n",
       "      <td>0</td>\n",
       "      <td>0</td>\n",
       "      <td>0</td>\n",
       "      <td>0</td>\n",
       "      <td>0</td>\n",
       "    </tr>\n",
       "    <tr>\n",
       "      <th>4</th>\n",
       "      <td>11577</td>\n",
       "      <td>440000</td>\n",
       "      <td>4</td>\n",
       "      <td>2.25</td>\n",
       "      <td>2160</td>\n",
       "      <td>8119</td>\n",
       "      <td>0</td>\n",
       "      <td>1080</td>\n",
       "      <td>1080</td>\n",
       "      <td>1966</td>\n",
       "      <td>...</td>\n",
       "      <td>0</td>\n",
       "      <td>0</td>\n",
       "      <td>0</td>\n",
       "      <td>0</td>\n",
       "      <td>0</td>\n",
       "      <td>0</td>\n",
       "      <td>0</td>\n",
       "      <td>0</td>\n",
       "      <td>0</td>\n",
       "      <td>0</td>\n",
       "    </tr>\n",
       "  </tbody>\n",
       "</table>\n",
       "<p>5 rows × 51 columns</p>\n",
       "</div>"
      ],
      "text/plain": [
       "   index   price  bedrooms  bathrooms  sqft_living  sqft_lot  waterfront  \\\n",
       "0  16768  437500         3       2.25         1970     35100           0   \n",
       "1   9596  790000         3       2.50         2600      4750           0   \n",
       "2   9587  675000         5       2.50         2820     67518           0   \n",
       "3  20602  555000         4       2.50         3310      6500           0   \n",
       "4  11577  440000         4       2.25         2160      8119           0   \n",
       "\n",
       "   sqft_above  sqft_basement  yr_built      ...        grade#10  grade#11  \\\n",
       "0        1970              0      1977      ...               0         0   \n",
       "1        1700            900      1951      ...               0         0   \n",
       "2        2820              0      1979      ...               0         0   \n",
       "3        3310              0      2012      ...               0         0   \n",
       "4        1080           1080      1966      ...               0         0   \n",
       "\n",
       "   grade#12  grade#13  zipcode#98004  zipcode#98102  zipcode#98109  \\\n",
       "0         0         0              0              0              0   \n",
       "1         0         0              0              0              0   \n",
       "2         0         0              0              0              0   \n",
       "3         0         0              0              0              0   \n",
       "4         0         0              0              0              0   \n",
       "\n",
       "   zipcode#98112  zipcode#98039  zipcode#98040  \n",
       "0              0              0              0  \n",
       "1              0              0              0  \n",
       "2              0              0              0  \n",
       "3              0              0              0  \n",
       "4              0              0              0  \n",
       "\n",
       "[5 rows x 51 columns]"
      ]
     },
     "execution_count": 93,
     "metadata": {},
     "output_type": "execute_result"
    }
   ],
   "source": [
    "features.head() # Displays the first 5 rows of the data"
   ]
  },
  {
   "cell_type": "code",
   "execution_count": 94,
   "metadata": {},
   "outputs": [
    {
     "data": {
      "text/html": [
       "<div>\n",
       "<style scoped>\n",
       "    .dataframe tbody tr th:only-of-type {\n",
       "        vertical-align: middle;\n",
       "    }\n",
       "\n",
       "    .dataframe tbody tr th {\n",
       "        vertical-align: top;\n",
       "    }\n",
       "\n",
       "    .dataframe thead th {\n",
       "        text-align: right;\n",
       "    }\n",
       "</style>\n",
       "<table border=\"1\" class=\"dataframe\">\n",
       "  <thead>\n",
       "    <tr style=\"text-align: right;\">\n",
       "      <th></th>\n",
       "      <th>index</th>\n",
       "      <th>price</th>\n",
       "      <th>bedrooms</th>\n",
       "      <th>bathrooms</th>\n",
       "      <th>sqft_living</th>\n",
       "      <th>sqft_lot</th>\n",
       "      <th>waterfront</th>\n",
       "      <th>sqft_above</th>\n",
       "      <th>sqft_basement</th>\n",
       "      <th>yr_built</th>\n",
       "      <th>...</th>\n",
       "      <th>grade#10</th>\n",
       "      <th>grade#11</th>\n",
       "      <th>grade#12</th>\n",
       "      <th>grade#13</th>\n",
       "      <th>zipcode#98004</th>\n",
       "      <th>zipcode#98102</th>\n",
       "      <th>zipcode#98109</th>\n",
       "      <th>zipcode#98112</th>\n",
       "      <th>zipcode#98039</th>\n",
       "      <th>zipcode#98040</th>\n",
       "    </tr>\n",
       "  </thead>\n",
       "  <tbody>\n",
       "    <tr>\n",
       "      <th>count</th>\n",
       "      <td>21613.00000</td>\n",
       "      <td>2.161300e+04</td>\n",
       "      <td>21613.000000</td>\n",
       "      <td>21613.000000</td>\n",
       "      <td>21613.000000</td>\n",
       "      <td>2.161300e+04</td>\n",
       "      <td>21613.000000</td>\n",
       "      <td>21613.000000</td>\n",
       "      <td>21613.000000</td>\n",
       "      <td>21613.000000</td>\n",
       "      <td>...</td>\n",
       "      <td>21613.000000</td>\n",
       "      <td>21613.000000</td>\n",
       "      <td>21613.000000</td>\n",
       "      <td>21613.000000</td>\n",
       "      <td>21613.000000</td>\n",
       "      <td>21613.000000</td>\n",
       "      <td>21613.000000</td>\n",
       "      <td>21613.000000</td>\n",
       "      <td>21613.000000</td>\n",
       "      <td>21613.000000</td>\n",
       "    </tr>\n",
       "    <tr>\n",
       "      <th>mean</th>\n",
       "      <td>10806.00000</td>\n",
       "      <td>5.400881e+05</td>\n",
       "      <td>3.370842</td>\n",
       "      <td>2.114757</td>\n",
       "      <td>2079.899736</td>\n",
       "      <td>1.510697e+04</td>\n",
       "      <td>0.007542</td>\n",
       "      <td>1788.390691</td>\n",
       "      <td>291.509045</td>\n",
       "      <td>1971.005136</td>\n",
       "      <td>...</td>\n",
       "      <td>0.052468</td>\n",
       "      <td>0.018461</td>\n",
       "      <td>0.004164</td>\n",
       "      <td>0.000601</td>\n",
       "      <td>0.014667</td>\n",
       "      <td>0.004858</td>\n",
       "      <td>0.005043</td>\n",
       "      <td>0.012446</td>\n",
       "      <td>0.002313</td>\n",
       "      <td>0.013048</td>\n",
       "    </tr>\n",
       "    <tr>\n",
       "      <th>std</th>\n",
       "      <td>6239.28002</td>\n",
       "      <td>3.671272e+05</td>\n",
       "      <td>0.930062</td>\n",
       "      <td>0.770163</td>\n",
       "      <td>918.440897</td>\n",
       "      <td>4.142051e+04</td>\n",
       "      <td>0.086517</td>\n",
       "      <td>828.090978</td>\n",
       "      <td>442.575043</td>\n",
       "      <td>29.373411</td>\n",
       "      <td>...</td>\n",
       "      <td>0.222975</td>\n",
       "      <td>0.134615</td>\n",
       "      <td>0.064397</td>\n",
       "      <td>0.024518</td>\n",
       "      <td>0.120219</td>\n",
       "      <td>0.069533</td>\n",
       "      <td>0.070838</td>\n",
       "      <td>0.110869</td>\n",
       "      <td>0.048043</td>\n",
       "      <td>0.113482</td>\n",
       "    </tr>\n",
       "    <tr>\n",
       "      <th>min</th>\n",
       "      <td>0.00000</td>\n",
       "      <td>7.500000e+04</td>\n",
       "      <td>0.000000</td>\n",
       "      <td>0.000000</td>\n",
       "      <td>290.000000</td>\n",
       "      <td>5.200000e+02</td>\n",
       "      <td>0.000000</td>\n",
       "      <td>290.000000</td>\n",
       "      <td>0.000000</td>\n",
       "      <td>1900.000000</td>\n",
       "      <td>...</td>\n",
       "      <td>0.000000</td>\n",
       "      <td>0.000000</td>\n",
       "      <td>0.000000</td>\n",
       "      <td>0.000000</td>\n",
       "      <td>0.000000</td>\n",
       "      <td>0.000000</td>\n",
       "      <td>0.000000</td>\n",
       "      <td>0.000000</td>\n",
       "      <td>0.000000</td>\n",
       "      <td>0.000000</td>\n",
       "    </tr>\n",
       "    <tr>\n",
       "      <th>25%</th>\n",
       "      <td>5403.00000</td>\n",
       "      <td>3.219500e+05</td>\n",
       "      <td>3.000000</td>\n",
       "      <td>1.750000</td>\n",
       "      <td>1427.000000</td>\n",
       "      <td>5.040000e+03</td>\n",
       "      <td>0.000000</td>\n",
       "      <td>1190.000000</td>\n",
       "      <td>0.000000</td>\n",
       "      <td>1951.000000</td>\n",
       "      <td>...</td>\n",
       "      <td>0.000000</td>\n",
       "      <td>0.000000</td>\n",
       "      <td>0.000000</td>\n",
       "      <td>0.000000</td>\n",
       "      <td>0.000000</td>\n",
       "      <td>0.000000</td>\n",
       "      <td>0.000000</td>\n",
       "      <td>0.000000</td>\n",
       "      <td>0.000000</td>\n",
       "      <td>0.000000</td>\n",
       "    </tr>\n",
       "    <tr>\n",
       "      <th>50%</th>\n",
       "      <td>10806.00000</td>\n",
       "      <td>4.500000e+05</td>\n",
       "      <td>3.000000</td>\n",
       "      <td>2.250000</td>\n",
       "      <td>1910.000000</td>\n",
       "      <td>7.618000e+03</td>\n",
       "      <td>0.000000</td>\n",
       "      <td>1560.000000</td>\n",
       "      <td>0.000000</td>\n",
       "      <td>1975.000000</td>\n",
       "      <td>...</td>\n",
       "      <td>0.000000</td>\n",
       "      <td>0.000000</td>\n",
       "      <td>0.000000</td>\n",
       "      <td>0.000000</td>\n",
       "      <td>0.000000</td>\n",
       "      <td>0.000000</td>\n",
       "      <td>0.000000</td>\n",
       "      <td>0.000000</td>\n",
       "      <td>0.000000</td>\n",
       "      <td>0.000000</td>\n",
       "    </tr>\n",
       "    <tr>\n",
       "      <th>75%</th>\n",
       "      <td>16209.00000</td>\n",
       "      <td>6.450000e+05</td>\n",
       "      <td>4.000000</td>\n",
       "      <td>2.500000</td>\n",
       "      <td>2550.000000</td>\n",
       "      <td>1.068800e+04</td>\n",
       "      <td>0.000000</td>\n",
       "      <td>2210.000000</td>\n",
       "      <td>560.000000</td>\n",
       "      <td>1997.000000</td>\n",
       "      <td>...</td>\n",
       "      <td>0.000000</td>\n",
       "      <td>0.000000</td>\n",
       "      <td>0.000000</td>\n",
       "      <td>0.000000</td>\n",
       "      <td>0.000000</td>\n",
       "      <td>0.000000</td>\n",
       "      <td>0.000000</td>\n",
       "      <td>0.000000</td>\n",
       "      <td>0.000000</td>\n",
       "      <td>0.000000</td>\n",
       "    </tr>\n",
       "    <tr>\n",
       "      <th>max</th>\n",
       "      <td>21612.00000</td>\n",
       "      <td>7.700000e+06</td>\n",
       "      <td>33.000000</td>\n",
       "      <td>8.000000</td>\n",
       "      <td>13540.000000</td>\n",
       "      <td>1.651359e+06</td>\n",
       "      <td>1.000000</td>\n",
       "      <td>9410.000000</td>\n",
       "      <td>4820.000000</td>\n",
       "      <td>2015.000000</td>\n",
       "      <td>...</td>\n",
       "      <td>1.000000</td>\n",
       "      <td>1.000000</td>\n",
       "      <td>1.000000</td>\n",
       "      <td>1.000000</td>\n",
       "      <td>1.000000</td>\n",
       "      <td>1.000000</td>\n",
       "      <td>1.000000</td>\n",
       "      <td>1.000000</td>\n",
       "      <td>1.000000</td>\n",
       "      <td>1.000000</td>\n",
       "    </tr>\n",
       "  </tbody>\n",
       "</table>\n",
       "<p>8 rows × 51 columns</p>\n",
       "</div>"
      ],
      "text/plain": [
       "             index         price      bedrooms     bathrooms   sqft_living  \\\n",
       "count  21613.00000  2.161300e+04  21613.000000  21613.000000  21613.000000   \n",
       "mean   10806.00000  5.400881e+05      3.370842      2.114757   2079.899736   \n",
       "std     6239.28002  3.671272e+05      0.930062      0.770163    918.440897   \n",
       "min        0.00000  7.500000e+04      0.000000      0.000000    290.000000   \n",
       "25%     5403.00000  3.219500e+05      3.000000      1.750000   1427.000000   \n",
       "50%    10806.00000  4.500000e+05      3.000000      2.250000   1910.000000   \n",
       "75%    16209.00000  6.450000e+05      4.000000      2.500000   2550.000000   \n",
       "max    21612.00000  7.700000e+06     33.000000      8.000000  13540.000000   \n",
       "\n",
       "           sqft_lot    waterfront    sqft_above  sqft_basement      yr_built  \\\n",
       "count  2.161300e+04  21613.000000  21613.000000   21613.000000  21613.000000   \n",
       "mean   1.510697e+04      0.007542   1788.390691     291.509045   1971.005136   \n",
       "std    4.142051e+04      0.086517    828.090978     442.575043     29.373411   \n",
       "min    5.200000e+02      0.000000    290.000000       0.000000   1900.000000   \n",
       "25%    5.040000e+03      0.000000   1190.000000       0.000000   1951.000000   \n",
       "50%    7.618000e+03      0.000000   1560.000000       0.000000   1975.000000   \n",
       "75%    1.068800e+04      0.000000   2210.000000     560.000000   1997.000000   \n",
       "max    1.651359e+06      1.000000   9410.000000    4820.000000   2015.000000   \n",
       "\n",
       "           ...            grade#10      grade#11      grade#12      grade#13  \\\n",
       "count      ...        21613.000000  21613.000000  21613.000000  21613.000000   \n",
       "mean       ...            0.052468      0.018461      0.004164      0.000601   \n",
       "std        ...            0.222975      0.134615      0.064397      0.024518   \n",
       "min        ...            0.000000      0.000000      0.000000      0.000000   \n",
       "25%        ...            0.000000      0.000000      0.000000      0.000000   \n",
       "50%        ...            0.000000      0.000000      0.000000      0.000000   \n",
       "75%        ...            0.000000      0.000000      0.000000      0.000000   \n",
       "max        ...            1.000000      1.000000      1.000000      1.000000   \n",
       "\n",
       "       zipcode#98004  zipcode#98102  zipcode#98109  zipcode#98112  \\\n",
       "count   21613.000000   21613.000000   21613.000000   21613.000000   \n",
       "mean        0.014667       0.004858       0.005043       0.012446   \n",
       "std         0.120219       0.069533       0.070838       0.110869   \n",
       "min         0.000000       0.000000       0.000000       0.000000   \n",
       "25%         0.000000       0.000000       0.000000       0.000000   \n",
       "50%         0.000000       0.000000       0.000000       0.000000   \n",
       "75%         0.000000       0.000000       0.000000       0.000000   \n",
       "max         1.000000       1.000000       1.000000       1.000000   \n",
       "\n",
       "       zipcode#98039  zipcode#98040  \n",
       "count   21613.000000   21613.000000  \n",
       "mean        0.002313       0.013048  \n",
       "std         0.048043       0.113482  \n",
       "min         0.000000       0.000000  \n",
       "25%         0.000000       0.000000  \n",
       "50%         0.000000       0.000000  \n",
       "75%         0.000000       0.000000  \n",
       "max         1.000000       1.000000  \n",
       "\n",
       "[8 rows x 51 columns]"
      ]
     },
     "execution_count": 94,
     "metadata": {},
     "output_type": "execute_result"
    }
   ],
   "source": [
    "features.describe() # Describes the numeric reperesentation of each column"
   ]
  },
  {
   "cell_type": "markdown",
   "metadata": {},
   "source": [
    "#### Multicollinearity:\n",
    "\n",
    "We are using .corr() to find the coorelation between two columns to get sense of which two independent variables are dependent upon each other so that we can increase the accuracy of the model."
   ]
  },
  {
   "cell_type": "code",
   "execution_count": 95,
   "metadata": {},
   "outputs": [
    {
     "data": {
      "text/plain": [
       "<matplotlib.axes._subplots.AxesSubplot at 0x1a27769cc0>"
      ]
     },
     "execution_count": 95,
     "metadata": {},
     "output_type": "execute_result"
    },
    {
     "data": {
      "image/png": "[encoded data removed]",
      "text/plain": [
       "<Figure size 1440x1440 with 2 Axes>"
      ]
     },
     "metadata": {
      "needs_background": "light"
     },
     "output_type": "display_data"
    }
   ],
   "source": [
    "corr = features.corr()\n",
    "\n",
    "mask = np.zeros_like(corr, dtype=np.bool) # Returns an array of zeros\n",
    "mask[np.triu_indices_from(mask)] = True   # Returns an array of upper-triangle values\n",
    "\n",
    "# Set up the matplotlib figure\n",
    "f, ax = plt.subplots(figsize=(20, 20))\n",
    "\n",
    "# Generate a custom diverging colormap\n",
    "cmap = sns.diverging_palette(190, 10, as_cmap=True)\n",
    "\n",
    "# Draw the heatmap with the mask and correct aspect ratio\n",
    "sns.heatmap(corr, mask=mask, cmap=cmap, vmax=.3, center=0,\n",
    "            square=True, linewidths=.5, cbar_kws={\"shrink\": .5})   # Displays the heatmap showing how much the two independent variables are depedenet upon each other\n"
   ]
  },
  {
   "cell_type": "code",
   "execution_count": 96,
   "metadata": {},
   "outputs": [
    {
     "data": {
      "text/plain": [
       "<matplotlib.image.AxesImage at 0x1a26a6bc88>"
      ]
     },
     "execution_count": 96,
     "metadata": {},
     "output_type": "execute_result"
    },
    {
     "data": {
      "image/png": "[encoded data removed]",
      "text/plain": [
       "<Figure size 288x288 with 1 Axes>"
      ]
     },
     "metadata": {
      "needs_background": "light"
     },
     "output_type": "display_data"
    }
   ],
   "source": [
    "plt.matshow(features.corr())  # plt is the command to plot a graph using the matplot libaray"
   ]
  },
  {
   "cell_type": "code",
   "execution_count": 97,
   "metadata": {},
   "outputs": [
    {
     "name": "stdout",
     "output_type": "stream",
     "text": [
      "450000.0\n"
     ]
    }
   ],
   "source": [
    "median_price = features.loc[:,\"price\"].median()   # Finding the median price of the houses\n",
    "print(median_price)"
   ]
  },
  {
   "cell_type": "markdown",
   "metadata": {},
   "source": [
    "Creating a new column in the dataframe to hold the categorical data value : HIGH/LOW.\n",
    "\n",
    "All values of the price of the house which are less than the median price are denoted as LOW and if it is greater than the median price are HIGH."
   ]
  },
  {
   "cell_type": "code",
   "execution_count": 98,
   "metadata": {},
   "outputs": [],
   "source": [
    "features['price_cat'] = features['price'].apply(lambda x: 1 if x > median_price else -1)"
   ]
  },
  {
   "cell_type": "code",
   "execution_count": 99,
   "metadata": {},
   "outputs": [
    {
     "data": {
      "text/html": [
       "<div>\n",
       "<style scoped>\n",
       "    .dataframe tbody tr th:only-of-type {\n",
       "        vertical-align: middle;\n",
       "    }\n",
       "\n",
       "    .dataframe tbody tr th {\n",
       "        vertical-align: top;\n",
       "    }\n",
       "\n",
       "    .dataframe thead th {\n",
       "        text-align: right;\n",
       "    }\n",
       "</style>\n",
       "<table border=\"1\" class=\"dataframe\">\n",
       "  <thead>\n",
       "    <tr style=\"text-align: right;\">\n",
       "      <th></th>\n",
       "      <th>price</th>\n",
       "      <th>price_cat</th>\n",
       "    </tr>\n",
       "  </thead>\n",
       "  <tbody>\n",
       "    <tr>\n",
       "      <th>0</th>\n",
       "      <td>437500</td>\n",
       "      <td>-1</td>\n",
       "    </tr>\n",
       "    <tr>\n",
       "      <th>1</th>\n",
       "      <td>790000</td>\n",
       "      <td>1</td>\n",
       "    </tr>\n",
       "    <tr>\n",
       "      <th>2</th>\n",
       "      <td>675000</td>\n",
       "      <td>1</td>\n",
       "    </tr>\n",
       "    <tr>\n",
       "      <th>3</th>\n",
       "      <td>555000</td>\n",
       "      <td>1</td>\n",
       "    </tr>\n",
       "    <tr>\n",
       "      <th>4</th>\n",
       "      <td>440000</td>\n",
       "      <td>-1</td>\n",
       "    </tr>\n",
       "    <tr>\n",
       "      <th>5</th>\n",
       "      <td>295000</td>\n",
       "      <td>-1</td>\n",
       "    </tr>\n",
       "    <tr>\n",
       "      <th>6</th>\n",
       "      <td>470000</td>\n",
       "      <td>1</td>\n",
       "    </tr>\n",
       "    <tr>\n",
       "      <th>7</th>\n",
       "      <td>550000</td>\n",
       "      <td>1</td>\n",
       "    </tr>\n",
       "    <tr>\n",
       "      <th>8</th>\n",
       "      <td>313000</td>\n",
       "      <td>-1</td>\n",
       "    </tr>\n",
       "    <tr>\n",
       "      <th>9</th>\n",
       "      <td>626000</td>\n",
       "      <td>1</td>\n",
       "    </tr>\n",
       "  </tbody>\n",
       "</table>\n",
       "</div>"
      ],
      "text/plain": [
       "    price  price_cat\n",
       "0  437500         -1\n",
       "1  790000          1\n",
       "2  675000          1\n",
       "3  555000          1\n",
       "4  440000         -1\n",
       "5  295000         -1\n",
       "6  470000          1\n",
       "7  550000          1\n",
       "8  313000         -1\n",
       "9  626000          1"
      ]
     },
     "execution_count": 99,
     "metadata": {},
     "output_type": "execute_result"
    }
   ],
   "source": [
    "features[['price','price_cat']].head(10)"
   ]
  },
  {
   "cell_type": "code",
   "execution_count": 100,
   "metadata": {},
   "outputs": [
    {
     "data": {
      "text/html": [
       "<div>\n",
       "<style scoped>\n",
       "    .dataframe tbody tr th:only-of-type {\n",
       "        vertical-align: middle;\n",
       "    }\n",
       "\n",
       "    .dataframe tbody tr th {\n",
       "        vertical-align: top;\n",
       "    }\n",
       "\n",
       "    .dataframe thead th {\n",
       "        text-align: right;\n",
       "    }\n",
       "</style>\n",
       "<table border=\"1\" class=\"dataframe\">\n",
       "  <thead>\n",
       "    <tr style=\"text-align: right;\">\n",
       "      <th></th>\n",
       "      <th>index</th>\n",
       "      <th>price</th>\n",
       "      <th>bedrooms</th>\n",
       "      <th>bathrooms</th>\n",
       "      <th>sqft_living</th>\n",
       "      <th>sqft_lot</th>\n",
       "      <th>waterfront</th>\n",
       "      <th>sqft_above</th>\n",
       "      <th>sqft_basement</th>\n",
       "      <th>yr_built</th>\n",
       "      <th>...</th>\n",
       "      <th>grade#11</th>\n",
       "      <th>grade#12</th>\n",
       "      <th>grade#13</th>\n",
       "      <th>zipcode#98004</th>\n",
       "      <th>zipcode#98102</th>\n",
       "      <th>zipcode#98109</th>\n",
       "      <th>zipcode#98112</th>\n",
       "      <th>zipcode#98039</th>\n",
       "      <th>zipcode#98040</th>\n",
       "      <th>price_cat</th>\n",
       "    </tr>\n",
       "  </thead>\n",
       "  <tbody>\n",
       "    <tr>\n",
       "      <th>0</th>\n",
       "      <td>16768</td>\n",
       "      <td>437500</td>\n",
       "      <td>3</td>\n",
       "      <td>2.25</td>\n",
       "      <td>1970</td>\n",
       "      <td>35100</td>\n",
       "      <td>0</td>\n",
       "      <td>1970</td>\n",
       "      <td>0</td>\n",
       "      <td>1977</td>\n",
       "      <td>...</td>\n",
       "      <td>0</td>\n",
       "      <td>0</td>\n",
       "      <td>0</td>\n",
       "      <td>0</td>\n",
       "      <td>0</td>\n",
       "      <td>0</td>\n",
       "      <td>0</td>\n",
       "      <td>0</td>\n",
       "      <td>0</td>\n",
       "      <td>-1</td>\n",
       "    </tr>\n",
       "    <tr>\n",
       "      <th>1</th>\n",
       "      <td>9596</td>\n",
       "      <td>790000</td>\n",
       "      <td>3</td>\n",
       "      <td>2.50</td>\n",
       "      <td>2600</td>\n",
       "      <td>4750</td>\n",
       "      <td>0</td>\n",
       "      <td>1700</td>\n",
       "      <td>900</td>\n",
       "      <td>1951</td>\n",
       "      <td>...</td>\n",
       "      <td>0</td>\n",
       "      <td>0</td>\n",
       "      <td>0</td>\n",
       "      <td>0</td>\n",
       "      <td>0</td>\n",
       "      <td>0</td>\n",
       "      <td>0</td>\n",
       "      <td>0</td>\n",
       "      <td>0</td>\n",
       "      <td>1</td>\n",
       "    </tr>\n",
       "    <tr>\n",
       "      <th>2</th>\n",
       "      <td>9587</td>\n",
       "      <td>675000</td>\n",
       "      <td>5</td>\n",
       "      <td>2.50</td>\n",
       "      <td>2820</td>\n",
       "      <td>67518</td>\n",
       "      <td>0</td>\n",
       "      <td>2820</td>\n",
       "      <td>0</td>\n",
       "      <td>1979</td>\n",
       "      <td>...</td>\n",
       "      <td>0</td>\n",
       "      <td>0</td>\n",
       "      <td>0</td>\n",
       "      <td>0</td>\n",
       "      <td>0</td>\n",
       "      <td>0</td>\n",
       "      <td>0</td>\n",
       "      <td>0</td>\n",
       "      <td>0</td>\n",
       "      <td>1</td>\n",
       "    </tr>\n",
       "    <tr>\n",
       "      <th>3</th>\n",
       "      <td>20602</td>\n",
       "      <td>555000</td>\n",
       "      <td>4</td>\n",
       "      <td>2.50</td>\n",
       "      <td>3310</td>\n",
       "      <td>6500</td>\n",
       "      <td>0</td>\n",
       "      <td>3310</td>\n",
       "      <td>0</td>\n",
       "      <td>2012</td>\n",
       "      <td>...</td>\n",
       "      <td>0</td>\n",
       "      <td>0</td>\n",
       "      <td>0</td>\n",
       "      <td>0</td>\n",
       "      <td>0</td>\n",
       "      <td>0</td>\n",
       "      <td>0</td>\n",
       "      <td>0</td>\n",
       "      <td>0</td>\n",
       "      <td>1</td>\n",
       "    </tr>\n",
       "    <tr>\n",
       "      <th>4</th>\n",
       "      <td>11577</td>\n",
       "      <td>440000</td>\n",
       "      <td>4</td>\n",
       "      <td>2.25</td>\n",
       "      <td>2160</td>\n",
       "      <td>8119</td>\n",
       "      <td>0</td>\n",
       "      <td>1080</td>\n",
       "      <td>1080</td>\n",
       "      <td>1966</td>\n",
       "      <td>...</td>\n",
       "      <td>0</td>\n",
       "      <td>0</td>\n",
       "      <td>0</td>\n",
       "      <td>0</td>\n",
       "      <td>0</td>\n",
       "      <td>0</td>\n",
       "      <td>0</td>\n",
       "      <td>0</td>\n",
       "      <td>0</td>\n",
       "      <td>-1</td>\n",
       "    </tr>\n",
       "  </tbody>\n",
       "</table>\n",
       "<p>5 rows × 52 columns</p>\n",
       "</div>"
      ],
      "text/plain": [
       "   index   price  bedrooms  bathrooms  sqft_living  sqft_lot  waterfront  \\\n",
       "0  16768  437500         3       2.25         1970     35100           0   \n",
       "1   9596  790000         3       2.50         2600      4750           0   \n",
       "2   9587  675000         5       2.50         2820     67518           0   \n",
       "3  20602  555000         4       2.50         3310      6500           0   \n",
       "4  11577  440000         4       2.25         2160      8119           0   \n",
       "\n",
       "   sqft_above  sqft_basement  yr_built    ...      grade#11  grade#12  \\\n",
       "0        1970              0      1977    ...             0         0   \n",
       "1        1700            900      1951    ...             0         0   \n",
       "2        2820              0      1979    ...             0         0   \n",
       "3        3310              0      2012    ...             0         0   \n",
       "4        1080           1080      1966    ...             0         0   \n",
       "\n",
       "   grade#13  zipcode#98004  zipcode#98102  zipcode#98109  zipcode#98112  \\\n",
       "0         0              0              0              0              0   \n",
       "1         0              0              0              0              0   \n",
       "2         0              0              0              0              0   \n",
       "3         0              0              0              0              0   \n",
       "4         0              0              0              0              0   \n",
       "\n",
       "   zipcode#98039  zipcode#98040  price_cat  \n",
       "0              0              0         -1  \n",
       "1              0              0          1  \n",
       "2              0              0          1  \n",
       "3              0              0          1  \n",
       "4              0              0         -1  \n",
       "\n",
       "[5 rows x 52 columns]"
      ]
     },
     "execution_count": 100,
     "metadata": {},
     "output_type": "execute_result"
    }
   ],
   "source": [
    "features.head(5)"
   ]
  },
  {
   "cell_type": "markdown",
   "metadata": {},
   "source": [
    "## Part A:\n",
    "\n",
    "\n",
    "\n",
    "### Bagging Based Tree Algorithm : Random Forest Classifier\n",
    "\n",
    "Random Forest Classifier is an ensemble algorithm of decision trees from randomly selected subset of training set. Ensembled algorithms are those which combines more than one algorithms of same or different kind for classifying objects. For example, running prediction over Naive Bayes, SVM and Decision Tree and then taking vote for final consideration of class for test object."
   ]
  },
  {
   "cell_type": "code",
   "execution_count": 101,
   "metadata": {},
   "outputs": [],
   "source": [
    "from sklearn.model_selection import train_test_split"
   ]
  },
  {
   "cell_type": "code",
   "execution_count": 102,
   "metadata": {},
   "outputs": [
    {
     "data": {
      "text/plain": [
       "Index(['index', 'price', 'bedrooms', 'bathrooms', 'sqft_living', 'sqft_lot',\n",
       "       'waterfront', 'sqft_above', 'sqft_basement', 'yr_built', 'yr_renovated',\n",
       "       'lat', 'long', 'sqft_living15', 'sqft_lot15', 'basement_present',\n",
       "       'renovated', 'floors#1.0', 'floors#1.5', 'floors#2.0', 'floors#2.5',\n",
       "       'floors#3.0', 'floors#3.5', 'view#0', 'view#1', 'view#2', 'view#3',\n",
       "       'view#4', 'condition#1', 'condition#2', 'condition#3', 'condition#4',\n",
       "       'condition#5', 'grade#1', 'grade#3', 'grade#4', 'grade#5', 'grade#6',\n",
       "       'grade#7', 'grade#8', 'grade#9', 'grade#10', 'grade#11', 'grade#12',\n",
       "       'grade#13', 'zipcode#98004', 'zipcode#98102', 'zipcode#98109',\n",
       "       'zipcode#98112', 'zipcode#98039', 'zipcode#98040', 'price_cat'],\n",
       "      dtype='object')"
      ]
     },
     "execution_count": 102,
     "metadata": {},
     "output_type": "execute_result"
    }
   ],
   "source": [
    "features.columns"
   ]
  },
  {
   "cell_type": "code",
   "execution_count": 103,
   "metadata": {},
   "outputs": [],
   "source": [
    "X_features = ['bedrooms', 'bathrooms', 'sqft_living', 'sqft_lot',\n",
    "       'waterfront', 'sqft_above', 'sqft_basement', 'yr_built', 'yr_renovated',\n",
    "       'lat', 'long', 'sqft_living15', 'sqft_lot15', 'basement_present',\n",
    "       'renovated', 'floors#1.0', 'floors#1.5', 'floors#2.0', 'floors#2.5',\n",
    "       'floors#3.0', 'floors#3.5', 'view#0', 'view#1', 'view#2', 'view#3',\n",
    "       'view#4', 'condition#1', 'condition#2', 'condition#3', 'condition#4',\n",
    "       'condition#5', 'grade#1', 'grade#3', 'grade#4', 'grade#5', 'grade#6',\n",
    "       'grade#7', 'grade#8', 'grade#9', 'grade#10', 'grade#11', 'grade#12',\n",
    "       'grade#13', 'zipcode#98004', 'zipcode#98102', 'zipcode#98109',\n",
    "       'zipcode#98112', 'zipcode#98039', 'zipcode#98040']\n",
    "\n",
    "X=features[['bedrooms', 'bathrooms', 'sqft_living', 'sqft_lot',\n",
    "       'waterfront', 'sqft_above', 'sqft_basement', 'yr_built', 'yr_renovated',\n",
    "       'lat', 'long', 'sqft_living15', 'sqft_lot15', 'basement_present',\n",
    "       'renovated', 'floors#1.0', 'floors#1.5', 'floors#2.0', 'floors#2.5',\n",
    "       'floors#3.0', 'floors#3.5', 'view#0', 'view#1', 'view#2', 'view#3',\n",
    "       'view#4', 'condition#1', 'condition#2', 'condition#3', 'condition#4',\n",
    "       'condition#5', 'grade#1', 'grade#3', 'grade#4', 'grade#5', 'grade#6',\n",
    "       'grade#7', 'grade#8', 'grade#9', 'grade#10', 'grade#11', 'grade#12',\n",
    "       'grade#13', 'zipcode#98004', 'zipcode#98102', 'zipcode#98109',\n",
    "       'zipcode#98112', 'zipcode#98039', 'zipcode#98040']]  # The King County House Pricing data for the particular features is now copied to X\n",
    "\n",
    "y=features['price_cat']  # The target data is now present in the y \n",
    "       \n",
    "# Split dataset into training set and test set\n",
    "X_train, X_test, y_train, y_test = train_test_split(X, y, test_size=0.3) # 70% training and 30% test"
   ]
  },
  {
   "cell_type": "markdown",
   "metadata": {},
   "source": [
    "Random Forest Classifier aggregates the votes from different decision treess to decide the final class of the object. This works well because a single decision tree may be prone to a noise, but aggregate of many decision trees reduce the effect of noise giving more accurate results."
   ]
  },
  {
   "cell_type": "code",
   "execution_count": 104,
   "metadata": {},
   "outputs": [],
   "source": [
    "# Import Random Forest Model\n",
    "from sklearn.ensemble import RandomForestClassifier\n",
    "from numpy.core.umath_tests import inner1d\n",
    "\n",
    "# Create a Gaussian Classifier\n",
    "clf=RandomForestClassifier(n_estimators=100)\n",
    "\n",
    "# Train and fit the model using the tranning datasets\n",
    "clf.fit(X_train,y_train)\n",
    "\n",
    "# To predict the test data with the help of the training set\n",
    "y_pred=clf.predict(X_test)"
   ]
  },
  {
   "cell_type": "code",
   "execution_count": 105,
   "metadata": {},
   "outputs": [
    {
     "name": "stdout",
     "output_type": "stream",
     "text": [
      "Accuracy: 0.898673658235657\n"
     ]
    }
   ],
   "source": [
    "#Import scikit-learn metrics module for accuracy calculation\n",
    "from sklearn import metrics\n",
    "# Model Accuracy, how often is the classifier correct?\n",
    "print(\"Accuracy:\",metrics.accuracy_score(y_test, y_pred))"
   ]
  },
  {
   "cell_type": "code",
   "execution_count": 106,
   "metadata": {},
   "outputs": [
    {
     "data": {
      "text/plain": [
       "RandomForestClassifier(bootstrap=True, class_weight=None, criterion='gini',\n",
       "            max_depth=None, max_features='auto', max_leaf_nodes=None,\n",
       "            min_impurity_decrease=0.0, min_impurity_split=None,\n",
       "            min_samples_leaf=1, min_samples_split=2,\n",
       "            min_weight_fraction_leaf=0.0, n_estimators=100, n_jobs=1,\n",
       "            oob_score=False, random_state=None, verbose=0,\n",
       "            warm_start=False)"
      ]
     },
     "execution_count": 106,
     "metadata": {},
     "output_type": "execute_result"
    }
   ],
   "source": [
    "RandomForestClassifier(bootstrap=True, class_weight=None, criterion='gini',\n",
    "            max_depth=None, max_features='auto', max_leaf_nodes=None,\n",
    "            min_impurity_split=None, \n",
    "            min_samples_leaf=1, min_samples_split=2,\n",
    "            min_weight_fraction_leaf=0.0, n_estimators=100, n_jobs=1,\n",
    "            oob_score=False, random_state=None, verbose=0,\n",
    "            warm_start=False)"
   ]
  },
  {
   "cell_type": "markdown",
   "metadata": {},
   "source": [
    "#### Feature Importance:\n",
    "\n",
    "Feature importance is calculated as the decrease in node impurity weighted by the probability of reaching that node. The node probability can be calculated by the number of samples that reach the node, divided by the total number of samples. The higher the value the more important the feature."
   ]
  },
  {
   "cell_type": "code",
   "execution_count": 107,
   "metadata": {},
   "outputs": [
    {
     "data": {
      "text/plain": [
       "lat                 2.729890e-01\n",
       "sqft_living         1.221608e-01\n",
       "sqft_living15       8.982382e-02\n",
       "sqft_above          7.446914e-02\n",
       "long                5.476541e-02\n",
       "sqft_lot15          5.193216e-02\n",
       "yr_built            5.008180e-02\n",
       "sqft_lot            4.977609e-02\n",
       "bathrooms           4.372863e-02\n",
       "grade#7             2.789750e-02\n",
       "sqft_basement       2.627324e-02\n",
       "bedrooms            1.716908e-02\n",
       "grade#6             1.506575e-02\n",
       "grade#9             1.395770e-02\n",
       "grade#8             1.356235e-02\n",
       "floors#1.0          1.100794e-02\n",
       "view#0              9.256011e-03\n",
       "basement_present    8.057016e-03\n",
       "floors#2.0          5.825524e-03\n",
       "condition#3         5.752856e-03\n",
       "condition#4         4.666096e-03\n",
       "grade#10            4.553420e-03\n",
       "floors#1.5          3.953443e-03\n",
       "condition#5         3.497043e-03\n",
       "yr_renovated        2.944585e-03\n",
       "view#2              1.905449e-03\n",
       "renovated           1.879039e-03\n",
       "view#3              1.502837e-03\n",
       "view#4              1.416204e-03\n",
       "zipcode#98004       1.339152e-03\n",
       "waterfront          1.188326e-03\n",
       "floors#3.0          1.009169e-03\n",
       "zipcode#98040       9.290281e-04\n",
       "view#1              8.607945e-04\n",
       "condition#2         8.267749e-04\n",
       "zipcode#98112       8.079839e-04\n",
       "grade#5             6.908634e-04\n",
       "zipcode#98102       4.964382e-04\n",
       "zipcode#98109       4.423541e-04\n",
       "condition#1         4.207996e-04\n",
       "floors#2.5          4.183723e-04\n",
       "grade#11            4.092547e-04\n",
       "zipcode#98039       1.954268e-04\n",
       "floors#3.5          5.439915e-05\n",
       "grade#4             4.055351e-05\n",
       "grade#12            3.519938e-07\n",
       "grade#3             4.945015e-08\n",
       "grade#13            1.039315e-09\n",
       "grade#1             0.000000e+00\n",
       "dtype: float64"
      ]
     },
     "execution_count": 107,
     "metadata": {},
     "output_type": "execute_result"
    }
   ],
   "source": [
    "feature_imp = pd.Series(clf.feature_importances_,index=X_features).sort_values(ascending=False)\n",
    "feature_imp"
   ]
  },
  {
   "cell_type": "code",
   "execution_count": 108,
   "metadata": {},
   "outputs": [
    {
     "data": {
      "text/plain": [
       "lat              0.272989\n",
       "sqft_living      0.122161\n",
       "sqft_living15    0.089824\n",
       "sqft_above       0.074469\n",
       "long             0.054765\n",
       "sqft_lot15       0.051932\n",
       "yr_built         0.050082\n",
       "sqft_lot         0.049776\n",
       "bathrooms        0.043729\n",
       "grade#7          0.027898\n",
       "dtype: float64"
      ]
     },
     "execution_count": 108,
     "metadata": {},
     "output_type": "execute_result"
    }
   ],
   "source": [
    "top_features = feature_imp.head(10)   # Displays the top 10 important feautres of the dataset\n",
    "top_features"
   ]
  },
  {
   "cell_type": "code",
   "execution_count": 109,
   "metadata": {},
   "outputs": [
    {
     "name": "stderr",
     "output_type": "stream",
     "text": [
      "No handles with labels found to put in legend.\n"
     ]
    },
    {
     "data": {
      "image/png": "[encoded data removed]",
      "text/plain": [
       "<Figure size 432x288 with 1 Axes>"
      ]
     },
     "metadata": {
      "needs_background": "light"
     },
     "output_type": "display_data"
    }
   ],
   "source": [
    "# Creating a bar plot for the important features\n",
    "sns.barplot(x=top_features, y=top_features.index)\n",
    "# Add labels to your graph\n",
    "plt.xlabel('Feature Importance Score')\n",
    "plt.ylabel('Features')\n",
    "plt.title(\"Visualizing Important Features\")\n",
    "plt.legend()\n",
    "plt.show()"
   ]
  },
  {
   "cell_type": "code",
   "execution_count": 110,
   "metadata": {},
   "outputs": [],
   "source": [
    "from pprint import pprint"
   ]
  },
  {
   "cell_type": "code",
   "execution_count": 111,
   "metadata": {},
   "outputs": [
    {
     "name": "stdout",
     "output_type": "stream",
     "text": [
      "Parameters currently in use:\n",
      "\n",
      "{'bootstrap': True,\n",
      " 'class_weight': None,\n",
      " 'criterion': 'gini',\n",
      " 'max_depth': None,\n",
      " 'max_features': 'auto',\n",
      " 'max_leaf_nodes': None,\n",
      " 'min_impurity_decrease': 0.0,\n",
      " 'min_impurity_split': None,\n",
      " 'min_samples_leaf': 1,\n",
      " 'min_samples_split': 2,\n",
      " 'min_weight_fraction_leaf': 0.0,\n",
      " 'n_estimators': 100,\n",
      " 'n_jobs': 1,\n",
      " 'oob_score': False,\n",
      " 'random_state': None,\n",
      " 'verbose': 0,\n",
      " 'warm_start': False}\n"
     ]
    }
   ],
   "source": [
    "# The parameters used by the current radnom forest classifier\n",
    "print('Parameters currently in use:\\n')\n",
    "pprint(clf.get_params())"
   ]
  },
  {
   "cell_type": "code",
   "execution_count": 112,
   "metadata": {},
   "outputs": [],
   "source": [
    "from sklearn.model_selection import RandomizedSearchCV"
   ]
  },
  {
   "cell_type": "markdown",
   "metadata": {},
   "source": [
    "### Important Hyperparameters are:\n",
    "\n",
    "#### n_estimators  -\n",
    "n_estimators represents the number of trees in the forest. Usually the higher the number of trees the better to learn the data. But adding more tress can reduce the training process.\n",
    "\n",
    "##### max_depth -\n",
    "max_depth represents the depth of each tree in the forest. The deeper the tree, the more splits it has and it captures more information about the data. Each decision tree ranges from 1 to 32 in depth to plot the training and test errors.\n",
    "\n",
    "#### min_samples_split - \n",
    "min_samples_split represents the minimum number of samples required to split an internal node. It can vary between considering the least one sample at each node to considering all of the samples at each node. By increasing the parameter, each tree in the forest becomes more constrained as it starts to consider more samples at each node.\n",
    "\n",
    "#### min_samples_leaf - \n",
    "min_samples_leaf is the minimum number of samples required to be at the leaf node. This parameter describes the minimum number of samples for the samples of the leafs to be present at the base of the tree.\n",
    "\n",
    "#### max_features - \n",
    "max_features represents the number of features to consider when looking for the best split."
   ]
  },
  {
   "cell_type": "code",
   "execution_count": 113,
   "metadata": {},
   "outputs": [
    {
     "name": "stdout",
     "output_type": "stream",
     "text": [
      "{'max_depth': [2, 4, 6, 8, 10, None],\n",
      " 'max_features': ['auto', 'sqrt'],\n",
      " 'min_samples_leaf': [2, 4],\n",
      " 'min_samples_split': [5, 10],\n",
      " 'n_estimators': [10, 57, 105, 152, 200]}\n"
     ]
    }
   ],
   "source": [
    "# Number of trees in random forest\n",
    "n_estimators = [int(x) for x in np.linspace(start = 10, stop = 200, num = 5)]\n",
    "# Number of features to consider at every split\n",
    "max_features = ['auto', 'sqrt']\n",
    "# Maximum number of levels in tree\n",
    "max_depth = [int(x) for x in np.linspace(2, 10, num = 5)]\n",
    "max_depth.append(None)\n",
    "# Minimum number of samples required to split a node\n",
    "min_samples_split = [5, 10]\n",
    "# Minimum number of samples required at each leaf node\n",
    "min_samples_leaf = [2, 4]\n",
    "# Method of selecting samples for training each tree\n",
    "#bootstrap = [True, False]\n",
    "# Create the random grid\n",
    "random_grid = {'n_estimators': n_estimators,\n",
    "               'max_features': max_features,\n",
    "               'max_depth': max_depth,\n",
    "               'min_samples_split': min_samples_split,\n",
    "               'min_samples_leaf': min_samples_leaf}\n",
    "pprint(random_grid)"
   ]
  },
  {
   "cell_type": "code",
   "execution_count": 114,
   "metadata": {
    "scrolled": true
   },
   "outputs": [
    {
     "name": "stdout",
     "output_type": "stream",
     "text": [
      "Fitting 3 folds for each of 100 candidates, totalling 300 fits\n",
      "[CV] n_estimators=200, min_samples_split=5, min_samples_leaf=2, max_features=sqrt, max_depth=2 \n",
      "[CV] n_estimators=200, min_samples_split=5, min_samples_leaf=2, max_features=sqrt, max_depth=2 \n",
      "[CV] n_estimators=200, min_samples_split=5, min_samples_leaf=2, max_features=sqrt, max_depth=2 \n",
      "[CV] n_estimators=57, min_samples_split=10, min_samples_leaf=2, max_features=auto, max_depth=2 \n",
      "[CV]  n_estimators=57, min_samples_split=10, min_samples_leaf=2, max_features=auto, max_depth=2, total=   0.7s\n",
      "[CV] n_estimators=57, min_samples_split=10, min_samples_leaf=2, max_features=auto, max_depth=2 \n",
      "[CV]  n_estimators=57, min_samples_split=10, min_samples_leaf=2, max_features=auto, max_depth=2, total=   0.5s\n",
      "[CV] n_estimators=57, min_samples_split=10, min_samples_leaf=2, max_features=auto, max_depth=2 \n",
      "[CV]  n_estimators=57, min_samples_split=10, min_samples_leaf=2, max_features=auto, max_depth=2, total=   0.6s\n",
      "[CV] n_estimators=152, min_samples_split=5, min_samples_leaf=4, max_features=auto, max_depth=6 \n",
      "[CV]  n_estimators=200, min_samples_split=5, min_samples_leaf=2, max_features=sqrt, max_depth=2, total=   2.1s\n",
      "[CV] n_estimators=152, min_samples_split=5, min_samples_leaf=4, max_features=auto, max_depth=6 \n",
      "[CV]  n_estimators=200, min_samples_split=5, min_samples_leaf=2, max_features=sqrt, max_depth=2, total=   2.0s\n",
      "[CV] n_estimators=152, min_samples_split=5, min_samples_leaf=4, max_features=auto, max_depth=6 \n",
      "[CV]  n_estimators=200, min_samples_split=5, min_samples_leaf=2, max_features=sqrt, max_depth=2, total=   2.1s\n",
      "[CV] n_estimators=200, min_samples_split=10, min_samples_leaf=2, max_features=sqrt, max_depth=6 \n",
      "[CV]  n_estimators=152, min_samples_split=5, min_samples_leaf=4, max_features=auto, max_depth=6, total=   2.8s\n",
      "[CV] n_estimators=200, min_samples_split=10, min_samples_leaf=2, max_features=sqrt, max_depth=6 \n",
      "[CV]  n_estimators=152, min_samples_split=5, min_samples_leaf=4, max_features=auto, max_depth=6, total=   2.7s\n",
      "[CV]  n_estimators=152, min_samples_split=5, min_samples_leaf=4, max_features=auto, max_depth=6, total=   2.6s\n",
      "[CV] n_estimators=200, min_samples_split=10, min_samples_leaf=2, max_features=sqrt, max_depth=6 \n",
      "[CV] n_estimators=200, min_samples_split=5, min_samples_leaf=2, max_features=sqrt, max_depth=6 \n",
      "[CV]  n_estimators=200, min_samples_split=10, min_samples_leaf=2, max_features=sqrt, max_depth=6, total=   3.7s\n",
      "[CV] n_estimators=200, min_samples_split=5, min_samples_leaf=2, max_features=sqrt, max_depth=6 \n",
      "[CV]  n_estimators=200, min_samples_split=10, min_samples_leaf=2, max_features=sqrt, max_depth=6, total=   3.5s\n",
      "[CV] n_estimators=200, min_samples_split=5, min_samples_leaf=2, max_features=sqrt, max_depth=6 \n",
      "[CV]  n_estimators=200, min_samples_split=10, min_samples_leaf=2, max_features=sqrt, max_depth=6, total=   3.4s\n",
      "[CV] n_estimators=105, min_samples_split=5, min_samples_leaf=4, max_features=auto, max_depth=10 \n",
      "[CV]  n_estimators=200, min_samples_split=5, min_samples_leaf=2, max_features=sqrt, max_depth=6, total=   3.4s\n",
      "[CV] n_estimators=105, min_samples_split=5, min_samples_leaf=4, max_features=auto, max_depth=10 \n",
      "[CV]  n_estimators=200, min_samples_split=5, min_samples_leaf=2, max_features=sqrt, max_depth=6, total=   3.3s\n",
      "[CV] n_estimators=105, min_samples_split=5, min_samples_leaf=4, max_features=auto, max_depth=10 \n",
      "[CV]  n_estimators=105, min_samples_split=5, min_samples_leaf=4, max_features=auto, max_depth=10, total=   2.5s\n",
      "[CV]  n_estimators=105, min_samples_split=5, min_samples_leaf=4, max_features=auto, max_depth=10, total=   2.5s\n",
      "[CV] n_estimators=152, min_samples_split=5, min_samples_leaf=4, max_features=sqrt, max_depth=None \n",
      "[CV] n_estimators=152, min_samples_split=5, min_samples_leaf=4, max_features=sqrt, max_depth=None \n",
      "[CV]  n_estimators=200, min_samples_split=5, min_samples_leaf=2, max_features=sqrt, max_depth=6, total=   3.3s\n",
      "[CV] n_estimators=152, min_samples_split=5, min_samples_leaf=4, max_features=sqrt, max_depth=None \n",
      "[CV]  n_estimators=105, min_samples_split=5, min_samples_leaf=4, max_features=auto, max_depth=10, total=   2.5s\n",
      "[CV] n_estimators=57, min_samples_split=10, min_samples_leaf=2, max_features=auto, max_depth=6 \n",
      "[CV]  n_estimators=57, min_samples_split=10, min_samples_leaf=2, max_features=auto, max_depth=6, total=   1.0s\n",
      "[CV] n_estimators=57, min_samples_split=10, min_samples_leaf=2, max_features=auto, max_depth=6 \n",
      "[CV]  n_estimators=57, min_samples_split=10, min_samples_leaf=2, max_features=auto, max_depth=6, total=   1.4s\n",
      "[CV] n_estimators=57, min_samples_split=10, min_samples_leaf=2, max_features=auto, max_depth=6 \n",
      "[CV]  n_estimators=57, min_samples_split=10, min_samples_leaf=2, max_features=auto, max_depth=6, total=   1.0s\n",
      "[CV] n_estimators=200, min_samples_split=10, min_samples_leaf=2, max_features=auto, max_depth=2 \n",
      "[CV]  n_estimators=152, min_samples_split=5, min_samples_leaf=4, max_features=sqrt, max_depth=None, total=   4.9s\n",
      "[CV] n_estimators=200, min_samples_split=10, min_samples_leaf=2, max_features=auto, max_depth=2 \n",
      "[CV]  n_estimators=152, min_samples_split=5, min_samples_leaf=4, max_features=sqrt, max_depth=None, total=   4.9s\n",
      "[CV] n_estimators=200, min_samples_split=10, min_samples_leaf=2, max_features=auto, max_depth=2 \n",
      "[CV]  n_estimators=152, min_samples_split=5, min_samples_leaf=4, max_features=sqrt, max_depth=None, total=   4.8s\n",
      "[CV] n_estimators=152, min_samples_split=5, min_samples_leaf=2, max_features=sqrt, max_depth=8 \n",
      "[CV]  n_estimators=200, min_samples_split=10, min_samples_leaf=2, max_features=auto, max_depth=2, total=   1.8s\n",
      "[CV] n_estimators=152, min_samples_split=5, min_samples_leaf=2, max_features=sqrt, max_depth=8 \n",
      "[CV]  n_estimators=200, min_samples_split=10, min_samples_leaf=2, max_features=auto, max_depth=2, total=   1.8s\n",
      "[CV] n_estimators=152, min_samples_split=5, min_samples_leaf=2, max_features=sqrt, max_depth=8 \n",
      "[CV]  n_estimators=200, min_samples_split=10, min_samples_leaf=2, max_features=auto, max_depth=2, total=   1.8s\n",
      "[CV] n_estimators=10, min_samples_split=10, min_samples_leaf=2, max_features=auto, max_depth=4 \n",
      "[CV]  n_estimators=10, min_samples_split=10, min_samples_leaf=2, max_features=auto, max_depth=4, total=   0.2s\n",
      "[CV] n_estimators=10, min_samples_split=10, min_samples_leaf=2, max_features=auto, max_depth=4 \n",
      "[CV]  n_estimators=10, min_samples_split=10, min_samples_leaf=2, max_features=auto, max_depth=4, total=   0.1s\n",
      "[CV] n_estimators=10, min_samples_split=10, min_samples_leaf=2, max_features=auto, max_depth=4 \n",
      "[CV]  n_estimators=10, min_samples_split=10, min_samples_leaf=2, max_features=auto, max_depth=4, total=   0.1s\n",
      "[CV] n_estimators=57, min_samples_split=10, min_samples_leaf=2, max_features=auto, max_depth=None \n",
      "[CV]  n_estimators=152, min_samples_split=5, min_samples_leaf=2, max_features=sqrt, max_depth=8, total=   3.1s\n",
      "[CV] n_estimators=57, min_samples_split=10, min_samples_leaf=2, max_features=auto, max_depth=None \n",
      "[CV]  n_estimators=57, min_samples_split=10, min_samples_leaf=2, max_features=auto, max_depth=None, total=   1.7s\n",
      "[CV] n_estimators=57, min_samples_split=10, min_samples_leaf=2, max_features=auto, max_depth=None \n",
      "[CV]  n_estimators=152, min_samples_split=5, min_samples_leaf=2, max_features=sqrt, max_depth=8, total=   3.1s\n",
      "[CV] n_estimators=200, min_samples_split=5, min_samples_leaf=4, max_features=sqrt, max_depth=6 \n"
     ]
    },
    {
     "name": "stderr",
     "output_type": "stream",
     "text": [
      "[Parallel(n_jobs=-1)]: Done  33 tasks      | elapsed:   22.7s\n"
     ]
    },
    {
     "name": "stdout",
     "output_type": "stream",
     "text": [
      "[CV]  n_estimators=152, min_samples_split=5, min_samples_leaf=2, max_features=sqrt, max_depth=8, total=   3.1s\n",
      "[CV] n_estimators=200, min_samples_split=5, min_samples_leaf=4, max_features=sqrt, max_depth=6 \n",
      "[CV]  n_estimators=57, min_samples_split=10, min_samples_leaf=2, max_features=auto, max_depth=None, total=   2.5s\n",
      "[CV] n_estimators=200, min_samples_split=5, min_samples_leaf=4, max_features=sqrt, max_depth=6 \n",
      "[CV]  n_estimators=57, min_samples_split=10, min_samples_leaf=2, max_features=auto, max_depth=None, total=   2.9s\n",
      "[CV] n_estimators=152, min_samples_split=10, min_samples_leaf=2, max_features=auto, max_depth=10 \n",
      "[CV]  n_estimators=200, min_samples_split=5, min_samples_leaf=4, max_features=sqrt, max_depth=6, total=   7.3s\n",
      "[CV] n_estimators=152, min_samples_split=10, min_samples_leaf=2, max_features=auto, max_depth=10 \n",
      "[CV]  n_estimators=200, min_samples_split=5, min_samples_leaf=4, max_features=sqrt, max_depth=6, total=   7.1s\n",
      "[CV] n_estimators=152, min_samples_split=10, min_samples_leaf=2, max_features=auto, max_depth=10 \n",
      "[CV]  n_estimators=200, min_samples_split=5, min_samples_leaf=4, max_features=sqrt, max_depth=6, total=   7.3s\n",
      "[CV] n_estimators=152, min_samples_split=5, min_samples_leaf=4, max_features=sqrt, max_depth=6 \n",
      "[CV]  n_estimators=152, min_samples_split=10, min_samples_leaf=2, max_features=auto, max_depth=10, total=   7.6s\n",
      "[CV] n_estimators=152, min_samples_split=5, min_samples_leaf=4, max_features=sqrt, max_depth=6 \n",
      "[CV]  n_estimators=152, min_samples_split=5, min_samples_leaf=4, max_features=sqrt, max_depth=6, total=   5.4s\n",
      "[CV] n_estimators=152, min_samples_split=5, min_samples_leaf=4, max_features=sqrt, max_depth=6 \n",
      "[CV]  n_estimators=152, min_samples_split=10, min_samples_leaf=2, max_features=auto, max_depth=10, total=   7.5s\n",
      "[CV] n_estimators=10, min_samples_split=5, min_samples_leaf=4, max_features=sqrt, max_depth=None \n",
      "[CV]  n_estimators=152, min_samples_split=10, min_samples_leaf=2, max_features=auto, max_depth=10, total=   7.9s\n",
      "[CV] n_estimators=10, min_samples_split=5, min_samples_leaf=4, max_features=sqrt, max_depth=None \n",
      "[CV]  n_estimators=152, min_samples_split=5, min_samples_leaf=4, max_features=sqrt, max_depth=6, total=   5.8s\n",
      "[CV] n_estimators=10, min_samples_split=5, min_samples_leaf=4, max_features=sqrt, max_depth=None \n",
      "[CV]  n_estimators=10, min_samples_split=5, min_samples_leaf=4, max_features=sqrt, max_depth=None, total=   0.9s\n",
      "[CV] n_estimators=10, min_samples_split=10, min_samples_leaf=2, max_features=sqrt, max_depth=10 \n",
      "[CV]  n_estimators=10, min_samples_split=10, min_samples_leaf=2, max_features=sqrt, max_depth=10, total=   0.7s\n",
      "[CV]  n_estimators=10, min_samples_split=5, min_samples_leaf=4, max_features=sqrt, max_depth=None, total=   0.8s\n",
      "[CV] n_estimators=10, min_samples_split=10, min_samples_leaf=2, max_features=sqrt, max_depth=10 \n",
      "[CV] n_estimators=10, min_samples_split=10, min_samples_leaf=2, max_features=sqrt, max_depth=10 \n",
      "[CV]  n_estimators=10, min_samples_split=5, min_samples_leaf=4, max_features=sqrt, max_depth=None, total=   0.7s\n",
      "[CV] n_estimators=10, min_samples_split=10, min_samples_leaf=4, max_features=auto, max_depth=2 \n",
      "[CV]  n_estimators=10, min_samples_split=10, min_samples_leaf=4, max_features=auto, max_depth=2, total=   0.2s\n",
      "[CV] n_estimators=10, min_samples_split=10, min_samples_leaf=4, max_features=auto, max_depth=2 \n",
      "[CV]  n_estimators=10, min_samples_split=10, min_samples_leaf=4, max_features=auto, max_depth=2, total=   0.3s\n",
      "[CV] n_estimators=10, min_samples_split=10, min_samples_leaf=4, max_features=auto, max_depth=2 \n",
      "[CV]  n_estimators=10, min_samples_split=10, min_samples_leaf=2, max_features=sqrt, max_depth=10, total=   0.7s\n",
      "[CV]  n_estimators=10, min_samples_split=10, min_samples_leaf=2, max_features=sqrt, max_depth=10, total=   0.6s\n",
      "[CV] n_estimators=105, min_samples_split=5, min_samples_leaf=4, max_features=sqrt, max_depth=8 \n",
      "[CV] n_estimators=105, min_samples_split=5, min_samples_leaf=4, max_features=sqrt, max_depth=8 \n",
      "[CV]  n_estimators=10, min_samples_split=10, min_samples_leaf=4, max_features=auto, max_depth=2, total=   0.2s\n",
      "[CV] n_estimators=105, min_samples_split=5, min_samples_leaf=4, max_features=sqrt, max_depth=8 \n",
      "[CV]  n_estimators=152, min_samples_split=5, min_samples_leaf=4, max_features=sqrt, max_depth=6, total=   6.3s\n",
      "[CV] n_estimators=10, min_samples_split=10, min_samples_leaf=2, max_features=auto, max_depth=8 \n",
      "[CV]  n_estimators=10, min_samples_split=10, min_samples_leaf=2, max_features=auto, max_depth=8, total=   0.4s\n",
      "[CV] n_estimators=10, min_samples_split=10, min_samples_leaf=2, max_features=auto, max_depth=8 \n",
      "[CV]  n_estimators=10, min_samples_split=10, min_samples_leaf=2, max_features=auto, max_depth=8, total=   0.5s\n",
      "[CV] n_estimators=10, min_samples_split=10, min_samples_leaf=2, max_features=auto, max_depth=8 \n",
      "[CV]  n_estimators=105, min_samples_split=5, min_samples_leaf=4, max_features=sqrt, max_depth=8, total=   5.2s\n",
      "[CV]  n_estimators=105, min_samples_split=5, min_samples_leaf=4, max_features=sqrt, max_depth=8, total=   5.2s\n",
      "[CV] n_estimators=105, min_samples_split=10, min_samples_leaf=2, max_features=auto, max_depth=8 \n",
      "[CV] n_estimators=105, min_samples_split=10, min_samples_leaf=2, max_features=auto, max_depth=8 \n",
      "[CV]  n_estimators=10, min_samples_split=10, min_samples_leaf=2, max_features=auto, max_depth=8, total=   0.6s\n",
      "[CV] n_estimators=105, min_samples_split=10, min_samples_leaf=2, max_features=auto, max_depth=8 \n",
      "[CV]  n_estimators=105, min_samples_split=5, min_samples_leaf=4, max_features=sqrt, max_depth=8, total=   5.3s\n",
      "[CV] n_estimators=200, min_samples_split=10, min_samples_leaf=4, max_features=auto, max_depth=2 \n",
      "[CV]  n_estimators=200, min_samples_split=10, min_samples_leaf=4, max_features=auto, max_depth=2, total=   2.9s\n",
      "[CV] n_estimators=200, min_samples_split=10, min_samples_leaf=4, max_features=auto, max_depth=2 \n",
      "[CV]  n_estimators=105, min_samples_split=10, min_samples_leaf=2, max_features=auto, max_depth=8, total=   3.4s\n",
      "[CV] n_estimators=200, min_samples_split=10, min_samples_leaf=4, max_features=auto, max_depth=2 \n",
      "[CV]  n_estimators=105, min_samples_split=10, min_samples_leaf=2, max_features=auto, max_depth=8, total=   3.4s\n",
      "[CV] n_estimators=10, min_samples_split=10, min_samples_leaf=4, max_features=sqrt, max_depth=None \n",
      "[CV]  n_estimators=105, min_samples_split=10, min_samples_leaf=2, max_features=auto, max_depth=8, total=   3.3s\n",
      "[CV] n_estimators=10, min_samples_split=10, min_samples_leaf=4, max_features=sqrt, max_depth=None \n",
      "[CV]  n_estimators=10, min_samples_split=10, min_samples_leaf=4, max_features=sqrt, max_depth=None, total=   0.4s\n",
      "[CV] n_estimators=10, min_samples_split=10, min_samples_leaf=4, max_features=sqrt, max_depth=None \n",
      "[CV]  n_estimators=10, min_samples_split=10, min_samples_leaf=4, max_features=sqrt, max_depth=None, total=   0.4s\n",
      "[CV] n_estimators=10, min_samples_split=5, min_samples_leaf=4, max_features=sqrt, max_depth=2 \n",
      "[CV]  n_estimators=10, min_samples_split=5, min_samples_leaf=4, max_features=sqrt, max_depth=2, total=   0.1s\n",
      "[CV] n_estimators=10, min_samples_split=5, min_samples_leaf=4, max_features=sqrt, max_depth=2 \n",
      "[CV]  n_estimators=10, min_samples_split=10, min_samples_leaf=4, max_features=sqrt, max_depth=None, total=   0.6s\n",
      "[CV] n_estimators=10, min_samples_split=5, min_samples_leaf=4, max_features=sqrt, max_depth=2 \n",
      "[CV]  n_estimators=10, min_samples_split=5, min_samples_leaf=4, max_features=sqrt, max_depth=2, total=   0.2s\n",
      "[CV] n_estimators=57, min_samples_split=10, min_samples_leaf=4, max_features=auto, max_depth=10 \n",
      "[CV]  n_estimators=10, min_samples_split=5, min_samples_leaf=4, max_features=sqrt, max_depth=2, total=   0.2s\n",
      "[CV] n_estimators=57, min_samples_split=10, min_samples_leaf=4, max_features=auto, max_depth=10 \n",
      "[CV]  n_estimators=200, min_samples_split=10, min_samples_leaf=4, max_features=auto, max_depth=2, total=   3.1s\n",
      "[CV] n_estimators=57, min_samples_split=10, min_samples_leaf=4, max_features=auto, max_depth=10 \n",
      "[CV]  n_estimators=200, min_samples_split=10, min_samples_leaf=4, max_features=auto, max_depth=2, total=   3.2s\n",
      "[CV] n_estimators=10, min_samples_split=5, min_samples_leaf=4, max_features=sqrt, max_depth=8 \n",
      "[CV]  n_estimators=57, min_samples_split=10, min_samples_leaf=4, max_features=auto, max_depth=10, total=   2.2s\n"
     ]
    },
    {
     "name": "stdout",
     "output_type": "stream",
     "text": [
      "[CV] n_estimators=10, min_samples_split=5, min_samples_leaf=4, max_features=sqrt, max_depth=8 \n",
      "[CV]  n_estimators=10, min_samples_split=5, min_samples_leaf=4, max_features=sqrt, max_depth=8, total=   0.5s\n",
      "[CV]  n_estimators=57, min_samples_split=10, min_samples_leaf=4, max_features=auto, max_depth=10, total=   2.3s\n",
      "[CV] n_estimators=10, min_samples_split=5, min_samples_leaf=4, max_features=sqrt, max_depth=8 \n",
      "[CV] n_estimators=10, min_samples_split=5, min_samples_leaf=4, max_features=auto, max_depth=2 \n",
      "[CV]  n_estimators=10, min_samples_split=5, min_samples_leaf=4, max_features=sqrt, max_depth=8, total=   0.6s\n",
      "[CV] n_estimators=10, min_samples_split=5, min_samples_leaf=4, max_features=auto, max_depth=2 \n",
      "[CV]  n_estimators=10, min_samples_split=5, min_samples_leaf=4, max_features=auto, max_depth=2, total=   0.2s\n",
      "[CV] n_estimators=10, min_samples_split=5, min_samples_leaf=4, max_features=auto, max_depth=2 \n",
      "[CV]  n_estimators=10, min_samples_split=5, min_samples_leaf=4, max_features=sqrt, max_depth=8, total=   0.5s\n",
      "[CV] n_estimators=57, min_samples_split=5, min_samples_leaf=2, max_features=auto, max_depth=None \n",
      "[CV]  n_estimators=10, min_samples_split=5, min_samples_leaf=4, max_features=auto, max_depth=2, total=   0.3s\n",
      "[CV] n_estimators=57, min_samples_split=5, min_samples_leaf=2, max_features=auto, max_depth=None \n",
      "[CV]  n_estimators=10, min_samples_split=5, min_samples_leaf=4, max_features=auto, max_depth=2, total=   0.2s\n",
      "[CV] n_estimators=57, min_samples_split=5, min_samples_leaf=2, max_features=auto, max_depth=None \n",
      "[CV]  n_estimators=57, min_samples_split=10, min_samples_leaf=4, max_features=auto, max_depth=10, total=   2.8s\n",
      "[CV] n_estimators=105, min_samples_split=10, min_samples_leaf=4, max_features=sqrt, max_depth=None \n",
      "[CV]  n_estimators=57, min_samples_split=5, min_samples_leaf=2, max_features=auto, max_depth=None, total=   2.6s\n",
      "[CV]  n_estimators=57, min_samples_split=5, min_samples_leaf=2, max_features=auto, max_depth=None, total=   2.7s\n",
      "[CV] n_estimators=105, min_samples_split=10, min_samples_leaf=4, max_features=sqrt, max_depth=None \n",
      "[CV] n_estimators=105, min_samples_split=10, min_samples_leaf=4, max_features=sqrt, max_depth=None \n",
      "[CV]  n_estimators=57, min_samples_split=5, min_samples_leaf=2, max_features=auto, max_depth=None, total=   2.5s\n",
      "[CV] n_estimators=152, min_samples_split=5, min_samples_leaf=4, max_features=sqrt, max_depth=8 \n",
      "[CV]  n_estimators=105, min_samples_split=10, min_samples_leaf=4, max_features=sqrt, max_depth=None, total=   4.0s\n",
      "[CV] n_estimators=152, min_samples_split=5, min_samples_leaf=4, max_features=sqrt, max_depth=8 \n",
      "[CV]  n_estimators=105, min_samples_split=10, min_samples_leaf=4, max_features=sqrt, max_depth=None, total=   4.5s\n",
      "[CV]  n_estimators=105, min_samples_split=10, min_samples_leaf=4, max_features=sqrt, max_depth=None, total=   4.5s\n",
      "[CV] n_estimators=152, min_samples_split=5, min_samples_leaf=4, max_features=sqrt, max_depth=8 \n",
      "[CV] n_estimators=57, min_samples_split=10, min_samples_leaf=4, max_features=auto, max_depth=6 \n",
      "[CV]  n_estimators=152, min_samples_split=5, min_samples_leaf=4, max_features=sqrt, max_depth=8, total=   4.9s\n",
      "[CV] n_estimators=57, min_samples_split=10, min_samples_leaf=4, max_features=auto, max_depth=6 \n",
      "[CV]  n_estimators=57, min_samples_split=10, min_samples_leaf=4, max_features=auto, max_depth=6, total=   1.1s\n",
      "[CV] n_estimators=57, min_samples_split=10, min_samples_leaf=4, max_features=auto, max_depth=6 \n",
      "[CV]  n_estimators=57, min_samples_split=10, min_samples_leaf=4, max_features=auto, max_depth=6, total=   1.3s\n",
      "[CV] n_estimators=152, min_samples_split=10, min_samples_leaf=2, max_features=sqrt, max_depth=None \n",
      "[CV]  n_estimators=57, min_samples_split=10, min_samples_leaf=4, max_features=auto, max_depth=6, total=   1.9s\n",
      "[CV] n_estimators=152, min_samples_split=10, min_samples_leaf=2, max_features=sqrt, max_depth=None \n",
      "[CV]  n_estimators=152, min_samples_split=5, min_samples_leaf=4, max_features=sqrt, max_depth=8, total=   5.0s\n",
      "[CV] n_estimators=152, min_samples_split=10, min_samples_leaf=2, max_features=sqrt, max_depth=None \n",
      "[CV]  n_estimators=152, min_samples_split=5, min_samples_leaf=4, max_features=sqrt, max_depth=8, total=   5.6s\n",
      "[CV] n_estimators=10, min_samples_split=10, min_samples_leaf=2, max_features=sqrt, max_depth=2 \n",
      "[CV]  n_estimators=10, min_samples_split=10, min_samples_leaf=2, max_features=sqrt, max_depth=2, total=   0.3s\n",
      "[CV] n_estimators=10, min_samples_split=10, min_samples_leaf=2, max_features=sqrt, max_depth=2 \n",
      "[CV]  n_estimators=10, min_samples_split=10, min_samples_leaf=2, max_features=sqrt, max_depth=2, total=   0.2s\n",
      "[CV] n_estimators=10, min_samples_split=10, min_samples_leaf=2, max_features=sqrt, max_depth=2 \n",
      "[CV]  n_estimators=10, min_samples_split=10, min_samples_leaf=2, max_features=sqrt, max_depth=2, total=   0.2s\n",
      "[CV] n_estimators=105, min_samples_split=5, min_samples_leaf=2, max_features=sqrt, max_depth=10 \n",
      "[CV]  n_estimators=152, min_samples_split=10, min_samples_leaf=2, max_features=sqrt, max_depth=None, total=   8.6s\n",
      "[CV] n_estimators=105, min_samples_split=5, min_samples_leaf=2, max_features=sqrt, max_depth=10 \n",
      "[CV]  n_estimators=105, min_samples_split=5, min_samples_leaf=2, max_features=sqrt, max_depth=10, total=   5.0s\n",
      "[CV] n_estimators=105, min_samples_split=5, min_samples_leaf=2, max_features=sqrt, max_depth=10 \n",
      "[CV]  n_estimators=152, min_samples_split=10, min_samples_leaf=2, max_features=sqrt, max_depth=None, total=   8.3s\n",
      "[CV] n_estimators=152, min_samples_split=10, min_samples_leaf=4, max_features=auto, max_depth=2 \n",
      "[CV]  n_estimators=152, min_samples_split=10, min_samples_leaf=2, max_features=sqrt, max_depth=None, total=   8.8s\n",
      "[CV] n_estimators=152, min_samples_split=10, min_samples_leaf=4, max_features=auto, max_depth=2 \n",
      "[CV]  n_estimators=152, min_samples_split=10, min_samples_leaf=4, max_features=auto, max_depth=2, total=   3.2s\n",
      "[CV] n_estimators=152, min_samples_split=10, min_samples_leaf=4, max_features=auto, max_depth=2 \n",
      "[CV]  n_estimators=152, min_samples_split=10, min_samples_leaf=4, max_features=auto, max_depth=2, total=   3.4s\n",
      "[CV] n_estimators=200, min_samples_split=10, min_samples_leaf=2, max_features=sqrt, max_depth=4 \n",
      "[CV]  n_estimators=105, min_samples_split=5, min_samples_leaf=2, max_features=sqrt, max_depth=10, total=   6.1s\n",
      "[CV] n_estimators=200, min_samples_split=10, min_samples_leaf=2, max_features=sqrt, max_depth=4 \n",
      "[CV]  n_estimators=105, min_samples_split=5, min_samples_leaf=2, max_features=sqrt, max_depth=10, total=   6.0s\n",
      "[CV] n_estimators=200, min_samples_split=10, min_samples_leaf=2, max_features=sqrt, max_depth=4 \n",
      "[CV]  n_estimators=152, min_samples_split=10, min_samples_leaf=4, max_features=auto, max_depth=2, total=   3.8s\n",
      "[CV] n_estimators=105, min_samples_split=5, min_samples_leaf=4, max_features=sqrt, max_depth=10 \n",
      "[CV]  n_estimators=200, min_samples_split=10, min_samples_leaf=2, max_features=sqrt, max_depth=4, total=   5.6s\n",
      "[CV] n_estimators=105, min_samples_split=5, min_samples_leaf=4, max_features=sqrt, max_depth=10 \n",
      "[CV]  n_estimators=200, min_samples_split=10, min_samples_leaf=2, max_features=sqrt, max_depth=4, total=   5.4s\n",
      "[CV] n_estimators=105, min_samples_split=5, min_samples_leaf=4, max_features=sqrt, max_depth=10 \n",
      "[CV]  n_estimators=200, min_samples_split=10, min_samples_leaf=2, max_features=sqrt, max_depth=4, total=   4.9s\n",
      "[CV] n_estimators=10, min_samples_split=10, min_samples_leaf=4, max_features=auto, max_depth=4 \n",
      "[CV]  n_estimators=10, min_samples_split=10, min_samples_leaf=4, max_features=auto, max_depth=4, total=   0.2s\n",
      "[CV] n_estimators=10, min_samples_split=10, min_samples_leaf=4, max_features=auto, max_depth=4 \n",
      "[CV]  n_estimators=10, min_samples_split=10, min_samples_leaf=4, max_features=auto, max_depth=4, total=   0.3s\n",
      "[CV] n_estimators=10, min_samples_split=10, min_samples_leaf=4, max_features=auto, max_depth=4 \n",
      "[CV]  n_estimators=10, min_samples_split=10, min_samples_leaf=4, max_features=auto, max_depth=4, total=   0.2s\n",
      "[CV] n_estimators=200, min_samples_split=10, min_samples_leaf=4, max_features=sqrt, max_depth=4 \n",
      "[CV]  n_estimators=105, min_samples_split=5, min_samples_leaf=4, max_features=sqrt, max_depth=10, total=   4.0s\n",
      "[CV] n_estimators=200, min_samples_split=10, min_samples_leaf=4, max_features=sqrt, max_depth=4 \n"
     ]
    },
    {
     "name": "stdout",
     "output_type": "stream",
     "text": [
      "[CV]  n_estimators=105, min_samples_split=5, min_samples_leaf=4, max_features=sqrt, max_depth=10, total=   3.4s\n",
      "[CV] n_estimators=200, min_samples_split=10, min_samples_leaf=4, max_features=sqrt, max_depth=4 \n",
      "[CV]  n_estimators=105, min_samples_split=5, min_samples_leaf=4, max_features=sqrt, max_depth=10, total=   3.2s\n",
      "[CV] n_estimators=10, min_samples_split=10, min_samples_leaf=4, max_features=auto, max_depth=10 \n",
      "[CV]  n_estimators=10, min_samples_split=10, min_samples_leaf=4, max_features=auto, max_depth=10, total=   0.4s\n",
      "[CV] n_estimators=10, min_samples_split=10, min_samples_leaf=4, max_features=auto, max_depth=10 \n",
      "[CV]  n_estimators=10, min_samples_split=10, min_samples_leaf=4, max_features=auto, max_depth=10, total=   0.3s\n",
      "[CV] n_estimators=10, min_samples_split=10, min_samples_leaf=4, max_features=auto, max_depth=10 \n",
      "[CV]  n_estimators=10, min_samples_split=10, min_samples_leaf=4, max_features=auto, max_depth=10, total=   0.3s\n",
      "[CV] n_estimators=105, min_samples_split=10, min_samples_leaf=2, max_features=sqrt, max_depth=None \n",
      "[CV]  n_estimators=200, min_samples_split=10, min_samples_leaf=4, max_features=sqrt, max_depth=4, total=   3.3s\n",
      "[CV] n_estimators=105, min_samples_split=10, min_samples_leaf=2, max_features=sqrt, max_depth=None \n",
      "[CV]  n_estimators=200, min_samples_split=10, min_samples_leaf=4, max_features=sqrt, max_depth=4, total=   3.3s\n",
      "[CV] n_estimators=105, min_samples_split=10, min_samples_leaf=2, max_features=sqrt, max_depth=None \n",
      "[CV]  n_estimators=200, min_samples_split=10, min_samples_leaf=4, max_features=sqrt, max_depth=4, total=   3.5s\n",
      "[CV] n_estimators=105, min_samples_split=5, min_samples_leaf=4, max_features=sqrt, max_depth=6 \n",
      "[CV]  n_estimators=105, min_samples_split=10, min_samples_leaf=2, max_features=sqrt, max_depth=None, total=   4.1s\n",
      "[CV] n_estimators=105, min_samples_split=5, min_samples_leaf=4, max_features=sqrt, max_depth=6 \n",
      "[CV]  n_estimators=105, min_samples_split=10, min_samples_leaf=2, max_features=sqrt, max_depth=None, total=   4.1s\n",
      "[CV] n_estimators=105, min_samples_split=5, min_samples_leaf=4, max_features=sqrt, max_depth=6 \n",
      "[CV]  n_estimators=105, min_samples_split=10, min_samples_leaf=2, max_features=sqrt, max_depth=None, total=   4.1s\n",
      "[CV] n_estimators=57, min_samples_split=5, min_samples_leaf=2, max_features=sqrt, max_depth=None \n",
      "[CV]  n_estimators=105, min_samples_split=5, min_samples_leaf=4, max_features=sqrt, max_depth=6, total=   2.3s\n",
      "[CV] n_estimators=57, min_samples_split=5, min_samples_leaf=2, max_features=sqrt, max_depth=None \n",
      "[CV]  n_estimators=105, min_samples_split=5, min_samples_leaf=4, max_features=sqrt, max_depth=6, total=   2.1s\n",
      "[CV] n_estimators=57, min_samples_split=5, min_samples_leaf=2, max_features=sqrt, max_depth=None \n",
      "[CV]  n_estimators=105, min_samples_split=5, min_samples_leaf=4, max_features=sqrt, max_depth=6, total=   2.1s\n",
      "[CV] n_estimators=57, min_samples_split=10, min_samples_leaf=4, max_features=auto, max_depth=2 \n",
      "[CV]  n_estimators=57, min_samples_split=5, min_samples_leaf=2, max_features=sqrt, max_depth=None, total=   2.1s\n",
      "[CV] n_estimators=57, min_samples_split=10, min_samples_leaf=4, max_features=auto, max_depth=2 \n",
      "[CV]  n_estimators=57, min_samples_split=5, min_samples_leaf=2, max_features=sqrt, max_depth=None, total=   2.2s\n",
      "[CV] n_estimators=57, min_samples_split=10, min_samples_leaf=4, max_features=auto, max_depth=2 \n",
      "[CV]  n_estimators=57, min_samples_split=10, min_samples_leaf=4, max_features=auto, max_depth=2, total=   0.6s\n",
      "[CV] n_estimators=57, min_samples_split=10, min_samples_leaf=4, max_features=sqrt, max_depth=8 \n",
      "[CV]  n_estimators=57, min_samples_split=10, min_samples_leaf=4, max_features=auto, max_depth=2, total=   0.6s\n",
      "[CV] n_estimators=57, min_samples_split=10, min_samples_leaf=4, max_features=sqrt, max_depth=8 \n",
      "[CV]  n_estimators=57, min_samples_split=10, min_samples_leaf=4, max_features=auto, max_depth=2, total=   0.7s\n",
      "[CV] n_estimators=57, min_samples_split=10, min_samples_leaf=4, max_features=sqrt, max_depth=8 \n",
      "[CV]  n_estimators=57, min_samples_split=5, min_samples_leaf=2, max_features=sqrt, max_depth=None, total=   2.3s\n",
      "[CV] n_estimators=57, min_samples_split=10, min_samples_leaf=2, max_features=sqrt, max_depth=4 \n",
      "[CV]  n_estimators=57, min_samples_split=10, min_samples_leaf=4, max_features=sqrt, max_depth=8, total=   1.7s\n",
      "[CV] n_estimators=57, min_samples_split=10, min_samples_leaf=2, max_features=sqrt, max_depth=4 \n",
      "[CV]  n_estimators=57, min_samples_split=10, min_samples_leaf=4, max_features=sqrt, max_depth=8, total=   1.6s\n",
      "[CV] n_estimators=57, min_samples_split=10, min_samples_leaf=2, max_features=sqrt, max_depth=4 \n",
      "[CV]  n_estimators=57, min_samples_split=10, min_samples_leaf=4, max_features=sqrt, max_depth=8, total=   1.5s\n",
      "[CV] n_estimators=10, min_samples_split=10, min_samples_leaf=2, max_features=auto, max_depth=10 \n",
      "[CV]  n_estimators=10, min_samples_split=10, min_samples_leaf=2, max_features=auto, max_depth=10, total=   0.3s\n",
      "[CV] n_estimators=10, min_samples_split=10, min_samples_leaf=2, max_features=auto, max_depth=10 \n",
      "[CV]  n_estimators=57, min_samples_split=10, min_samples_leaf=2, max_features=sqrt, max_depth=4, total=   0.9s\n",
      "[CV] n_estimators=10, min_samples_split=10, min_samples_leaf=2, max_features=auto, max_depth=10 \n",
      "[CV]  n_estimators=57, min_samples_split=10, min_samples_leaf=2, max_features=sqrt, max_depth=4, total=   1.0s\n",
      "[CV] n_estimators=152, min_samples_split=10, min_samples_leaf=4, max_features=sqrt, max_depth=2 \n",
      "[CV]  n_estimators=10, min_samples_split=10, min_samples_leaf=2, max_features=auto, max_depth=10, total=   0.3s\n",
      "[CV] n_estimators=152, min_samples_split=10, min_samples_leaf=4, max_features=sqrt, max_depth=2 \n",
      "[CV]  n_estimators=57, min_samples_split=10, min_samples_leaf=2, max_features=sqrt, max_depth=4, total=   0.9s\n",
      "[CV]  n_estimators=10, min_samples_split=10, min_samples_leaf=2, max_features=auto, max_depth=10, total=   0.3s\n",
      "[CV] n_estimators=152, min_samples_split=10, min_samples_leaf=4, max_features=sqrt, max_depth=2 \n",
      "[CV] n_estimators=200, min_samples_split=10, min_samples_leaf=4, max_features=auto, max_depth=8 \n",
      "[CV]  n_estimators=152, min_samples_split=10, min_samples_leaf=4, max_features=sqrt, max_depth=2, total=   1.8s\n",
      "[CV] n_estimators=200, min_samples_split=10, min_samples_leaf=4, max_features=auto, max_depth=8 \n",
      "[CV]  n_estimators=152, min_samples_split=10, min_samples_leaf=4, max_features=sqrt, max_depth=2, total=   1.8s\n",
      "[CV] n_estimators=200, min_samples_split=10, min_samples_leaf=4, max_features=auto, max_depth=8 \n",
      "[CV]  n_estimators=152, min_samples_split=10, min_samples_leaf=4, max_features=sqrt, max_depth=2, total=   1.8s\n",
      "[CV] n_estimators=10, min_samples_split=5, min_samples_leaf=2, max_features=sqrt, max_depth=4 \n",
      "[CV]  n_estimators=10, min_samples_split=5, min_samples_leaf=2, max_features=sqrt, max_depth=4, total=   0.5s\n",
      "[CV] n_estimators=10, min_samples_split=5, min_samples_leaf=2, max_features=sqrt, max_depth=4 \n",
      "[CV]  n_estimators=10, min_samples_split=5, min_samples_leaf=2, max_features=sqrt, max_depth=4, total=   0.2s\n",
      "[CV] n_estimators=10, min_samples_split=5, min_samples_leaf=2, max_features=sqrt, max_depth=4 \n",
      "[CV]  n_estimators=10, min_samples_split=5, min_samples_leaf=2, max_features=sqrt, max_depth=4, total=   0.3s\n",
      "[CV] n_estimators=200, min_samples_split=5, min_samples_leaf=2, max_features=auto, max_depth=None \n",
      "[CV]  n_estimators=200, min_samples_split=10, min_samples_leaf=4, max_features=auto, max_depth=8, total=   7.6s\n",
      "[CV] n_estimators=200, min_samples_split=5, min_samples_leaf=2, max_features=auto, max_depth=None \n",
      "[CV]  n_estimators=200, min_samples_split=10, min_samples_leaf=4, max_features=auto, max_depth=8, total=   7.8s\n",
      "[CV] n_estimators=200, min_samples_split=5, min_samples_leaf=2, max_features=auto, max_depth=None \n",
      "[CV]  n_estimators=200, min_samples_split=10, min_samples_leaf=4, max_features=auto, max_depth=8, total=   7.8s\n",
      "[CV] n_estimators=57, min_samples_split=10, min_samples_leaf=2, max_features=sqrt, max_depth=10 \n",
      "[CV]  n_estimators=57, min_samples_split=10, min_samples_leaf=2, max_features=sqrt, max_depth=10, total=   1.7s\n",
      "[CV] n_estimators=57, min_samples_split=10, min_samples_leaf=2, max_features=sqrt, max_depth=10 \n",
      "[CV]  n_estimators=200, min_samples_split=5, min_samples_leaf=2, max_features=auto, max_depth=None, total=   9.4s\n"
     ]
    },
    {
     "name": "stdout",
     "output_type": "stream",
     "text": [
      "[CV] n_estimators=57, min_samples_split=10, min_samples_leaf=2, max_features=sqrt, max_depth=10 \n",
      "[CV]  n_estimators=57, min_samples_split=10, min_samples_leaf=2, max_features=sqrt, max_depth=10, total=   1.6s\n",
      "[CV] n_estimators=105, min_samples_split=10, min_samples_leaf=2, max_features=auto, max_depth=None \n",
      "[CV]  n_estimators=57, min_samples_split=10, min_samples_leaf=2, max_features=sqrt, max_depth=10, total=   1.7s\n",
      "[CV] n_estimators=105, min_samples_split=10, min_samples_leaf=2, max_features=auto, max_depth=None \n"
     ]
    },
    {
     "name": "stderr",
     "output_type": "stream",
     "text": [
      "[Parallel(n_jobs=-1)]: Done 154 tasks      | elapsed:  2.0min\n"
     ]
    },
    {
     "name": "stdout",
     "output_type": "stream",
     "text": [
      "[CV]  n_estimators=200, min_samples_split=5, min_samples_leaf=2, max_features=auto, max_depth=None, total=   7.4s\n",
      "[CV] n_estimators=105, min_samples_split=10, min_samples_leaf=2, max_features=auto, max_depth=None \n",
      "[CV]  n_estimators=105, min_samples_split=10, min_samples_leaf=2, max_features=auto, max_depth=None, total=   4.0s\n",
      "[CV] n_estimators=152, min_samples_split=5, min_samples_leaf=4, max_features=sqrt, max_depth=10 \n",
      "[CV]  n_estimators=200, min_samples_split=5, min_samples_leaf=2, max_features=auto, max_depth=None, total=   7.5s\n",
      "[CV] n_estimators=152, min_samples_split=5, min_samples_leaf=4, max_features=sqrt, max_depth=10 \n",
      "[CV]  n_estimators=105, min_samples_split=10, min_samples_leaf=2, max_features=auto, max_depth=None, total=   3.9s\n",
      "[CV] n_estimators=152, min_samples_split=5, min_samples_leaf=4, max_features=sqrt, max_depth=10 \n",
      "[CV]  n_estimators=105, min_samples_split=10, min_samples_leaf=2, max_features=auto, max_depth=None, total=   3.9s\n",
      "[CV] n_estimators=200, min_samples_split=5, min_samples_leaf=2, max_features=sqrt, max_depth=None \n",
      "[CV]  n_estimators=152, min_samples_split=5, min_samples_leaf=4, max_features=sqrt, max_depth=10, total=   4.6s\n",
      "[CV] n_estimators=200, min_samples_split=5, min_samples_leaf=2, max_features=sqrt, max_depth=None \n",
      "[CV]  n_estimators=152, min_samples_split=5, min_samples_leaf=4, max_features=sqrt, max_depth=10, total=   4.8s\n",
      "[CV] n_estimators=200, min_samples_split=5, min_samples_leaf=2, max_features=sqrt, max_depth=None \n",
      "[CV]  n_estimators=152, min_samples_split=5, min_samples_leaf=4, max_features=sqrt, max_depth=10, total=   4.6s\n",
      "[CV] n_estimators=200, min_samples_split=10, min_samples_leaf=2, max_features=auto, max_depth=None \n",
      "[CV]  n_estimators=200, min_samples_split=5, min_samples_leaf=2, max_features=sqrt, max_depth=None, total=   9.1s\n",
      "[CV] n_estimators=200, min_samples_split=10, min_samples_leaf=2, max_features=auto, max_depth=None \n",
      "[CV]  n_estimators=200, min_samples_split=5, min_samples_leaf=2, max_features=sqrt, max_depth=None, total=   9.1s\n",
      "[CV] n_estimators=200, min_samples_split=10, min_samples_leaf=2, max_features=auto, max_depth=None \n",
      "[CV]  n_estimators=200, min_samples_split=5, min_samples_leaf=2, max_features=sqrt, max_depth=None, total=   9.0s\n",
      "[CV] n_estimators=10, min_samples_split=10, min_samples_leaf=4, max_features=sqrt, max_depth=6 \n",
      "[CV]  n_estimators=10, min_samples_split=10, min_samples_leaf=4, max_features=sqrt, max_depth=6, total=   0.2s\n",
      "[CV] n_estimators=10, min_samples_split=10, min_samples_leaf=4, max_features=sqrt, max_depth=6 \n",
      "[CV]  n_estimators=10, min_samples_split=10, min_samples_leaf=4, max_features=sqrt, max_depth=6, total=   0.4s\n",
      "[CV] n_estimators=10, min_samples_split=10, min_samples_leaf=4, max_features=sqrt, max_depth=6 \n",
      "[CV]  n_estimators=10, min_samples_split=10, min_samples_leaf=4, max_features=sqrt, max_depth=6, total=   0.2s\n",
      "[CV]  n_estimators=200, min_samples_split=10, min_samples_leaf=2, max_features=auto, max_depth=None, total=   8.4s\n",
      "[CV] n_estimators=200, min_samples_split=10, min_samples_leaf=4, max_features=auto, max_depth=None \n",
      "[CV] n_estimators=200, min_samples_split=10, min_samples_leaf=4, max_features=auto, max_depth=None \n",
      "[CV]  n_estimators=200, min_samples_split=10, min_samples_leaf=2, max_features=auto, max_depth=None, total=   7.2s\n",
      "[CV] n_estimators=200, min_samples_split=10, min_samples_leaf=4, max_features=auto, max_depth=None \n",
      "[CV]  n_estimators=200, min_samples_split=10, min_samples_leaf=2, max_features=auto, max_depth=None, total=   7.2s\n",
      "[CV] n_estimators=152, min_samples_split=5, min_samples_leaf=4, max_features=sqrt, max_depth=4 \n",
      "[CV]  n_estimators=200, min_samples_split=10, min_samples_leaf=4, max_features=auto, max_depth=None, total=   6.8s\n",
      "[CV] n_estimators=152, min_samples_split=5, min_samples_leaf=4, max_features=sqrt, max_depth=4 \n",
      "[CV]  n_estimators=200, min_samples_split=10, min_samples_leaf=4, max_features=auto, max_depth=None, total=   6.9s\n",
      "[CV] n_estimators=152, min_samples_split=5, min_samples_leaf=4, max_features=sqrt, max_depth=4 \n",
      "[CV]  n_estimators=152, min_samples_split=5, min_samples_leaf=4, max_features=sqrt, max_depth=4, total=   2.7s\n",
      "[CV] n_estimators=57, min_samples_split=10, min_samples_leaf=4, max_features=auto, max_depth=8 \n",
      "[CV]  n_estimators=152, min_samples_split=5, min_samples_leaf=4, max_features=sqrt, max_depth=4, total=   2.5s\n",
      "[CV] n_estimators=57, min_samples_split=10, min_samples_leaf=4, max_features=auto, max_depth=8 \n",
      "[CV]  n_estimators=152, min_samples_split=5, min_samples_leaf=4, max_features=sqrt, max_depth=4, total=   2.5s\n",
      "[CV] n_estimators=57, min_samples_split=10, min_samples_leaf=4, max_features=auto, max_depth=8 \n",
      "[CV]  n_estimators=57, min_samples_split=10, min_samples_leaf=4, max_features=auto, max_depth=8, total=   1.4s\n",
      "[CV] n_estimators=10, min_samples_split=10, min_samples_leaf=4, max_features=auto, max_depth=6 \n",
      "[CV]  n_estimators=10, min_samples_split=10, min_samples_leaf=4, max_features=auto, max_depth=6, total=   0.2s\n",
      "[CV] n_estimators=10, min_samples_split=10, min_samples_leaf=4, max_features=auto, max_depth=6 \n",
      "[CV]  n_estimators=57, min_samples_split=10, min_samples_leaf=4, max_features=auto, max_depth=8, total=   1.4s\n",
      "[CV] n_estimators=10, min_samples_split=10, min_samples_leaf=4, max_features=auto, max_depth=6 \n",
      "[CV]  n_estimators=200, min_samples_split=10, min_samples_leaf=4, max_features=auto, max_depth=None, total=   7.1s\n",
      "[CV] n_estimators=57, min_samples_split=10, min_samples_leaf=2, max_features=auto, max_depth=8 \n",
      "[CV]  n_estimators=57, min_samples_split=10, min_samples_leaf=4, max_features=auto, max_depth=8, total=   1.5s\n",
      "[CV]  n_estimators=10, min_samples_split=10, min_samples_leaf=4, max_features=auto, max_depth=6, total=   0.2s\n",
      "[CV] n_estimators=57, min_samples_split=10, min_samples_leaf=2, max_features=auto, max_depth=8 \n",
      "[CV] n_estimators=57, min_samples_split=10, min_samples_leaf=2, max_features=auto, max_depth=8 \n",
      "[CV]  n_estimators=10, min_samples_split=10, min_samples_leaf=4, max_features=auto, max_depth=6, total=   0.4s\n",
      "[CV] n_estimators=10, min_samples_split=5, min_samples_leaf=2, max_features=auto, max_depth=8 \n",
      "[CV]  n_estimators=10, min_samples_split=5, min_samples_leaf=2, max_features=auto, max_depth=8, total=   0.3s\n",
      "[CV] n_estimators=10, min_samples_split=5, min_samples_leaf=2, max_features=auto, max_depth=8 \n",
      "[CV]  n_estimators=10, min_samples_split=5, min_samples_leaf=2, max_features=auto, max_depth=8, total=   0.2s\n",
      "[CV] n_estimators=10, min_samples_split=5, min_samples_leaf=2, max_features=auto, max_depth=8 \n",
      "[CV]  n_estimators=10, min_samples_split=5, min_samples_leaf=2, max_features=auto, max_depth=8, total=   0.5s\n",
      "[CV] n_estimators=105, min_samples_split=10, min_samples_leaf=2, max_features=sqrt, max_depth=4 \n",
      "[CV]  n_estimators=57, min_samples_split=10, min_samples_leaf=2, max_features=auto, max_depth=8, total=   2.5s\n",
      "[CV] n_estimators=105, min_samples_split=10, min_samples_leaf=2, max_features=sqrt, max_depth=4 \n",
      "[CV]  n_estimators=57, min_samples_split=10, min_samples_leaf=2, max_features=auto, max_depth=8, total=   2.6s\n",
      "[CV]  n_estimators=57, min_samples_split=10, min_samples_leaf=2, max_features=auto, max_depth=8, total=   2.7s\n",
      "[CV] n_estimators=105, min_samples_split=10, min_samples_leaf=2, max_features=sqrt, max_depth=4 \n",
      "[CV] n_estimators=57, min_samples_split=5, min_samples_leaf=2, max_features=sqrt, max_depth=6 \n",
      "[CV]  n_estimators=57, min_samples_split=5, min_samples_leaf=2, max_features=sqrt, max_depth=6, total=   2.8s\n",
      "[CV] n_estimators=57, min_samples_split=5, min_samples_leaf=2, max_features=sqrt, max_depth=6 \n",
      "[CV]  n_estimators=105, min_samples_split=10, min_samples_leaf=2, max_features=sqrt, max_depth=4, total=   4.5s\n",
      "[CV] n_estimators=57, min_samples_split=5, min_samples_leaf=2, max_features=sqrt, max_depth=6 \n",
      "[CV]  n_estimators=105, min_samples_split=10, min_samples_leaf=2, max_features=sqrt, max_depth=4, total=   3.9s\n",
      "[CV] n_estimators=152, min_samples_split=10, min_samples_leaf=2, max_features=sqrt, max_depth=4 \n",
      "[CV]  n_estimators=105, min_samples_split=10, min_samples_leaf=2, max_features=sqrt, max_depth=4, total=   3.9s\n",
      "[CV] n_estimators=152, min_samples_split=10, min_samples_leaf=2, max_features=sqrt, max_depth=4 \n",
      "[CV]  n_estimators=57, min_samples_split=5, min_samples_leaf=2, max_features=sqrt, max_depth=6, total=   1.8s\n"
     ]
    },
    {
     "name": "stdout",
     "output_type": "stream",
     "text": [
      "[CV]  n_estimators=57, min_samples_split=5, min_samples_leaf=2, max_features=sqrt, max_depth=6, total=   1.9s\n",
      "[CV] n_estimators=152, min_samples_split=10, min_samples_leaf=2, max_features=sqrt, max_depth=4 \n",
      "[CV] n_estimators=152, min_samples_split=10, min_samples_leaf=2, max_features=sqrt, max_depth=6 \n",
      "[CV]  n_estimators=152, min_samples_split=10, min_samples_leaf=2, max_features=sqrt, max_depth=4, total=   2.7s\n",
      "[CV] n_estimators=152, min_samples_split=10, min_samples_leaf=2, max_features=sqrt, max_depth=6 \n",
      "[CV]  n_estimators=152, min_samples_split=10, min_samples_leaf=2, max_features=sqrt, max_depth=4, total=   2.6s\n",
      "[CV] n_estimators=152, min_samples_split=10, min_samples_leaf=2, max_features=sqrt, max_depth=6 \n",
      "[CV]  n_estimators=152, min_samples_split=10, min_samples_leaf=2, max_features=sqrt, max_depth=4, total=   2.5s\n",
      "[CV] n_estimators=200, min_samples_split=5, min_samples_leaf=2, max_features=auto, max_depth=6 \n",
      "[CV]  n_estimators=152, min_samples_split=10, min_samples_leaf=2, max_features=sqrt, max_depth=6, total=   3.3s\n",
      "[CV] n_estimators=200, min_samples_split=5, min_samples_leaf=2, max_features=auto, max_depth=6 \n",
      "[CV]  n_estimators=152, min_samples_split=10, min_samples_leaf=2, max_features=sqrt, max_depth=6, total=   3.2s\n",
      "[CV] n_estimators=200, min_samples_split=5, min_samples_leaf=2, max_features=auto, max_depth=6 \n",
      "[CV]  n_estimators=152, min_samples_split=10, min_samples_leaf=2, max_features=sqrt, max_depth=6, total=   3.2s\n",
      "[CV] n_estimators=105, min_samples_split=10, min_samples_leaf=4, max_features=sqrt, max_depth=6 \n",
      "[CV]  n_estimators=200, min_samples_split=5, min_samples_leaf=2, max_features=auto, max_depth=6, total=   4.9s\n",
      "[CV] n_estimators=105, min_samples_split=10, min_samples_leaf=4, max_features=sqrt, max_depth=6 \n",
      "[CV]  n_estimators=105, min_samples_split=10, min_samples_leaf=4, max_features=sqrt, max_depth=6, total=   2.9s\n",
      "[CV] n_estimators=105, min_samples_split=10, min_samples_leaf=4, max_features=sqrt, max_depth=6 \n",
      "[CV]  n_estimators=200, min_samples_split=5, min_samples_leaf=2, max_features=auto, max_depth=6, total=   5.1s\n",
      "[CV] n_estimators=200, min_samples_split=5, min_samples_leaf=4, max_features=sqrt, max_depth=10 \n",
      "[CV]  n_estimators=105, min_samples_split=10, min_samples_leaf=4, max_features=sqrt, max_depth=6, total=   2.7s\n",
      "[CV] n_estimators=200, min_samples_split=5, min_samples_leaf=4, max_features=sqrt, max_depth=10 \n",
      "[CV]  n_estimators=200, min_samples_split=5, min_samples_leaf=2, max_features=auto, max_depth=6, total=   5.5s\n",
      "[CV] n_estimators=200, min_samples_split=5, min_samples_leaf=4, max_features=sqrt, max_depth=10 \n",
      "[CV]  n_estimators=105, min_samples_split=10, min_samples_leaf=4, max_features=sqrt, max_depth=6, total=   2.6s\n",
      "[CV] n_estimators=105, min_samples_split=10, min_samples_leaf=4, max_features=auto, max_depth=10 \n",
      "[CV]  n_estimators=105, min_samples_split=10, min_samples_leaf=4, max_features=auto, max_depth=10, total=   4.6s\n",
      "[CV] n_estimators=105, min_samples_split=10, min_samples_leaf=4, max_features=auto, max_depth=10 \n",
      "[CV]  n_estimators=200, min_samples_split=5, min_samples_leaf=4, max_features=sqrt, max_depth=10, total=   8.0s\n",
      "[CV] n_estimators=105, min_samples_split=10, min_samples_leaf=4, max_features=auto, max_depth=10 \n",
      "[CV]  n_estimators=200, min_samples_split=5, min_samples_leaf=4, max_features=sqrt, max_depth=10, total=   8.5s\n",
      "[CV] n_estimators=57, min_samples_split=5, min_samples_leaf=4, max_features=sqrt, max_depth=6 \n",
      "[CV]  n_estimators=200, min_samples_split=5, min_samples_leaf=4, max_features=sqrt, max_depth=10, total=   8.4s\n",
      "[CV] n_estimators=57, min_samples_split=5, min_samples_leaf=4, max_features=sqrt, max_depth=6 \n",
      "[CV]  n_estimators=105, min_samples_split=10, min_samples_leaf=4, max_features=auto, max_depth=10, total=   4.1s\n",
      "[CV] n_estimators=57, min_samples_split=5, min_samples_leaf=4, max_features=sqrt, max_depth=6 \n",
      "[CV]  n_estimators=57, min_samples_split=5, min_samples_leaf=4, max_features=sqrt, max_depth=6, total=   1.8s\n",
      "[CV] n_estimators=200, min_samples_split=10, min_samples_leaf=2, max_features=sqrt, max_depth=2 \n",
      "[CV]  n_estimators=57, min_samples_split=5, min_samples_leaf=4, max_features=sqrt, max_depth=6, total=   1.7s\n",
      "[CV] n_estimators=200, min_samples_split=10, min_samples_leaf=2, max_features=sqrt, max_depth=2 \n",
      "[CV]  n_estimators=105, min_samples_split=10, min_samples_leaf=4, max_features=auto, max_depth=10, total=   4.1s\n",
      "[CV] n_estimators=200, min_samples_split=10, min_samples_leaf=2, max_features=sqrt, max_depth=2 \n",
      "[CV]  n_estimators=57, min_samples_split=5, min_samples_leaf=4, max_features=sqrt, max_depth=6, total=   1.7s\n",
      "[CV] n_estimators=200, min_samples_split=5, min_samples_leaf=2, max_features=auto, max_depth=8 \n",
      "[CV]  n_estimators=200, min_samples_split=10, min_samples_leaf=2, max_features=sqrt, max_depth=2, total=   4.3s\n",
      "[CV] n_estimators=200, min_samples_split=5, min_samples_leaf=2, max_features=auto, max_depth=8 \n",
      "[CV]  n_estimators=200, min_samples_split=10, min_samples_leaf=2, max_features=sqrt, max_depth=2, total=   4.1s\n",
      "[CV] n_estimators=200, min_samples_split=5, min_samples_leaf=2, max_features=auto, max_depth=8 \n",
      "[CV]  n_estimators=200, min_samples_split=10, min_samples_leaf=2, max_features=sqrt, max_depth=2, total=   4.2s\n",
      "[CV] n_estimators=10, min_samples_split=10, min_samples_leaf=4, max_features=sqrt, max_depth=4 \n",
      "[CV]  n_estimators=10, min_samples_split=10, min_samples_leaf=4, max_features=sqrt, max_depth=4, total=   0.2s\n",
      "[CV] n_estimators=10, min_samples_split=10, min_samples_leaf=4, max_features=sqrt, max_depth=4 \n",
      "[CV]  n_estimators=10, min_samples_split=10, min_samples_leaf=4, max_features=sqrt, max_depth=4, total=   0.3s\n",
      "[CV] n_estimators=10, min_samples_split=10, min_samples_leaf=4, max_features=sqrt, max_depth=4 \n",
      "[CV]  n_estimators=10, min_samples_split=10, min_samples_leaf=4, max_features=sqrt, max_depth=4, total=   0.2s\n",
      "[CV] n_estimators=105, min_samples_split=5, min_samples_leaf=2, max_features=auto, max_depth=6 \n",
      "[CV]  n_estimators=105, min_samples_split=5, min_samples_leaf=2, max_features=auto, max_depth=6, total=   2.2s\n",
      "[CV] n_estimators=105, min_samples_split=5, min_samples_leaf=2, max_features=auto, max_depth=6 \n",
      "[CV]  n_estimators=200, min_samples_split=5, min_samples_leaf=2, max_features=auto, max_depth=8, total=   7.8s\n",
      "[CV] n_estimators=105, min_samples_split=5, min_samples_leaf=2, max_features=auto, max_depth=6 \n",
      "[CV]  n_estimators=200, min_samples_split=5, min_samples_leaf=2, max_features=auto, max_depth=8, total=   5.9s\n",
      "[CV] n_estimators=10, min_samples_split=10, min_samples_leaf=2, max_features=auto, max_depth=2 \n",
      "[CV]  n_estimators=200, min_samples_split=5, min_samples_leaf=2, max_features=auto, max_depth=8, total=   5.9s\n",
      "[CV] n_estimators=10, min_samples_split=10, min_samples_leaf=2, max_features=auto, max_depth=2 \n",
      "[CV]  n_estimators=10, min_samples_split=10, min_samples_leaf=2, max_features=auto, max_depth=2, total=   0.2s\n",
      "[CV] n_estimators=10, min_samples_split=10, min_samples_leaf=2, max_features=auto, max_depth=2 \n",
      "[CV]  n_estimators=10, min_samples_split=10, min_samples_leaf=2, max_features=auto, max_depth=2, total=   0.2s\n",
      "[CV] n_estimators=57, min_samples_split=10, min_samples_leaf=4, max_features=auto, max_depth=4 \n",
      "[CV]  n_estimators=105, min_samples_split=5, min_samples_leaf=2, max_features=auto, max_depth=6, total=   2.2s\n",
      "[CV] n_estimators=57, min_samples_split=10, min_samples_leaf=4, max_features=auto, max_depth=4 \n",
      "[CV]  n_estimators=10, min_samples_split=10, min_samples_leaf=2, max_features=auto, max_depth=2, total=   0.2s\n",
      "[CV] n_estimators=57, min_samples_split=10, min_samples_leaf=4, max_features=auto, max_depth=4 \n",
      "[CV]  n_estimators=105, min_samples_split=5, min_samples_leaf=2, max_features=auto, max_depth=6, total=   2.7s\n",
      "[CV] n_estimators=200, min_samples_split=5, min_samples_leaf=2, max_features=auto, max_depth=10 \n",
      "[CV]  n_estimators=57, min_samples_split=10, min_samples_leaf=4, max_features=auto, max_depth=4, total=   1.4s\n",
      "[CV] n_estimators=200, min_samples_split=5, min_samples_leaf=2, max_features=auto, max_depth=10 \n",
      "[CV]  n_estimators=57, min_samples_split=10, min_samples_leaf=4, max_features=auto, max_depth=4, total=   1.4s\n",
      "[CV] n_estimators=200, min_samples_split=5, min_samples_leaf=2, max_features=auto, max_depth=10 \n"
     ]
    },
    {
     "name": "stdout",
     "output_type": "stream",
     "text": [
      "[CV]  n_estimators=57, min_samples_split=10, min_samples_leaf=4, max_features=auto, max_depth=4, total=   1.3s\n",
      "[CV] n_estimators=200, min_samples_split=10, min_samples_leaf=4, max_features=sqrt, max_depth=8 \n",
      "[CV]  n_estimators=200, min_samples_split=10, min_samples_leaf=4, max_features=sqrt, max_depth=8, total=   7.1s\n",
      "[CV] n_estimators=200, min_samples_split=10, min_samples_leaf=4, max_features=sqrt, max_depth=8 \n",
      "[CV]  n_estimators=200, min_samples_split=5, min_samples_leaf=2, max_features=auto, max_depth=10, total=   8.2s\n",
      "[CV] n_estimators=200, min_samples_split=10, min_samples_leaf=4, max_features=sqrt, max_depth=8 \n",
      "[CV]  n_estimators=200, min_samples_split=5, min_samples_leaf=2, max_features=auto, max_depth=10, total=   8.0s\n",
      "[CV] n_estimators=105, min_samples_split=10, min_samples_leaf=4, max_features=auto, max_depth=6 \n",
      "[CV]  n_estimators=200, min_samples_split=5, min_samples_leaf=2, max_features=auto, max_depth=10, total=   8.2s\n",
      "[CV] n_estimators=105, min_samples_split=10, min_samples_leaf=4, max_features=auto, max_depth=6 \n",
      "[CV]  n_estimators=105, min_samples_split=10, min_samples_leaf=4, max_features=auto, max_depth=6, total=   2.4s\n",
      "[CV] n_estimators=105, min_samples_split=10, min_samples_leaf=4, max_features=auto, max_depth=6 \n",
      "[CV]  n_estimators=105, min_samples_split=10, min_samples_leaf=4, max_features=auto, max_depth=6, total=   2.2s\n",
      "[CV] n_estimators=10, min_samples_split=10, min_samples_leaf=2, max_features=sqrt, max_depth=4 \n",
      "[CV]  n_estimators=10, min_samples_split=10, min_samples_leaf=2, max_features=sqrt, max_depth=4, total=   0.2s\n",
      "[CV] n_estimators=10, min_samples_split=10, min_samples_leaf=2, max_features=sqrt, max_depth=4 \n",
      "[CV]  n_estimators=10, min_samples_split=10, min_samples_leaf=2, max_features=sqrt, max_depth=4, total=   0.3s\n",
      "[CV] n_estimators=10, min_samples_split=10, min_samples_leaf=2, max_features=sqrt, max_depth=4 \n",
      "[CV]  n_estimators=10, min_samples_split=10, min_samples_leaf=2, max_features=sqrt, max_depth=4, total=   0.2s\n",
      "[CV] n_estimators=105, min_samples_split=5, min_samples_leaf=4, max_features=auto, max_depth=None \n",
      "[CV]  n_estimators=200, min_samples_split=10, min_samples_leaf=4, max_features=sqrt, max_depth=8, total=   5.4s\n",
      "[CV] n_estimators=105, min_samples_split=5, min_samples_leaf=4, max_features=auto, max_depth=None \n",
      "[CV]  n_estimators=105, min_samples_split=10, min_samples_leaf=4, max_features=auto, max_depth=6, total=   2.4s\n",
      "[CV] n_estimators=105, min_samples_split=5, min_samples_leaf=4, max_features=auto, max_depth=None \n",
      "[CV]  n_estimators=200, min_samples_split=10, min_samples_leaf=4, max_features=sqrt, max_depth=8, total=   5.3s\n",
      "[CV] n_estimators=152, min_samples_split=10, min_samples_leaf=2, max_features=auto, max_depth=None \n",
      "[CV]  n_estimators=105, min_samples_split=5, min_samples_leaf=4, max_features=auto, max_depth=None, total=   3.7s\n",
      "[CV] n_estimators=152, min_samples_split=10, min_samples_leaf=2, max_features=auto, max_depth=None \n",
      "[CV]  n_estimators=105, min_samples_split=5, min_samples_leaf=4, max_features=auto, max_depth=None, total=   3.5s\n",
      "[CV] n_estimators=152, min_samples_split=10, min_samples_leaf=2, max_features=auto, max_depth=None \n",
      "[CV]  n_estimators=105, min_samples_split=5, min_samples_leaf=4, max_features=auto, max_depth=None, total=   3.7s\n",
      "[CV] n_estimators=105, min_samples_split=5, min_samples_leaf=2, max_features=sqrt, max_depth=8 \n",
      "[CV]  n_estimators=152, min_samples_split=10, min_samples_leaf=2, max_features=auto, max_depth=None, total=   5.7s\n",
      "[CV] n_estimators=105, min_samples_split=5, min_samples_leaf=2, max_features=sqrt, max_depth=8 \n",
      "[CV]  n_estimators=105, min_samples_split=5, min_samples_leaf=2, max_features=sqrt, max_depth=8, total=   2.7s\n",
      "[CV] n_estimators=105, min_samples_split=5, min_samples_leaf=2, max_features=sqrt, max_depth=8 \n",
      "[CV]  n_estimators=152, min_samples_split=10, min_samples_leaf=2, max_features=auto, max_depth=None, total=   5.7s\n",
      "[CV] n_estimators=57, min_samples_split=5, min_samples_leaf=4, max_features=sqrt, max_depth=2 \n",
      "[CV]  n_estimators=57, min_samples_split=5, min_samples_leaf=4, max_features=sqrt, max_depth=2, total=   1.0s\n",
      "[CV] n_estimators=57, min_samples_split=5, min_samples_leaf=4, max_features=sqrt, max_depth=2 \n",
      "[CV]  n_estimators=105, min_samples_split=5, min_samples_leaf=2, max_features=sqrt, max_depth=8, total=   3.4s\n",
      "[CV] n_estimators=57, min_samples_split=5, min_samples_leaf=4, max_features=sqrt, max_depth=2 \n",
      "[CV]  n_estimators=152, min_samples_split=10, min_samples_leaf=2, max_features=auto, max_depth=None, total=   6.0s\n",
      "[CV] n_estimators=105, min_samples_split=5, min_samples_leaf=4, max_features=auto, max_depth=2 \n",
      "[CV]  n_estimators=57, min_samples_split=5, min_samples_leaf=4, max_features=sqrt, max_depth=2, total=   0.9s\n",
      "[CV] n_estimators=105, min_samples_split=5, min_samples_leaf=4, max_features=auto, max_depth=2 \n",
      "[CV]  n_estimators=105, min_samples_split=5, min_samples_leaf=2, max_features=sqrt, max_depth=8, total=   3.3s\n",
      "[CV] n_estimators=105, min_samples_split=5, min_samples_leaf=4, max_features=auto, max_depth=2 \n",
      "[CV]  n_estimators=57, min_samples_split=5, min_samples_leaf=4, max_features=sqrt, max_depth=2, total=   0.8s\n",
      "[CV] n_estimators=10, min_samples_split=10, min_samples_leaf=4, max_features=sqrt, max_depth=2 \n",
      "[CV]  n_estimators=10, min_samples_split=10, min_samples_leaf=4, max_features=sqrt, max_depth=2, total=   0.1s\n",
      "[CV] n_estimators=10, min_samples_split=10, min_samples_leaf=4, max_features=sqrt, max_depth=2 \n",
      "[CV]  n_estimators=10, min_samples_split=10, min_samples_leaf=4, max_features=sqrt, max_depth=2, total=   0.1s\n",
      "[CV] n_estimators=10, min_samples_split=10, min_samples_leaf=4, max_features=sqrt, max_depth=2 \n",
      "[CV]  n_estimators=10, min_samples_split=10, min_samples_leaf=4, max_features=sqrt, max_depth=2, total=   0.3s\n",
      "[CV] n_estimators=152, min_samples_split=10, min_samples_leaf=2, max_features=sqrt, max_depth=2 \n",
      "[CV]  n_estimators=105, min_samples_split=5, min_samples_leaf=4, max_features=auto, max_depth=2, total=   1.5s\n",
      "[CV] n_estimators=152, min_samples_split=10, min_samples_leaf=2, max_features=sqrt, max_depth=2 \n",
      "[CV]  n_estimators=105, min_samples_split=5, min_samples_leaf=4, max_features=auto, max_depth=2, total=   1.5s\n",
      "[CV] n_estimators=152, min_samples_split=10, min_samples_leaf=2, max_features=sqrt, max_depth=2 \n",
      "[CV]  n_estimators=105, min_samples_split=5, min_samples_leaf=4, max_features=auto, max_depth=2, total=   1.5s\n",
      "[CV] n_estimators=105, min_samples_split=5, min_samples_leaf=2, max_features=auto, max_depth=4 \n",
      "[CV]  n_estimators=152, min_samples_split=10, min_samples_leaf=2, max_features=sqrt, max_depth=2, total=   1.7s\n",
      "[CV] n_estimators=105, min_samples_split=5, min_samples_leaf=2, max_features=auto, max_depth=4 \n",
      "[CV]  n_estimators=152, min_samples_split=10, min_samples_leaf=2, max_features=sqrt, max_depth=2, total=   1.8s\n",
      "[CV] n_estimators=105, min_samples_split=5, min_samples_leaf=2, max_features=auto, max_depth=4 \n",
      "[CV]  n_estimators=152, min_samples_split=10, min_samples_leaf=2, max_features=sqrt, max_depth=2, total=   1.8s\n",
      "[CV] n_estimators=152, min_samples_split=5, min_samples_leaf=2, max_features=sqrt, max_depth=None \n",
      "[CV]  n_estimators=105, min_samples_split=5, min_samples_leaf=2, max_features=auto, max_depth=4, total=   1.7s\n",
      "[CV] n_estimators=152, min_samples_split=5, min_samples_leaf=2, max_features=sqrt, max_depth=None \n",
      "[CV]  n_estimators=105, min_samples_split=5, min_samples_leaf=2, max_features=auto, max_depth=4, total=   1.9s\n",
      "[CV] n_estimators=152, min_samples_split=5, min_samples_leaf=2, max_features=sqrt, max_depth=None \n",
      "[CV]  n_estimators=105, min_samples_split=5, min_samples_leaf=2, max_features=auto, max_depth=4, total=   1.9s\n",
      "[CV] n_estimators=152, min_samples_split=10, min_samples_leaf=2, max_features=sqrt, max_depth=8 \n",
      "[CV]  n_estimators=152, min_samples_split=5, min_samples_leaf=2, max_features=sqrt, max_depth=None, total=   5.7s\n",
      "[CV] n_estimators=152, min_samples_split=10, min_samples_leaf=2, max_features=sqrt, max_depth=8 \n",
      "[CV]  n_estimators=152, min_samples_split=10, min_samples_leaf=2, max_features=sqrt, max_depth=8, total=   3.9s\n",
      "[CV] n_estimators=152, min_samples_split=10, min_samples_leaf=2, max_features=sqrt, max_depth=8 \n",
      "[CV]  n_estimators=152, min_samples_split=5, min_samples_leaf=2, max_features=sqrt, max_depth=None, total=   5.7s\n"
     ]
    },
    {
     "name": "stdout",
     "output_type": "stream",
     "text": [
      "[CV] n_estimators=57, min_samples_split=5, min_samples_leaf=2, max_features=auto, max_depth=10 \n",
      "[CV]  n_estimators=152, min_samples_split=5, min_samples_leaf=2, max_features=sqrt, max_depth=None, total=   5.7s\n",
      "[CV] n_estimators=57, min_samples_split=5, min_samples_leaf=2, max_features=auto, max_depth=10 \n",
      "[CV]  n_estimators=57, min_samples_split=5, min_samples_leaf=2, max_features=auto, max_depth=10, total=   1.8s\n",
      "[CV] n_estimators=57, min_samples_split=5, min_samples_leaf=2, max_features=auto, max_depth=10 \n",
      "[CV]  n_estimators=57, min_samples_split=5, min_samples_leaf=2, max_features=auto, max_depth=10, total=   1.7s\n",
      "[CV] n_estimators=57, min_samples_split=5, min_samples_leaf=4, max_features=auto, max_depth=4 \n",
      "[CV]  n_estimators=57, min_samples_split=5, min_samples_leaf=2, max_features=auto, max_depth=10, total=   1.8s\n",
      "[CV] n_estimators=57, min_samples_split=5, min_samples_leaf=4, max_features=auto, max_depth=4 \n",
      "[CV]  n_estimators=152, min_samples_split=10, min_samples_leaf=2, max_features=sqrt, max_depth=8, total=   4.0s\n",
      "[CV] n_estimators=57, min_samples_split=5, min_samples_leaf=4, max_features=auto, max_depth=4 \n",
      "[CV]  n_estimators=152, min_samples_split=10, min_samples_leaf=2, max_features=sqrt, max_depth=8, total=   3.9s\n",
      "[CV] n_estimators=105, min_samples_split=10, min_samples_leaf=4, max_features=auto, max_depth=8 \n",
      "[CV]  n_estimators=57, min_samples_split=5, min_samples_leaf=4, max_features=auto, max_depth=4, total=   1.1s\n",
      "[CV] n_estimators=105, min_samples_split=10, min_samples_leaf=4, max_features=auto, max_depth=8 \n",
      "[CV]  n_estimators=57, min_samples_split=5, min_samples_leaf=4, max_features=auto, max_depth=4, total=   1.1s\n",
      "[CV] n_estimators=105, min_samples_split=10, min_samples_leaf=4, max_features=auto, max_depth=8 \n",
      "[CV]  n_estimators=57, min_samples_split=5, min_samples_leaf=4, max_features=auto, max_depth=4, total=   1.1s\n",
      "[CV] n_estimators=10, min_samples_split=5, min_samples_leaf=4, max_features=sqrt, max_depth=10 \n",
      "[CV]  n_estimators=10, min_samples_split=5, min_samples_leaf=4, max_features=sqrt, max_depth=10, total=   0.6s\n",
      "[CV] n_estimators=10, min_samples_split=5, min_samples_leaf=4, max_features=sqrt, max_depth=10 \n",
      "[CV]  n_estimators=10, min_samples_split=5, min_samples_leaf=4, max_features=sqrt, max_depth=10, total=   0.3s\n",
      "[CV] n_estimators=10, min_samples_split=5, min_samples_leaf=4, max_features=sqrt, max_depth=10 \n",
      "[CV]  n_estimators=10, min_samples_split=5, min_samples_leaf=4, max_features=sqrt, max_depth=10, total=   0.3s\n",
      "[CV] n_estimators=57, min_samples_split=10, min_samples_leaf=4, max_features=sqrt, max_depth=4 \n",
      "[CV]  n_estimators=105, min_samples_split=10, min_samples_leaf=4, max_features=auto, max_depth=8, total=   3.2s\n",
      "[CV] n_estimators=57, min_samples_split=10, min_samples_leaf=4, max_features=sqrt, max_depth=4 \n",
      "[CV]  n_estimators=57, min_samples_split=10, min_samples_leaf=4, max_features=sqrt, max_depth=4, total=   0.9s\n",
      "[CV] n_estimators=57, min_samples_split=10, min_samples_leaf=4, max_features=sqrt, max_depth=4 \n",
      "[CV]  n_estimators=105, min_samples_split=10, min_samples_leaf=4, max_features=auto, max_depth=8, total=   3.3s\n",
      "[CV] n_estimators=57, min_samples_split=5, min_samples_leaf=2, max_features=auto, max_depth=4 \n",
      "[CV]  n_estimators=105, min_samples_split=10, min_samples_leaf=4, max_features=auto, max_depth=8, total=   3.1s\n",
      "[CV] n_estimators=57, min_samples_split=5, min_samples_leaf=2, max_features=auto, max_depth=4 \n",
      "[CV]  n_estimators=57, min_samples_split=10, min_samples_leaf=4, max_features=sqrt, max_depth=4, total=   1.1s\n",
      "[CV] n_estimators=57, min_samples_split=5, min_samples_leaf=2, max_features=auto, max_depth=4 \n",
      "[CV]  n_estimators=57, min_samples_split=10, min_samples_leaf=4, max_features=sqrt, max_depth=4, total=   1.1s\n",
      "[CV] n_estimators=105, min_samples_split=5, min_samples_leaf=2, max_features=auto, max_depth=10 \n",
      "[CV]  n_estimators=57, min_samples_split=5, min_samples_leaf=2, max_features=auto, max_depth=4, total=   1.1s\n",
      "[CV] n_estimators=105, min_samples_split=5, min_samples_leaf=2, max_features=auto, max_depth=10 \n",
      "[CV]  n_estimators=57, min_samples_split=5, min_samples_leaf=2, max_features=auto, max_depth=4, total=   1.0s\n",
      "[CV] n_estimators=105, min_samples_split=5, min_samples_leaf=2, max_features=auto, max_depth=10 \n",
      "[CV]  n_estimators=57, min_samples_split=5, min_samples_leaf=2, max_features=auto, max_depth=4, total=   1.0s\n",
      "[CV] n_estimators=57, min_samples_split=10, min_samples_leaf=2, max_features=sqrt, max_depth=8 \n",
      "[CV]  n_estimators=57, min_samples_split=10, min_samples_leaf=2, max_features=sqrt, max_depth=8, total=   1.5s\n",
      "[CV] n_estimators=57, min_samples_split=10, min_samples_leaf=2, max_features=sqrt, max_depth=8 \n",
      "[CV]  n_estimators=105, min_samples_split=5, min_samples_leaf=2, max_features=auto, max_depth=10, total=   3.4s\n",
      "[CV] n_estimators=57, min_samples_split=10, min_samples_leaf=2, max_features=sqrt, max_depth=8 \n",
      "[CV]  n_estimators=105, min_samples_split=5, min_samples_leaf=2, max_features=auto, max_depth=10, total=   3.4s\n",
      "[CV]  n_estimators=105, min_samples_split=5, min_samples_leaf=2, max_features=auto, max_depth=10, total=   3.2s\n",
      "[CV]  n_estimators=57, min_samples_split=10, min_samples_leaf=2, max_features=sqrt, max_depth=8, total=   1.4s\n",
      "[CV]  n_estimators=57, min_samples_split=10, min_samples_leaf=2, max_features=sqrt, max_depth=8, total=   1.0s\n"
     ]
    },
    {
     "name": "stderr",
     "output_type": "stream",
     "text": [
      "[Parallel(n_jobs=-1)]: Done 300 out of 300 | elapsed:  4.1min finished\n"
     ]
    }
   ],
   "source": [
    "n_estimators = [int(x) for x in np.linspace(start = 10, stop = 200, num = 5)]\n",
    "# Use the random grid to search for best hyperparameters\n",
    "# First create the base model to tune\n",
    "clf_base = RandomForestClassifier()\n",
    "# Random search of parameters, using 3 fold cross validation, \n",
    "# search across 100 different combinations, and use all available cores\n",
    "clf_random = RandomizedSearchCV(estimator = clf_base, param_distributions = random_grid, n_iter = 100, cv = 3, verbose=2, random_state=42, n_jobs = -1)\n",
    "# Fit the random search model\n",
    "clf_result = clf_random.fit(X_train,y_train)"
   ]
  },
  {
   "cell_type": "code",
   "execution_count": 115,
   "metadata": {},
   "outputs": [
    {
     "data": {
      "image/png": "[encoded data removed]",
      "text/plain": [
       "<Figure size 432x288 with 1 Axes>"
      ]
     },
     "metadata": {
      "needs_background": "light"
     },
     "output_type": "display_data"
    }
   ],
   "source": [
    "from sklearn.metrics import roc_curve\n",
    "from sklearn.metrics import roc_auc_score\n",
    "\n",
    "# predict probabilities\n",
    "probs = clf_result.predict_proba(X_test)\n",
    "# keep probabilities for the positive outcome only\n",
    "probs = probs[:, 1]\n",
    "# calculate roc curve\n",
    "fpr, tpr, thresholds = roc_curve(y_test, probs)\n",
    "# labels\n",
    "plt.title(\" false positive rate vs true positive rate\")\n",
    "plt.xlabel('false positive rate')\n",
    "plt.ylabel('true positive rate')\n",
    "\n",
    "# plot no skill\n",
    "plt.plot([0, 1], [0, 1], linestyle='--')\n",
    "# plot the roc curve for the model\n",
    "plt.plot(fpr, tpr, marker='.')\n",
    "# show the plot\n",
    "plt.show()"
   ]
  },
  {
   "cell_type": "markdown",
   "metadata": {},
   "source": [
    "#### ROC Curve \n",
    "\n",
    "ROC curve is used in  predicting the probability of a binary outcome of the false positive rate (x-axis) versus the true positive rate (y-axis) for a number of different candidate threshold values between 0.0 and 1.0."
   ]
  },
  {
   "cell_type": "code",
   "execution_count": 116,
   "metadata": {},
   "outputs": [
    {
     "data": {
      "text/plain": [
       "{'n_estimators': 200,\n",
       " 'min_samples_split': 5,\n",
       " 'min_samples_leaf': 2,\n",
       " 'max_features': 'auto',\n",
       " 'max_depth': None}"
      ]
     },
     "execution_count": 116,
     "metadata": {},
     "output_type": "execute_result"
    }
   ],
   "source": [
    "clf_random.best_params_ # Display the best parameters for the random forest classifier"
   ]
  },
  {
   "cell_type": "code",
   "execution_count": 117,
   "metadata": {},
   "outputs": [],
   "source": [
    "## Common Classification algorithm evaluator. It returns the roc_auc\n",
    "from sklearn.metrics import roc_curve, auc\n",
    "def evaluate(model, X_train,y_train, X_test, y_test):\n",
    "    model.fit(X_train,y_train)\n",
    "    predictions = model.predict(X_test)\n",
    "    false_positive_rate, true_positive_rate, thresholds = roc_curve(y_test, predictions)\n",
    "    roc_auc = auc(false_positive_rate, true_positive_rate)\n",
    "    #print(roc)\n",
    "    return roc_auc"
   ]
  },
  {
   "cell_type": "code",
   "execution_count": 118,
   "metadata": {},
   "outputs": [],
   "source": [
    "base_model = RandomForestClassifier(n_estimators = 10, random_state = 42)"
   ]
  },
  {
   "cell_type": "code",
   "execution_count": 119,
   "metadata": {},
   "outputs": [],
   "source": [
    "best_random = clf_random.best_estimator_   # Gives the best model fit from the random forest classifier"
   ]
  },
  {
   "cell_type": "code",
   "execution_count": 120,
   "metadata": {},
   "outputs": [
    {
     "name": "stdout",
     "output_type": "stream",
     "text": [
      "ROC for base model : 0.8891798453382839\n",
      "ROC for best model : 0.8992914858417052\n"
     ]
    }
   ],
   "source": [
    "print('ROC for base model : ' + str(evaluate(base_model,X_train,y_train, X_test, y_test)))\n",
    "print('ROC for best model : ' + str(evaluate(best_random,X_train,y_train, X_test, y_test))) "
   ]
  },
  {
   "cell_type": "code",
   "execution_count": 123,
   "metadata": {},
   "outputs": [],
   "source": [
    "from sklearn.model_selection import GridSearchCV\n",
    "# Create the parameter grid based on the results of random search \n",
    "param_grid = {\n",
    "    'bootstrap': [True],\n",
    "    'max_features': ['auto'],\n",
    "    'min_samples_leaf': [1,2,3],\n",
    "    'min_samples_split': [3,5,7],\n",
    "    'n_estimators': [100, 200, 300]\n",
    "}\n",
    "# Create a based model\n",
    "clf = RandomForestClassifier()\n",
    "# Instantiate the grid search model for the above hyperparameters\n",
    "grid_search = GridSearchCV(estimator = clf, param_grid = param_grid, \n",
    "                          cv = 3, n_jobs = -1, verbose = 2)"
   ]
  },
  {
   "cell_type": "code",
   "execution_count": 124,
   "metadata": {
    "scrolled": true
   },
   "outputs": [
    {
     "name": "stdout",
     "output_type": "stream",
     "text": [
      "Fitting 3 folds for each of 27 candidates, totalling 81 fits\n",
      "[CV] bootstrap=True, max_features=auto, min_samples_leaf=1, min_samples_split=3, n_estimators=100 \n",
      "[CV] bootstrap=True, max_features=auto, min_samples_leaf=1, min_samples_split=3, n_estimators=100 \n",
      "[CV] bootstrap=True, max_features=auto, min_samples_leaf=1, min_samples_split=3, n_estimators=100 \n",
      "[CV] bootstrap=True, max_features=auto, min_samples_leaf=1, min_samples_split=3, n_estimators=200 \n",
      "[CV]  bootstrap=True, max_features=auto, min_samples_leaf=1, min_samples_split=3, n_estimators=100, total=   6.9s\n",
      "[CV] bootstrap=True, max_features=auto, min_samples_leaf=1, min_samples_split=3, n_estimators=200 \n",
      "[CV]  bootstrap=True, max_features=auto, min_samples_leaf=1, min_samples_split=3, n_estimators=100, total=   7.0s\n",
      "[CV] bootstrap=True, max_features=auto, min_samples_leaf=1, min_samples_split=3, n_estimators=200 \n",
      "[CV]  bootstrap=True, max_features=auto, min_samples_leaf=1, min_samples_split=3, n_estimators=100, total=   6.9s\n",
      "[CV] bootstrap=True, max_features=auto, min_samples_leaf=1, min_samples_split=3, n_estimators=300 \n",
      "[CV]  bootstrap=True, max_features=auto, min_samples_leaf=1, min_samples_split=3, n_estimators=200, total=  12.5s\n",
      "[CV] bootstrap=True, max_features=auto, min_samples_leaf=1, min_samples_split=3, n_estimators=300 \n",
      "[CV]  bootstrap=True, max_features=auto, min_samples_leaf=1, min_samples_split=3, n_estimators=200, total=  11.0s\n",
      "[CV]  bootstrap=True, max_features=auto, min_samples_leaf=1, min_samples_split=3, n_estimators=200, total=  11.3s\n",
      "[CV] bootstrap=True, max_features=auto, min_samples_leaf=1, min_samples_split=3, n_estimators=300 \n",
      "[CV] bootstrap=True, max_features=auto, min_samples_leaf=1, min_samples_split=5, n_estimators=100 \n",
      "[CV]  bootstrap=True, max_features=auto, min_samples_leaf=1, min_samples_split=5, n_estimators=100, total=   4.6s\n",
      "[CV]  bootstrap=True, max_features=auto, min_samples_leaf=1, min_samples_split=3, n_estimators=300, total=  15.6s\n",
      "[CV] bootstrap=True, max_features=auto, min_samples_leaf=1, min_samples_split=5, n_estimators=100 \n",
      "[CV] bootstrap=True, max_features=auto, min_samples_leaf=1, min_samples_split=5, n_estimators=100 \n",
      "[CV]  bootstrap=True, max_features=auto, min_samples_leaf=1, min_samples_split=5, n_estimators=100, total=   4.4s\n",
      "[CV] bootstrap=True, max_features=auto, min_samples_leaf=1, min_samples_split=5, n_estimators=200 \n",
      "[CV]  bootstrap=True, max_features=auto, min_samples_leaf=1, min_samples_split=5, n_estimators=100, total=   4.5s\n",
      "[CV] bootstrap=True, max_features=auto, min_samples_leaf=1, min_samples_split=5, n_estimators=200 \n",
      "[CV]  bootstrap=True, max_features=auto, min_samples_leaf=1, min_samples_split=3, n_estimators=300, total=  14.9s\n",
      "[CV] bootstrap=True, max_features=auto, min_samples_leaf=1, min_samples_split=5, n_estimators=200 \n",
      "[CV]  bootstrap=True, max_features=auto, min_samples_leaf=1, min_samples_split=3, n_estimators=300, total=  13.8s\n",
      "[CV] bootstrap=True, max_features=auto, min_samples_leaf=1, min_samples_split=5, n_estimators=300 \n",
      "[CV]  bootstrap=True, max_features=auto, min_samples_leaf=1, min_samples_split=5, n_estimators=200, total=   8.2s\n",
      "[CV] bootstrap=True, max_features=auto, min_samples_leaf=1, min_samples_split=5, n_estimators=300 \n",
      "[CV]  bootstrap=True, max_features=auto, min_samples_leaf=1, min_samples_split=5, n_estimators=200, total=   8.6s\n",
      "[CV] bootstrap=True, max_features=auto, min_samples_leaf=1, min_samples_split=5, n_estimators=300 \n",
      "[CV]  bootstrap=True, max_features=auto, min_samples_leaf=1, min_samples_split=5, n_estimators=200, total=   8.2s\n",
      "[CV] bootstrap=True, max_features=auto, min_samples_leaf=1, min_samples_split=7, n_estimators=100 \n",
      "[CV]  bootstrap=True, max_features=auto, min_samples_leaf=1, min_samples_split=7, n_estimators=100, total=   3.9s\n",
      "[CV] bootstrap=True, max_features=auto, min_samples_leaf=1, min_samples_split=7, n_estimators=100 \n",
      "[CV]  bootstrap=True, max_features=auto, min_samples_leaf=1, min_samples_split=7, n_estimators=100, total=   4.0s\n",
      "[CV] bootstrap=True, max_features=auto, min_samples_leaf=1, min_samples_split=7, n_estimators=100 \n",
      "[CV]  bootstrap=True, max_features=auto, min_samples_leaf=1, min_samples_split=5, n_estimators=300, total=  12.7s\n",
      "[CV] bootstrap=True, max_features=auto, min_samples_leaf=1, min_samples_split=7, n_estimators=200 \n",
      "[CV]  bootstrap=True, max_features=auto, min_samples_leaf=1, min_samples_split=5, n_estimators=300, total=  11.6s\n",
      "[CV] bootstrap=True, max_features=auto, min_samples_leaf=1, min_samples_split=7, n_estimators=200 \n",
      "[CV]  bootstrap=True, max_features=auto, min_samples_leaf=1, min_samples_split=7, n_estimators=100, total=   3.1s\n",
      "[CV] bootstrap=True, max_features=auto, min_samples_leaf=1, min_samples_split=7, n_estimators=200 \n",
      "[CV]  bootstrap=True, max_features=auto, min_samples_leaf=1, min_samples_split=5, n_estimators=300, total=  11.4s\n",
      "[CV] bootstrap=True, max_features=auto, min_samples_leaf=1, min_samples_split=7, n_estimators=300 \n",
      "[CV]  bootstrap=True, max_features=auto, min_samples_leaf=1, min_samples_split=7, n_estimators=200, total=   6.2s\n",
      "[CV] bootstrap=True, max_features=auto, min_samples_leaf=1, min_samples_split=7, n_estimators=300 \n",
      "[CV]  bootstrap=True, max_features=auto, min_samples_leaf=1, min_samples_split=7, n_estimators=200, total=   6.0s\n",
      "[CV] bootstrap=True, max_features=auto, min_samples_leaf=1, min_samples_split=7, n_estimators=300 \n",
      "[CV]  bootstrap=True, max_features=auto, min_samples_leaf=1, min_samples_split=7, n_estimators=200, total=   6.0s\n",
      "[CV] bootstrap=True, max_features=auto, min_samples_leaf=2, min_samples_split=3, n_estimators=100 \n",
      "[CV]  bootstrap=True, max_features=auto, min_samples_leaf=2, min_samples_split=3, n_estimators=100, total=   3.6s\n",
      "[CV]  bootstrap=True, max_features=auto, min_samples_leaf=1, min_samples_split=7, n_estimators=300, total=   8.8s\n",
      "[CV] bootstrap=True, max_features=auto, min_samples_leaf=2, min_samples_split=3, n_estimators=100 \n",
      "[CV] bootstrap=True, max_features=auto, min_samples_leaf=2, min_samples_split=3, n_estimators=100 \n",
      "[CV]  bootstrap=True, max_features=auto, min_samples_leaf=2, min_samples_split=3, n_estimators=100, total=   3.4s\n",
      "[CV]  bootstrap=True, max_features=auto, min_samples_leaf=2, min_samples_split=3, n_estimators=100, total=   3.5s\n",
      "[CV] bootstrap=True, max_features=auto, min_samples_leaf=2, min_samples_split=3, n_estimators=200 \n",
      "[CV] bootstrap=True, max_features=auto, min_samples_leaf=2, min_samples_split=3, n_estimators=200 \n",
      "[CV]  bootstrap=True, max_features=auto, min_samples_leaf=1, min_samples_split=7, n_estimators=300, total=  10.2s\n",
      "[CV] bootstrap=True, max_features=auto, min_samples_leaf=2, min_samples_split=3, n_estimators=200 \n",
      "[CV]  bootstrap=True, max_features=auto, min_samples_leaf=1, min_samples_split=7, n_estimators=300, total=  10.1s\n",
      "[CV] bootstrap=True, max_features=auto, min_samples_leaf=2, min_samples_split=3, n_estimators=300 \n",
      "[CV]  bootstrap=True, max_features=auto, min_samples_leaf=2, min_samples_split=3, n_estimators=200, total=   5.7s\n",
      "[CV] bootstrap=True, max_features=auto, min_samples_leaf=2, min_samples_split=3, n_estimators=300 \n",
      "[CV]  bootstrap=True, max_features=auto, min_samples_leaf=2, min_samples_split=3, n_estimators=200, total=   5.7s\n",
      "[CV] bootstrap=True, max_features=auto, min_samples_leaf=2, min_samples_split=3, n_estimators=300 \n",
      "[CV]  bootstrap=True, max_features=auto, min_samples_leaf=2, min_samples_split=3, n_estimators=200, total=   5.8s\n",
      "[CV] bootstrap=True, max_features=auto, min_samples_leaf=2, min_samples_split=5, n_estimators=100 \n"
     ]
    },
    {
     "name": "stderr",
     "output_type": "stream",
     "text": [
      "[Parallel(n_jobs=-1)]: Done  33 tasks      | elapsed:  1.2min\n"
     ]
    },
    {
     "name": "stdout",
     "output_type": "stream",
     "text": [
      "[CV]  bootstrap=True, max_features=auto, min_samples_leaf=2, min_samples_split=5, n_estimators=100, total=   2.9s\n",
      "[CV] bootstrap=True, max_features=auto, min_samples_leaf=2, min_samples_split=5, n_estimators=100 \n",
      "[CV]  bootstrap=True, max_features=auto, min_samples_leaf=2, min_samples_split=3, n_estimators=300, total=   9.5s\n",
      "[CV] bootstrap=True, max_features=auto, min_samples_leaf=2, min_samples_split=5, n_estimators=100 \n",
      "[CV]  bootstrap=True, max_features=auto, min_samples_leaf=2, min_samples_split=5, n_estimators=100, total=   3.8s\n",
      "[CV] bootstrap=True, max_features=auto, min_samples_leaf=2, min_samples_split=5, n_estimators=200 \n",
      "[CV]  bootstrap=True, max_features=auto, min_samples_leaf=2, min_samples_split=3, n_estimators=300, total=  10.9s\n",
      "[CV]  bootstrap=True, max_features=auto, min_samples_leaf=2, min_samples_split=5, n_estimators=100, total=   4.2s\n",
      "[CV] bootstrap=True, max_features=auto, min_samples_leaf=2, min_samples_split=5, n_estimators=200 \n",
      "[CV] bootstrap=True, max_features=auto, min_samples_leaf=2, min_samples_split=5, n_estimators=200 \n",
      "[CV]  bootstrap=True, max_features=auto, min_samples_leaf=2, min_samples_split=3, n_estimators=300, total=  11.0s\n",
      "[CV] bootstrap=True, max_features=auto, min_samples_leaf=2, min_samples_split=5, n_estimators=300 \n",
      "[CV]  bootstrap=True, max_features=auto, min_samples_leaf=2, min_samples_split=5, n_estimators=200, total=   7.0s\n",
      "[CV] bootstrap=True, max_features=auto, min_samples_leaf=2, min_samples_split=5, n_estimators=300 \n",
      "[CV]  bootstrap=True, max_features=auto, min_samples_leaf=2, min_samples_split=5, n_estimators=200, total=   6.6s\n",
      "[CV] bootstrap=True, max_features=auto, min_samples_leaf=2, min_samples_split=5, n_estimators=300 \n",
      "[CV]  bootstrap=True, max_features=auto, min_samples_leaf=2, min_samples_split=5, n_estimators=200, total=   6.7s\n",
      "[CV] bootstrap=True, max_features=auto, min_samples_leaf=2, min_samples_split=7, n_estimators=100 \n",
      "[CV]  bootstrap=True, max_features=auto, min_samples_leaf=2, min_samples_split=7, n_estimators=100, total=   2.7s\n",
      "[CV] bootstrap=True, max_features=auto, min_samples_leaf=2, min_samples_split=7, n_estimators=100 \n",
      "[CV]  bootstrap=True, max_features=auto, min_samples_leaf=2, min_samples_split=5, n_estimators=300, total=   9.5s\n",
      "[CV] bootstrap=True, max_features=auto, min_samples_leaf=2, min_samples_split=7, n_estimators=100 \n",
      "[CV]  bootstrap=True, max_features=auto, min_samples_leaf=2, min_samples_split=7, n_estimators=100, total=   2.6s\n",
      "[CV] bootstrap=True, max_features=auto, min_samples_leaf=2, min_samples_split=7, n_estimators=200 \n",
      "[CV]  bootstrap=True, max_features=auto, min_samples_leaf=2, min_samples_split=7, n_estimators=100, total=   2.7s\n",
      "[CV] bootstrap=True, max_features=auto, min_samples_leaf=2, min_samples_split=7, n_estimators=200 \n",
      "[CV]  bootstrap=True, max_features=auto, min_samples_leaf=2, min_samples_split=5, n_estimators=300, total=   9.1s\n",
      "[CV] bootstrap=True, max_features=auto, min_samples_leaf=2, min_samples_split=7, n_estimators=200 \n",
      "[CV]  bootstrap=True, max_features=auto, min_samples_leaf=2, min_samples_split=5, n_estimators=300, total=   8.5s\n",
      "[CV] bootstrap=True, max_features=auto, min_samples_leaf=2, min_samples_split=7, n_estimators=300 \n",
      "[CV]  bootstrap=True, max_features=auto, min_samples_leaf=2, min_samples_split=7, n_estimators=200, total=   5.5s\n",
      "[CV] bootstrap=True, max_features=auto, min_samples_leaf=2, min_samples_split=7, n_estimators=300 \n",
      "[CV]  bootstrap=True, max_features=auto, min_samples_leaf=2, min_samples_split=7, n_estimators=200, total=   5.7s\n",
      "[CV] bootstrap=True, max_features=auto, min_samples_leaf=2, min_samples_split=7, n_estimators=300 \n",
      "[CV]  bootstrap=True, max_features=auto, min_samples_leaf=2, min_samples_split=7, n_estimators=200, total=   5.5s\n",
      "[CV] bootstrap=True, max_features=auto, min_samples_leaf=3, min_samples_split=3, n_estimators=100 \n",
      "[CV]  bootstrap=True, max_features=auto, min_samples_leaf=3, min_samples_split=3, n_estimators=100, total=   2.7s\n",
      "[CV] bootstrap=True, max_features=auto, min_samples_leaf=3, min_samples_split=3, n_estimators=100 \n",
      "[CV]  bootstrap=True, max_features=auto, min_samples_leaf=2, min_samples_split=7, n_estimators=300, total=   8.3s\n",
      "[CV] bootstrap=True, max_features=auto, min_samples_leaf=3, min_samples_split=3, n_estimators=100 \n",
      "[CV]  bootstrap=True, max_features=auto, min_samples_leaf=3, min_samples_split=3, n_estimators=100, total=   2.7s\n",
      "[CV] bootstrap=True, max_features=auto, min_samples_leaf=3, min_samples_split=3, n_estimators=200 \n",
      "[CV]  bootstrap=True, max_features=auto, min_samples_leaf=3, min_samples_split=3, n_estimators=100, total=   2.7s\n",
      "[CV] bootstrap=True, max_features=auto, min_samples_leaf=3, min_samples_split=3, n_estimators=200 \n",
      "[CV]  bootstrap=True, max_features=auto, min_samples_leaf=2, min_samples_split=7, n_estimators=300, total=   8.6s\n",
      "[CV] bootstrap=True, max_features=auto, min_samples_leaf=3, min_samples_split=3, n_estimators=200 \n",
      "[CV]  bootstrap=True, max_features=auto, min_samples_leaf=2, min_samples_split=7, n_estimators=300, total=   8.6s\n",
      "[CV] bootstrap=True, max_features=auto, min_samples_leaf=3, min_samples_split=3, n_estimators=300 \n",
      "[CV]  bootstrap=True, max_features=auto, min_samples_leaf=3, min_samples_split=3, n_estimators=200, total=   5.5s\n",
      "[CV] bootstrap=True, max_features=auto, min_samples_leaf=3, min_samples_split=3, n_estimators=300 \n",
      "[CV]  bootstrap=True, max_features=auto, min_samples_leaf=3, min_samples_split=3, n_estimators=200, total=   5.7s\n",
      "[CV] bootstrap=True, max_features=auto, min_samples_leaf=3, min_samples_split=3, n_estimators=300 \n",
      "[CV]  bootstrap=True, max_features=auto, min_samples_leaf=3, min_samples_split=3, n_estimators=200, total=   5.5s\n",
      "[CV] bootstrap=True, max_features=auto, min_samples_leaf=3, min_samples_split=5, n_estimators=100 \n",
      "[CV]  bootstrap=True, max_features=auto, min_samples_leaf=3, min_samples_split=5, n_estimators=100, total=   2.6s\n",
      "[CV] bootstrap=True, max_features=auto, min_samples_leaf=3, min_samples_split=5, n_estimators=100 \n",
      "[CV]  bootstrap=True, max_features=auto, min_samples_leaf=3, min_samples_split=3, n_estimators=300, total=   8.3s\n",
      "[CV] bootstrap=True, max_features=auto, min_samples_leaf=3, min_samples_split=5, n_estimators=100 \n",
      "[CV]  bootstrap=True, max_features=auto, min_samples_leaf=3, min_samples_split=5, n_estimators=100, total=   2.8s\n",
      "[CV] bootstrap=True, max_features=auto, min_samples_leaf=3, min_samples_split=5, n_estimators=200 \n",
      "[CV]  bootstrap=True, max_features=auto, min_samples_leaf=3, min_samples_split=3, n_estimators=300, total=   8.2s\n",
      "[CV] bootstrap=True, max_features=auto, min_samples_leaf=3, min_samples_split=5, n_estimators=200 \n",
      "[CV]  bootstrap=True, max_features=auto, min_samples_leaf=3, min_samples_split=5, n_estimators=100, total=   2.7s\n",
      "[CV] bootstrap=True, max_features=auto, min_samples_leaf=3, min_samples_split=5, n_estimators=200 \n",
      "[CV]  bootstrap=True, max_features=auto, min_samples_leaf=3, min_samples_split=3, n_estimators=300, total=   8.4s\n",
      "[CV] bootstrap=True, max_features=auto, min_samples_leaf=3, min_samples_split=5, n_estimators=300 \n",
      "[CV]  bootstrap=True, max_features=auto, min_samples_leaf=3, min_samples_split=5, n_estimators=200, total=   5.4s\n",
      "[CV] bootstrap=True, max_features=auto, min_samples_leaf=3, min_samples_split=5, n_estimators=300 \n",
      "[CV]  bootstrap=True, max_features=auto, min_samples_leaf=3, min_samples_split=5, n_estimators=200, total=   5.4s\n",
      "[CV]  bootstrap=True, max_features=auto, min_samples_leaf=3, min_samples_split=5, n_estimators=200, total=   5.4s\n",
      "[CV] bootstrap=True, max_features=auto, min_samples_leaf=3, min_samples_split=5, n_estimators=300 \n",
      "[CV] bootstrap=True, max_features=auto, min_samples_leaf=3, min_samples_split=7, n_estimators=100 \n",
      "[CV]  bootstrap=True, max_features=auto, min_samples_leaf=3, min_samples_split=7, n_estimators=100, total=   2.7s\n",
      "[CV] bootstrap=True, max_features=auto, min_samples_leaf=3, min_samples_split=7, n_estimators=100 \n",
      "[CV]  bootstrap=True, max_features=auto, min_samples_leaf=3, min_samples_split=5, n_estimators=300, total=   8.1s\n",
      "[CV] bootstrap=True, max_features=auto, min_samples_leaf=3, min_samples_split=7, n_estimators=100 \n",
      "[CV]  bootstrap=True, max_features=auto, min_samples_leaf=3, min_samples_split=7, n_estimators=100, total=   2.7s\n"
     ]
    },
    {
     "name": "stdout",
     "output_type": "stream",
     "text": [
      "[CV] bootstrap=True, max_features=auto, min_samples_leaf=3, min_samples_split=7, n_estimators=200 \n",
      "[CV]  bootstrap=True, max_features=auto, min_samples_leaf=3, min_samples_split=7, n_estimators=100, total=   2.8s\n",
      "[CV]  bootstrap=True, max_features=auto, min_samples_leaf=3, min_samples_split=5, n_estimators=300, total=   8.2s\n",
      "[CV] bootstrap=True, max_features=auto, min_samples_leaf=3, min_samples_split=7, n_estimators=200 \n",
      "[CV] bootstrap=True, max_features=auto, min_samples_leaf=3, min_samples_split=7, n_estimators=200 \n",
      "[CV]  bootstrap=True, max_features=auto, min_samples_leaf=3, min_samples_split=5, n_estimators=300, total=   8.3s\n",
      "[CV] bootstrap=True, max_features=auto, min_samples_leaf=3, min_samples_split=7, n_estimators=300 \n",
      "[CV]  bootstrap=True, max_features=auto, min_samples_leaf=3, min_samples_split=7, n_estimators=200, total=   5.5s\n",
      "[CV] bootstrap=True, max_features=auto, min_samples_leaf=3, min_samples_split=7, n_estimators=300 \n",
      "[CV]  bootstrap=True, max_features=auto, min_samples_leaf=3, min_samples_split=7, n_estimators=200, total=   5.5s\n",
      "[CV] bootstrap=True, max_features=auto, min_samples_leaf=3, min_samples_split=7, n_estimators=300 \n",
      "[CV]  bootstrap=True, max_features=auto, min_samples_leaf=3, min_samples_split=7, n_estimators=200, total=   5.6s\n",
      "[CV]  bootstrap=True, max_features=auto, min_samples_leaf=3, min_samples_split=7, n_estimators=300, total=   7.8s\n",
      "[CV]  bootstrap=True, max_features=auto, min_samples_leaf=3, min_samples_split=7, n_estimators=300, total=   7.0s\n",
      "[CV]  bootstrap=True, max_features=auto, min_samples_leaf=3, min_samples_split=7, n_estimators=300, total=   5.7s\n"
     ]
    },
    {
     "name": "stderr",
     "output_type": "stream",
     "text": [
      "[Parallel(n_jobs=-1)]: Done  81 out of  81 | elapsed:  2.6min finished\n"
     ]
    },
    {
     "data": {
      "text/plain": [
       "GridSearchCV(cv=3, error_score='raise',\n",
       "       estimator=RandomForestClassifier(bootstrap=True, class_weight=None, criterion='gini',\n",
       "            max_depth=None, max_features='auto', max_leaf_nodes=None,\n",
       "            min_impurity_decrease=0.0, min_impurity_split=None,\n",
       "            min_samples_leaf=1, min_samples_split=2,\n",
       "            min_weight_fraction_leaf=0.0, n_estimators=10, n_jobs=1,\n",
       "            oob_score=False, random_state=None, verbose=0,\n",
       "            warm_start=False),\n",
       "       fit_params=None, iid=True, n_jobs=-1,\n",
       "       param_grid={'bootstrap': [True], 'max_features': ['auto'], 'min_samples_leaf': [1, 2, 3], 'min_samples_split': [3, 5, 7], 'n_estimators': [100, 200, 300]},\n",
       "       pre_dispatch='2*n_jobs', refit=True, return_train_score='warn',\n",
       "       scoring=None, verbose=2)"
      ]
     },
     "execution_count": 124,
     "metadata": {},
     "output_type": "execute_result"
    }
   ],
   "source": [
    "grid_search.fit(X_train, y_train)"
   ]
  },
  {
   "cell_type": "code",
   "execution_count": 125,
   "metadata": {},
   "outputs": [
    {
     "data": {
      "text/plain": [
       "{'bootstrap': True,\n",
       " 'max_features': 'auto',\n",
       " 'min_samples_leaf': 1,\n",
       " 'min_samples_split': 5,\n",
       " 'n_estimators': 300}"
      ]
     },
     "execution_count": 125,
     "metadata": {},
     "output_type": "execute_result"
    }
   ],
   "source": [
    "grid_search.best_params_"
   ]
  },
  {
   "cell_type": "code",
   "execution_count": 126,
   "metadata": {},
   "outputs": [],
   "source": [
    "best_grid = grid_search.best_estimator_"
   ]
  },
  {
   "cell_type": "code",
   "execution_count": 127,
   "metadata": {},
   "outputs": [
    {
     "name": "stdout",
     "output_type": "stream",
     "text": [
      "ROC for best grid search model : 0.8999084124662566\n"
     ]
    }
   ],
   "source": [
    "print('ROC for best grid search model : ' + str(evaluate(best_grid,X_train,y_train, X_test, y_test)))\n",
    "\n",
    "roc_1 = str(evaluate(best_grid,X_train,y_train, X_test, y_test))"
   ]
  },
  {
   "cell_type": "markdown",
   "metadata": {},
   "source": [
    "### Boosting Algorithm : XGBoost Classifier:\n",
    "\n",
    "XGBoost Algorithm is an implementation of gradient boosted decision trees designed for execution speed and model performance. \n"
   ]
  },
  {
   "cell_type": "code",
   "execution_count": 128,
   "metadata": {},
   "outputs": [],
   "source": [
    "from xgboost import XGBClassifier\n",
    "from sklearn.metrics import accuracy_score  # import the XGBoost Classifier"
   ]
  },
  {
   "cell_type": "code",
   "execution_count": 129,
   "metadata": {},
   "outputs": [
    {
     "data": {
      "text/plain": [
       "XGBClassifier(base_score=0.5, booster='gbtree', colsample_bylevel=1,\n",
       "       colsample_bytree=1, gamma=0, learning_rate=0.1, max_delta_step=0,\n",
       "       max_depth=3, min_child_weight=1, missing=None, n_estimators=100,\n",
       "       n_jobs=1, nthread=None, objective='binary:logistic', random_state=0,\n",
       "       reg_alpha=0, reg_lambda=1, scale_pos_weight=1, seed=None,\n",
       "       silent=True, subsample=1)"
      ]
     },
     "execution_count": 129,
     "metadata": {},
     "output_type": "execute_result"
    }
   ],
   "source": [
    "xgBoostClassifierModel = XGBClassifier()  # Training the data using the XGBoost model \n",
    "xgBoostClassifierModel.fit(X_train, y_train)"
   ]
  },
  {
   "cell_type": "code",
   "execution_count": 130,
   "metadata": {},
   "outputs": [
    {
     "name": "stderr",
     "output_type": "stream",
     "text": [
      "/anaconda3/lib/python3.7/site-packages/sklearn/preprocessing/label.py:151: DeprecationWarning: The truth value of an empty array is ambiguous. Returning False, but in future this will result in an error. Use `array.size > 0` to check that an array is not empty.\n",
      "  if diff:\n"
     ]
    }
   ],
   "source": [
    "y_pred = xgBoostClassifierModel.predict(X_test)  # Predicting using the test data\n",
    "predictions = [round(value) for value in y_pred]"
   ]
  },
  {
   "cell_type": "code",
   "execution_count": 131,
   "metadata": {},
   "outputs": [
    {
     "name": "stdout",
     "output_type": "stream",
     "text": [
      "Accuracy: 90.24%\n"
     ]
    }
   ],
   "source": [
    "accuracy = accuracy_score(y_test, predictions)   # Evaluate the accuray of the predictions for the test data\n",
    "print(\"Accuracy: %.2f%%\" % (accuracy * 100.0))"
   ]
  },
  {
   "cell_type": "code",
   "execution_count": 132,
   "metadata": {},
   "outputs": [],
   "source": [
    "from sklearn.model_selection import GridSearchCV\n",
    "from sklearn.model_selection import StratifiedKFold"
   ]
  },
  {
   "cell_type": "code",
   "execution_count": 133,
   "metadata": {},
   "outputs": [
    {
     "name": "stdout",
     "output_type": "stream",
     "text": [
      "Best: -0.220021 using {'n_estimators': 200}\n",
      "-0.258780 (0.006000) with: {'n_estimators': 50}\n",
      "-0.233351 (0.006859) with: {'n_estimators': 100}\n",
      "-0.224575 (0.007561) with: {'n_estimators': 150}\n",
      "-0.220021 (0.008576) with: {'n_estimators': 200}\n"
     ]
    },
    {
     "data": {
      "image/png": "[encoded data removed]",
      "text/plain": [
       "<Figure size 432x288 with 1 Axes>"
      ]
     },
     "metadata": {
      "needs_background": "light"
     },
     "output_type": "display_data"
    }
   ],
   "source": [
    "model = XGBClassifier()\n",
    "n_estimators = range(50, 250, 50)\n",
    "param_grid = dict(n_estimators=n_estimators)\n",
    "kfold = StratifiedKFold(n_splits=10, shuffle=True, random_state=7)\n",
    "grid_search = GridSearchCV(model, param_grid, scoring=\"neg_log_loss\", n_jobs=-1, cv=kfold)\n",
    "grid_result = grid_search.fit(X_train, y_train)\n",
    "# summarize results\n",
    "print(\"Best: %f using %s\" % (grid_result.best_score_, grid_result.best_params_))\n",
    "means = grid_result.cv_results_['mean_test_score']\n",
    "stds = grid_result.cv_results_['std_test_score']\n",
    "params = grid_result.cv_results_['params']\n",
    "for mean, stdev, param in zip(means, stds, params):\n",
    "\tprint(\"%f (%f) with: %r\" % (mean, stdev, param))\n",
    "# plot\n",
    "plt.errorbar(n_estimators, means, yerr=stds)\n",
    "plt.title(\"XGBoost n_estimators vs Log Loss\")\n",
    "plt.xlabel('n_estimators')\n",
    "plt.ylabel('Log Loss') # Tune the Size of Decision Trees in XGBoost\n",
    "plt.savefig('n_estimators.png')"
   ]
  },
  {
   "cell_type": "markdown",
   "metadata": {},
   "source": [
    "We can see that the cross validation log loss scores are negative. This is because the scikit-learn cross validation framework inverted them. The reason is that internally, the framework requires that all metrics that are being optimized are to be maximized, whereas log loss is a minimization metric. It can easily be made maximizing by inverting the scores.\n",
    "\n",
    "The best number of trees was n_estimators=200 resulting in a log loss of -0.2187912, but really not a significant difference from n_estimators=200. In fact, there is not a large relative difference in the number of trees between 100 and 200 if we plot the results.\n",
    "\n"
   ]
  },
  {
   "cell_type": "markdown",
   "metadata": {},
   "source": [
    "### Tune the Size of Decision Trees in XGBoost\n",
    "\n",
    "In gradient boosting, we can control the size of decision trees, also called the number of layers or the depth.\n",
    "\n",
    "Shallow trees are expected to have poor performance because they capture few details of the problem and are generally referred to as weak learners. Deeper trees generally capture too many details of the problem and overfit the training dataset, limiting the ability to make good predictions on new data.\n",
    "\n",
    "Generally, boosting algorithms are configured with weak learners, decision trees with few layers, sometimes as simple as just a root node, also called a decision stump rather than a decision tree.\n",
    "\n",
    "The maximum depth can be specified in the XGBClassifier and XGBRegressor wrapper classes for XGBoost in the max_depth parameter. This parameter takes an integer value and defaults to a value of 3."
   ]
  },
  {
   "cell_type": "code",
   "execution_count": 134,
   "metadata": {},
   "outputs": [
    {
     "name": "stdout",
     "output_type": "stream",
     "text": [
      "range(1, 11, 2)\n",
      "Fitting 10 folds for each of 5 candidates, totalling 50 fits\n"
     ]
    },
    {
     "name": "stderr",
     "output_type": "stream",
     "text": [
      "[Parallel(n_jobs=-1)]: Done  42 tasks      | elapsed:  2.1min\n",
      "[Parallel(n_jobs=-1)]: Done  50 out of  50 | elapsed:  2.7min finished\n"
     ]
    },
    {
     "name": "stdout",
     "output_type": "stream",
     "text": [
      "Best: -0.207861 using {'max_depth': 7}\n",
      "-0.331806 (0.005540) with: {'max_depth': 1}\n",
      "-0.233351 (0.006859) with: {'max_depth': 3}\n",
      "-0.213986 (0.009817) with: {'max_depth': 5}\n",
      "-0.207861 (0.010570) with: {'max_depth': 7}\n",
      "-0.212351 (0.010743) with: {'max_depth': 9}\n"
     ]
    }
   ],
   "source": [
    "model = XGBClassifier()\n",
    "max_depth = range(1, 11, 2)\n",
    "print(max_depth)\n",
    "param_grid = dict(max_depth=max_depth)\n",
    "kfold = StratifiedKFold(n_splits=10, shuffle=True, random_state=7)\n",
    "grid_search = GridSearchCV(model, param_grid, scoring=\"neg_log_loss\", n_jobs=-1, cv=kfold, verbose=1)\n",
    "grid_result = grid_search.fit(X_train, y_train)\n",
    "# summarize results\n",
    "print(\"Best: %f using %s\" % (grid_result.best_score_, grid_result.best_params_))\n",
    "means = grid_result.cv_results_['mean_test_score']\n",
    "stds = grid_result.cv_results_['std_test_score']\n",
    "params = grid_result.cv_results_['params']\n",
    "for mean, stdev, param in zip(means, stds, params):\n",
    "    print(\"%f (%f) with: %r\" % (mean, stdev, param))"
   ]
  },
  {
   "cell_type": "code",
   "execution_count": 135,
   "metadata": {},
   "outputs": [
    {
     "data": {
      "image/png": "[encoded data removed]",
      "text/plain": [
       "<Figure size 432x288 with 1 Axes>"
      ]
     },
     "metadata": {
      "needs_background": "light"
     },
     "output_type": "display_data"
    }
   ],
   "source": [
    "# plot\n",
    "plt.errorbar(max_depth, means, yerr=stds)\n",
    "plt.title(\"XGBoost max_depth vs Log Loss\")\n",
    "plt.xlabel('max_depth')\n",
    "plt.ylabel('Log Loss')\n",
    "plt.savefig('max_depth.png')"
   ]
  },
  {
   "cell_type": "markdown",
   "metadata": {},
   "source": [
    "Reviewing the plot of log loss scores, we can see a marked jump from max_depth=1 to max_depth=3 then pretty even performance for the rest the values of max_depth.\n",
    "\n",
    "Although the best score was observed for max_depth=7, it is interesting to note that there was practically little difference between using max_depth=5 or max_depth=9.\n",
    "\n",
    "This suggests a point of diminishing returns in max_depth on a problem that you can tease out using grid search. A graph of max_depth values is plotted against (inverted) logarithmic loss below."
   ]
  },
  {
   "cell_type": "markdown",
   "metadata": {},
   "source": [
    "### Tune The Number of Trees and Max Depth in XGBoost\n",
    "\n",
    "There is a relationship between the number of trees in the model and the depth of each tree.\n",
    "\n",
    "We would expect that deeper trees would result in fewer trees being required in the model, and the inverse where simpler trees (such as decision stumps) require many more trees to achieve similar results.\n",
    "\n",
    "We can investigate this relationship by evaluating a grid of n_estimators and max_depth configuration values. To avoid the evaluation taking too long, we will limit the total number of configuration values evaluated. Parameters were chosen to tease out the relationship rather than optimize the model.\n",
    "\n",
    "We will create a grid of 4 different n_estimators values (50, 100, 75, 30) and 4 different max_depth values (6, 7, 8, 9) and each combination will be evaluated using 10-fold cross validation. A total of 4410 or 160 models will be trained and evaluated."
   ]
  },
  {
   "cell_type": "code",
   "execution_count": 136,
   "metadata": {},
   "outputs": [
    {
     "name": "stdout",
     "output_type": "stream",
     "text": [
      "[6, 7, 8, 9]\n",
      "Fitting 10 folds for each of 16 candidates, totalling 160 fits\n"
     ]
    },
    {
     "name": "stderr",
     "output_type": "stream",
     "text": [
      "[Parallel(n_jobs=-1)]: Done  42 tasks      | elapsed:  1.7min\n",
      "[Parallel(n_jobs=-1)]: Done 160 out of 160 | elapsed:  7.7min finished\n"
     ]
    },
    {
     "name": "stdout",
     "output_type": "stream",
     "text": [
      "Best: -0.207861 using {'max_depth': 7, 'n_estimators': 100}\n",
      "-0.219971 (0.008014) with: {'max_depth': 6, 'n_estimators': 50}\n",
      "-0.209488 (0.010017) with: {'max_depth': 6, 'n_estimators': 100}\n",
      "-0.212580 (0.009080) with: {'max_depth': 6, 'n_estimators': 75}\n",
      "-0.241240 (0.006596) with: {'max_depth': 6, 'n_estimators': 30}\n",
      "-0.215250 (0.007947) with: {'max_depth': 7, 'n_estimators': 50}\n",
      "-0.207861 (0.010570) with: {'max_depth': 7, 'n_estimators': 100}\n",
      "-0.209898 (0.009382) with: {'max_depth': 7, 'n_estimators': 75}\n",
      "-0.234287 (0.006310) with: {'max_depth': 7, 'n_estimators': 30}\n",
      "-0.214193 (0.008826) with: {'max_depth': 8, 'n_estimators': 50}\n",
      "-0.210602 (0.010943) with: {'max_depth': 8, 'n_estimators': 100}\n",
      "-0.210917 (0.010306) with: {'max_depth': 8, 'n_estimators': 75}\n",
      "-0.230824 (0.006830) with: {'max_depth': 8, 'n_estimators': 30}\n",
      "-0.214469 (0.008979) with: {'max_depth': 9, 'n_estimators': 50}\n",
      "-0.212351 (0.010743) with: {'max_depth': 9, 'n_estimators': 100}\n",
      "-0.212280 (0.010081) with: {'max_depth': 9, 'n_estimators': 75}\n",
      "-0.229003 (0.006445) with: {'max_depth': 9, 'n_estimators': 30}\n"
     ]
    }
   ],
   "source": [
    "# grid search\n",
    "model = XGBClassifier()\n",
    "n_estimators = [50, 100, 75, 30]\n",
    "max_depth = [6, 7, 8, 9]\n",
    "print(max_depth)\n",
    "param_grid = dict(max_depth=max_depth, n_estimators=n_estimators)\n",
    "kfold = StratifiedKFold(n_splits=10, shuffle=True, random_state=7)\n",
    "grid_search = GridSearchCV(model, param_grid, scoring=\"neg_log_loss\", n_jobs=-1, cv=kfold, verbose=1)\n",
    "grid_result = grid_search.fit(X_train, y_train)\n",
    "# summarize results\n",
    "print(\"Best: %f using %s\" % (grid_result.best_score_, grid_result.best_params_))\n",
    "means = grid_result.cv_results_['mean_test_score']\n",
    "stds = grid_result.cv_results_['std_test_score']\n",
    "params = grid_result.cv_results_['params']\n",
    "for mean, stdev, param in zip(means, stds, params):\n",
    "\tprint(\"%f (%f) with: %r\" % (mean, stdev, param))"
   ]
  },
  {
   "cell_type": "code",
   "execution_count": 137,
   "metadata": {},
   "outputs": [
    {
     "data": {
      "image/png": "[encoded data removed]",
      "text/plain": [
       "<Figure size 432x288 with 1 Axes>"
      ]
     },
     "metadata": {
      "needs_background": "light"
     },
     "output_type": "display_data"
    }
   ],
   "source": [
    "# plot results\n",
    "scores = np.array(means).reshape(len(max_depth), len(n_estimators))\n",
    "for i, value in enumerate(max_depth):\n",
    "    plt.plot(n_estimators, scores[i], label='depth: ' + str(value))\n",
    "plt.legend()\n",
    "plt.xlabel('n_estimators')\n",
    "plt.ylabel('Log Loss')\n",
    "plt.savefig('n_estimators_vs_max_depth.png')"
   ]
  },
  {
   "cell_type": "markdown",
   "metadata": {},
   "source": [
    "We can see that the best result was achieved with a n_estimators=100 and max_depth=9, similar to the best values found from the previous two rounds of standalone parameter tuning (n_estimators=100, max_depth=9).\n",
    "\n",
    "We can plot the relationship between each series of max_depth values for a given n_estimators.\n",
    "\n",
    "Fewer boosted trees are required with increased tree depth.\n",
    "\n",
    "Further, we would expect the increase complexity provided by deeper individual trees to result in greater overfitting of the training data which would be exacerbated by having more trees, in turn resulting in a lower cross validation score. We don’t see this here as our trees are not that deep nor do we have too many. Exploring this expectation is left as an exercise you could explore yourself."
   ]
  },
  {
   "cell_type": "markdown",
   "metadata": {},
   "source": [
    "### Creating the model with the best values for Hyper parameters"
   ]
  },
  {
   "cell_type": "code",
   "execution_count": 138,
   "metadata": {},
   "outputs": [],
   "source": [
    "model = XGBClassifier(max_depth=6, n_estimators=250)"
   ]
  },
  {
   "cell_type": "code",
   "execution_count": 139,
   "metadata": {},
   "outputs": [
    {
     "name": "stdout",
     "output_type": "stream",
     "text": [
      "XGBClassifier(base_score=0.5, booster='gbtree', colsample_bylevel=1,\n",
      "       colsample_bytree=1, gamma=0, learning_rate=0.1, max_delta_step=0,\n",
      "       max_depth=6, min_child_weight=1, missing=None, n_estimators=250,\n",
      "       n_jobs=1, nthread=None, objective='binary:logistic', random_state=0,\n",
      "       reg_alpha=0, reg_lambda=1, scale_pos_weight=1, seed=None,\n",
      "       silent=True, subsample=1)\n"
     ]
    }
   ],
   "source": [
    "print(model)"
   ]
  },
  {
   "cell_type": "code",
   "execution_count": 140,
   "metadata": {},
   "outputs": [
    {
     "name": "stderr",
     "output_type": "stream",
     "text": [
      "/anaconda3/lib/python3.7/site-packages/sklearn/preprocessing/label.py:151: DeprecationWarning: The truth value of an empty array is ambiguous. Returning False, but in future this will result in an error. Use `array.size > 0` to check that an array is not empty.\n",
      "  if diff:\n"
     ]
    }
   ],
   "source": [
    "model.fit(X_train, y_train)\n",
    "y_pred = model.predict(X_test)\n",
    "predictions = [round(value) for value in y_pred]"
   ]
  },
  {
   "cell_type": "code",
   "execution_count": 141,
   "metadata": {},
   "outputs": [
    {
     "name": "stderr",
     "output_type": "stream",
     "text": [
      "/anaconda3/lib/python3.7/site-packages/sklearn/preprocessing/label.py:151: DeprecationWarning: The truth value of an empty array is ambiguous. Returning False, but in future this will result in an error. Use `array.size > 0` to check that an array is not empty.\n",
      "  if diff:\n"
     ]
    },
    {
     "name": "stdout",
     "output_type": "stream",
     "text": [
      "ROC for the XGBoost model is: 0.9121069852002309\n"
     ]
    },
    {
     "name": "stderr",
     "output_type": "stream",
     "text": [
      "/anaconda3/lib/python3.7/site-packages/sklearn/preprocessing/label.py:151: DeprecationWarning: The truth value of an empty array is ambiguous. Returning False, but in future this will result in an error. Use `array.size > 0` to check that an array is not empty.\n",
      "  if diff:\n"
     ]
    }
   ],
   "source": [
    "print('ROC for the XGBoost model is: ' + str(evaluate(model, X_train,y_train, X_test, y_test)))\n",
    "roc_2=str(evaluate(model, X_train,y_train, X_test, y_test))"
   ]
  },
  {
   "cell_type": "markdown",
   "metadata": {},
   "source": [
    "#### We Got a better ROC value for XGBoost model than the Random Forest Classifier algorithm "
   ]
  },
  {
   "cell_type": "markdown",
   "metadata": {},
   "source": [
    "## Part B:\n",
    "\n",
    "### Classification with Logistic Regression"
   ]
  },
  {
   "cell_type": "code",
   "execution_count": 142,
   "metadata": {},
   "outputs": [],
   "source": [
    "import statsmodels.api as sm\n",
    "import statsmodels.formula.api as smf\n",
    "import pandas as pd\n",
    "from sklearn.linear_model import LogisticRegression"
   ]
  },
  {
   "cell_type": "code",
   "execution_count": 143,
   "metadata": {},
   "outputs": [],
   "source": [
    "features['price_cat_log'] = features['price'].apply(lambda x: 1 if x > median_price else 0)"
   ]
  },
  {
   "cell_type": "code",
   "execution_count": 144,
   "metadata": {},
   "outputs": [
    {
     "data": {
      "text/plain": [
       "Index(['index', 'price', 'bedrooms', 'bathrooms', 'sqft_living', 'sqft_lot',\n",
       "       'waterfront', 'sqft_above', 'sqft_basement', 'yr_built', 'yr_renovated',\n",
       "       'lat', 'long', 'sqft_living15', 'sqft_lot15', 'basement_present',\n",
       "       'renovated', 'floors#1.0', 'floors#1.5', 'floors#2.0', 'floors#2.5',\n",
       "       'floors#3.0', 'floors#3.5', 'view#0', 'view#1', 'view#2', 'view#3',\n",
       "       'view#4', 'condition#1', 'condition#2', 'condition#3', 'condition#4',\n",
       "       'condition#5', 'grade#1', 'grade#3', 'grade#4', 'grade#5', 'grade#6',\n",
       "       'grade#7', 'grade#8', 'grade#9', 'grade#10', 'grade#11', 'grade#12',\n",
       "       'grade#13', 'zipcode#98004', 'zipcode#98102', 'zipcode#98109',\n",
       "       'zipcode#98112', 'zipcode#98039', 'zipcode#98040', 'price_cat',\n",
       "       'price_cat_log'],\n",
       "      dtype='object')"
      ]
     },
     "execution_count": 144,
     "metadata": {},
     "output_type": "execute_result"
    }
   ],
   "source": [
    "features.columns"
   ]
  },
  {
   "cell_type": "code",
   "execution_count": 145,
   "metadata": {},
   "outputs": [
    {
     "data": {
      "text/plain": [
       "<matplotlib.axes._subplots.AxesSubplot at 0x1c377746a0>"
      ]
     },
     "execution_count": 145,
     "metadata": {},
     "output_type": "execute_result"
    },
    {
     "data": {
      "image/png": "[encoded data removed]",
      "text/plain": [
       "<Figure size 432x288 with 2 Axes>"
      ]
     },
     "metadata": {
      "needs_background": "light"
     },
     "output_type": "display_data"
    }
   ],
   "source": [
    "sns.heatmap(features.corr())"
   ]
  },
  {
   "cell_type": "code",
   "execution_count": 146,
   "metadata": {},
   "outputs": [],
   "source": [
    "price_cat_log=features['price_cat_log']\n",
    "y_log=price_cat_log"
   ]
  },
  {
   "cell_type": "code",
   "execution_count": 147,
   "metadata": {},
   "outputs": [],
   "source": [
    "X_train_log,X_test_log,y_train_log,y_test_log=train_test_split(features[['bedrooms', 'sqft_living', 'waterfront', 'sqft_basement', 'yr_built', 'bathrooms']]\n",
    "                                                               ,y_log,test_size=0.3,random_state=0)"
   ]
  },
  {
   "cell_type": "code",
   "execution_count": 148,
   "metadata": {},
   "outputs": [
    {
     "name": "stdout",
     "output_type": "stream",
     "text": [
      "Training set score: 0.732\n",
      "Test set score: 0.731\n"
     ]
    }
   ],
   "source": [
    "logreg=LogisticRegression().fit(X_train_log,y_train_log)\n",
    "logreg\n",
    "print(\"Training set score: {:.3f}\".format(logreg.score(X_train_log,y_train_log)))\n",
    "print(\"Test set score: {:.3f}\".format(logreg.score(X_test_log,y_test_log)))"
   ]
  },
  {
   "cell_type": "code",
   "execution_count": 149,
   "metadata": {},
   "outputs": [
    {
     "name": "stdout",
     "output_type": "stream",
     "text": [
      "Optimization terminated successfully.\n",
      "         Current function value: 0.522835\n",
      "         Iterations 7\n",
      "                           Logit Regression Results                           \n",
      "==============================================================================\n",
      "Dep. Variable:          price_cat_log   No. Observations:                15129\n",
      "Model:                          Logit   Df Residuals:                    15123\n",
      "Method:                           MLE   Df Model:                            5\n",
      "Date:                Wed, 30 Jan 2019   Pseudo R-squ.:                  0.2457\n",
      "Time:                        22:41:22   Log-Likelihood:                -7910.0\n",
      "converged:                       True   LL-Null:                       -10486.\n",
      "                                        LLR p-value:                     0.000\n",
      "=================================================================================\n",
      "                    coef    std err          z      P>|z|      [0.025      0.975]\n",
      "---------------------------------------------------------------------------------\n",
      "bedrooms         -0.3118      0.028    -10.959      0.000      -0.368      -0.256\n",
      "sqft_living       0.0019   4.82e-05     38.869      0.000       0.002       0.002\n",
      "waterfront        1.9170      0.419      4.578      0.000       1.096       2.738\n",
      "sqft_basement     0.0002   5.38e-05      3.926      0.000       0.000       0.000\n",
      "yr_built         -0.0016   4.46e-05    -36.071      0.000      -0.002      -0.002\n",
      "bathrooms         0.1852      0.040      4.594      0.000       0.106       0.264\n",
      "=================================================================================\n"
     ]
    }
   ],
   "source": [
    "logit_model=sm.Logit(y_train_log,X_train_log)\n",
    "result=logit_model.fit()\n",
    "print(result.summary())"
   ]
  },
  {
   "cell_type": "markdown",
   "metadata": {},
   "source": [
    "Looking at the Z-score the sqft_living is the most independent variable and followed by the yr_built and the rest."
   ]
  },
  {
   "cell_type": "code",
   "execution_count": 150,
   "metadata": {},
   "outputs": [
    {
     "data": {
      "image/png": "[encoded data removed]",
      "text/plain": [
       "<Figure size 432x288 with 1 Axes>"
      ]
     },
     "metadata": {
      "needs_background": "light"
     },
     "output_type": "display_data"
    }
   ],
   "source": [
    "from sklearn.metrics import roc_curve\n",
    "falsepos,truepos,thresholds=roc_curve(y_test_log,logreg.decision_function(X_test_log))\n",
    "\n",
    "plt.plot(falsepos,truepos,label=\"ROC\")\n",
    "plt.xlabel(\"False Positive Rate\")\n",
    "plt.ylabel(\"True Positive Rate\")\n",
    "\n",
    "cutoff=np.argmin(np.abs(thresholds))\n",
    "plt.plot(falsepos[cutoff],truepos[cutoff],'o',markersize=10,label=\"cutoff\",fillstyle=\"none\")\n",
    "plt.show()"
   ]
  },
  {
   "cell_type": "code",
   "execution_count": 151,
   "metadata": {},
   "outputs": [],
   "source": [
    "from sklearn import metrics\n",
    "metrics.auc(falsepos, truepos)\n",
    "\n",
    "roc_3 = metrics.auc(falsepos, truepos)"
   ]
  },
  {
   "cell_type": "markdown",
   "metadata": {},
   "source": [
    "#### The AUC score for the Logistic Regression is lower when compared to the Part A models"
   ]
  },
  {
   "cell_type": "markdown",
   "metadata": {},
   "source": [
    "## Part C:\n",
    "\n",
    "### Regression with Trees"
   ]
  },
  {
   "cell_type": "markdown",
   "metadata": {},
   "source": [
    "### Bagging Based Tree Algorithm : Random Forest Classifier\n",
    "\n"
   ]
  },
  {
   "cell_type": "code",
   "execution_count": 152,
   "metadata": {},
   "outputs": [
    {
     "name": "stdout",
     "output_type": "stream",
     "text": [
      "Parameters currently in use:\n",
      "\n",
      "{'bootstrap': True,\n",
      " 'criterion': 'mse',\n",
      " 'max_depth': None,\n",
      " 'max_features': 'auto',\n",
      " 'max_leaf_nodes': None,\n",
      " 'min_impurity_decrease': 0.0,\n",
      " 'min_impurity_split': None,\n",
      " 'min_samples_leaf': 1,\n",
      " 'min_samples_split': 2,\n",
      " 'min_weight_fraction_leaf': 0.0,\n",
      " 'n_estimators': 10,\n",
      " 'n_jobs': 1,\n",
      " 'oob_score': False,\n",
      " 'random_state': 42,\n",
      " 'verbose': 0,\n",
      " 'warm_start': False}\n"
     ]
    }
   ],
   "source": [
    "from sklearn.ensemble import RandomForestRegressor\n",
    "rf = RandomForestRegressor(random_state = 42)\n",
    "from pprint import pprint\n",
    "# Look at parameters used by our current forest\n",
    "print('Parameters currently in use:\\n')\n",
    "pprint(rf.get_params())"
   ]
  },
  {
   "cell_type": "markdown",
   "metadata": {},
   "source": [
    "n_estimators = number of trees in the foreset\n",
    "\n",
    "max_features = max number of features considered for splitting a node\n",
    "\n",
    "max_depth = max number of levels in each decision tree\n",
    "\n",
    "min_samples_split = min number of data points placed in a node before the node is split\n",
    "\n",
    "min_samples_leaf = min number of data points allowed in a leaf node\n",
    "\n",
    "bootstrap = method for sampling data points (with or without replacement)"
   ]
  },
  {
   "cell_type": "code",
   "execution_count": 153,
   "metadata": {},
   "outputs": [],
   "source": [
    "X_features_reg = ['bedrooms', 'bathrooms', 'sqft_living', 'sqft_lot',\n",
    "       'waterfront', 'sqft_above', 'sqft_basement', 'yr_built', 'yr_renovated',\n",
    "       'lat', 'long', 'sqft_living15', 'sqft_lot15', 'basement_present',\n",
    "       'renovated', 'floors#1.0', 'floors#1.5', 'floors#2.0', 'floors#2.5',\n",
    "       'floors#3.0', 'floors#3.5', 'view#0', 'view#1', 'view#2', 'view#3',\n",
    "       'view#4', 'condition#1', 'condition#2', 'condition#3', 'condition#4',\n",
    "       'condition#5', 'grade#1', 'grade#3', 'grade#4', 'grade#5', 'grade#6',\n",
    "       'grade#7', 'grade#8', 'grade#9', 'grade#10', 'grade#11', 'grade#12',\n",
    "       'grade#13', 'zipcode#98004', 'zipcode#98102', 'zipcode#98109',\n",
    "       'zipcode#98112', 'zipcode#98039', 'zipcode#98040']\n",
    "\n",
    "X_reg=features[['bedrooms', 'bathrooms', 'sqft_living', 'sqft_lot',\n",
    "       'waterfront', 'sqft_above', 'sqft_basement', 'yr_built', 'yr_renovated',\n",
    "       'lat', 'long', 'sqft_living15', 'sqft_lot15', 'basement_present',\n",
    "       'renovated', 'floors#1.0', 'floors#1.5', 'floors#2.0', 'floors#2.5',\n",
    "       'floors#3.0', 'floors#3.5', 'view#0', 'view#1', 'view#2', 'view#3',\n",
    "       'view#4', 'condition#1', 'condition#2', 'condition#3', 'condition#4',\n",
    "       'condition#5', 'grade#1', 'grade#3', 'grade#4', 'grade#5', 'grade#6',\n",
    "       'grade#7', 'grade#8', 'grade#9', 'grade#10', 'grade#11', 'grade#12',\n",
    "       'grade#13', 'zipcode#98004', 'zipcode#98102', 'zipcode#98109',\n",
    "       'zipcode#98112', 'zipcode#98039', 'zipcode#98040']]  # Features\n",
    "\n",
    "y_reg=features['price']  # Labels\n",
    "       \n",
    "# Split dataset into training set and test set\n",
    "X_train_reg, X_test_reg, y_train_reg, y_test_reg = train_test_split(X_reg, y_reg, test_size=0.3) # 70% training and 30% test"
   ]
  },
  {
   "cell_type": "markdown",
   "metadata": {},
   "source": [
    "#### Random Search Cross Validation in Scikit-Learn\n",
    "\n",
    "To use RandomizedSearchCV, we first need to create a parameter grid to sample from during fitting:"
   ]
  },
  {
   "cell_type": "code",
   "execution_count": 154,
   "metadata": {},
   "outputs": [
    {
     "name": "stdout",
     "output_type": "stream",
     "text": [
      "{'max_depth': [2, 4, 6, 8, 10, None],\n",
      " 'max_features': ['auto', 'sqrt'],\n",
      " 'min_samples_leaf': [2, 4],\n",
      " 'min_samples_split': [5, 10],\n",
      " 'n_estimators': [10, 57, 105, 152, 200]}\n"
     ]
    }
   ],
   "source": [
    "from sklearn.model_selection import RandomizedSearchCV\n",
    "# Number of trees in random forest\n",
    "n_estimators = [int(x) for x in np.linspace(start = 10, stop = 200, num = 5)]\n",
    "# Number of features to consider at every split\n",
    "max_features = ['auto', 'sqrt']\n",
    "# Maximum number of levels in tree\n",
    "max_depth = [int(x) for x in np.linspace(2, 10, num = 5)]\n",
    "max_depth.append(None)\n",
    "# Minimum number of samples required to split a node\n",
    "min_samples_split = [5, 10]\n",
    "# Minimum number of samples required at each leaf node\n",
    "min_samples_leaf = [2, 4]\n",
    "# Method of selecting samples for training each tree\n",
    "#bootstrap = [True, False]\n",
    "# Create the random grid\n",
    "random_grid = {'n_estimators': n_estimators,\n",
    "               'max_features': max_features,\n",
    "               'max_depth': max_depth,\n",
    "               'min_samples_split': min_samples_split,\n",
    "               'min_samples_leaf': min_samples_leaf}\n",
    "pprint(random_grid)"
   ]
  },
  {
   "cell_type": "code",
   "execution_count": 155,
   "metadata": {},
   "outputs": [
    {
     "name": "stdout",
     "output_type": "stream",
     "text": [
      "Fitting 3 folds for each of 100 candidates, totalling 300 fits\n",
      "[CV] n_estimators=200, min_samples_split=5, min_samples_leaf=2, max_features=sqrt, max_depth=2 \n",
      "[CV] n_estimators=200, min_samples_split=5, min_samples_leaf=2, max_features=sqrt, max_depth=2 \n",
      "[CV] n_estimators=200, min_samples_split=5, min_samples_leaf=2, max_features=sqrt, max_depth=2 \n",
      "[CV] n_estimators=57, min_samples_split=10, min_samples_leaf=2, max_features=auto, max_depth=2 \n",
      "[CV]  n_estimators=200, min_samples_split=5, min_samples_leaf=2, max_features=sqrt, max_depth=2, total=   2.5s\n",
      "[CV] n_estimators=57, min_samples_split=10, min_samples_leaf=2, max_features=auto, max_depth=2 \n",
      "[CV]  n_estimators=200, min_samples_split=5, min_samples_leaf=2, max_features=sqrt, max_depth=2, total=   2.6s\n",
      "[CV]  n_estimators=57, min_samples_split=10, min_samples_leaf=2, max_features=auto, max_depth=2, total=   2.7s\n",
      "[CV] n_estimators=57, min_samples_split=10, min_samples_leaf=2, max_features=auto, max_depth=2 \n",
      "[CV] n_estimators=152, min_samples_split=5, min_samples_leaf=4, max_features=auto, max_depth=6 \n",
      "[CV]  n_estimators=200, min_samples_split=5, min_samples_leaf=2, max_features=sqrt, max_depth=2, total=   2.6s\n",
      "[CV] n_estimators=152, min_samples_split=5, min_samples_leaf=4, max_features=auto, max_depth=6 \n",
      "[CV]  n_estimators=57, min_samples_split=10, min_samples_leaf=2, max_features=auto, max_depth=2, total=   2.6s\n",
      "[CV] n_estimators=152, min_samples_split=5, min_samples_leaf=4, max_features=auto, max_depth=6 \n",
      "[CV]  n_estimators=57, min_samples_split=10, min_samples_leaf=2, max_features=auto, max_depth=2, total=   2.6s\n",
      "[CV] n_estimators=200, min_samples_split=10, min_samples_leaf=2, max_features=sqrt, max_depth=6 \n",
      "[CV]  n_estimators=200, min_samples_split=10, min_samples_leaf=2, max_features=sqrt, max_depth=6, total=   5.0s\n",
      "[CV] n_estimators=200, min_samples_split=10, min_samples_leaf=2, max_features=sqrt, max_depth=6 \n",
      "[CV]  n_estimators=200, min_samples_split=10, min_samples_leaf=2, max_features=sqrt, max_depth=6, total=   5.0s\n",
      "[CV] n_estimators=200, min_samples_split=10, min_samples_leaf=2, max_features=sqrt, max_depth=6 \n",
      "[CV]  n_estimators=152, min_samples_split=5, min_samples_leaf=4, max_features=auto, max_depth=6, total=  16.5s\n",
      "[CV] n_estimators=200, min_samples_split=5, min_samples_leaf=2, max_features=sqrt, max_depth=6 \n",
      "[CV]  n_estimators=200, min_samples_split=10, min_samples_leaf=2, max_features=sqrt, max_depth=6, total=   3.1s\n",
      "[CV] n_estimators=200, min_samples_split=5, min_samples_leaf=2, max_features=sqrt, max_depth=6 \n",
      "[CV]  n_estimators=152, min_samples_split=5, min_samples_leaf=4, max_features=auto, max_depth=6, total=  16.6s\n",
      "[CV] n_estimators=200, min_samples_split=5, min_samples_leaf=2, max_features=sqrt, max_depth=6 \n",
      "[CV]  n_estimators=152, min_samples_split=5, min_samples_leaf=4, max_features=auto, max_depth=6, total=  15.7s\n",
      "[CV] n_estimators=105, min_samples_split=5, min_samples_leaf=4, max_features=auto, max_depth=10 \n",
      "[CV]  n_estimators=200, min_samples_split=5, min_samples_leaf=2, max_features=sqrt, max_depth=6, total=   3.6s\n",
      "[CV] n_estimators=105, min_samples_split=5, min_samples_leaf=4, max_features=auto, max_depth=10 \n",
      "[CV]  n_estimators=200, min_samples_split=5, min_samples_leaf=2, max_features=sqrt, max_depth=6, total=   3.4s\n",
      "[CV]  n_estimators=200, min_samples_split=5, min_samples_leaf=2, max_features=sqrt, max_depth=6, total=   3.3s\n",
      "[CV] n_estimators=105, min_samples_split=5, min_samples_leaf=4, max_features=auto, max_depth=10 \n",
      "[CV] n_estimators=152, min_samples_split=5, min_samples_leaf=4, max_features=sqrt, max_depth=None \n",
      "[CV]  n_estimators=152, min_samples_split=5, min_samples_leaf=4, max_features=sqrt, max_depth=None, total=   6.0s\n",
      "[CV] n_estimators=152, min_samples_split=5, min_samples_leaf=4, max_features=sqrt, max_depth=None \n",
      "[CV]  n_estimators=105, min_samples_split=5, min_samples_leaf=4, max_features=auto, max_depth=10, total=  14.3s\n",
      "[CV] n_estimators=152, min_samples_split=5, min_samples_leaf=4, max_features=sqrt, max_depth=None \n",
      "[CV]  n_estimators=152, min_samples_split=5, min_samples_leaf=4, max_features=sqrt, max_depth=None, total=   5.6s\n",
      "[CV] n_estimators=57, min_samples_split=10, min_samples_leaf=2, max_features=auto, max_depth=6 \n",
      "[CV]  n_estimators=105, min_samples_split=5, min_samples_leaf=4, max_features=auto, max_depth=10, total=  14.2s\n",
      "[CV] n_estimators=57, min_samples_split=10, min_samples_leaf=2, max_features=auto, max_depth=6 \n",
      "[CV]  n_estimators=105, min_samples_split=5, min_samples_leaf=4, max_features=auto, max_depth=10, total=  14.4s\n",
      "[CV] n_estimators=57, min_samples_split=10, min_samples_leaf=2, max_features=auto, max_depth=6 \n",
      "[CV]  n_estimators=57, min_samples_split=10, min_samples_leaf=2, max_features=auto, max_depth=6, total=   4.6s\n",
      "[CV] n_estimators=200, min_samples_split=10, min_samples_leaf=2, max_features=auto, max_depth=2 \n",
      "[CV]  n_estimators=152, min_samples_split=5, min_samples_leaf=4, max_features=sqrt, max_depth=None, total=   5.7s\n",
      "[CV] n_estimators=200, min_samples_split=10, min_samples_leaf=2, max_features=auto, max_depth=2 \n",
      "[CV]  n_estimators=57, min_samples_split=10, min_samples_leaf=2, max_features=auto, max_depth=6, total=   4.7s\n",
      "[CV] n_estimators=200, min_samples_split=10, min_samples_leaf=2, max_features=auto, max_depth=2 \n",
      "[CV]  n_estimators=57, min_samples_split=10, min_samples_leaf=2, max_features=auto, max_depth=6, total=   4.6s\n",
      "[CV] n_estimators=152, min_samples_split=5, min_samples_leaf=2, max_features=sqrt, max_depth=8 \n",
      "[CV]  n_estimators=152, min_samples_split=5, min_samples_leaf=2, max_features=sqrt, max_depth=8, total=   3.4s\n",
      "[CV] n_estimators=152, min_samples_split=5, min_samples_leaf=2, max_features=sqrt, max_depth=8 \n",
      "[CV]  n_estimators=200, min_samples_split=10, min_samples_leaf=2, max_features=auto, max_depth=2, total=   5.8s\n",
      "[CV] n_estimators=152, min_samples_split=5, min_samples_leaf=2, max_features=sqrt, max_depth=8 \n",
      "[CV]  n_estimators=200, min_samples_split=10, min_samples_leaf=2, max_features=auto, max_depth=2, total=   5.8s\n",
      "[CV] n_estimators=10, min_samples_split=10, min_samples_leaf=2, max_features=auto, max_depth=4 \n",
      "[CV]  n_estimators=200, min_samples_split=10, min_samples_leaf=2, max_features=auto, max_depth=2, total=   5.7s\n",
      "[CV] n_estimators=10, min_samples_split=10, min_samples_leaf=2, max_features=auto, max_depth=4 \n",
      "[CV]  n_estimators=10, min_samples_split=10, min_samples_leaf=2, max_features=auto, max_depth=4, total=   0.6s\n",
      "[CV] n_estimators=10, min_samples_split=10, min_samples_leaf=2, max_features=auto, max_depth=4 \n",
      "[CV]  n_estimators=10, min_samples_split=10, min_samples_leaf=2, max_features=auto, max_depth=4, total=   0.6s\n",
      "[CV] n_estimators=57, min_samples_split=10, min_samples_leaf=2, max_features=auto, max_depth=None \n",
      "[CV]  n_estimators=10, min_samples_split=10, min_samples_leaf=2, max_features=auto, max_depth=4, total=   0.6s\n",
      "[CV] n_estimators=57, min_samples_split=10, min_samples_leaf=2, max_features=auto, max_depth=None \n",
      "[CV]  n_estimators=152, min_samples_split=5, min_samples_leaf=2, max_features=sqrt, max_depth=8, total=   3.3s\n",
      "[CV] n_estimators=57, min_samples_split=10, min_samples_leaf=2, max_features=auto, max_depth=None \n",
      "[CV]  n_estimators=152, min_samples_split=5, min_samples_leaf=2, max_features=sqrt, max_depth=8, total=   3.4s\n",
      "[CV] n_estimators=200, min_samples_split=5, min_samples_leaf=4, max_features=sqrt, max_depth=6 \n"
     ]
    },
    {
     "name": "stderr",
     "output_type": "stream",
     "text": [
      "[Parallel(n_jobs=-1)]: Done  33 tasks      | elapsed:   50.9s\n"
     ]
    },
    {
     "name": "stdout",
     "output_type": "stream",
     "text": [
      "[CV]  n_estimators=200, min_samples_split=5, min_samples_leaf=4, max_features=sqrt, max_depth=6, total=   3.7s\n",
      "[CV] n_estimators=200, min_samples_split=5, min_samples_leaf=4, max_features=sqrt, max_depth=6 \n",
      "[CV]  n_estimators=200, min_samples_split=5, min_samples_leaf=4, max_features=sqrt, max_depth=6, total=   3.3s\n",
      "[CV] n_estimators=200, min_samples_split=5, min_samples_leaf=4, max_features=sqrt, max_depth=6 \n",
      "[CV]  n_estimators=57, min_samples_split=10, min_samples_leaf=2, max_features=auto, max_depth=None, total=  10.7s\n",
      "[CV] n_estimators=152, min_samples_split=10, min_samples_leaf=2, max_features=auto, max_depth=10 \n",
      "[CV]  n_estimators=57, min_samples_split=10, min_samples_leaf=2, max_features=auto, max_depth=None, total=  10.8s\n",
      "[CV] n_estimators=152, min_samples_split=10, min_samples_leaf=2, max_features=auto, max_depth=10 \n",
      "[CV]  n_estimators=57, min_samples_split=10, min_samples_leaf=2, max_features=auto, max_depth=None, total=  10.6s\n",
      "[CV] n_estimators=152, min_samples_split=10, min_samples_leaf=2, max_features=auto, max_depth=10 \n",
      "[CV]  n_estimators=200, min_samples_split=5, min_samples_leaf=4, max_features=sqrt, max_depth=6, total=   3.4s\n",
      "[CV] n_estimators=152, min_samples_split=5, min_samples_leaf=4, max_features=sqrt, max_depth=6 \n",
      "[CV]  n_estimators=152, min_samples_split=5, min_samples_leaf=4, max_features=sqrt, max_depth=6, total=   2.6s\n",
      "[CV] n_estimators=152, min_samples_split=5, min_samples_leaf=4, max_features=sqrt, max_depth=6 \n",
      "[CV]  n_estimators=152, min_samples_split=5, min_samples_leaf=4, max_features=sqrt, max_depth=6, total=   2.6s\n",
      "[CV] n_estimators=152, min_samples_split=5, min_samples_leaf=4, max_features=sqrt, max_depth=6 \n",
      "[CV]  n_estimators=152, min_samples_split=5, min_samples_leaf=4, max_features=sqrt, max_depth=6, total=   2.8s\n",
      "[CV] n_estimators=10, min_samples_split=5, min_samples_leaf=4, max_features=sqrt, max_depth=None \n",
      "[CV]  n_estimators=10, min_samples_split=5, min_samples_leaf=4, max_features=sqrt, max_depth=None, total=   0.3s\n",
      "[CV] n_estimators=10, min_samples_split=5, min_samples_leaf=4, max_features=sqrt, max_depth=None \n",
      "[CV]  n_estimators=10, min_samples_split=5, min_samples_leaf=4, max_features=sqrt, max_depth=None, total=   0.5s\n",
      "[CV] n_estimators=10, min_samples_split=5, min_samples_leaf=4, max_features=sqrt, max_depth=None \n",
      "[CV]  n_estimators=10, min_samples_split=5, min_samples_leaf=4, max_features=sqrt, max_depth=None, total=   0.4s\n",
      "[CV] n_estimators=10, min_samples_split=10, min_samples_leaf=2, max_features=sqrt, max_depth=10 \n",
      "[CV]  n_estimators=10, min_samples_split=10, min_samples_leaf=2, max_features=sqrt, max_depth=10, total=   0.4s\n",
      "[CV] n_estimators=10, min_samples_split=10, min_samples_leaf=2, max_features=sqrt, max_depth=10 \n",
      "[CV]  n_estimators=10, min_samples_split=10, min_samples_leaf=2, max_features=sqrt, max_depth=10, total=   0.2s\n",
      "[CV] n_estimators=10, min_samples_split=10, min_samples_leaf=2, max_features=sqrt, max_depth=10 \n",
      "[CV]  n_estimators=10, min_samples_split=10, min_samples_leaf=2, max_features=sqrt, max_depth=10, total=   0.2s\n",
      "[CV] n_estimators=10, min_samples_split=10, min_samples_leaf=4, max_features=auto, max_depth=2 \n",
      "[CV]  n_estimators=10, min_samples_split=10, min_samples_leaf=4, max_features=auto, max_depth=2, total=   0.3s\n",
      "[CV] n_estimators=10, min_samples_split=10, min_samples_leaf=4, max_features=auto, max_depth=2 \n",
      "[CV]  n_estimators=10, min_samples_split=10, min_samples_leaf=4, max_features=auto, max_depth=2, total=   0.3s\n",
      "[CV] n_estimators=10, min_samples_split=10, min_samples_leaf=4, max_features=auto, max_depth=2 \n",
      "[CV]  n_estimators=10, min_samples_split=10, min_samples_leaf=4, max_features=auto, max_depth=2, total=   0.3s\n",
      "[CV] n_estimators=105, min_samples_split=5, min_samples_leaf=4, max_features=sqrt, max_depth=8 \n",
      "[CV]  n_estimators=105, min_samples_split=5, min_samples_leaf=4, max_features=sqrt, max_depth=8, total=   2.3s\n",
      "[CV] n_estimators=105, min_samples_split=5, min_samples_leaf=4, max_features=sqrt, max_depth=8 \n",
      "[CV]  n_estimators=105, min_samples_split=5, min_samples_leaf=4, max_features=sqrt, max_depth=8, total=   2.3s\n",
      "[CV] n_estimators=105, min_samples_split=5, min_samples_leaf=4, max_features=sqrt, max_depth=8 \n",
      "[CV]  n_estimators=152, min_samples_split=10, min_samples_leaf=2, max_features=auto, max_depth=10, total=  20.7s\n",
      "[CV] n_estimators=10, min_samples_split=10, min_samples_leaf=2, max_features=auto, max_depth=8 \n",
      "[CV]  n_estimators=105, min_samples_split=5, min_samples_leaf=4, max_features=sqrt, max_depth=8, total=   2.4s\n",
      "[CV] n_estimators=10, min_samples_split=10, min_samples_leaf=2, max_features=auto, max_depth=8 \n",
      "[CV]  n_estimators=152, min_samples_split=10, min_samples_leaf=2, max_features=auto, max_depth=10, total=  21.1s\n",
      "[CV] n_estimators=10, min_samples_split=10, min_samples_leaf=2, max_features=auto, max_depth=8 \n",
      "[CV]  n_estimators=10, min_samples_split=10, min_samples_leaf=2, max_features=auto, max_depth=8, total=   1.1s\n",
      "[CV] n_estimators=105, min_samples_split=10, min_samples_leaf=2, max_features=auto, max_depth=8 \n",
      "[CV]  n_estimators=152, min_samples_split=10, min_samples_leaf=2, max_features=auto, max_depth=10, total=  21.2s\n",
      "[CV] n_estimators=105, min_samples_split=10, min_samples_leaf=2, max_features=auto, max_depth=8 \n",
      "[CV]  n_estimators=10, min_samples_split=10, min_samples_leaf=2, max_features=auto, max_depth=8, total=   1.1s\n",
      "[CV] n_estimators=105, min_samples_split=10, min_samples_leaf=2, max_features=auto, max_depth=8 \n",
      "[CV]  n_estimators=10, min_samples_split=10, min_samples_leaf=2, max_features=auto, max_depth=8, total=   1.1s\n",
      "[CV] n_estimators=200, min_samples_split=10, min_samples_leaf=4, max_features=auto, max_depth=2 \n",
      "[CV]  n_estimators=200, min_samples_split=10, min_samples_leaf=4, max_features=auto, max_depth=2, total=   6.6s\n",
      "[CV] n_estimators=200, min_samples_split=10, min_samples_leaf=4, max_features=auto, max_depth=2 \n",
      "[CV]  n_estimators=105, min_samples_split=10, min_samples_leaf=2, max_features=auto, max_depth=8, total=  12.2s\n",
      "[CV] n_estimators=200, min_samples_split=10, min_samples_leaf=4, max_features=auto, max_depth=2 \n",
      "[CV]  n_estimators=105, min_samples_split=10, min_samples_leaf=2, max_features=auto, max_depth=8, total=  12.1s\n",
      "[CV] n_estimators=10, min_samples_split=10, min_samples_leaf=4, max_features=sqrt, max_depth=None \n",
      "[CV]  n_estimators=105, min_samples_split=10, min_samples_leaf=2, max_features=auto, max_depth=8, total=  12.4s\n",
      "[CV] n_estimators=10, min_samples_split=10, min_samples_leaf=4, max_features=sqrt, max_depth=None \n",
      "[CV]  n_estimators=10, min_samples_split=10, min_samples_leaf=4, max_features=sqrt, max_depth=None, total=   0.5s\n",
      "[CV] n_estimators=10, min_samples_split=10, min_samples_leaf=4, max_features=sqrt, max_depth=None \n",
      "[CV]  n_estimators=200, min_samples_split=10, min_samples_leaf=4, max_features=auto, max_depth=2, total=   5.7s\n",
      "[CV] n_estimators=10, min_samples_split=5, min_samples_leaf=4, max_features=sqrt, max_depth=2 \n",
      "[CV]  n_estimators=10, min_samples_split=10, min_samples_leaf=4, max_features=sqrt, max_depth=None, total=   0.4s\n",
      "[CV] n_estimators=10, min_samples_split=5, min_samples_leaf=4, max_features=sqrt, max_depth=2 \n",
      "[CV]  n_estimators=10, min_samples_split=5, min_samples_leaf=4, max_features=sqrt, max_depth=2, total=   0.1s\n",
      "[CV] n_estimators=10, min_samples_split=5, min_samples_leaf=4, max_features=sqrt, max_depth=2 \n",
      "[CV]  n_estimators=10, min_samples_split=5, min_samples_leaf=4, max_features=sqrt, max_depth=2, total=   0.1s\n",
      "[CV] n_estimators=57, min_samples_split=10, min_samples_leaf=4, max_features=auto, max_depth=10 \n",
      "[CV]  n_estimators=10, min_samples_split=5, min_samples_leaf=4, max_features=sqrt, max_depth=2, total=   0.1s\n",
      "[CV] n_estimators=57, min_samples_split=10, min_samples_leaf=4, max_features=auto, max_depth=10 \n",
      "[CV]  n_estimators=10, min_samples_split=10, min_samples_leaf=4, max_features=sqrt, max_depth=None, total=   0.4s\n",
      "[CV] n_estimators=57, min_samples_split=10, min_samples_leaf=4, max_features=auto, max_depth=10 \n",
      "[CV]  n_estimators=200, min_samples_split=10, min_samples_leaf=4, max_features=auto, max_depth=2, total=   5.9s\n",
      "[CV] n_estimators=10, min_samples_split=5, min_samples_leaf=4, max_features=sqrt, max_depth=8 \n",
      "[CV]  n_estimators=10, min_samples_split=5, min_samples_leaf=4, max_features=sqrt, max_depth=8, total=   0.2s\n"
     ]
    },
    {
     "name": "stdout",
     "output_type": "stream",
     "text": [
      "[CV] n_estimators=10, min_samples_split=5, min_samples_leaf=4, max_features=sqrt, max_depth=8 \n",
      "[CV]  n_estimators=10, min_samples_split=5, min_samples_leaf=4, max_features=sqrt, max_depth=8, total=   0.3s\n",
      "[CV] n_estimators=10, min_samples_split=5, min_samples_leaf=4, max_features=sqrt, max_depth=8 \n",
      "[CV]  n_estimators=10, min_samples_split=5, min_samples_leaf=4, max_features=sqrt, max_depth=8, total=   0.2s\n",
      "[CV] n_estimators=10, min_samples_split=5, min_samples_leaf=4, max_features=auto, max_depth=2 \n",
      "[CV]  n_estimators=10, min_samples_split=5, min_samples_leaf=4, max_features=auto, max_depth=2, total=   0.3s\n",
      "[CV] n_estimators=10, min_samples_split=5, min_samples_leaf=4, max_features=auto, max_depth=2 \n",
      "[CV]  n_estimators=10, min_samples_split=5, min_samples_leaf=4, max_features=auto, max_depth=2, total=   0.4s\n",
      "[CV] n_estimators=10, min_samples_split=5, min_samples_leaf=4, max_features=auto, max_depth=2 \n",
      "[CV]  n_estimators=10, min_samples_split=5, min_samples_leaf=4, max_features=auto, max_depth=2, total=   0.3s\n",
      "[CV] n_estimators=57, min_samples_split=5, min_samples_leaf=2, max_features=auto, max_depth=None \n",
      "[CV]  n_estimators=57, min_samples_split=10, min_samples_leaf=4, max_features=auto, max_depth=10, total=   7.5s\n",
      "[CV] n_estimators=57, min_samples_split=5, min_samples_leaf=2, max_features=auto, max_depth=None \n",
      "[CV]  n_estimators=57, min_samples_split=10, min_samples_leaf=4, max_features=auto, max_depth=10, total=   7.6s\n",
      "[CV] n_estimators=57, min_samples_split=5, min_samples_leaf=2, max_features=auto, max_depth=None \n",
      "[CV]  n_estimators=57, min_samples_split=10, min_samples_leaf=4, max_features=auto, max_depth=10, total=   7.6s\n",
      "[CV] n_estimators=105, min_samples_split=10, min_samples_leaf=4, max_features=sqrt, max_depth=None \n",
      "[CV]  n_estimators=105, min_samples_split=10, min_samples_leaf=4, max_features=sqrt, max_depth=None, total=   3.9s\n",
      "[CV] n_estimators=105, min_samples_split=10, min_samples_leaf=4, max_features=sqrt, max_depth=None \n",
      "[CV]  n_estimators=105, min_samples_split=10, min_samples_leaf=4, max_features=sqrt, max_depth=None, total=   4.8s\n",
      "[CV] n_estimators=105, min_samples_split=10, min_samples_leaf=4, max_features=sqrt, max_depth=None \n",
      "[CV]  n_estimators=57, min_samples_split=5, min_samples_leaf=2, max_features=auto, max_depth=None, total=  12.9s\n",
      "[CV] n_estimators=152, min_samples_split=5, min_samples_leaf=4, max_features=sqrt, max_depth=8 \n",
      "[CV]  n_estimators=57, min_samples_split=5, min_samples_leaf=2, max_features=auto, max_depth=None, total=  12.7s\n",
      "[CV] n_estimators=152, min_samples_split=5, min_samples_leaf=4, max_features=sqrt, max_depth=8 \n",
      "[CV]  n_estimators=57, min_samples_split=5, min_samples_leaf=2, max_features=auto, max_depth=None, total=  12.8s\n",
      "[CV] n_estimators=152, min_samples_split=5, min_samples_leaf=4, max_features=sqrt, max_depth=8 \n",
      "[CV]  n_estimators=105, min_samples_split=10, min_samples_leaf=4, max_features=sqrt, max_depth=None, total=   3.8s\n",
      "[CV] n_estimators=57, min_samples_split=10, min_samples_leaf=4, max_features=auto, max_depth=6 \n",
      "[CV]  n_estimators=152, min_samples_split=5, min_samples_leaf=4, max_features=sqrt, max_depth=8, total=   3.2s\n",
      "[CV] n_estimators=57, min_samples_split=10, min_samples_leaf=4, max_features=auto, max_depth=6 \n",
      "[CV]  n_estimators=152, min_samples_split=5, min_samples_leaf=4, max_features=sqrt, max_depth=8, total=   3.3s\n",
      "[CV] n_estimators=57, min_samples_split=10, min_samples_leaf=4, max_features=auto, max_depth=6 \n",
      "[CV]  n_estimators=152, min_samples_split=5, min_samples_leaf=4, max_features=sqrt, max_depth=8, total=   3.2s\n",
      "[CV] n_estimators=152, min_samples_split=10, min_samples_leaf=2, max_features=sqrt, max_depth=None \n",
      "[CV]  n_estimators=57, min_samples_split=10, min_samples_leaf=4, max_features=auto, max_depth=6, total=   4.5s\n",
      "[CV] n_estimators=152, min_samples_split=10, min_samples_leaf=2, max_features=sqrt, max_depth=None \n",
      "[CV]  n_estimators=57, min_samples_split=10, min_samples_leaf=4, max_features=auto, max_depth=6, total=   4.6s\n",
      "[CV] n_estimators=152, min_samples_split=10, min_samples_leaf=2, max_features=sqrt, max_depth=None \n",
      "[CV]  n_estimators=57, min_samples_split=10, min_samples_leaf=4, max_features=auto, max_depth=6, total=   4.6s\n",
      "[CV] n_estimators=10, min_samples_split=10, min_samples_leaf=2, max_features=sqrt, max_depth=2 \n",
      "[CV]  n_estimators=10, min_samples_split=10, min_samples_leaf=2, max_features=sqrt, max_depth=2, total=   0.1s\n",
      "[CV] n_estimators=10, min_samples_split=10, min_samples_leaf=2, max_features=sqrt, max_depth=2 \n",
      "[CV]  n_estimators=10, min_samples_split=10, min_samples_leaf=2, max_features=sqrt, max_depth=2, total=   0.1s\n",
      "[CV] n_estimators=10, min_samples_split=10, min_samples_leaf=2, max_features=sqrt, max_depth=2 \n",
      "[CV]  n_estimators=10, min_samples_split=10, min_samples_leaf=2, max_features=sqrt, max_depth=2, total=   0.2s\n",
      "[CV] n_estimators=105, min_samples_split=5, min_samples_leaf=2, max_features=sqrt, max_depth=10 \n",
      "[CV]  n_estimators=152, min_samples_split=10, min_samples_leaf=2, max_features=sqrt, max_depth=None, total=   6.0s\n",
      "[CV] n_estimators=105, min_samples_split=5, min_samples_leaf=2, max_features=sqrt, max_depth=10 \n",
      "[CV]  n_estimators=105, min_samples_split=5, min_samples_leaf=2, max_features=sqrt, max_depth=10, total=   3.0s\n",
      "[CV] n_estimators=105, min_samples_split=5, min_samples_leaf=2, max_features=sqrt, max_depth=10 \n",
      "[CV]  n_estimators=152, min_samples_split=10, min_samples_leaf=2, max_features=sqrt, max_depth=None, total=   6.4s\n",
      "[CV] n_estimators=152, min_samples_split=10, min_samples_leaf=4, max_features=auto, max_depth=2 \n",
      "[CV]  n_estimators=105, min_samples_split=5, min_samples_leaf=2, max_features=sqrt, max_depth=10, total=   2.7s\n",
      "[CV] n_estimators=152, min_samples_split=10, min_samples_leaf=4, max_features=auto, max_depth=2 \n",
      "[CV]  n_estimators=152, min_samples_split=10, min_samples_leaf=2, max_features=sqrt, max_depth=None, total=   6.1s\n",
      "[CV] n_estimators=152, min_samples_split=10, min_samples_leaf=4, max_features=auto, max_depth=2 \n",
      "[CV]  n_estimators=105, min_samples_split=5, min_samples_leaf=2, max_features=sqrt, max_depth=10, total=   2.8s\n",
      "[CV] n_estimators=200, min_samples_split=10, min_samples_leaf=2, max_features=sqrt, max_depth=4 \n",
      "[CV]  n_estimators=152, min_samples_split=10, min_samples_leaf=4, max_features=auto, max_depth=2, total=   4.4s\n",
      "[CV] n_estimators=200, min_samples_split=10, min_samples_leaf=2, max_features=sqrt, max_depth=4 \n",
      "[CV]  n_estimators=200, min_samples_split=10, min_samples_leaf=2, max_features=sqrt, max_depth=4, total=   2.3s\n",
      "[CV] n_estimators=200, min_samples_split=10, min_samples_leaf=2, max_features=sqrt, max_depth=4 \n",
      "[CV]  n_estimators=152, min_samples_split=10, min_samples_leaf=4, max_features=auto, max_depth=2, total=   4.5s\n",
      "[CV] n_estimators=105, min_samples_split=5, min_samples_leaf=4, max_features=sqrt, max_depth=10 \n",
      "[CV]  n_estimators=152, min_samples_split=10, min_samples_leaf=4, max_features=auto, max_depth=2, total=   4.5s\n",
      "[CV] n_estimators=105, min_samples_split=5, min_samples_leaf=4, max_features=sqrt, max_depth=10 \n",
      "[CV]  n_estimators=200, min_samples_split=10, min_samples_leaf=2, max_features=sqrt, max_depth=4, total=   2.5s\n",
      "[CV] n_estimators=105, min_samples_split=5, min_samples_leaf=4, max_features=sqrt, max_depth=10 \n",
      "[CV]  n_estimators=200, min_samples_split=10, min_samples_leaf=2, max_features=sqrt, max_depth=4, total=   2.6s\n",
      "[CV] n_estimators=10, min_samples_split=10, min_samples_leaf=4, max_features=auto, max_depth=4 \n",
      "[CV]  n_estimators=105, min_samples_split=5, min_samples_leaf=4, max_features=sqrt, max_depth=10, total=   2.7s\n",
      "[CV] n_estimators=10, min_samples_split=10, min_samples_leaf=4, max_features=auto, max_depth=4 \n",
      "[CV]  n_estimators=10, min_samples_split=10, min_samples_leaf=4, max_features=auto, max_depth=4, total=   0.7s\n",
      "[CV] n_estimators=10, min_samples_split=10, min_samples_leaf=4, max_features=auto, max_depth=4 \n",
      "[CV]  n_estimators=10, min_samples_split=10, min_samples_leaf=4, max_features=auto, max_depth=4, total=   0.9s\n",
      "[CV] n_estimators=200, min_samples_split=10, min_samples_leaf=4, max_features=sqrt, max_depth=4 \n",
      "[CV]  n_estimators=10, min_samples_split=10, min_samples_leaf=4, max_features=auto, max_depth=4, total=   0.9s\n",
      "[CV] n_estimators=200, min_samples_split=10, min_samples_leaf=4, max_features=sqrt, max_depth=4 \n"
     ]
    },
    {
     "name": "stdout",
     "output_type": "stream",
     "text": [
      "[CV]  n_estimators=105, min_samples_split=5, min_samples_leaf=4, max_features=sqrt, max_depth=10, total=   3.2s\n",
      "[CV] n_estimators=200, min_samples_split=10, min_samples_leaf=4, max_features=sqrt, max_depth=4 \n",
      "[CV]  n_estimators=105, min_samples_split=5, min_samples_leaf=4, max_features=sqrt, max_depth=10, total=   3.6s\n",
      "[CV] n_estimators=10, min_samples_split=10, min_samples_leaf=4, max_features=auto, max_depth=10 \n",
      "[CV]  n_estimators=200, min_samples_split=10, min_samples_leaf=4, max_features=sqrt, max_depth=4, total=   3.5s\n",
      "[CV] n_estimators=10, min_samples_split=10, min_samples_leaf=4, max_features=auto, max_depth=10 \n",
      "[CV]  n_estimators=10, min_samples_split=10, min_samples_leaf=4, max_features=auto, max_depth=10, total=   1.7s\n",
      "[CV] n_estimators=10, min_samples_split=10, min_samples_leaf=4, max_features=auto, max_depth=10 \n",
      "[CV]  n_estimators=200, min_samples_split=10, min_samples_leaf=4, max_features=sqrt, max_depth=4, total=   3.4s\n",
      "[CV] n_estimators=105, min_samples_split=10, min_samples_leaf=2, max_features=sqrt, max_depth=None \n",
      "[CV]  n_estimators=200, min_samples_split=10, min_samples_leaf=4, max_features=sqrt, max_depth=4, total=   3.5s\n",
      "[CV] n_estimators=105, min_samples_split=10, min_samples_leaf=2, max_features=sqrt, max_depth=None \n",
      "[CV]  n_estimators=10, min_samples_split=10, min_samples_leaf=4, max_features=auto, max_depth=10, total=   1.5s\n",
      "[CV]  n_estimators=10, min_samples_split=10, min_samples_leaf=4, max_features=auto, max_depth=10, total=   1.4s\n",
      "[CV] n_estimators=105, min_samples_split=10, min_samples_leaf=2, max_features=sqrt, max_depth=None \n",
      "[CV] n_estimators=105, min_samples_split=5, min_samples_leaf=4, max_features=sqrt, max_depth=6 \n",
      "[CV]  n_estimators=105, min_samples_split=5, min_samples_leaf=4, max_features=sqrt, max_depth=6, total=   1.9s\n",
      "[CV] n_estimators=105, min_samples_split=5, min_samples_leaf=4, max_features=sqrt, max_depth=6 \n",
      "[CV]  n_estimators=105, min_samples_split=10, min_samples_leaf=2, max_features=sqrt, max_depth=None, total=   4.3s\n",
      "[CV] n_estimators=105, min_samples_split=5, min_samples_leaf=4, max_features=sqrt, max_depth=6 \n",
      "[CV]  n_estimators=105, min_samples_split=10, min_samples_leaf=2, max_features=sqrt, max_depth=None, total=   4.5s\n",
      "[CV] n_estimators=57, min_samples_split=5, min_samples_leaf=2, max_features=sqrt, max_depth=None \n",
      "[CV]  n_estimators=105, min_samples_split=5, min_samples_leaf=4, max_features=sqrt, max_depth=6, total=   1.9s\n",
      "[CV] n_estimators=57, min_samples_split=5, min_samples_leaf=2, max_features=sqrt, max_depth=None \n",
      "[CV]  n_estimators=105, min_samples_split=10, min_samples_leaf=2, max_features=sqrt, max_depth=None, total=   4.3s\n",
      "[CV] n_estimators=57, min_samples_split=5, min_samples_leaf=2, max_features=sqrt, max_depth=None \n",
      "[CV]  n_estimators=105, min_samples_split=5, min_samples_leaf=4, max_features=sqrt, max_depth=6, total=   1.9s\n",
      "[CV] n_estimators=57, min_samples_split=10, min_samples_leaf=4, max_features=auto, max_depth=2 \n",
      "[CV]  n_estimators=57, min_samples_split=5, min_samples_leaf=2, max_features=sqrt, max_depth=None, total=   2.6s\n",
      "[CV] n_estimators=57, min_samples_split=10, min_samples_leaf=4, max_features=auto, max_depth=2 \n",
      "[CV]  n_estimators=57, min_samples_split=5, min_samples_leaf=2, max_features=sqrt, max_depth=None, total=   2.7s\n",
      "[CV] n_estimators=57, min_samples_split=10, min_samples_leaf=4, max_features=auto, max_depth=2 \n",
      "[CV]  n_estimators=57, min_samples_split=10, min_samples_leaf=4, max_features=auto, max_depth=2, total=   1.7s\n",
      "[CV] n_estimators=57, min_samples_split=10, min_samples_leaf=4, max_features=sqrt, max_depth=8 \n",
      "[CV]  n_estimators=57, min_samples_split=5, min_samples_leaf=2, max_features=sqrt, max_depth=None, total=   2.4s\n",
      "[CV] n_estimators=57, min_samples_split=10, min_samples_leaf=4, max_features=sqrt, max_depth=8 \n",
      "[CV]  n_estimators=57, min_samples_split=10, min_samples_leaf=4, max_features=sqrt, max_depth=8, total=   1.1s\n",
      "[CV] n_estimators=57, min_samples_split=10, min_samples_leaf=4, max_features=sqrt, max_depth=8 \n",
      "[CV]  n_estimators=57, min_samples_split=10, min_samples_leaf=4, max_features=auto, max_depth=2, total=   1.8s\n",
      "[CV] n_estimators=57, min_samples_split=10, min_samples_leaf=2, max_features=sqrt, max_depth=4 \n",
      "[CV]  n_estimators=57, min_samples_split=10, min_samples_leaf=4, max_features=auto, max_depth=2, total=   1.6s\n",
      "[CV] n_estimators=57, min_samples_split=10, min_samples_leaf=2, max_features=sqrt, max_depth=4 \n",
      "[CV]  n_estimators=57, min_samples_split=10, min_samples_leaf=4, max_features=sqrt, max_depth=8, total=   1.2s\n",
      "[CV] n_estimators=57, min_samples_split=10, min_samples_leaf=2, max_features=sqrt, max_depth=4 \n",
      "[CV]  n_estimators=57, min_samples_split=10, min_samples_leaf=2, max_features=sqrt, max_depth=4, total=   0.6s\n",
      "[CV] n_estimators=10, min_samples_split=10, min_samples_leaf=2, max_features=auto, max_depth=10 \n",
      "[CV]  n_estimators=57, min_samples_split=10, min_samples_leaf=2, max_features=sqrt, max_depth=4, total=   0.6s\n",
      "[CV] n_estimators=10, min_samples_split=10, min_samples_leaf=2, max_features=auto, max_depth=10 \n",
      "[CV]  n_estimators=57, min_samples_split=10, min_samples_leaf=2, max_features=sqrt, max_depth=4, total=   0.8s\n",
      "[CV] n_estimators=10, min_samples_split=10, min_samples_leaf=2, max_features=auto, max_depth=10 \n",
      "[CV]  n_estimators=57, min_samples_split=10, min_samples_leaf=4, max_features=sqrt, max_depth=8, total=   1.3s\n",
      "[CV] n_estimators=152, min_samples_split=10, min_samples_leaf=4, max_features=sqrt, max_depth=2 \n",
      "[CV]  n_estimators=10, min_samples_split=10, min_samples_leaf=2, max_features=auto, max_depth=10, total=   1.4s\n",
      "[CV] n_estimators=152, min_samples_split=10, min_samples_leaf=4, max_features=sqrt, max_depth=2 \n",
      "[CV]  n_estimators=10, min_samples_split=10, min_samples_leaf=2, max_features=auto, max_depth=10, total=   1.5s\n",
      "[CV] n_estimators=152, min_samples_split=10, min_samples_leaf=4, max_features=sqrt, max_depth=2 \n",
      "[CV]  n_estimators=10, min_samples_split=10, min_samples_leaf=2, max_features=auto, max_depth=10, total=   1.3s\n",
      "[CV] n_estimators=200, min_samples_split=10, min_samples_leaf=4, max_features=auto, max_depth=8 \n",
      "[CV]  n_estimators=152, min_samples_split=10, min_samples_leaf=4, max_features=sqrt, max_depth=2, total=   1.2s\n",
      "[CV] n_estimators=200, min_samples_split=10, min_samples_leaf=4, max_features=auto, max_depth=8 \n",
      "[CV]  n_estimators=152, min_samples_split=10, min_samples_leaf=4, max_features=sqrt, max_depth=2, total=   1.3s\n",
      "[CV] n_estimators=200, min_samples_split=10, min_samples_leaf=4, max_features=auto, max_depth=8 \n",
      "[CV]  n_estimators=152, min_samples_split=10, min_samples_leaf=4, max_features=sqrt, max_depth=2, total=   1.3s\n",
      "[CV] n_estimators=10, min_samples_split=5, min_samples_leaf=2, max_features=sqrt, max_depth=4 \n",
      "[CV]  n_estimators=10, min_samples_split=5, min_samples_leaf=2, max_features=sqrt, max_depth=4, total=   0.3s\n",
      "[CV] n_estimators=10, min_samples_split=5, min_samples_leaf=2, max_features=sqrt, max_depth=4 \n",
      "[CV]  n_estimators=10, min_samples_split=5, min_samples_leaf=2, max_features=sqrt, max_depth=4, total=   0.1s\n",
      "[CV] n_estimators=10, min_samples_split=5, min_samples_leaf=2, max_features=sqrt, max_depth=4 \n",
      "[CV]  n_estimators=10, min_samples_split=5, min_samples_leaf=2, max_features=sqrt, max_depth=4, total=   0.1s\n",
      "[CV] n_estimators=200, min_samples_split=5, min_samples_leaf=2, max_features=auto, max_depth=None \n",
      "[CV]  n_estimators=200, min_samples_split=10, min_samples_leaf=4, max_features=auto, max_depth=8, total=  26.5s\n",
      "[CV]  n_estimators=200, min_samples_split=10, min_samples_leaf=4, max_features=auto, max_depth=8, total=  26.7s\n",
      "[CV] n_estimators=200, min_samples_split=5, min_samples_leaf=2, max_features=auto, max_depth=None \n",
      "[CV] n_estimators=200, min_samples_split=5, min_samples_leaf=2, max_features=auto, max_depth=None \n",
      "[CV]  n_estimators=200, min_samples_split=10, min_samples_leaf=4, max_features=auto, max_depth=8, total=  26.5s\n",
      "[CV] n_estimators=57, min_samples_split=10, min_samples_leaf=2, max_features=sqrt, max_depth=10 \n",
      "[CV]  n_estimators=57, min_samples_split=10, min_samples_leaf=2, max_features=sqrt, max_depth=10, total=   1.8s\n",
      "[CV] n_estimators=57, min_samples_split=10, min_samples_leaf=2, max_features=sqrt, max_depth=10 \n",
      "[CV]  n_estimators=57, min_samples_split=10, min_samples_leaf=2, max_features=sqrt, max_depth=10, total=   1.8s\n"
     ]
    },
    {
     "name": "stdout",
     "output_type": "stream",
     "text": [
      "[CV] n_estimators=57, min_samples_split=10, min_samples_leaf=2, max_features=sqrt, max_depth=10 \n",
      "[CV]  n_estimators=57, min_samples_split=10, min_samples_leaf=2, max_features=sqrt, max_depth=10, total=   1.6s\n",
      "[CV] n_estimators=105, min_samples_split=10, min_samples_leaf=2, max_features=auto, max_depth=None \n",
      "[CV]  n_estimators=200, min_samples_split=5, min_samples_leaf=2, max_features=auto, max_depth=None, total=  48.5s\n",
      "[CV] n_estimators=105, min_samples_split=10, min_samples_leaf=2, max_features=auto, max_depth=None \n"
     ]
    },
    {
     "name": "stderr",
     "output_type": "stream",
     "text": [
      "[Parallel(n_jobs=-1)]: Done 154 tasks      | elapsed:  3.4min\n"
     ]
    },
    {
     "name": "stdout",
     "output_type": "stream",
     "text": [
      "[CV]  n_estimators=105, min_samples_split=10, min_samples_leaf=2, max_features=auto, max_depth=None, total=  22.4s\n",
      "[CV] n_estimators=105, min_samples_split=10, min_samples_leaf=2, max_features=auto, max_depth=None \n",
      "[CV]  n_estimators=105, min_samples_split=10, min_samples_leaf=2, max_features=auto, max_depth=None, total=  21.4s\n",
      "[CV] n_estimators=152, min_samples_split=5, min_samples_leaf=4, max_features=sqrt, max_depth=10 \n",
      "[CV]  n_estimators=200, min_samples_split=5, min_samples_leaf=2, max_features=auto, max_depth=None, total=  46.0s\n",
      "[CV] n_estimators=152, min_samples_split=5, min_samples_leaf=4, max_features=sqrt, max_depth=10 \n",
      "[CV]  n_estimators=200, min_samples_split=5, min_samples_leaf=2, max_features=auto, max_depth=None, total=  46.1s\n",
      "[CV] n_estimators=152, min_samples_split=5, min_samples_leaf=4, max_features=sqrt, max_depth=10 \n",
      "[CV]  n_estimators=152, min_samples_split=5, min_samples_leaf=4, max_features=sqrt, max_depth=10, total=   4.3s\n",
      "[CV] n_estimators=200, min_samples_split=5, min_samples_leaf=2, max_features=sqrt, max_depth=None \n",
      "[CV]  n_estimators=105, min_samples_split=10, min_samples_leaf=2, max_features=auto, max_depth=None, total=  21.4s\n",
      "[CV] n_estimators=200, min_samples_split=5, min_samples_leaf=2, max_features=sqrt, max_depth=None \n",
      "[CV]  n_estimators=152, min_samples_split=5, min_samples_leaf=4, max_features=sqrt, max_depth=10, total=   3.8s\n",
      "[CV] n_estimators=200, min_samples_split=5, min_samples_leaf=2, max_features=sqrt, max_depth=None \n",
      "[CV]  n_estimators=152, min_samples_split=5, min_samples_leaf=4, max_features=sqrt, max_depth=10, total=   3.8s\n",
      "[CV] n_estimators=200, min_samples_split=10, min_samples_leaf=2, max_features=auto, max_depth=None \n",
      "[CV]  n_estimators=200, min_samples_split=5, min_samples_leaf=2, max_features=sqrt, max_depth=None, total=   7.0s\n",
      "[CV] n_estimators=200, min_samples_split=10, min_samples_leaf=2, max_features=auto, max_depth=None \n",
      "[CV]  n_estimators=200, min_samples_split=5, min_samples_leaf=2, max_features=sqrt, max_depth=None, total=   7.1s\n",
      "[CV] n_estimators=200, min_samples_split=10, min_samples_leaf=2, max_features=auto, max_depth=None \n",
      "[CV]  n_estimators=200, min_samples_split=5, min_samples_leaf=2, max_features=sqrt, max_depth=None, total=   7.1s\n",
      "[CV] n_estimators=10, min_samples_split=10, min_samples_leaf=4, max_features=sqrt, max_depth=6 \n",
      "[CV]  n_estimators=10, min_samples_split=10, min_samples_leaf=4, max_features=sqrt, max_depth=6, total=   0.2s\n",
      "[CV] n_estimators=10, min_samples_split=10, min_samples_leaf=4, max_features=sqrt, max_depth=6 \n",
      "[CV]  n_estimators=10, min_samples_split=10, min_samples_leaf=4, max_features=sqrt, max_depth=6, total=   0.2s\n",
      "[CV] n_estimators=10, min_samples_split=10, min_samples_leaf=4, max_features=sqrt, max_depth=6 \n",
      "[CV]  n_estimators=10, min_samples_split=10, min_samples_leaf=4, max_features=sqrt, max_depth=6, total=   0.2s\n",
      "[CV] n_estimators=200, min_samples_split=10, min_samples_leaf=4, max_features=auto, max_depth=None \n",
      "[CV]  n_estimators=200, min_samples_split=10, min_samples_leaf=2, max_features=auto, max_depth=None, total=  32.3s\n",
      "[CV] n_estimators=200, min_samples_split=10, min_samples_leaf=4, max_features=auto, max_depth=None \n",
      "[CV]  n_estimators=200, min_samples_split=10, min_samples_leaf=4, max_features=auto, max_depth=None, total=  30.1s\n",
      "[CV] n_estimators=200, min_samples_split=10, min_samples_leaf=4, max_features=auto, max_depth=None \n",
      "[CV]  n_estimators=200, min_samples_split=10, min_samples_leaf=2, max_features=auto, max_depth=None, total=  32.4s\n",
      "[CV] n_estimators=152, min_samples_split=5, min_samples_leaf=4, max_features=sqrt, max_depth=4 \n",
      "[CV]  n_estimators=200, min_samples_split=10, min_samples_leaf=2, max_features=auto, max_depth=None, total=  32.2s\n",
      "[CV] n_estimators=152, min_samples_split=5, min_samples_leaf=4, max_features=sqrt, max_depth=4 \n",
      "[CV]  n_estimators=152, min_samples_split=5, min_samples_leaf=4, max_features=sqrt, max_depth=4, total=   1.6s\n",
      "[CV] n_estimators=152, min_samples_split=5, min_samples_leaf=4, max_features=sqrt, max_depth=4 \n",
      "[CV]  n_estimators=152, min_samples_split=5, min_samples_leaf=4, max_features=sqrt, max_depth=4, total=   1.7s\n",
      "[CV] n_estimators=57, min_samples_split=10, min_samples_leaf=4, max_features=auto, max_depth=8 \n",
      "[CV]  n_estimators=152, min_samples_split=5, min_samples_leaf=4, max_features=sqrt, max_depth=4, total=   1.5s\n",
      "[CV] n_estimators=57, min_samples_split=10, min_samples_leaf=4, max_features=auto, max_depth=8 \n",
      "[CV]  n_estimators=57, min_samples_split=10, min_samples_leaf=4, max_features=auto, max_depth=8, total=   5.1s\n",
      "[CV] n_estimators=57, min_samples_split=10, min_samples_leaf=4, max_features=auto, max_depth=8 \n",
      "[CV]  n_estimators=57, min_samples_split=10, min_samples_leaf=4, max_features=auto, max_depth=8, total=   5.2s\n",
      "[CV] n_estimators=10, min_samples_split=10, min_samples_leaf=4, max_features=auto, max_depth=6 \n",
      "[CV]  n_estimators=10, min_samples_split=10, min_samples_leaf=4, max_features=auto, max_depth=6, total=   0.7s\n",
      "[CV] n_estimators=10, min_samples_split=10, min_samples_leaf=4, max_features=auto, max_depth=6 \n",
      "[CV]  n_estimators=10, min_samples_split=10, min_samples_leaf=4, max_features=auto, max_depth=6, total=   0.9s\n",
      "[CV] n_estimators=10, min_samples_split=10, min_samples_leaf=4, max_features=auto, max_depth=6 \n",
      "[CV]  n_estimators=10, min_samples_split=10, min_samples_leaf=4, max_features=auto, max_depth=6, total=   0.7s\n",
      "[CV] n_estimators=57, min_samples_split=10, min_samples_leaf=2, max_features=auto, max_depth=8 \n",
      "[CV]  n_estimators=57, min_samples_split=10, min_samples_leaf=4, max_features=auto, max_depth=8, total=   5.4s\n",
      "[CV] n_estimators=57, min_samples_split=10, min_samples_leaf=2, max_features=auto, max_depth=8 \n",
      "[CV]  n_estimators=57, min_samples_split=10, min_samples_leaf=2, max_features=auto, max_depth=8, total=   5.7s\n",
      "[CV] n_estimators=57, min_samples_split=10, min_samples_leaf=2, max_features=auto, max_depth=8 \n",
      "[CV]  n_estimators=57, min_samples_split=10, min_samples_leaf=2, max_features=auto, max_depth=8, total=   5.8s\n",
      "[CV] n_estimators=10, min_samples_split=5, min_samples_leaf=2, max_features=auto, max_depth=8 \n",
      "[CV]  n_estimators=10, min_samples_split=5, min_samples_leaf=2, max_features=auto, max_depth=8, total=   1.1s\n",
      "[CV] n_estimators=10, min_samples_split=5, min_samples_leaf=2, max_features=auto, max_depth=8 \n",
      "[CV]  n_estimators=10, min_samples_split=5, min_samples_leaf=2, max_features=auto, max_depth=8, total=   1.0s\n",
      "[CV] n_estimators=10, min_samples_split=5, min_samples_leaf=2, max_features=auto, max_depth=8 \n",
      "[CV]  n_estimators=10, min_samples_split=5, min_samples_leaf=2, max_features=auto, max_depth=8, total=   0.9s\n",
      "[CV] n_estimators=105, min_samples_split=10, min_samples_leaf=2, max_features=sqrt, max_depth=4 \n",
      "[CV]  n_estimators=57, min_samples_split=10, min_samples_leaf=2, max_features=auto, max_depth=8, total=   5.7s\n",
      "[CV] n_estimators=105, min_samples_split=10, min_samples_leaf=2, max_features=sqrt, max_depth=4 \n",
      "[CV]  n_estimators=105, min_samples_split=10, min_samples_leaf=2, max_features=sqrt, max_depth=4, total=   1.1s\n",
      "[CV] n_estimators=105, min_samples_split=10, min_samples_leaf=2, max_features=sqrt, max_depth=4 \n",
      "[CV]  n_estimators=200, min_samples_split=10, min_samples_leaf=4, max_features=auto, max_depth=None, total=  29.9s\n",
      "[CV] n_estimators=57, min_samples_split=5, min_samples_leaf=2, max_features=sqrt, max_depth=6 \n",
      "[CV]  n_estimators=105, min_samples_split=10, min_samples_leaf=2, max_features=sqrt, max_depth=4, total=   1.1s\n",
      "[CV] n_estimators=57, min_samples_split=5, min_samples_leaf=2, max_features=sqrt, max_depth=6 \n",
      "[CV]  n_estimators=105, min_samples_split=10, min_samples_leaf=2, max_features=sqrt, max_depth=4, total=   1.2s\n",
      "[CV] n_estimators=57, min_samples_split=5, min_samples_leaf=2, max_features=sqrt, max_depth=6 \n",
      "[CV]  n_estimators=57, min_samples_split=5, min_samples_leaf=2, max_features=sqrt, max_depth=6, total=   0.9s\n",
      "[CV] n_estimators=152, min_samples_split=10, min_samples_leaf=2, max_features=sqrt, max_depth=4 \n",
      "[CV]  n_estimators=57, min_samples_split=5, min_samples_leaf=2, max_features=sqrt, max_depth=6, total=   0.9s\n",
      "[CV] n_estimators=152, min_samples_split=10, min_samples_leaf=2, max_features=sqrt, max_depth=4 \n",
      "[CV]  n_estimators=57, min_samples_split=5, min_samples_leaf=2, max_features=sqrt, max_depth=6, total=   0.9s\n"
     ]
    },
    {
     "name": "stdout",
     "output_type": "stream",
     "text": [
      "[CV] n_estimators=152, min_samples_split=10, min_samples_leaf=2, max_features=sqrt, max_depth=4 \n",
      "[CV]  n_estimators=152, min_samples_split=10, min_samples_leaf=2, max_features=sqrt, max_depth=4, total=   1.7s\n",
      "[CV] n_estimators=152, min_samples_split=10, min_samples_leaf=2, max_features=sqrt, max_depth=6 \n",
      "[CV]  n_estimators=152, min_samples_split=10, min_samples_leaf=2, max_features=sqrt, max_depth=4, total=   1.6s\n",
      "[CV] n_estimators=152, min_samples_split=10, min_samples_leaf=2, max_features=sqrt, max_depth=6 \n",
      "[CV]  n_estimators=152, min_samples_split=10, min_samples_leaf=2, max_features=sqrt, max_depth=4, total=   1.7s\n",
      "[CV] n_estimators=152, min_samples_split=10, min_samples_leaf=2, max_features=sqrt, max_depth=6 \n",
      "[CV]  n_estimators=152, min_samples_split=10, min_samples_leaf=2, max_features=sqrt, max_depth=6, total=   2.2s\n",
      "[CV] n_estimators=200, min_samples_split=5, min_samples_leaf=2, max_features=auto, max_depth=6 \n",
      "[CV]  n_estimators=152, min_samples_split=10, min_samples_leaf=2, max_features=sqrt, max_depth=6, total=   2.2s\n",
      "[CV] n_estimators=200, min_samples_split=5, min_samples_leaf=2, max_features=auto, max_depth=6 \n",
      "[CV]  n_estimators=152, min_samples_split=10, min_samples_leaf=2, max_features=sqrt, max_depth=6, total=   2.2s\n",
      "[CV] n_estimators=200, min_samples_split=5, min_samples_leaf=2, max_features=auto, max_depth=6 \n",
      "[CV]  n_estimators=200, min_samples_split=10, min_samples_leaf=4, max_features=auto, max_depth=None, total=  30.3s\n",
      "[CV] n_estimators=105, min_samples_split=10, min_samples_leaf=4, max_features=sqrt, max_depth=6 \n",
      "[CV]  n_estimators=105, min_samples_split=10, min_samples_leaf=4, max_features=sqrt, max_depth=6, total=   1.6s\n",
      "[CV] n_estimators=105, min_samples_split=10, min_samples_leaf=4, max_features=sqrt, max_depth=6 \n",
      "[CV]  n_estimators=105, min_samples_split=10, min_samples_leaf=4, max_features=sqrt, max_depth=6, total=   1.4s\n",
      "[CV] n_estimators=105, min_samples_split=10, min_samples_leaf=4, max_features=sqrt, max_depth=6 \n",
      "[CV]  n_estimators=105, min_samples_split=10, min_samples_leaf=4, max_features=sqrt, max_depth=6, total=   1.5s\n",
      "[CV] n_estimators=200, min_samples_split=5, min_samples_leaf=4, max_features=sqrt, max_depth=10 \n",
      "[CV]  n_estimators=200, min_samples_split=5, min_samples_leaf=4, max_features=sqrt, max_depth=10, total=   4.2s\n",
      "[CV] n_estimators=200, min_samples_split=5, min_samples_leaf=4, max_features=sqrt, max_depth=10 \n",
      "[CV]  n_estimators=200, min_samples_split=5, min_samples_leaf=2, max_features=auto, max_depth=6, total=  13.7s\n",
      "[CV] n_estimators=200, min_samples_split=5, min_samples_leaf=4, max_features=sqrt, max_depth=10 \n",
      "[CV]  n_estimators=200, min_samples_split=5, min_samples_leaf=2, max_features=auto, max_depth=6, total=  13.7s\n",
      "[CV] n_estimators=105, min_samples_split=10, min_samples_leaf=4, max_features=auto, max_depth=10 \n",
      "[CV]  n_estimators=200, min_samples_split=5, min_samples_leaf=2, max_features=auto, max_depth=6, total=  13.8s\n",
      "[CV] n_estimators=105, min_samples_split=10, min_samples_leaf=4, max_features=auto, max_depth=10 \n",
      "[CV]  n_estimators=200, min_samples_split=5, min_samples_leaf=4, max_features=sqrt, max_depth=10, total=   4.5s\n",
      "[CV] n_estimators=105, min_samples_split=10, min_samples_leaf=4, max_features=auto, max_depth=10 \n",
      "[CV]  n_estimators=200, min_samples_split=5, min_samples_leaf=4, max_features=sqrt, max_depth=10, total=   5.0s\n",
      "[CV] n_estimators=57, min_samples_split=5, min_samples_leaf=4, max_features=sqrt, max_depth=6 \n",
      "[CV]  n_estimators=57, min_samples_split=5, min_samples_leaf=4, max_features=sqrt, max_depth=6, total=   0.9s\n",
      "[CV] n_estimators=57, min_samples_split=5, min_samples_leaf=4, max_features=sqrt, max_depth=6 \n",
      "[CV]  n_estimators=57, min_samples_split=5, min_samples_leaf=4, max_features=sqrt, max_depth=6, total=   0.9s\n",
      "[CV] n_estimators=57, min_samples_split=5, min_samples_leaf=4, max_features=sqrt, max_depth=6 \n",
      "[CV]  n_estimators=57, min_samples_split=5, min_samples_leaf=4, max_features=sqrt, max_depth=6, total=   0.8s\n",
      "[CV] n_estimators=200, min_samples_split=10, min_samples_leaf=2, max_features=sqrt, max_depth=2 \n",
      "[CV]  n_estimators=200, min_samples_split=10, min_samples_leaf=2, max_features=sqrt, max_depth=2, total=   1.4s\n",
      "[CV] n_estimators=200, min_samples_split=10, min_samples_leaf=2, max_features=sqrt, max_depth=2 \n",
      "[CV]  n_estimators=200, min_samples_split=10, min_samples_leaf=2, max_features=sqrt, max_depth=2, total=   1.4s\n",
      "[CV] n_estimators=200, min_samples_split=10, min_samples_leaf=2, max_features=sqrt, max_depth=2 \n",
      "[CV]  n_estimators=200, min_samples_split=10, min_samples_leaf=2, max_features=sqrt, max_depth=2, total=   1.5s\n",
      "[CV] n_estimators=200, min_samples_split=5, min_samples_leaf=2, max_features=auto, max_depth=8 \n",
      "[CV]  n_estimators=105, min_samples_split=10, min_samples_leaf=4, max_features=auto, max_depth=10, total=  12.9s\n",
      "[CV] n_estimators=200, min_samples_split=5, min_samples_leaf=2, max_features=auto, max_depth=8 \n",
      "[CV]  n_estimators=105, min_samples_split=10, min_samples_leaf=4, max_features=auto, max_depth=10, total=  12.7s\n",
      "[CV] n_estimators=200, min_samples_split=5, min_samples_leaf=2, max_features=auto, max_depth=8 \n",
      "[CV]  n_estimators=105, min_samples_split=10, min_samples_leaf=4, max_features=auto, max_depth=10, total=  12.8s\n",
      "[CV] n_estimators=10, min_samples_split=10, min_samples_leaf=4, max_features=sqrt, max_depth=4 \n",
      "[CV]  n_estimators=10, min_samples_split=10, min_samples_leaf=4, max_features=sqrt, max_depth=4, total=   0.1s\n",
      "[CV] n_estimators=10, min_samples_split=10, min_samples_leaf=4, max_features=sqrt, max_depth=4 \n",
      "[CV]  n_estimators=10, min_samples_split=10, min_samples_leaf=4, max_features=sqrt, max_depth=4, total=   0.2s\n",
      "[CV] n_estimators=10, min_samples_split=10, min_samples_leaf=4, max_features=sqrt, max_depth=4 \n",
      "[CV]  n_estimators=10, min_samples_split=10, min_samples_leaf=4, max_features=sqrt, max_depth=4, total=   0.1s\n",
      "[CV] n_estimators=105, min_samples_split=5, min_samples_leaf=2, max_features=auto, max_depth=6 \n",
      "[CV]  n_estimators=105, min_samples_split=5, min_samples_leaf=2, max_features=auto, max_depth=6, total=   8.3s\n",
      "[CV] n_estimators=105, min_samples_split=5, min_samples_leaf=2, max_features=auto, max_depth=6 \n",
      "[CV]  n_estimators=105, min_samples_split=5, min_samples_leaf=2, max_features=auto, max_depth=6, total=   7.2s\n",
      "[CV] n_estimators=105, min_samples_split=5, min_samples_leaf=2, max_features=auto, max_depth=6 \n",
      "[CV]  n_estimators=200, min_samples_split=5, min_samples_leaf=2, max_features=auto, max_depth=8, total=  19.7s\n",
      "[CV] n_estimators=10, min_samples_split=10, min_samples_leaf=2, max_features=auto, max_depth=2 \n",
      "[CV]  n_estimators=10, min_samples_split=10, min_samples_leaf=2, max_features=auto, max_depth=2, total=   0.2s\n",
      "[CV] n_estimators=10, min_samples_split=10, min_samples_leaf=2, max_features=auto, max_depth=2 \n",
      "[CV]  n_estimators=200, min_samples_split=5, min_samples_leaf=2, max_features=auto, max_depth=8, total=  19.8s\n",
      "[CV] n_estimators=10, min_samples_split=10, min_samples_leaf=2, max_features=auto, max_depth=2 \n",
      "[CV]  n_estimators=10, min_samples_split=10, min_samples_leaf=2, max_features=auto, max_depth=2, total=   0.3s\n",
      "[CV] n_estimators=57, min_samples_split=10, min_samples_leaf=4, max_features=auto, max_depth=4 \n",
      "[CV]  n_estimators=10, min_samples_split=10, min_samples_leaf=2, max_features=auto, max_depth=2, total=   0.4s\n",
      "[CV] n_estimators=57, min_samples_split=10, min_samples_leaf=4, max_features=auto, max_depth=4 \n",
      "[CV]  n_estimators=200, min_samples_split=5, min_samples_leaf=2, max_features=auto, max_depth=8, total=  19.7s\n",
      "[CV] n_estimators=57, min_samples_split=10, min_samples_leaf=4, max_features=auto, max_depth=4 \n",
      "[CV]  n_estimators=57, min_samples_split=10, min_samples_leaf=4, max_features=auto, max_depth=4, total=   2.7s\n",
      "[CV] n_estimators=200, min_samples_split=5, min_samples_leaf=2, max_features=auto, max_depth=10 \n",
      "[CV]  n_estimators=57, min_samples_split=10, min_samples_leaf=4, max_features=auto, max_depth=4, total=   2.9s\n",
      "[CV] n_estimators=200, min_samples_split=5, min_samples_leaf=2, max_features=auto, max_depth=10 \n",
      "[CV]  n_estimators=57, min_samples_split=10, min_samples_leaf=4, max_features=auto, max_depth=4, total=   2.9s\n",
      "[CV] n_estimators=200, min_samples_split=5, min_samples_leaf=2, max_features=auto, max_depth=10 \n"
     ]
    },
    {
     "name": "stdout",
     "output_type": "stream",
     "text": [
      "[CV]  n_estimators=105, min_samples_split=5, min_samples_leaf=2, max_features=auto, max_depth=6, total=   8.1s\n",
      "[CV] n_estimators=200, min_samples_split=10, min_samples_leaf=4, max_features=sqrt, max_depth=8 \n",
      "[CV]  n_estimators=200, min_samples_split=10, min_samples_leaf=4, max_features=sqrt, max_depth=8, total=   3.5s\n",
      "[CV] n_estimators=200, min_samples_split=10, min_samples_leaf=4, max_features=sqrt, max_depth=8 \n",
      "[CV]  n_estimators=200, min_samples_split=10, min_samples_leaf=4, max_features=sqrt, max_depth=8, total=   4.2s\n",
      "[CV] n_estimators=200, min_samples_split=10, min_samples_leaf=4, max_features=sqrt, max_depth=8 \n",
      "[CV]  n_estimators=200, min_samples_split=10, min_samples_leaf=4, max_features=sqrt, max_depth=8, total=   3.9s\n",
      "[CV] n_estimators=105, min_samples_split=10, min_samples_leaf=4, max_features=auto, max_depth=6 \n",
      "[CV]  n_estimators=105, min_samples_split=10, min_samples_leaf=4, max_features=auto, max_depth=6, total=  10.3s\n",
      "[CV] n_estimators=105, min_samples_split=10, min_samples_leaf=4, max_features=auto, max_depth=6 \n",
      "[CV]  n_estimators=200, min_samples_split=5, min_samples_leaf=2, max_features=auto, max_depth=10, total=  27.7s\n",
      "[CV] n_estimators=105, min_samples_split=10, min_samples_leaf=4, max_features=auto, max_depth=6 \n",
      "[CV]  n_estimators=200, min_samples_split=5, min_samples_leaf=2, max_features=auto, max_depth=10, total=  27.3s\n",
      "[CV]  n_estimators=200, min_samples_split=5, min_samples_leaf=2, max_features=auto, max_depth=10, total=  27.5s\n",
      "[CV] n_estimators=10, min_samples_split=10, min_samples_leaf=2, max_features=sqrt, max_depth=4 \n",
      "[CV] n_estimators=10, min_samples_split=10, min_samples_leaf=2, max_features=sqrt, max_depth=4 \n",
      "[CV]  n_estimators=10, min_samples_split=10, min_samples_leaf=2, max_features=sqrt, max_depth=4, total=   0.1s\n",
      "[CV] n_estimators=10, min_samples_split=10, min_samples_leaf=2, max_features=sqrt, max_depth=4 \n",
      "[CV]  n_estimators=10, min_samples_split=10, min_samples_leaf=2, max_features=sqrt, max_depth=4, total=   0.1s\n",
      "[CV] n_estimators=105, min_samples_split=5, min_samples_leaf=4, max_features=auto, max_depth=None \n",
      "[CV]  n_estimators=10, min_samples_split=10, min_samples_leaf=2, max_features=sqrt, max_depth=4, total=   0.2s\n",
      "[CV] n_estimators=105, min_samples_split=5, min_samples_leaf=4, max_features=auto, max_depth=None \n",
      "[CV]  n_estimators=105, min_samples_split=10, min_samples_leaf=4, max_features=auto, max_depth=6, total=  10.9s\n",
      "[CV] n_estimators=105, min_samples_split=5, min_samples_leaf=4, max_features=auto, max_depth=None \n",
      "[CV]  n_estimators=105, min_samples_split=10, min_samples_leaf=4, max_features=auto, max_depth=6, total=  11.0s\n",
      "[CV] n_estimators=152, min_samples_split=10, min_samples_leaf=2, max_features=auto, max_depth=None \n",
      "[CV]  n_estimators=105, min_samples_split=5, min_samples_leaf=4, max_features=auto, max_depth=None, total=  22.2s\n",
      "[CV] n_estimators=152, min_samples_split=10, min_samples_leaf=2, max_features=auto, max_depth=None \n",
      "[CV]  n_estimators=105, min_samples_split=5, min_samples_leaf=4, max_features=auto, max_depth=None, total=  22.2s\n",
      "[CV] n_estimators=152, min_samples_split=10, min_samples_leaf=2, max_features=auto, max_depth=None \n",
      "[CV]  n_estimators=105, min_samples_split=5, min_samples_leaf=4, max_features=auto, max_depth=None, total=  21.0s\n",
      "[CV] n_estimators=105, min_samples_split=5, min_samples_leaf=2, max_features=sqrt, max_depth=8 \n",
      "[CV]  n_estimators=105, min_samples_split=5, min_samples_leaf=2, max_features=sqrt, max_depth=8, total=   1.9s\n",
      "[CV] n_estimators=105, min_samples_split=5, min_samples_leaf=2, max_features=sqrt, max_depth=8 \n",
      "[CV]  n_estimators=105, min_samples_split=5, min_samples_leaf=2, max_features=sqrt, max_depth=8, total=   1.7s\n",
      "[CV] n_estimators=105, min_samples_split=5, min_samples_leaf=2, max_features=sqrt, max_depth=8 \n",
      "[CV]  n_estimators=105, min_samples_split=5, min_samples_leaf=2, max_features=sqrt, max_depth=8, total=   1.7s\n",
      "[CV] n_estimators=57, min_samples_split=5, min_samples_leaf=4, max_features=sqrt, max_depth=2 \n",
      "[CV]  n_estimators=57, min_samples_split=5, min_samples_leaf=4, max_features=sqrt, max_depth=2, total=   0.4s\n",
      "[CV] n_estimators=57, min_samples_split=5, min_samples_leaf=4, max_features=sqrt, max_depth=2 \n",
      "[CV]  n_estimators=57, min_samples_split=5, min_samples_leaf=4, max_features=sqrt, max_depth=2, total=   0.4s\n",
      "[CV] n_estimators=57, min_samples_split=5, min_samples_leaf=4, max_features=sqrt, max_depth=2 \n",
      "[CV]  n_estimators=57, min_samples_split=5, min_samples_leaf=4, max_features=sqrt, max_depth=2, total=   0.3s\n",
      "[CV] n_estimators=105, min_samples_split=5, min_samples_leaf=4, max_features=auto, max_depth=2 \n",
      "[CV]  n_estimators=105, min_samples_split=5, min_samples_leaf=4, max_features=auto, max_depth=2, total=   2.3s\n",
      "[CV]  n_estimators=152, min_samples_split=10, min_samples_leaf=2, max_features=auto, max_depth=None, total=  28.1s\n",
      "[CV] n_estimators=105, min_samples_split=5, min_samples_leaf=4, max_features=auto, max_depth=2 \n",
      "[CV] n_estimators=105, min_samples_split=5, min_samples_leaf=4, max_features=auto, max_depth=2 \n",
      "[CV]  n_estimators=105, min_samples_split=5, min_samples_leaf=4, max_features=auto, max_depth=2, total=   2.2s\n",
      "[CV] n_estimators=10, min_samples_split=10, min_samples_leaf=4, max_features=sqrt, max_depth=2 \n",
      "[CV]  n_estimators=105, min_samples_split=5, min_samples_leaf=4, max_features=auto, max_depth=2, total=   2.2s\n",
      "[CV] n_estimators=10, min_samples_split=10, min_samples_leaf=4, max_features=sqrt, max_depth=2 \n",
      "[CV]  n_estimators=10, min_samples_split=10, min_samples_leaf=4, max_features=sqrt, max_depth=2, total=   0.1s\n",
      "[CV] n_estimators=10, min_samples_split=10, min_samples_leaf=4, max_features=sqrt, max_depth=2 \n",
      "[CV]  n_estimators=10, min_samples_split=10, min_samples_leaf=4, max_features=sqrt, max_depth=2, total=   0.1s\n",
      "[CV] n_estimators=152, min_samples_split=10, min_samples_leaf=2, max_features=sqrt, max_depth=2 \n",
      "[CV]  n_estimators=10, min_samples_split=10, min_samples_leaf=4, max_features=sqrt, max_depth=2, total=   0.1s\n",
      "[CV] n_estimators=152, min_samples_split=10, min_samples_leaf=2, max_features=sqrt, max_depth=2 \n",
      "[CV]  n_estimators=152, min_samples_split=10, min_samples_leaf=2, max_features=sqrt, max_depth=2, total=   1.0s\n",
      "[CV] n_estimators=152, min_samples_split=10, min_samples_leaf=2, max_features=sqrt, max_depth=2 \n",
      "[CV]  n_estimators=152, min_samples_split=10, min_samples_leaf=2, max_features=sqrt, max_depth=2, total=   0.8s\n",
      "[CV] n_estimators=105, min_samples_split=5, min_samples_leaf=2, max_features=auto, max_depth=4 \n",
      "[CV]  n_estimators=152, min_samples_split=10, min_samples_leaf=2, max_features=sqrt, max_depth=2, total=   0.9s\n",
      "[CV] n_estimators=105, min_samples_split=5, min_samples_leaf=2, max_features=auto, max_depth=4 \n",
      "[CV]  n_estimators=152, min_samples_split=10, min_samples_leaf=2, max_features=auto, max_depth=None, total=  24.2s\n",
      "[CV] n_estimators=105, min_samples_split=5, min_samples_leaf=2, max_features=auto, max_depth=4 \n",
      "[CV]  n_estimators=152, min_samples_split=10, min_samples_leaf=2, max_features=auto, max_depth=None, total=  23.7s\n",
      "[CV] n_estimators=152, min_samples_split=5, min_samples_leaf=2, max_features=sqrt, max_depth=None \n",
      "[CV]  n_estimators=105, min_samples_split=5, min_samples_leaf=2, max_features=auto, max_depth=4, total=   4.4s\n",
      "[CV] n_estimators=152, min_samples_split=5, min_samples_leaf=2, max_features=sqrt, max_depth=None \n",
      "[CV]  n_estimators=105, min_samples_split=5, min_samples_leaf=2, max_features=auto, max_depth=4, total=   4.3s\n",
      "[CV] n_estimators=152, min_samples_split=5, min_samples_leaf=2, max_features=sqrt, max_depth=None \n",
      "[CV]  n_estimators=105, min_samples_split=5, min_samples_leaf=2, max_features=auto, max_depth=4, total=   4.3s\n",
      "[CV] n_estimators=152, min_samples_split=10, min_samples_leaf=2, max_features=sqrt, max_depth=8 \n",
      "[CV]  n_estimators=152, min_samples_split=5, min_samples_leaf=2, max_features=sqrt, max_depth=None, total=   4.9s\n",
      "[CV] n_estimators=152, min_samples_split=10, min_samples_leaf=2, max_features=sqrt, max_depth=8 \n",
      "[CV]  n_estimators=152, min_samples_split=5, min_samples_leaf=2, max_features=sqrt, max_depth=None, total=   4.9s\n",
      "[CV] n_estimators=152, min_samples_split=10, min_samples_leaf=2, max_features=sqrt, max_depth=8 \n",
      "[CV]  n_estimators=152, min_samples_split=5, min_samples_leaf=2, max_features=sqrt, max_depth=None, total=   5.1s\n"
     ]
    },
    {
     "name": "stdout",
     "output_type": "stream",
     "text": [
      "[CV] n_estimators=57, min_samples_split=5, min_samples_leaf=2, max_features=auto, max_depth=10 \n",
      "[CV]  n_estimators=152, min_samples_split=10, min_samples_leaf=2, max_features=sqrt, max_depth=8, total=   2.6s\n",
      "[CV] n_estimators=57, min_samples_split=5, min_samples_leaf=2, max_features=auto, max_depth=10 \n",
      "[CV]  n_estimators=152, min_samples_split=10, min_samples_leaf=2, max_features=sqrt, max_depth=8, total=   2.7s\n",
      "[CV] n_estimators=57, min_samples_split=5, min_samples_leaf=2, max_features=auto, max_depth=10 \n",
      "[CV]  n_estimators=152, min_samples_split=10, min_samples_leaf=2, max_features=sqrt, max_depth=8, total=   2.7s\n",
      "[CV] n_estimators=57, min_samples_split=5, min_samples_leaf=4, max_features=auto, max_depth=4 \n",
      "[CV]  n_estimators=57, min_samples_split=5, min_samples_leaf=4, max_features=auto, max_depth=4, total=   2.4s\n",
      "[CV] n_estimators=57, min_samples_split=5, min_samples_leaf=4, max_features=auto, max_depth=4 \n",
      "[CV]  n_estimators=57, min_samples_split=5, min_samples_leaf=2, max_features=auto, max_depth=10, total=   5.9s\n",
      "[CV] n_estimators=57, min_samples_split=5, min_samples_leaf=4, max_features=auto, max_depth=4 \n",
      "[CV]  n_estimators=57, min_samples_split=5, min_samples_leaf=2, max_features=auto, max_depth=10, total=   5.8s\n",
      "[CV] n_estimators=105, min_samples_split=10, min_samples_leaf=4, max_features=auto, max_depth=8 \n",
      "[CV]  n_estimators=57, min_samples_split=5, min_samples_leaf=4, max_features=auto, max_depth=4, total=   2.3s\n",
      "[CV] n_estimators=105, min_samples_split=10, min_samples_leaf=4, max_features=auto, max_depth=8 \n",
      "[CV]  n_estimators=57, min_samples_split=5, min_samples_leaf=2, max_features=auto, max_depth=10, total=   5.9s\n",
      "[CV] n_estimators=105, min_samples_split=10, min_samples_leaf=4, max_features=auto, max_depth=8 \n",
      "[CV]  n_estimators=57, min_samples_split=5, min_samples_leaf=4, max_features=auto, max_depth=4, total=   2.5s\n",
      "[CV] n_estimators=10, min_samples_split=5, min_samples_leaf=4, max_features=sqrt, max_depth=10 \n",
      "[CV]  n_estimators=10, min_samples_split=5, min_samples_leaf=4, max_features=sqrt, max_depth=10, total=   0.2s\n",
      "[CV] n_estimators=10, min_samples_split=5, min_samples_leaf=4, max_features=sqrt, max_depth=10 \n",
      "[CV]  n_estimators=10, min_samples_split=5, min_samples_leaf=4, max_features=sqrt, max_depth=10, total=   0.2s\n",
      "[CV] n_estimators=10, min_samples_split=5, min_samples_leaf=4, max_features=sqrt, max_depth=10 \n",
      "[CV]  n_estimators=10, min_samples_split=5, min_samples_leaf=4, max_features=sqrt, max_depth=10, total=   0.2s\n",
      "[CV] n_estimators=57, min_samples_split=10, min_samples_leaf=4, max_features=sqrt, max_depth=4 \n",
      "[CV]  n_estimators=57, min_samples_split=10, min_samples_leaf=4, max_features=sqrt, max_depth=4, total=   0.6s\n",
      "[CV] n_estimators=57, min_samples_split=10, min_samples_leaf=4, max_features=sqrt, max_depth=4 \n",
      "[CV]  n_estimators=57, min_samples_split=10, min_samples_leaf=4, max_features=sqrt, max_depth=4, total=   0.5s\n",
      "[CV] n_estimators=57, min_samples_split=10, min_samples_leaf=4, max_features=sqrt, max_depth=4 \n",
      "[CV]  n_estimators=57, min_samples_split=10, min_samples_leaf=4, max_features=sqrt, max_depth=4, total=   0.6s\n",
      "[CV] n_estimators=57, min_samples_split=5, min_samples_leaf=2, max_features=auto, max_depth=4 \n",
      "[CV]  n_estimators=57, min_samples_split=5, min_samples_leaf=2, max_features=auto, max_depth=4, total=   2.3s\n",
      "[CV] n_estimators=57, min_samples_split=5, min_samples_leaf=2, max_features=auto, max_depth=4 \n",
      "[CV]  n_estimators=105, min_samples_split=10, min_samples_leaf=4, max_features=auto, max_depth=8, total=   8.7s\n",
      "[CV] n_estimators=57, min_samples_split=5, min_samples_leaf=2, max_features=auto, max_depth=4 \n",
      "[CV]  n_estimators=105, min_samples_split=10, min_samples_leaf=4, max_features=auto, max_depth=8, total=   8.8s\n",
      "[CV] n_estimators=105, min_samples_split=5, min_samples_leaf=2, max_features=auto, max_depth=10 \n",
      "[CV]  n_estimators=57, min_samples_split=5, min_samples_leaf=2, max_features=auto, max_depth=4, total=   2.4s\n",
      "[CV] n_estimators=105, min_samples_split=5, min_samples_leaf=2, max_features=auto, max_depth=10 \n",
      "[CV]  n_estimators=105, min_samples_split=10, min_samples_leaf=4, max_features=auto, max_depth=8, total=   8.7s\n",
      "[CV] n_estimators=105, min_samples_split=5, min_samples_leaf=2, max_features=auto, max_depth=10 \n",
      "[CV]  n_estimators=57, min_samples_split=5, min_samples_leaf=2, max_features=auto, max_depth=4, total=   2.4s\n",
      "[CV] n_estimators=57, min_samples_split=10, min_samples_leaf=2, max_features=sqrt, max_depth=8 \n",
      "[CV]  n_estimators=57, min_samples_split=10, min_samples_leaf=2, max_features=sqrt, max_depth=8, total=   0.9s\n",
      "[CV] n_estimators=57, min_samples_split=10, min_samples_leaf=2, max_features=sqrt, max_depth=8 \n",
      "[CV]  n_estimators=57, min_samples_split=10, min_samples_leaf=2, max_features=sqrt, max_depth=8, total=   0.9s\n",
      "[CV] n_estimators=57, min_samples_split=10, min_samples_leaf=2, max_features=sqrt, max_depth=8 \n",
      "[CV]  n_estimators=57, min_samples_split=10, min_samples_leaf=2, max_features=sqrt, max_depth=8, total=   0.9s\n",
      "[CV]  n_estimators=105, min_samples_split=5, min_samples_leaf=2, max_features=auto, max_depth=10, total=   9.6s\n",
      "[CV]  n_estimators=105, min_samples_split=5, min_samples_leaf=2, max_features=auto, max_depth=10, total=   9.4s\n",
      "[CV]  n_estimators=105, min_samples_split=5, min_samples_leaf=2, max_features=auto, max_depth=10, total=   9.2s\n"
     ]
    },
    {
     "name": "stderr",
     "output_type": "stream",
     "text": [
      "[Parallel(n_jobs=-1)]: Done 300 out of 300 | elapsed:  7.7min finished\n"
     ]
    },
    {
     "data": {
      "text/plain": [
       "RandomizedSearchCV(cv=3, error_score='raise',\n",
       "          estimator=RandomForestRegressor(bootstrap=True, criterion='mse', max_depth=None,\n",
       "           max_features='auto', max_leaf_nodes=None,\n",
       "           min_impurity_decrease=0.0, min_impurity_split=None,\n",
       "           min_samples_leaf=1, min_samples_split=2,\n",
       "           min_weight_fraction_leaf=0.0, n_estimators=10, n_jobs=1,\n",
       "           oob_score=False, random_state=None, verbose=0, warm_start=False),\n",
       "          fit_params=None, iid=True, n_iter=100, n_jobs=-1,\n",
       "          param_distributions={'n_estimators': [10, 57, 105, 152, 200], 'max_features': ['auto', 'sqrt'], 'max_depth': [2, 4, 6, 8, 10, None], 'min_samples_split': [5, 10], 'min_samples_leaf': [2, 4]},\n",
       "          pre_dispatch='2*n_jobs', random_state=42, refit=True,\n",
       "          return_train_score='warn', scoring=None, verbose=2)"
      ]
     },
     "execution_count": 155,
     "metadata": {},
     "output_type": "execute_result"
    }
   ],
   "source": [
    "# Use the random grid to search for best hyperparameters\n",
    "# First create the base model to tune\n",
    "rf = RandomForestRegressor()\n",
    "# Random search of parameters, using 3 fold cross validation, \n",
    "# search across 100 different combinations, and use all available cores\n",
    "rf_random = RandomizedSearchCV(estimator = rf, param_distributions = random_grid, n_iter = 100, cv = 3, verbose=2, random_state=42, n_jobs = -1)\n",
    "# Fit the random search model\n",
    "rf_random.fit(X_train_reg, y_train_reg)"
   ]
  },
  {
   "cell_type": "code",
   "execution_count": 156,
   "metadata": {},
   "outputs": [
    {
     "name": "stdout",
     "output_type": "stream",
     "text": [
      "Model Performance\n",
      "Average Error: 74000.6666 degrees.\n",
      "Accuracy = 86.26%.\n"
     ]
    }
   ],
   "source": [
    "def evaluate_reg(model, test_features, test_labels):\n",
    "    predictions = model.predict(test_features)\n",
    "    errors = abs(predictions - test_labels)\n",
    "    mape = 100 * np.mean(errors / test_labels)\n",
    "    accuracy = 100 - mape\n",
    "    print('Model Performance')\n",
    "    print('Average Error: {:0.4f} degrees.'.format(np.mean(errors)))\n",
    "    print('Accuracy = {:0.2f}%.'.format(accuracy))\n",
    "    \n",
    "    return accuracy\n",
    "base_model = RandomForestRegressor(n_estimators = 10, random_state = 42)\n",
    "base_model.fit(X_train_reg, y_train_reg)\n",
    "base_accuracy = evaluate_reg(base_model, X_test_reg, y_test_reg)"
   ]
  },
  {
   "cell_type": "code",
   "execution_count": 157,
   "metadata": {},
   "outputs": [
    {
     "data": {
      "text/plain": [
       "RandomForestRegressor(bootstrap=True, criterion='mse', max_depth=None,\n",
       "           max_features='auto', max_leaf_nodes=None,\n",
       "           min_impurity_decrease=0.0, min_impurity_split=None,\n",
       "           min_samples_leaf=2, min_samples_split=5,\n",
       "           min_weight_fraction_leaf=0.0, n_estimators=200, n_jobs=1,\n",
       "           oob_score=False, random_state=None, verbose=0, warm_start=False)"
      ]
     },
     "execution_count": 157,
     "metadata": {},
     "output_type": "execute_result"
    }
   ],
   "source": [
    "rf_random.best_estimator_"
   ]
  },
  {
   "cell_type": "code",
   "execution_count": 158,
   "metadata": {},
   "outputs": [
    {
     "name": "stdout",
     "output_type": "stream",
     "text": [
      "Model Performance\n",
      "Average Error: 69304.3879 degrees.\n",
      "Accuracy = 87.07%.\n"
     ]
    }
   ],
   "source": [
    "best_random = rf_random.best_estimator_\n",
    "random_accuracy = evaluate_reg(best_random, X_test_reg, y_test_reg)"
   ]
  },
  {
   "cell_type": "markdown",
   "metadata": {},
   "source": [
    "### Grid Search with Cross Validation"
   ]
  },
  {
   "cell_type": "code",
   "execution_count": 159,
   "metadata": {},
   "outputs": [],
   "source": [
    "from sklearn.model_selection import GridSearchCV\n",
    "# Create the parameter grid based on the results of random search \n",
    "param_grid = {\n",
    "    'bootstrap': [True, False],\n",
    "    'max_depth': [None],\n",
    "    'max_features': [2, 3],\n",
    "    'min_samples_leaf': [2,3,4],\n",
    "    'min_samples_split': [3,5,7],\n",
    "    'n_estimators': [100, 150, 200, 180]\n",
    "}\n",
    "# Create a based model\n",
    "rf = RandomForestRegressor()\n",
    "\n",
    "# Instantiate the grid search model\n",
    "grid_search = GridSearchCV(estimator = rf, param_grid = param_grid, \n",
    "                          cv = 3, n_jobs = -1, verbose = 2)"
   ]
  },
  {
   "cell_type": "code",
   "execution_count": 160,
   "metadata": {},
   "outputs": [
    {
     "name": "stdout",
     "output_type": "stream",
     "text": [
      "Fitting 3 folds for each of 144 candidates, totalling 432 fits\n",
      "[CV] bootstrap=True, max_depth=None, max_features=2, min_samples_leaf=2, min_samples_split=3, n_estimators=100 \n",
      "[CV] bootstrap=True, max_depth=None, max_features=2, min_samples_leaf=2, min_samples_split=3, n_estimators=100 \n",
      "[CV] bootstrap=True, max_depth=None, max_features=2, min_samples_leaf=2, min_samples_split=3, n_estimators=100 \n",
      "[CV] bootstrap=True, max_depth=None, max_features=2, min_samples_leaf=2, min_samples_split=3, n_estimators=150 \n",
      "[CV]  bootstrap=True, max_depth=None, max_features=2, min_samples_leaf=2, min_samples_split=3, n_estimators=100, total=   1.7s\n",
      "[CV]  bootstrap=True, max_depth=None, max_features=2, min_samples_leaf=2, min_samples_split=3, n_estimators=100, total=   1.7s\n",
      "[CV]  bootstrap=True, max_depth=None, max_features=2, min_samples_leaf=2, min_samples_split=3, n_estimators=100, total=   1.8s\n",
      "[CV] bootstrap=True, max_depth=None, max_features=2, min_samples_leaf=2, min_samples_split=3, n_estimators=150 \n",
      "[CV] bootstrap=True, max_depth=None, max_features=2, min_samples_leaf=2, min_samples_split=3, n_estimators=150 \n",
      "[CV] bootstrap=True, max_depth=None, max_features=2, min_samples_leaf=2, min_samples_split=3, n_estimators=200 \n",
      "[CV]  bootstrap=True, max_depth=None, max_features=2, min_samples_leaf=2, min_samples_split=3, n_estimators=150, total=   2.7s\n",
      "[CV] bootstrap=True, max_depth=None, max_features=2, min_samples_leaf=2, min_samples_split=3, n_estimators=200 \n",
      "[CV]  bootstrap=True, max_depth=None, max_features=2, min_samples_leaf=2, min_samples_split=3, n_estimators=150, total=   2.5s\n",
      "[CV] bootstrap=True, max_depth=None, max_features=2, min_samples_leaf=2, min_samples_split=3, n_estimators=200 \n",
      "[CV]  bootstrap=True, max_depth=None, max_features=2, min_samples_leaf=2, min_samples_split=3, n_estimators=150, total=   2.6s\n",
      "[CV] bootstrap=True, max_depth=None, max_features=2, min_samples_leaf=2, min_samples_split=3, n_estimators=180 \n",
      "[CV]  bootstrap=True, max_depth=None, max_features=2, min_samples_leaf=2, min_samples_split=3, n_estimators=200, total=   3.4s\n",
      "[CV] bootstrap=True, max_depth=None, max_features=2, min_samples_leaf=2, min_samples_split=3, n_estimators=180 \n",
      "[CV]  bootstrap=True, max_depth=None, max_features=2, min_samples_leaf=2, min_samples_split=3, n_estimators=200, total=   3.1s\n",
      "[CV] bootstrap=True, max_depth=None, max_features=2, min_samples_leaf=2, min_samples_split=3, n_estimators=180 \n",
      "[CV]  bootstrap=True, max_depth=None, max_features=2, min_samples_leaf=2, min_samples_split=3, n_estimators=180, total=   2.7s\n",
      "[CV] bootstrap=True, max_depth=None, max_features=2, min_samples_leaf=2, min_samples_split=5, n_estimators=100 \n",
      "[CV]  bootstrap=True, max_depth=None, max_features=2, min_samples_leaf=2, min_samples_split=3, n_estimators=200, total=   3.1s\n",
      "[CV] bootstrap=True, max_depth=None, max_features=2, min_samples_leaf=2, min_samples_split=5, n_estimators=100 \n",
      "[CV]  bootstrap=True, max_depth=None, max_features=2, min_samples_leaf=2, min_samples_split=3, n_estimators=180, total=   2.8s\n",
      "[CV] bootstrap=True, max_depth=None, max_features=2, min_samples_leaf=2, min_samples_split=5, n_estimators=100 \n",
      "[CV]  bootstrap=True, max_depth=None, max_features=2, min_samples_leaf=2, min_samples_split=5, n_estimators=100, total=   1.6s\n",
      "[CV] bootstrap=True, max_depth=None, max_features=2, min_samples_leaf=2, min_samples_split=5, n_estimators=150 \n",
      "[CV]  bootstrap=True, max_depth=None, max_features=2, min_samples_leaf=2, min_samples_split=3, n_estimators=180, total=   2.8s\n",
      "[CV] bootstrap=True, max_depth=None, max_features=2, min_samples_leaf=2, min_samples_split=5, n_estimators=150 \n",
      "[CV]  bootstrap=True, max_depth=None, max_features=2, min_samples_leaf=2, min_samples_split=5, n_estimators=100, total=   1.4s\n",
      "[CV] bootstrap=True, max_depth=None, max_features=2, min_samples_leaf=2, min_samples_split=5, n_estimators=150 \n",
      "[CV]  bootstrap=True, max_depth=None, max_features=2, min_samples_leaf=2, min_samples_split=5, n_estimators=100, total=   1.6s\n",
      "[CV] bootstrap=True, max_depth=None, max_features=2, min_samples_leaf=2, min_samples_split=5, n_estimators=200 \n",
      "[CV]  bootstrap=True, max_depth=None, max_features=2, min_samples_leaf=2, min_samples_split=5, n_estimators=150, total=   2.4s\n",
      "[CV] bootstrap=True, max_depth=None, max_features=2, min_samples_leaf=2, min_samples_split=5, n_estimators=200 \n",
      "[CV]  bootstrap=True, max_depth=None, max_features=2, min_samples_leaf=2, min_samples_split=5, n_estimators=150, total=   2.4s\n",
      "[CV] bootstrap=True, max_depth=None, max_features=2, min_samples_leaf=2, min_samples_split=5, n_estimators=200 \n",
      "[CV]  bootstrap=True, max_depth=None, max_features=2, min_samples_leaf=2, min_samples_split=5, n_estimators=150, total=   2.2s\n",
      "[CV] bootstrap=True, max_depth=None, max_features=2, min_samples_leaf=2, min_samples_split=5, n_estimators=180 \n",
      "[CV]  bootstrap=True, max_depth=None, max_features=2, min_samples_leaf=2, min_samples_split=5, n_estimators=200, total=   3.0s\n",
      "[CV] bootstrap=True, max_depth=None, max_features=2, min_samples_leaf=2, min_samples_split=5, n_estimators=180 \n",
      "[CV]  bootstrap=True, max_depth=None, max_features=2, min_samples_leaf=2, min_samples_split=5, n_estimators=180, total=   2.6s\n",
      "[CV] bootstrap=True, max_depth=None, max_features=2, min_samples_leaf=2, min_samples_split=5, n_estimators=180 \n",
      "[CV]  bootstrap=True, max_depth=None, max_features=2, min_samples_leaf=2, min_samples_split=5, n_estimators=200, total=   3.0s\n",
      "[CV] bootstrap=True, max_depth=None, max_features=2, min_samples_leaf=2, min_samples_split=7, n_estimators=100 \n",
      "[CV]  bootstrap=True, max_depth=None, max_features=2, min_samples_leaf=2, min_samples_split=5, n_estimators=200, total=   3.0s\n",
      "[CV] bootstrap=True, max_depth=None, max_features=2, min_samples_leaf=2, min_samples_split=7, n_estimators=100 \n",
      "[CV]  bootstrap=True, max_depth=None, max_features=2, min_samples_leaf=2, min_samples_split=5, n_estimators=180, total=   2.6s\n",
      "[CV] bootstrap=True, max_depth=None, max_features=2, min_samples_leaf=2, min_samples_split=7, n_estimators=100 \n",
      "[CV]  bootstrap=True, max_depth=None, max_features=2, min_samples_leaf=2, min_samples_split=7, n_estimators=100, total=   1.5s\n",
      "[CV] bootstrap=True, max_depth=None, max_features=2, min_samples_leaf=2, min_samples_split=7, n_estimators=150 \n",
      "[CV]  bootstrap=True, max_depth=None, max_features=2, min_samples_leaf=2, min_samples_split=7, n_estimators=100, total=   1.4s\n",
      "[CV] bootstrap=True, max_depth=None, max_features=2, min_samples_leaf=2, min_samples_split=7, n_estimators=150 \n",
      "[CV]  bootstrap=True, max_depth=None, max_features=2, min_samples_leaf=2, min_samples_split=5, n_estimators=180, total=   2.8s\n",
      "[CV] bootstrap=True, max_depth=None, max_features=2, min_samples_leaf=2, min_samples_split=7, n_estimators=150 \n",
      "[CV]  bootstrap=True, max_depth=None, max_features=2, min_samples_leaf=2, min_samples_split=7, n_estimators=100, total=   1.4s\n",
      "[CV] bootstrap=True, max_depth=None, max_features=2, min_samples_leaf=2, min_samples_split=7, n_estimators=200 \n",
      "[CV]  bootstrap=True, max_depth=None, max_features=2, min_samples_leaf=2, min_samples_split=7, n_estimators=150, total=   2.2s\n",
      "[CV] bootstrap=True, max_depth=None, max_features=2, min_samples_leaf=2, min_samples_split=7, n_estimators=200 \n",
      "[CV]  bootstrap=True, max_depth=None, max_features=2, min_samples_leaf=2, min_samples_split=7, n_estimators=150, total=   2.2s\n",
      "[CV] bootstrap=True, max_depth=None, max_features=2, min_samples_leaf=2, min_samples_split=7, n_estimators=200 \n",
      "[CV]  bootstrap=True, max_depth=None, max_features=2, min_samples_leaf=2, min_samples_split=7, n_estimators=150, total=   2.2s\n",
      "[CV] bootstrap=True, max_depth=None, max_features=2, min_samples_leaf=2, min_samples_split=7, n_estimators=180 \n",
      "[CV]  bootstrap=True, max_depth=None, max_features=2, min_samples_leaf=2, min_samples_split=7, n_estimators=200, total=   3.0s\n",
      "[CV] bootstrap=True, max_depth=None, max_features=2, min_samples_leaf=2, min_samples_split=7, n_estimators=180 \n",
      "[CV]  bootstrap=True, max_depth=None, max_features=2, min_samples_leaf=2, min_samples_split=7, n_estimators=200, total=   3.5s\n",
      "[CV] bootstrap=True, max_depth=None, max_features=2, min_samples_leaf=2, min_samples_split=7, n_estimators=180 \n",
      "[CV]  bootstrap=True, max_depth=None, max_features=2, min_samples_leaf=2, min_samples_split=7, n_estimators=200, total=   3.9s\n"
     ]
    },
    {
     "name": "stdout",
     "output_type": "stream",
     "text": [
      "[CV] bootstrap=True, max_depth=None, max_features=2, min_samples_leaf=3, min_samples_split=3, n_estimators=100 \n"
     ]
    },
    {
     "name": "stderr",
     "output_type": "stream",
     "text": [
      "[Parallel(n_jobs=-1)]: Done  33 tasks      | elapsed:   25.7s\n"
     ]
    },
    {
     "name": "stdout",
     "output_type": "stream",
     "text": [
      "[CV]  bootstrap=True, max_depth=None, max_features=2, min_samples_leaf=2, min_samples_split=7, n_estimators=180, total=   3.8s\n",
      "[CV] bootstrap=True, max_depth=None, max_features=2, min_samples_leaf=3, min_samples_split=3, n_estimators=100 \n",
      "[CV]  bootstrap=True, max_depth=None, max_features=2, min_samples_leaf=3, min_samples_split=3, n_estimators=100, total=   2.0s\n",
      "[CV] bootstrap=True, max_depth=None, max_features=2, min_samples_leaf=3, min_samples_split=3, n_estimators=100 \n",
      "[CV]  bootstrap=True, max_depth=None, max_features=2, min_samples_leaf=2, min_samples_split=7, n_estimators=180, total=   4.0s\n",
      "[CV] bootstrap=True, max_depth=None, max_features=2, min_samples_leaf=3, min_samples_split=3, n_estimators=150 \n",
      "[CV]  bootstrap=True, max_depth=None, max_features=2, min_samples_leaf=3, min_samples_split=3, n_estimators=100, total=   2.1s\n",
      "[CV] bootstrap=True, max_depth=None, max_features=2, min_samples_leaf=3, min_samples_split=3, n_estimators=150 \n",
      "[CV]  bootstrap=True, max_depth=None, max_features=2, min_samples_leaf=2, min_samples_split=7, n_estimators=180, total=   4.3s\n",
      "[CV] bootstrap=True, max_depth=None, max_features=2, min_samples_leaf=3, min_samples_split=3, n_estimators=150 \n",
      "[CV]  bootstrap=True, max_depth=None, max_features=2, min_samples_leaf=3, min_samples_split=3, n_estimators=100, total=   2.0s\n",
      "[CV] bootstrap=True, max_depth=None, max_features=2, min_samples_leaf=3, min_samples_split=3, n_estimators=200 \n",
      "[CV]  bootstrap=True, max_depth=None, max_features=2, min_samples_leaf=3, min_samples_split=3, n_estimators=150, total=   3.2s\n",
      "[CV] bootstrap=True, max_depth=None, max_features=2, min_samples_leaf=3, min_samples_split=3, n_estimators=200 \n",
      "[CV]  bootstrap=True, max_depth=None, max_features=2, min_samples_leaf=3, min_samples_split=3, n_estimators=150, total=   3.6s\n",
      "[CV] bootstrap=True, max_depth=None, max_features=2, min_samples_leaf=3, min_samples_split=3, n_estimators=200 \n",
      "[CV]  bootstrap=True, max_depth=None, max_features=2, min_samples_leaf=3, min_samples_split=3, n_estimators=150, total=   3.4s\n",
      "[CV] bootstrap=True, max_depth=None, max_features=2, min_samples_leaf=3, min_samples_split=3, n_estimators=180 \n",
      "[CV]  bootstrap=True, max_depth=None, max_features=2, min_samples_leaf=3, min_samples_split=3, n_estimators=200, total=   4.0s\n",
      "[CV] bootstrap=True, max_depth=None, max_features=2, min_samples_leaf=3, min_samples_split=3, n_estimators=180 \n",
      "[CV]  bootstrap=True, max_depth=None, max_features=2, min_samples_leaf=3, min_samples_split=3, n_estimators=200, total=   3.1s\n",
      "[CV] bootstrap=True, max_depth=None, max_features=2, min_samples_leaf=3, min_samples_split=3, n_estimators=180 \n",
      "[CV]  bootstrap=True, max_depth=None, max_features=2, min_samples_leaf=3, min_samples_split=3, n_estimators=200, total=   2.9s\n",
      "[CV] bootstrap=True, max_depth=None, max_features=2, min_samples_leaf=3, min_samples_split=5, n_estimators=100 \n",
      "[CV]  bootstrap=True, max_depth=None, max_features=2, min_samples_leaf=3, min_samples_split=3, n_estimators=180, total=   2.4s\n",
      "[CV] bootstrap=True, max_depth=None, max_features=2, min_samples_leaf=3, min_samples_split=5, n_estimators=100 \n",
      "[CV]  bootstrap=True, max_depth=None, max_features=2, min_samples_leaf=3, min_samples_split=3, n_estimators=180, total=   2.3s\n",
      "[CV] bootstrap=True, max_depth=None, max_features=2, min_samples_leaf=3, min_samples_split=5, n_estimators=100 \n",
      "[CV]  bootstrap=True, max_depth=None, max_features=2, min_samples_leaf=3, min_samples_split=5, n_estimators=100, total=   1.3s\n",
      "[CV] bootstrap=True, max_depth=None, max_features=2, min_samples_leaf=3, min_samples_split=5, n_estimators=150 \n",
      "[CV]  bootstrap=True, max_depth=None, max_features=2, min_samples_leaf=3, min_samples_split=5, n_estimators=100, total=   1.3s\n",
      "[CV] bootstrap=True, max_depth=None, max_features=2, min_samples_leaf=3, min_samples_split=5, n_estimators=150 \n",
      "[CV]  bootstrap=True, max_depth=None, max_features=2, min_samples_leaf=3, min_samples_split=3, n_estimators=180, total=   2.2s\n",
      "[CV] bootstrap=True, max_depth=None, max_features=2, min_samples_leaf=3, min_samples_split=5, n_estimators=150 \n",
      "[CV]  bootstrap=True, max_depth=None, max_features=2, min_samples_leaf=3, min_samples_split=5, n_estimators=100, total=   1.3s\n",
      "[CV] bootstrap=True, max_depth=None, max_features=2, min_samples_leaf=3, min_samples_split=5, n_estimators=200 \n",
      "[CV]  bootstrap=True, max_depth=None, max_features=2, min_samples_leaf=3, min_samples_split=5, n_estimators=150, total=   1.9s\n",
      "[CV] bootstrap=True, max_depth=None, max_features=2, min_samples_leaf=3, min_samples_split=5, n_estimators=200 \n",
      "[CV]  bootstrap=True, max_depth=None, max_features=2, min_samples_leaf=3, min_samples_split=5, n_estimators=150, total=   1.9s\n",
      "[CV] bootstrap=True, max_depth=None, max_features=2, min_samples_leaf=3, min_samples_split=5, n_estimators=200 \n",
      "[CV]  bootstrap=True, max_depth=None, max_features=2, min_samples_leaf=3, min_samples_split=5, n_estimators=150, total=   1.7s\n",
      "[CV] bootstrap=True, max_depth=None, max_features=2, min_samples_leaf=3, min_samples_split=5, n_estimators=180 \n",
      "[CV]  bootstrap=True, max_depth=None, max_features=2, min_samples_leaf=3, min_samples_split=5, n_estimators=200, total=   2.6s\n",
      "[CV] bootstrap=True, max_depth=None, max_features=2, min_samples_leaf=3, min_samples_split=5, n_estimators=180 \n",
      "[CV]  bootstrap=True, max_depth=None, max_features=2, min_samples_leaf=3, min_samples_split=5, n_estimators=200, total=   2.6s\n",
      "[CV] bootstrap=True, max_depth=None, max_features=2, min_samples_leaf=3, min_samples_split=5, n_estimators=180 \n",
      "[CV]  bootstrap=True, max_depth=None, max_features=2, min_samples_leaf=3, min_samples_split=5, n_estimators=180, total=   2.2s\n",
      "[CV] bootstrap=True, max_depth=None, max_features=2, min_samples_leaf=3, min_samples_split=7, n_estimators=100 \n",
      "[CV]  bootstrap=True, max_depth=None, max_features=2, min_samples_leaf=3, min_samples_split=5, n_estimators=200, total=   2.5s\n",
      "[CV] bootstrap=True, max_depth=None, max_features=2, min_samples_leaf=3, min_samples_split=7, n_estimators=100 \n",
      "[CV]  bootstrap=True, max_depth=None, max_features=2, min_samples_leaf=3, min_samples_split=5, n_estimators=180, total=   2.1s\n",
      "[CV] bootstrap=True, max_depth=None, max_features=2, min_samples_leaf=3, min_samples_split=7, n_estimators=100 \n",
      "[CV]  bootstrap=True, max_depth=None, max_features=2, min_samples_leaf=3, min_samples_split=7, n_estimators=100, total=   1.3s\n",
      "[CV] bootstrap=True, max_depth=None, max_features=2, min_samples_leaf=3, min_samples_split=7, n_estimators=150 \n",
      "[CV]  bootstrap=True, max_depth=None, max_features=2, min_samples_leaf=3, min_samples_split=7, n_estimators=100, total=   1.2s\n",
      "[CV] bootstrap=True, max_depth=None, max_features=2, min_samples_leaf=3, min_samples_split=7, n_estimators=150 \n",
      "[CV]  bootstrap=True, max_depth=None, max_features=2, min_samples_leaf=3, min_samples_split=5, n_estimators=180, total=   2.2s\n",
      "[CV] bootstrap=True, max_depth=None, max_features=2, min_samples_leaf=3, min_samples_split=7, n_estimators=150 \n",
      "[CV]  bootstrap=True, max_depth=None, max_features=2, min_samples_leaf=3, min_samples_split=7, n_estimators=100, total=   1.3s\n",
      "[CV] bootstrap=True, max_depth=None, max_features=2, min_samples_leaf=3, min_samples_split=7, n_estimators=200 \n",
      "[CV]  bootstrap=True, max_depth=None, max_features=2, min_samples_leaf=3, min_samples_split=7, n_estimators=150, total=   2.0s\n",
      "[CV] bootstrap=True, max_depth=None, max_features=2, min_samples_leaf=3, min_samples_split=7, n_estimators=200 \n",
      "[CV]  bootstrap=True, max_depth=None, max_features=2, min_samples_leaf=3, min_samples_split=7, n_estimators=150, total=   2.0s\n",
      "[CV] bootstrap=True, max_depth=None, max_features=2, min_samples_leaf=3, min_samples_split=7, n_estimators=200 \n",
      "[CV]  bootstrap=True, max_depth=None, max_features=2, min_samples_leaf=3, min_samples_split=7, n_estimators=150, total=   2.0s\n",
      "[CV] bootstrap=True, max_depth=None, max_features=2, min_samples_leaf=3, min_samples_split=7, n_estimators=180 \n",
      "[CV]  bootstrap=True, max_depth=None, max_features=2, min_samples_leaf=3, min_samples_split=7, n_estimators=200, total=   2.7s\n",
      "[CV] bootstrap=True, max_depth=None, max_features=2, min_samples_leaf=3, min_samples_split=7, n_estimators=180 \n",
      "[CV]  bootstrap=True, max_depth=None, max_features=2, min_samples_leaf=3, min_samples_split=7, n_estimators=200, total=   2.6s\n"
     ]
    },
    {
     "name": "stdout",
     "output_type": "stream",
     "text": [
      "[CV] bootstrap=True, max_depth=None, max_features=2, min_samples_leaf=3, min_samples_split=7, n_estimators=180 \n",
      "[CV]  bootstrap=True, max_depth=None, max_features=2, min_samples_leaf=3, min_samples_split=7, n_estimators=200, total=   2.5s\n",
      "[CV] bootstrap=True, max_depth=None, max_features=2, min_samples_leaf=4, min_samples_split=3, n_estimators=100 \n",
      "[CV]  bootstrap=True, max_depth=None, max_features=2, min_samples_leaf=3, min_samples_split=7, n_estimators=180, total=   2.1s\n",
      "[CV] bootstrap=True, max_depth=None, max_features=2, min_samples_leaf=4, min_samples_split=3, n_estimators=100 \n",
      "[CV]  bootstrap=True, max_depth=None, max_features=2, min_samples_leaf=4, min_samples_split=3, n_estimators=100, total=   1.1s\n",
      "[CV] bootstrap=True, max_depth=None, max_features=2, min_samples_leaf=4, min_samples_split=3, n_estimators=100 \n",
      "[CV]  bootstrap=True, max_depth=None, max_features=2, min_samples_leaf=3, min_samples_split=7, n_estimators=180, total=   2.2s\n",
      "[CV] bootstrap=True, max_depth=None, max_features=2, min_samples_leaf=4, min_samples_split=3, n_estimators=150 \n",
      "[CV]  bootstrap=True, max_depth=None, max_features=2, min_samples_leaf=4, min_samples_split=3, n_estimators=100, total=   1.2s\n",
      "[CV] bootstrap=True, max_depth=None, max_features=2, min_samples_leaf=4, min_samples_split=3, n_estimators=150 \n",
      "[CV]  bootstrap=True, max_depth=None, max_features=2, min_samples_leaf=3, min_samples_split=7, n_estimators=180, total=   2.2s\n",
      "[CV] bootstrap=True, max_depth=None, max_features=2, min_samples_leaf=4, min_samples_split=3, n_estimators=150 \n",
      "[CV]  bootstrap=True, max_depth=None, max_features=2, min_samples_leaf=4, min_samples_split=3, n_estimators=100, total=   1.2s\n",
      "[CV] bootstrap=True, max_depth=None, max_features=2, min_samples_leaf=4, min_samples_split=3, n_estimators=200 \n",
      "[CV]  bootstrap=True, max_depth=None, max_features=2, min_samples_leaf=4, min_samples_split=3, n_estimators=150, total=   1.7s\n",
      "[CV] bootstrap=True, max_depth=None, max_features=2, min_samples_leaf=4, min_samples_split=3, n_estimators=200 \n",
      "[CV]  bootstrap=True, max_depth=None, max_features=2, min_samples_leaf=4, min_samples_split=3, n_estimators=150, total=   1.7s\n",
      "[CV] bootstrap=True, max_depth=None, max_features=2, min_samples_leaf=4, min_samples_split=3, n_estimators=200 \n",
      "[CV]  bootstrap=True, max_depth=None, max_features=2, min_samples_leaf=4, min_samples_split=3, n_estimators=150, total=   1.8s\n",
      "[CV] bootstrap=True, max_depth=None, max_features=2, min_samples_leaf=4, min_samples_split=3, n_estimators=180 \n",
      "[CV]  bootstrap=True, max_depth=None, max_features=2, min_samples_leaf=4, min_samples_split=3, n_estimators=200, total=   2.3s\n",
      "[CV] bootstrap=True, max_depth=None, max_features=2, min_samples_leaf=4, min_samples_split=3, n_estimators=180 \n",
      "[CV]  bootstrap=True, max_depth=None, max_features=2, min_samples_leaf=4, min_samples_split=3, n_estimators=200, total=   2.2s\n",
      "[CV] bootstrap=True, max_depth=None, max_features=2, min_samples_leaf=4, min_samples_split=3, n_estimators=180 \n",
      "[CV]  bootstrap=True, max_depth=None, max_features=2, min_samples_leaf=4, min_samples_split=3, n_estimators=200, total=   2.1s\n",
      "[CV] bootstrap=True, max_depth=None, max_features=2, min_samples_leaf=4, min_samples_split=5, n_estimators=100 \n",
      "[CV]  bootstrap=True, max_depth=None, max_features=2, min_samples_leaf=4, min_samples_split=3, n_estimators=180, total=   2.0s\n",
      "[CV] bootstrap=True, max_depth=None, max_features=2, min_samples_leaf=4, min_samples_split=5, n_estimators=100 \n",
      "[CV]  bootstrap=True, max_depth=None, max_features=2, min_samples_leaf=4, min_samples_split=3, n_estimators=180, total=   2.0s\n",
      "[CV] bootstrap=True, max_depth=None, max_features=2, min_samples_leaf=4, min_samples_split=5, n_estimators=100 \n",
      "[CV]  bootstrap=True, max_depth=None, max_features=2, min_samples_leaf=4, min_samples_split=5, n_estimators=100, total=   1.1s\n",
      "[CV] bootstrap=True, max_depth=None, max_features=2, min_samples_leaf=4, min_samples_split=5, n_estimators=150 \n",
      "[CV]  bootstrap=True, max_depth=None, max_features=2, min_samples_leaf=4, min_samples_split=5, n_estimators=100, total=   1.2s\n",
      "[CV] bootstrap=True, max_depth=None, max_features=2, min_samples_leaf=4, min_samples_split=5, n_estimators=150 \n",
      "[CV]  bootstrap=True, max_depth=None, max_features=2, min_samples_leaf=4, min_samples_split=3, n_estimators=180, total=   2.2s\n",
      "[CV] bootstrap=True, max_depth=None, max_features=2, min_samples_leaf=4, min_samples_split=5, n_estimators=150 \n",
      "[CV]  bootstrap=True, max_depth=None, max_features=2, min_samples_leaf=4, min_samples_split=5, n_estimators=100, total=   1.3s\n",
      "[CV] bootstrap=True, max_depth=None, max_features=2, min_samples_leaf=4, min_samples_split=5, n_estimators=200 \n",
      "[CV]  bootstrap=True, max_depth=None, max_features=2, min_samples_leaf=4, min_samples_split=5, n_estimators=150, total=   1.8s\n",
      "[CV] bootstrap=True, max_depth=None, max_features=2, min_samples_leaf=4, min_samples_split=5, n_estimators=200 \n",
      "[CV]  bootstrap=True, max_depth=None, max_features=2, min_samples_leaf=4, min_samples_split=5, n_estimators=150, total=   1.6s\n",
      "[CV] bootstrap=True, max_depth=None, max_features=2, min_samples_leaf=4, min_samples_split=5, n_estimators=200 \n",
      "[CV]  bootstrap=True, max_depth=None, max_features=2, min_samples_leaf=4, min_samples_split=5, n_estimators=150, total=   1.8s\n",
      "[CV] bootstrap=True, max_depth=None, max_features=2, min_samples_leaf=4, min_samples_split=5, n_estimators=180 \n",
      "[CV]  bootstrap=True, max_depth=None, max_features=2, min_samples_leaf=4, min_samples_split=5, n_estimators=200, total=   2.3s\n",
      "[CV] bootstrap=True, max_depth=None, max_features=2, min_samples_leaf=4, min_samples_split=5, n_estimators=180 \n",
      "[CV]  bootstrap=True, max_depth=None, max_features=2, min_samples_leaf=4, min_samples_split=5, n_estimators=200, total=   2.2s\n",
      "[CV] bootstrap=True, max_depth=None, max_features=2, min_samples_leaf=4, min_samples_split=5, n_estimators=180 \n",
      "[CV]  bootstrap=True, max_depth=None, max_features=2, min_samples_leaf=4, min_samples_split=5, n_estimators=200, total=   2.2s\n",
      "[CV] bootstrap=True, max_depth=None, max_features=2, min_samples_leaf=4, min_samples_split=7, n_estimators=100 \n",
      "[CV]  bootstrap=True, max_depth=None, max_features=2, min_samples_leaf=4, min_samples_split=5, n_estimators=180, total=   2.0s\n",
      "[CV] bootstrap=True, max_depth=None, max_features=2, min_samples_leaf=4, min_samples_split=7, n_estimators=100 \n",
      "[CV]  bootstrap=True, max_depth=None, max_features=2, min_samples_leaf=4, min_samples_split=5, n_estimators=180, total=   2.3s\n",
      "[CV] bootstrap=True, max_depth=None, max_features=2, min_samples_leaf=4, min_samples_split=7, n_estimators=100 \n",
      "[CV]  bootstrap=True, max_depth=None, max_features=2, min_samples_leaf=4, min_samples_split=7, n_estimators=100, total=   1.6s\n",
      "[CV] bootstrap=True, max_depth=None, max_features=2, min_samples_leaf=4, min_samples_split=7, n_estimators=150 \n",
      "[CV]  bootstrap=True, max_depth=None, max_features=2, min_samples_leaf=4, min_samples_split=7, n_estimators=100, total=   1.6s\n",
      "[CV] bootstrap=True, max_depth=None, max_features=2, min_samples_leaf=4, min_samples_split=7, n_estimators=150 \n",
      "[CV]  bootstrap=True, max_depth=None, max_features=2, min_samples_leaf=4, min_samples_split=5, n_estimators=180, total=   2.7s\n",
      "[CV] bootstrap=True, max_depth=None, max_features=2, min_samples_leaf=4, min_samples_split=7, n_estimators=150 \n",
      "[CV]  bootstrap=True, max_depth=None, max_features=2, min_samples_leaf=4, min_samples_split=7, n_estimators=100, total=   1.4s\n",
      "[CV] bootstrap=True, max_depth=None, max_features=2, min_samples_leaf=4, min_samples_split=7, n_estimators=200 \n",
      "[CV]  bootstrap=True, max_depth=None, max_features=2, min_samples_leaf=4, min_samples_split=7, n_estimators=150, total=   1.9s\n",
      "[CV] bootstrap=True, max_depth=None, max_features=2, min_samples_leaf=4, min_samples_split=7, n_estimators=200 \n",
      "[CV]  bootstrap=True, max_depth=None, max_features=2, min_samples_leaf=4, min_samples_split=7, n_estimators=150, total=   1.9s\n",
      "[CV] bootstrap=True, max_depth=None, max_features=2, min_samples_leaf=4, min_samples_split=7, n_estimators=200 \n",
      "[CV]  bootstrap=True, max_depth=None, max_features=2, min_samples_leaf=4, min_samples_split=7, n_estimators=150, total=   1.7s\n",
      "[CV] bootstrap=True, max_depth=None, max_features=2, min_samples_leaf=4, min_samples_split=7, n_estimators=180 \n"
     ]
    },
    {
     "name": "stdout",
     "output_type": "stream",
     "text": [
      "[CV]  bootstrap=True, max_depth=None, max_features=2, min_samples_leaf=4, min_samples_split=7, n_estimators=200, total=   2.3s\n",
      "[CV] bootstrap=True, max_depth=None, max_features=2, min_samples_leaf=4, min_samples_split=7, n_estimators=180 \n",
      "[CV]  bootstrap=True, max_depth=None, max_features=2, min_samples_leaf=4, min_samples_split=7, n_estimators=200, total=   2.2s\n",
      "[CV] bootstrap=True, max_depth=None, max_features=2, min_samples_leaf=4, min_samples_split=7, n_estimators=180 \n",
      "[CV]  bootstrap=True, max_depth=None, max_features=2, min_samples_leaf=4, min_samples_split=7, n_estimators=200, total=   2.2s\n",
      "[CV] bootstrap=True, max_depth=None, max_features=3, min_samples_leaf=2, min_samples_split=3, n_estimators=100 \n",
      "[CV]  bootstrap=True, max_depth=None, max_features=2, min_samples_leaf=4, min_samples_split=7, n_estimators=180, total=   2.0s\n",
      "[CV] bootstrap=True, max_depth=None, max_features=3, min_samples_leaf=2, min_samples_split=3, n_estimators=100 \n",
      "[CV]  bootstrap=True, max_depth=None, max_features=2, min_samples_leaf=4, min_samples_split=7, n_estimators=180, total=   2.0s\n",
      "[CV] bootstrap=True, max_depth=None, max_features=3, min_samples_leaf=2, min_samples_split=3, n_estimators=100 \n",
      "[CV]  bootstrap=True, max_depth=None, max_features=3, min_samples_leaf=2, min_samples_split=3, n_estimators=100, total=   2.0s\n",
      "[CV] bootstrap=True, max_depth=None, max_features=3, min_samples_leaf=2, min_samples_split=3, n_estimators=150 \n",
      "[CV]  bootstrap=True, max_depth=None, max_features=2, min_samples_leaf=4, min_samples_split=7, n_estimators=180, total=   2.2s\n",
      "[CV] bootstrap=True, max_depth=None, max_features=3, min_samples_leaf=2, min_samples_split=3, n_estimators=150 \n",
      "[CV]  bootstrap=True, max_depth=None, max_features=3, min_samples_leaf=2, min_samples_split=3, n_estimators=100, total=   2.1s\n",
      "[CV] bootstrap=True, max_depth=None, max_features=3, min_samples_leaf=2, min_samples_split=3, n_estimators=150 \n",
      "[CV]  bootstrap=True, max_depth=None, max_features=3, min_samples_leaf=2, min_samples_split=3, n_estimators=100, total=   2.1s\n",
      "[CV] bootstrap=True, max_depth=None, max_features=3, min_samples_leaf=2, min_samples_split=3, n_estimators=200 \n",
      "[CV]  bootstrap=True, max_depth=None, max_features=3, min_samples_leaf=2, min_samples_split=3, n_estimators=150, total=   3.7s\n",
      "[CV] bootstrap=True, max_depth=None, max_features=3, min_samples_leaf=2, min_samples_split=3, n_estimators=200 \n",
      "[CV]  bootstrap=True, max_depth=None, max_features=3, min_samples_leaf=2, min_samples_split=3, n_estimators=150, total=   3.7s\n",
      "[CV] bootstrap=True, max_depth=None, max_features=3, min_samples_leaf=2, min_samples_split=3, n_estimators=200 \n",
      "[CV]  bootstrap=True, max_depth=None, max_features=3, min_samples_leaf=2, min_samples_split=3, n_estimators=150, total=   3.7s\n",
      "[CV] bootstrap=True, max_depth=None, max_features=3, min_samples_leaf=2, min_samples_split=3, n_estimators=180 \n",
      "[CV]  bootstrap=True, max_depth=None, max_features=3, min_samples_leaf=2, min_samples_split=3, n_estimators=200, total=   5.2s\n",
      "[CV] bootstrap=True, max_depth=None, max_features=3, min_samples_leaf=2, min_samples_split=3, n_estimators=180 \n",
      "[CV]  bootstrap=True, max_depth=None, max_features=3, min_samples_leaf=2, min_samples_split=3, n_estimators=180, total=   4.3s\n",
      "[CV] bootstrap=True, max_depth=None, max_features=3, min_samples_leaf=2, min_samples_split=3, n_estimators=180 \n",
      "[CV]  bootstrap=True, max_depth=None, max_features=3, min_samples_leaf=2, min_samples_split=3, n_estimators=200, total=   4.9s\n",
      "[CV] bootstrap=True, max_depth=None, max_features=3, min_samples_leaf=2, min_samples_split=5, n_estimators=100 \n",
      "[CV]  bootstrap=True, max_depth=None, max_features=3, min_samples_leaf=2, min_samples_split=3, n_estimators=200, total=   4.8s\n",
      "[CV] bootstrap=True, max_depth=None, max_features=3, min_samples_leaf=2, min_samples_split=5, n_estimators=100 \n",
      "[CV]  bootstrap=True, max_depth=None, max_features=3, min_samples_leaf=2, min_samples_split=3, n_estimators=180, total=   3.7s\n",
      "[CV] bootstrap=True, max_depth=None, max_features=3, min_samples_leaf=2, min_samples_split=5, n_estimators=100 \n",
      "[CV]  bootstrap=True, max_depth=None, max_features=3, min_samples_leaf=2, min_samples_split=5, n_estimators=100, total=   2.1s\n",
      "[CV] bootstrap=True, max_depth=None, max_features=3, min_samples_leaf=2, min_samples_split=5, n_estimators=150 \n",
      "[CV]  bootstrap=True, max_depth=None, max_features=3, min_samples_leaf=2, min_samples_split=5, n_estimators=100, total=   2.0s\n",
      "[CV] bootstrap=True, max_depth=None, max_features=3, min_samples_leaf=2, min_samples_split=5, n_estimators=150 \n",
      "[CV]  bootstrap=True, max_depth=None, max_features=3, min_samples_leaf=2, min_samples_split=3, n_estimators=180, total=   3.7s\n",
      "[CV] bootstrap=True, max_depth=None, max_features=3, min_samples_leaf=2, min_samples_split=5, n_estimators=150 \n",
      "[CV]  bootstrap=True, max_depth=None, max_features=3, min_samples_leaf=2, min_samples_split=5, n_estimators=100, total=   2.0s\n",
      "[CV] bootstrap=True, max_depth=None, max_features=3, min_samples_leaf=2, min_samples_split=5, n_estimators=200 \n",
      "[CV]  bootstrap=True, max_depth=None, max_features=3, min_samples_leaf=2, min_samples_split=5, n_estimators=150, total=   2.8s\n",
      "[CV] bootstrap=True, max_depth=None, max_features=3, min_samples_leaf=2, min_samples_split=5, n_estimators=200 \n",
      "[CV]  bootstrap=True, max_depth=None, max_features=3, min_samples_leaf=2, min_samples_split=5, n_estimators=150, total=   2.8s\n",
      "[CV] bootstrap=True, max_depth=None, max_features=3, min_samples_leaf=2, min_samples_split=5, n_estimators=200 \n",
      "[CV]  bootstrap=True, max_depth=None, max_features=3, min_samples_leaf=2, min_samples_split=5, n_estimators=150, total=   2.8s\n",
      "[CV] bootstrap=True, max_depth=None, max_features=3, min_samples_leaf=2, min_samples_split=5, n_estimators=180 \n",
      "[CV]  bootstrap=True, max_depth=None, max_features=3, min_samples_leaf=2, min_samples_split=5, n_estimators=200, total=   3.6s\n",
      "[CV] bootstrap=True, max_depth=None, max_features=3, min_samples_leaf=2, min_samples_split=5, n_estimators=180 \n",
      "[CV]  bootstrap=True, max_depth=None, max_features=3, min_samples_leaf=2, min_samples_split=5, n_estimators=200, total=   3.6s\n",
      "[CV] bootstrap=True, max_depth=None, max_features=3, min_samples_leaf=2, min_samples_split=5, n_estimators=180 \n",
      "[CV]  bootstrap=True, max_depth=None, max_features=3, min_samples_leaf=2, min_samples_split=5, n_estimators=200, total=   3.7s\n",
      "[CV] bootstrap=True, max_depth=None, max_features=3, min_samples_leaf=2, min_samples_split=7, n_estimators=100 \n",
      "[CV]  bootstrap=True, max_depth=None, max_features=3, min_samples_leaf=2, min_samples_split=5, n_estimators=180, total=   3.4s\n",
      "[CV] bootstrap=True, max_depth=None, max_features=3, min_samples_leaf=2, min_samples_split=7, n_estimators=100 \n",
      "[CV]  bootstrap=True, max_depth=None, max_features=3, min_samples_leaf=2, min_samples_split=7, n_estimators=100, total=   1.8s\n",
      "[CV] bootstrap=True, max_depth=None, max_features=3, min_samples_leaf=2, min_samples_split=7, n_estimators=100 \n",
      "[CV]  bootstrap=True, max_depth=None, max_features=3, min_samples_leaf=2, min_samples_split=5, n_estimators=180, total=   3.3s\n",
      "[CV] bootstrap=True, max_depth=None, max_features=3, min_samples_leaf=2, min_samples_split=7, n_estimators=150 \n",
      "[CV]  bootstrap=True, max_depth=None, max_features=3, min_samples_leaf=2, min_samples_split=7, n_estimators=100, total=   1.8s\n",
      "[CV] bootstrap=True, max_depth=None, max_features=3, min_samples_leaf=2, min_samples_split=7, n_estimators=150 \n",
      "[CV]  bootstrap=True, max_depth=None, max_features=3, min_samples_leaf=2, min_samples_split=5, n_estimators=180, total=   3.3s\n",
      "[CV] bootstrap=True, max_depth=None, max_features=3, min_samples_leaf=2, min_samples_split=7, n_estimators=150 \n",
      "[CV]  bootstrap=True, max_depth=None, max_features=3, min_samples_leaf=2, min_samples_split=7, n_estimators=100, total=   1.8s\n",
      "[CV] bootstrap=True, max_depth=None, max_features=3, min_samples_leaf=2, min_samples_split=7, n_estimators=200 \n",
      "[CV]  bootstrap=True, max_depth=None, max_features=3, min_samples_leaf=2, min_samples_split=7, n_estimators=150, total=   2.9s\n",
      "[CV] bootstrap=True, max_depth=None, max_features=3, min_samples_leaf=2, min_samples_split=7, n_estimators=200 \n",
      "[CV]  bootstrap=True, max_depth=None, max_features=3, min_samples_leaf=2, min_samples_split=7, n_estimators=150, total=   2.9s\n"
     ]
    },
    {
     "name": "stdout",
     "output_type": "stream",
     "text": [
      "[CV] bootstrap=True, max_depth=None, max_features=3, min_samples_leaf=2, min_samples_split=7, n_estimators=200 \n",
      "[CV]  bootstrap=True, max_depth=None, max_features=3, min_samples_leaf=2, min_samples_split=7, n_estimators=150, total=   2.9s\n",
      "[CV] bootstrap=True, max_depth=None, max_features=3, min_samples_leaf=2, min_samples_split=7, n_estimators=180 \n",
      "[CV]  bootstrap=True, max_depth=None, max_features=3, min_samples_leaf=2, min_samples_split=7, n_estimators=200, total=   3.8s\n",
      "[CV] bootstrap=True, max_depth=None, max_features=3, min_samples_leaf=2, min_samples_split=7, n_estimators=180 \n",
      "[CV]  bootstrap=True, max_depth=None, max_features=3, min_samples_leaf=2, min_samples_split=7, n_estimators=200, total=   3.8s\n",
      "[CV] bootstrap=True, max_depth=None, max_features=3, min_samples_leaf=2, min_samples_split=7, n_estimators=180 \n",
      "[CV]  bootstrap=True, max_depth=None, max_features=3, min_samples_leaf=2, min_samples_split=7, n_estimators=200, total=   3.6s\n",
      "[CV] bootstrap=True, max_depth=None, max_features=3, min_samples_leaf=3, min_samples_split=3, n_estimators=100 \n",
      "[CV]  bootstrap=True, max_depth=None, max_features=3, min_samples_leaf=2, min_samples_split=7, n_estimators=180, total=   3.4s\n",
      "[CV] bootstrap=True, max_depth=None, max_features=3, min_samples_leaf=3, min_samples_split=3, n_estimators=100 \n",
      "[CV]  bootstrap=True, max_depth=None, max_features=3, min_samples_leaf=3, min_samples_split=3, n_estimators=100, total=   1.5s\n",
      "[CV] bootstrap=True, max_depth=None, max_features=3, min_samples_leaf=3, min_samples_split=3, n_estimators=100 \n",
      "[CV]  bootstrap=True, max_depth=None, max_features=3, min_samples_leaf=2, min_samples_split=7, n_estimators=180, total=   3.3s\n",
      "[CV] bootstrap=True, max_depth=None, max_features=3, min_samples_leaf=3, min_samples_split=3, n_estimators=150 \n",
      "[CV]  bootstrap=True, max_depth=None, max_features=3, min_samples_leaf=3, min_samples_split=3, n_estimators=100, total=   1.7s\n",
      "[CV] bootstrap=True, max_depth=None, max_features=3, min_samples_leaf=3, min_samples_split=3, n_estimators=150 \n",
      "[CV]  bootstrap=True, max_depth=None, max_features=3, min_samples_leaf=2, min_samples_split=7, n_estimators=180, total=   3.5s\n",
      "[CV] bootstrap=True, max_depth=None, max_features=3, min_samples_leaf=3, min_samples_split=3, n_estimators=150 \n",
      "[CV]  bootstrap=True, max_depth=None, max_features=3, min_samples_leaf=3, min_samples_split=3, n_estimators=100, total=   1.9s\n",
      "[CV] bootstrap=True, max_depth=None, max_features=3, min_samples_leaf=3, min_samples_split=3, n_estimators=200 \n",
      "[CV]  bootstrap=True, max_depth=None, max_features=3, min_samples_leaf=3, min_samples_split=3, n_estimators=150, total=   2.4s\n",
      "[CV] bootstrap=True, max_depth=None, max_features=3, min_samples_leaf=3, min_samples_split=3, n_estimators=200 \n",
      "[CV]  bootstrap=True, max_depth=None, max_features=3, min_samples_leaf=3, min_samples_split=3, n_estimators=150, total=   2.7s\n",
      "[CV] bootstrap=True, max_depth=None, max_features=3, min_samples_leaf=3, min_samples_split=3, n_estimators=200 \n",
      "[CV]  bootstrap=True, max_depth=None, max_features=3, min_samples_leaf=3, min_samples_split=3, n_estimators=150, total=   2.4s\n",
      "[CV] bootstrap=True, max_depth=None, max_features=3, min_samples_leaf=3, min_samples_split=3, n_estimators=180 \n",
      "[CV]  bootstrap=True, max_depth=None, max_features=3, min_samples_leaf=3, min_samples_split=3, n_estimators=200, total=   3.2s\n",
      "[CV] bootstrap=True, max_depth=None, max_features=3, min_samples_leaf=3, min_samples_split=3, n_estimators=180 \n",
      "[CV]  bootstrap=True, max_depth=None, max_features=3, min_samples_leaf=3, min_samples_split=3, n_estimators=200, total=   3.1s\n",
      "[CV] bootstrap=True, max_depth=None, max_features=3, min_samples_leaf=3, min_samples_split=3, n_estimators=180 \n",
      "[CV]  bootstrap=True, max_depth=None, max_features=3, min_samples_leaf=3, min_samples_split=3, n_estimators=200, total=   3.1s\n",
      "[CV] bootstrap=True, max_depth=None, max_features=3, min_samples_leaf=3, min_samples_split=5, n_estimators=100 \n",
      "[CV]  bootstrap=True, max_depth=None, max_features=3, min_samples_leaf=3, min_samples_split=3, n_estimators=180, total=   2.8s\n",
      "[CV] bootstrap=True, max_depth=None, max_features=3, min_samples_leaf=3, min_samples_split=5, n_estimators=100 \n"
     ]
    },
    {
     "name": "stderr",
     "output_type": "stream",
     "text": [
      "[Parallel(n_jobs=-1)]: Done 154 tasks      | elapsed:  1.9min\n"
     ]
    },
    {
     "name": "stdout",
     "output_type": "stream",
     "text": [
      "[CV]  bootstrap=True, max_depth=None, max_features=3, min_samples_leaf=3, min_samples_split=5, n_estimators=100, total=   1.6s\n",
      "[CV] bootstrap=True, max_depth=None, max_features=3, min_samples_leaf=3, min_samples_split=5, n_estimators=100 \n",
      "[CV]  bootstrap=True, max_depth=None, max_features=3, min_samples_leaf=3, min_samples_split=3, n_estimators=180, total=   2.8s\n",
      "[CV] bootstrap=True, max_depth=None, max_features=3, min_samples_leaf=3, min_samples_split=5, n_estimators=150 \n",
      "[CV]  bootstrap=True, max_depth=None, max_features=3, min_samples_leaf=3, min_samples_split=5, n_estimators=100, total=   1.6s\n",
      "[CV] bootstrap=True, max_depth=None, max_features=3, min_samples_leaf=3, min_samples_split=5, n_estimators=150 \n",
      "[CV]  bootstrap=True, max_depth=None, max_features=3, min_samples_leaf=3, min_samples_split=3, n_estimators=180, total=   3.0s\n",
      "[CV] bootstrap=True, max_depth=None, max_features=3, min_samples_leaf=3, min_samples_split=5, n_estimators=150 \n",
      "[CV]  bootstrap=True, max_depth=None, max_features=3, min_samples_leaf=3, min_samples_split=5, n_estimators=100, total=   1.6s\n",
      "[CV] bootstrap=True, max_depth=None, max_features=3, min_samples_leaf=3, min_samples_split=5, n_estimators=200 \n",
      "[CV]  bootstrap=True, max_depth=None, max_features=3, min_samples_leaf=3, min_samples_split=5, n_estimators=150, total=   2.4s\n",
      "[CV] bootstrap=True, max_depth=None, max_features=3, min_samples_leaf=3, min_samples_split=5, n_estimators=200 \n",
      "[CV]  bootstrap=True, max_depth=None, max_features=3, min_samples_leaf=3, min_samples_split=5, n_estimators=150, total=   2.4s\n",
      "[CV] bootstrap=True, max_depth=None, max_features=3, min_samples_leaf=3, min_samples_split=5, n_estimators=200 \n",
      "[CV]  bootstrap=True, max_depth=None, max_features=3, min_samples_leaf=3, min_samples_split=5, n_estimators=150, total=   2.3s\n",
      "[CV] bootstrap=True, max_depth=None, max_features=3, min_samples_leaf=3, min_samples_split=5, n_estimators=180 \n",
      "[CV]  bootstrap=True, max_depth=None, max_features=3, min_samples_leaf=3, min_samples_split=5, n_estimators=200, total=   3.2s\n",
      "[CV] bootstrap=True, max_depth=None, max_features=3, min_samples_leaf=3, min_samples_split=5, n_estimators=180 \n",
      "[CV]  bootstrap=True, max_depth=None, max_features=3, min_samples_leaf=3, min_samples_split=5, n_estimators=200, total=   3.4s\n",
      "[CV] bootstrap=True, max_depth=None, max_features=3, min_samples_leaf=3, min_samples_split=5, n_estimators=180 \n",
      "[CV]  bootstrap=True, max_depth=None, max_features=3, min_samples_leaf=3, min_samples_split=5, n_estimators=180, total=   2.9s\n",
      "[CV] bootstrap=True, max_depth=None, max_features=3, min_samples_leaf=3, min_samples_split=7, n_estimators=100 \n",
      "[CV]  bootstrap=True, max_depth=None, max_features=3, min_samples_leaf=3, min_samples_split=5, n_estimators=200, total=   3.5s\n",
      "[CV] bootstrap=True, max_depth=None, max_features=3, min_samples_leaf=3, min_samples_split=7, n_estimators=100 \n",
      "[CV]  bootstrap=True, max_depth=None, max_features=3, min_samples_leaf=3, min_samples_split=5, n_estimators=180, total=   2.9s\n",
      "[CV] bootstrap=True, max_depth=None, max_features=3, min_samples_leaf=3, min_samples_split=7, n_estimators=100 \n",
      "[CV]  bootstrap=True, max_depth=None, max_features=3, min_samples_leaf=3, min_samples_split=7, n_estimators=100, total=   1.6s\n",
      "[CV] bootstrap=True, max_depth=None, max_features=3, min_samples_leaf=3, min_samples_split=7, n_estimators=150 \n",
      "[CV]  bootstrap=True, max_depth=None, max_features=3, min_samples_leaf=3, min_samples_split=7, n_estimators=100, total=   1.6s\n",
      "[CV] bootstrap=True, max_depth=None, max_features=3, min_samples_leaf=3, min_samples_split=7, n_estimators=150 \n",
      "[CV]  bootstrap=True, max_depth=None, max_features=3, min_samples_leaf=3, min_samples_split=5, n_estimators=180, total=   2.9s\n",
      "[CV] bootstrap=True, max_depth=None, max_features=3, min_samples_leaf=3, min_samples_split=7, n_estimators=150 \n",
      "[CV]  bootstrap=True, max_depth=None, max_features=3, min_samples_leaf=3, min_samples_split=7, n_estimators=100, total=   1.5s\n",
      "[CV] bootstrap=True, max_depth=None, max_features=3, min_samples_leaf=3, min_samples_split=7, n_estimators=200 \n",
      "[CV]  bootstrap=True, max_depth=None, max_features=3, min_samples_leaf=3, min_samples_split=7, n_estimators=150, total=   2.4s\n",
      "[CV] bootstrap=True, max_depth=None, max_features=3, min_samples_leaf=3, min_samples_split=7, n_estimators=200 \n",
      "[CV]  bootstrap=True, max_depth=None, max_features=3, min_samples_leaf=3, min_samples_split=7, n_estimators=150, total=   2.4s\n",
      "[CV] bootstrap=True, max_depth=None, max_features=3, min_samples_leaf=3, min_samples_split=7, n_estimators=200 \n",
      "[CV]  bootstrap=True, max_depth=None, max_features=3, min_samples_leaf=3, min_samples_split=7, n_estimators=150, total=   2.5s\n",
      "[CV] bootstrap=True, max_depth=None, max_features=3, min_samples_leaf=3, min_samples_split=7, n_estimators=180 \n",
      "[CV]  bootstrap=True, max_depth=None, max_features=3, min_samples_leaf=3, min_samples_split=7, n_estimators=200, total=   3.2s\n",
      "[CV] bootstrap=True, max_depth=None, max_features=3, min_samples_leaf=3, min_samples_split=7, n_estimators=180 \n",
      "[CV]  bootstrap=True, max_depth=None, max_features=3, min_samples_leaf=3, min_samples_split=7, n_estimators=200, total=   3.2s\n",
      "[CV] bootstrap=True, max_depth=None, max_features=3, min_samples_leaf=3, min_samples_split=7, n_estimators=180 \n",
      "[CV]  bootstrap=True, max_depth=None, max_features=3, min_samples_leaf=3, min_samples_split=7, n_estimators=200, total=   3.1s\n",
      "[CV] bootstrap=True, max_depth=None, max_features=3, min_samples_leaf=4, min_samples_split=3, n_estimators=100 \n",
      "[CV]  bootstrap=True, max_depth=None, max_features=3, min_samples_leaf=3, min_samples_split=7, n_estimators=180, total=   2.9s\n",
      "[CV] bootstrap=True, max_depth=None, max_features=3, min_samples_leaf=4, min_samples_split=3, n_estimators=100 \n",
      "[CV]  bootstrap=True, max_depth=None, max_features=3, min_samples_leaf=4, min_samples_split=3, n_estimators=100, total=   1.4s\n",
      "[CV] bootstrap=True, max_depth=None, max_features=3, min_samples_leaf=4, min_samples_split=3, n_estimators=100 \n",
      "[CV]  bootstrap=True, max_depth=None, max_features=3, min_samples_leaf=3, min_samples_split=7, n_estimators=180, total=   2.9s\n",
      "[CV] bootstrap=True, max_depth=None, max_features=3, min_samples_leaf=4, min_samples_split=3, n_estimators=150 \n",
      "[CV]  bootstrap=True, max_depth=None, max_features=3, min_samples_leaf=4, min_samples_split=3, n_estimators=100, total=   1.5s\n",
      "[CV] bootstrap=True, max_depth=None, max_features=3, min_samples_leaf=4, min_samples_split=3, n_estimators=150 \n",
      "[CV]  bootstrap=True, max_depth=None, max_features=3, min_samples_leaf=3, min_samples_split=7, n_estimators=180, total=   2.9s\n",
      "[CV] bootstrap=True, max_depth=None, max_features=3, min_samples_leaf=4, min_samples_split=3, n_estimators=150 \n",
      "[CV]  bootstrap=True, max_depth=None, max_features=3, min_samples_leaf=4, min_samples_split=3, n_estimators=100, total=   1.6s\n",
      "[CV] bootstrap=True, max_depth=None, max_features=3, min_samples_leaf=4, min_samples_split=3, n_estimators=200 \n",
      "[CV]  bootstrap=True, max_depth=None, max_features=3, min_samples_leaf=4, min_samples_split=3, n_estimators=150, total=   2.1s\n",
      "[CV] bootstrap=True, max_depth=None, max_features=3, min_samples_leaf=4, min_samples_split=3, n_estimators=200 \n",
      "[CV]  bootstrap=True, max_depth=None, max_features=3, min_samples_leaf=4, min_samples_split=3, n_estimators=150, total=   2.2s\n",
      "[CV] bootstrap=True, max_depth=None, max_features=3, min_samples_leaf=4, min_samples_split=3, n_estimators=200 \n",
      "[CV]  bootstrap=True, max_depth=None, max_features=3, min_samples_leaf=4, min_samples_split=3, n_estimators=150, total=   2.1s\n",
      "[CV] bootstrap=True, max_depth=None, max_features=3, min_samples_leaf=4, min_samples_split=3, n_estimators=180 \n",
      "[CV]  bootstrap=True, max_depth=None, max_features=3, min_samples_leaf=4, min_samples_split=3, n_estimators=200, total=   2.8s\n",
      "[CV] bootstrap=True, max_depth=None, max_features=3, min_samples_leaf=4, min_samples_split=3, n_estimators=180 \n",
      "[CV]  bootstrap=True, max_depth=None, max_features=3, min_samples_leaf=4, min_samples_split=3, n_estimators=200, total=   2.9s\n",
      "[CV] bootstrap=True, max_depth=None, max_features=3, min_samples_leaf=4, min_samples_split=3, n_estimators=180 \n",
      "[CV]  bootstrap=True, max_depth=None, max_features=3, min_samples_leaf=4, min_samples_split=3, n_estimators=200, total=   2.8s\n"
     ]
    },
    {
     "name": "stdout",
     "output_type": "stream",
     "text": [
      "[CV] bootstrap=True, max_depth=None, max_features=3, min_samples_leaf=4, min_samples_split=5, n_estimators=100 \n",
      "[CV]  bootstrap=True, max_depth=None, max_features=3, min_samples_leaf=4, min_samples_split=3, n_estimators=180, total=   2.6s\n",
      "[CV] bootstrap=True, max_depth=None, max_features=3, min_samples_leaf=4, min_samples_split=5, n_estimators=100 \n",
      "[CV]  bootstrap=True, max_depth=None, max_features=3, min_samples_leaf=4, min_samples_split=3, n_estimators=180, total=   2.8s\n",
      "[CV] bootstrap=True, max_depth=None, max_features=3, min_samples_leaf=4, min_samples_split=5, n_estimators=100 \n",
      "[CV]  bootstrap=True, max_depth=None, max_features=3, min_samples_leaf=4, min_samples_split=5, n_estimators=100, total=   1.4s\n",
      "[CV] bootstrap=True, max_depth=None, max_features=3, min_samples_leaf=4, min_samples_split=5, n_estimators=150 \n",
      "[CV]  bootstrap=True, max_depth=None, max_features=3, min_samples_leaf=4, min_samples_split=5, n_estimators=100, total=   1.6s\n",
      "[CV] bootstrap=True, max_depth=None, max_features=3, min_samples_leaf=4, min_samples_split=5, n_estimators=150 \n",
      "[CV]  bootstrap=True, max_depth=None, max_features=3, min_samples_leaf=4, min_samples_split=3, n_estimators=180, total=   2.7s\n",
      "[CV] bootstrap=True, max_depth=None, max_features=3, min_samples_leaf=4, min_samples_split=5, n_estimators=150 \n",
      "[CV]  bootstrap=True, max_depth=None, max_features=3, min_samples_leaf=4, min_samples_split=5, n_estimators=100, total=   1.5s\n",
      "[CV] bootstrap=True, max_depth=None, max_features=3, min_samples_leaf=4, min_samples_split=5, n_estimators=200 \n",
      "[CV]  bootstrap=True, max_depth=None, max_features=3, min_samples_leaf=4, min_samples_split=5, n_estimators=150, total=   2.2s\n",
      "[CV] bootstrap=True, max_depth=None, max_features=3, min_samples_leaf=4, min_samples_split=5, n_estimators=200 \n",
      "[CV]  bootstrap=True, max_depth=None, max_features=3, min_samples_leaf=4, min_samples_split=5, n_estimators=150, total=   2.2s\n",
      "[CV] bootstrap=True, max_depth=None, max_features=3, min_samples_leaf=4, min_samples_split=5, n_estimators=200 \n",
      "[CV]  bootstrap=True, max_depth=None, max_features=3, min_samples_leaf=4, min_samples_split=5, n_estimators=150, total=   2.2s\n",
      "[CV] bootstrap=True, max_depth=None, max_features=3, min_samples_leaf=4, min_samples_split=5, n_estimators=180 \n",
      "[CV]  bootstrap=True, max_depth=None, max_features=3, min_samples_leaf=4, min_samples_split=5, n_estimators=200, total=   2.9s\n",
      "[CV] bootstrap=True, max_depth=None, max_features=3, min_samples_leaf=4, min_samples_split=5, n_estimators=180 \n",
      "[CV]  bootstrap=True, max_depth=None, max_features=3, min_samples_leaf=4, min_samples_split=5, n_estimators=200, total=   3.0s\n",
      "[CV] bootstrap=True, max_depth=None, max_features=3, min_samples_leaf=4, min_samples_split=5, n_estimators=180 \n",
      "[CV]  bootstrap=True, max_depth=None, max_features=3, min_samples_leaf=4, min_samples_split=5, n_estimators=200, total=   3.0s\n",
      "[CV] bootstrap=True, max_depth=None, max_features=3, min_samples_leaf=4, min_samples_split=7, n_estimators=100 \n",
      "[CV]  bootstrap=True, max_depth=None, max_features=3, min_samples_leaf=4, min_samples_split=5, n_estimators=180, total=   2.7s\n",
      "[CV] bootstrap=True, max_depth=None, max_features=3, min_samples_leaf=4, min_samples_split=7, n_estimators=100 \n",
      "[CV]  bootstrap=True, max_depth=None, max_features=3, min_samples_leaf=4, min_samples_split=5, n_estimators=180, total=   2.8s\n",
      "[CV] bootstrap=True, max_depth=None, max_features=3, min_samples_leaf=4, min_samples_split=7, n_estimators=100 \n",
      "[CV]  bootstrap=True, max_depth=None, max_features=3, min_samples_leaf=4, min_samples_split=7, n_estimators=100, total=   1.5s\n",
      "[CV] bootstrap=True, max_depth=None, max_features=3, min_samples_leaf=4, min_samples_split=7, n_estimators=150 \n",
      "[CV]  bootstrap=True, max_depth=None, max_features=3, min_samples_leaf=4, min_samples_split=7, n_estimators=100, total=   1.5s\n",
      "[CV] bootstrap=True, max_depth=None, max_features=3, min_samples_leaf=4, min_samples_split=7, n_estimators=150 \n",
      "[CV]  bootstrap=True, max_depth=None, max_features=3, min_samples_leaf=4, min_samples_split=5, n_estimators=180, total=   2.6s\n",
      "[CV] bootstrap=True, max_depth=None, max_features=3, min_samples_leaf=4, min_samples_split=7, n_estimators=150 \n",
      "[CV]  bootstrap=True, max_depth=None, max_features=3, min_samples_leaf=4, min_samples_split=7, n_estimators=100, total=   1.5s\n",
      "[CV] bootstrap=True, max_depth=None, max_features=3, min_samples_leaf=4, min_samples_split=7, n_estimators=200 \n",
      "[CV]  bootstrap=True, max_depth=None, max_features=3, min_samples_leaf=4, min_samples_split=7, n_estimators=150, total=   2.3s\n",
      "[CV] bootstrap=True, max_depth=None, max_features=3, min_samples_leaf=4, min_samples_split=7, n_estimators=200 \n",
      "[CV]  bootstrap=True, max_depth=None, max_features=3, min_samples_leaf=4, min_samples_split=7, n_estimators=150, total=   2.2s\n",
      "[CV] bootstrap=True, max_depth=None, max_features=3, min_samples_leaf=4, min_samples_split=7, n_estimators=200 \n",
      "[CV]  bootstrap=True, max_depth=None, max_features=3, min_samples_leaf=4, min_samples_split=7, n_estimators=150, total=   2.2s\n",
      "[CV] bootstrap=True, max_depth=None, max_features=3, min_samples_leaf=4, min_samples_split=7, n_estimators=180 \n",
      "[CV]  bootstrap=True, max_depth=None, max_features=3, min_samples_leaf=4, min_samples_split=7, n_estimators=200, total=   3.0s\n",
      "[CV] bootstrap=True, max_depth=None, max_features=3, min_samples_leaf=4, min_samples_split=7, n_estimators=180 \n",
      "[CV]  bootstrap=True, max_depth=None, max_features=3, min_samples_leaf=4, min_samples_split=7, n_estimators=200, total=   2.9s\n",
      "[CV] bootstrap=True, max_depth=None, max_features=3, min_samples_leaf=4, min_samples_split=7, n_estimators=180 \n",
      "[CV]  bootstrap=True, max_depth=None, max_features=3, min_samples_leaf=4, min_samples_split=7, n_estimators=200, total=   2.9s\n",
      "[CV] bootstrap=False, max_depth=None, max_features=2, min_samples_leaf=2, min_samples_split=3, n_estimators=100 \n",
      "[CV]  bootstrap=True, max_depth=None, max_features=3, min_samples_leaf=4, min_samples_split=7, n_estimators=180, total=   2.7s\n",
      "[CV] bootstrap=False, max_depth=None, max_features=2, min_samples_leaf=2, min_samples_split=3, n_estimators=100 \n",
      "[CV]  bootstrap=True, max_depth=None, max_features=3, min_samples_leaf=4, min_samples_split=7, n_estimators=180, total=   2.5s\n",
      "[CV] bootstrap=False, max_depth=None, max_features=2, min_samples_leaf=2, min_samples_split=3, n_estimators=100 \n",
      "[CV]  bootstrap=False, max_depth=None, max_features=2, min_samples_leaf=2, min_samples_split=3, n_estimators=100, total=   2.2s\n",
      "[CV] bootstrap=False, max_depth=None, max_features=2, min_samples_leaf=2, min_samples_split=3, n_estimators=150 \n",
      "[CV]  bootstrap=False, max_depth=None, max_features=2, min_samples_leaf=2, min_samples_split=3, n_estimators=100, total=   2.2s\n",
      "[CV]  bootstrap=True, max_depth=None, max_features=3, min_samples_leaf=4, min_samples_split=7, n_estimators=180, total=   2.7s\n",
      "[CV] bootstrap=False, max_depth=None, max_features=2, min_samples_leaf=2, min_samples_split=3, n_estimators=150 \n",
      "[CV] bootstrap=False, max_depth=None, max_features=2, min_samples_leaf=2, min_samples_split=3, n_estimators=150 \n",
      "[CV]  bootstrap=False, max_depth=None, max_features=2, min_samples_leaf=2, min_samples_split=3, n_estimators=100, total=   2.1s\n",
      "[CV] bootstrap=False, max_depth=None, max_features=2, min_samples_leaf=2, min_samples_split=3, n_estimators=200 \n",
      "[CV]  bootstrap=False, max_depth=None, max_features=2, min_samples_leaf=2, min_samples_split=3, n_estimators=150, total=   3.1s\n",
      "[CV] bootstrap=False, max_depth=None, max_features=2, min_samples_leaf=2, min_samples_split=3, n_estimators=200 \n",
      "[CV]  bootstrap=False, max_depth=None, max_features=2, min_samples_leaf=2, min_samples_split=3, n_estimators=150, total=   3.0s\n",
      "[CV] bootstrap=False, max_depth=None, max_features=2, min_samples_leaf=2, min_samples_split=3, n_estimators=200 \n",
      "[CV]  bootstrap=False, max_depth=None, max_features=2, min_samples_leaf=2, min_samples_split=3, n_estimators=150, total=   3.0s\n",
      "[CV] bootstrap=False, max_depth=None, max_features=2, min_samples_leaf=2, min_samples_split=3, n_estimators=180 \n",
      "[CV]  bootstrap=False, max_depth=None, max_features=2, min_samples_leaf=2, min_samples_split=3, n_estimators=200, total=   4.1s\n",
      "[CV] bootstrap=False, max_depth=None, max_features=2, min_samples_leaf=2, min_samples_split=3, n_estimators=180 \n"
     ]
    },
    {
     "name": "stdout",
     "output_type": "stream",
     "text": [
      "[CV]  bootstrap=False, max_depth=None, max_features=2, min_samples_leaf=2, min_samples_split=3, n_estimators=180, total=   3.7s\n",
      "[CV] bootstrap=False, max_depth=None, max_features=2, min_samples_leaf=2, min_samples_split=3, n_estimators=180 \n",
      "[CV]  bootstrap=False, max_depth=None, max_features=2, min_samples_leaf=2, min_samples_split=3, n_estimators=200, total=   4.1s\n",
      "[CV] bootstrap=False, max_depth=None, max_features=2, min_samples_leaf=2, min_samples_split=5, n_estimators=100 \n",
      "[CV]  bootstrap=False, max_depth=None, max_features=2, min_samples_leaf=2, min_samples_split=3, n_estimators=200, total=   4.2s\n",
      "[CV] bootstrap=False, max_depth=None, max_features=2, min_samples_leaf=2, min_samples_split=5, n_estimators=100 \n",
      "[CV]  bootstrap=False, max_depth=None, max_features=2, min_samples_leaf=2, min_samples_split=3, n_estimators=180, total=   3.7s\n",
      "[CV] bootstrap=False, max_depth=None, max_features=2, min_samples_leaf=2, min_samples_split=5, n_estimators=100 \n",
      "[CV]  bootstrap=False, max_depth=None, max_features=2, min_samples_leaf=2, min_samples_split=5, n_estimators=100, total=   2.0s\n",
      "[CV] bootstrap=False, max_depth=None, max_features=2, min_samples_leaf=2, min_samples_split=5, n_estimators=150 \n",
      "[CV]  bootstrap=False, max_depth=None, max_features=2, min_samples_leaf=2, min_samples_split=5, n_estimators=100, total=   2.0s\n",
      "[CV] bootstrap=False, max_depth=None, max_features=2, min_samples_leaf=2, min_samples_split=5, n_estimators=150 \n",
      "[CV]  bootstrap=False, max_depth=None, max_features=2, min_samples_leaf=2, min_samples_split=3, n_estimators=180, total=   4.0s\n",
      "[CV] bootstrap=False, max_depth=None, max_features=2, min_samples_leaf=2, min_samples_split=5, n_estimators=150 \n",
      "[CV]  bootstrap=False, max_depth=None, max_features=2, min_samples_leaf=2, min_samples_split=5, n_estimators=100, total=   2.5s\n",
      "[CV] bootstrap=False, max_depth=None, max_features=2, min_samples_leaf=2, min_samples_split=5, n_estimators=200 \n",
      "[CV]  bootstrap=False, max_depth=None, max_features=2, min_samples_leaf=2, min_samples_split=5, n_estimators=150, total=   3.7s\n",
      "[CV] bootstrap=False, max_depth=None, max_features=2, min_samples_leaf=2, min_samples_split=5, n_estimators=200 \n",
      "[CV]  bootstrap=False, max_depth=None, max_features=2, min_samples_leaf=2, min_samples_split=5, n_estimators=150, total=   3.6s\n",
      "[CV] bootstrap=False, max_depth=None, max_features=2, min_samples_leaf=2, min_samples_split=5, n_estimators=200 \n",
      "[CV]  bootstrap=False, max_depth=None, max_features=2, min_samples_leaf=2, min_samples_split=5, n_estimators=150, total=   3.4s\n",
      "[CV] bootstrap=False, max_depth=None, max_features=2, min_samples_leaf=2, min_samples_split=5, n_estimators=180 \n",
      "[CV]  bootstrap=False, max_depth=None, max_features=2, min_samples_leaf=2, min_samples_split=5, n_estimators=200, total=   4.2s\n",
      "[CV] bootstrap=False, max_depth=None, max_features=2, min_samples_leaf=2, min_samples_split=5, n_estimators=180 \n",
      "[CV]  bootstrap=False, max_depth=None, max_features=2, min_samples_leaf=2, min_samples_split=5, n_estimators=200, total=   4.2s\n",
      "[CV] bootstrap=False, max_depth=None, max_features=2, min_samples_leaf=2, min_samples_split=5, n_estimators=180 \n",
      "[CV]  bootstrap=False, max_depth=None, max_features=2, min_samples_leaf=2, min_samples_split=5, n_estimators=200, total=   4.0s\n",
      "[CV] bootstrap=False, max_depth=None, max_features=2, min_samples_leaf=2, min_samples_split=7, n_estimators=100 \n",
      "[CV]  bootstrap=False, max_depth=None, max_features=2, min_samples_leaf=2, min_samples_split=5, n_estimators=180, total=   3.6s\n",
      "[CV] bootstrap=False, max_depth=None, max_features=2, min_samples_leaf=2, min_samples_split=7, n_estimators=100 \n",
      "[CV]  bootstrap=False, max_depth=None, max_features=2, min_samples_leaf=2, min_samples_split=7, n_estimators=100, total=   1.9s\n",
      "[CV] bootstrap=False, max_depth=None, max_features=2, min_samples_leaf=2, min_samples_split=7, n_estimators=100 \n",
      "[CV]  bootstrap=False, max_depth=None, max_features=2, min_samples_leaf=2, min_samples_split=5, n_estimators=180, total=   3.5s\n",
      "[CV] bootstrap=False, max_depth=None, max_features=2, min_samples_leaf=2, min_samples_split=7, n_estimators=150 \n",
      "[CV]  bootstrap=False, max_depth=None, max_features=2, min_samples_leaf=2, min_samples_split=7, n_estimators=100, total=   1.9s\n",
      "[CV] bootstrap=False, max_depth=None, max_features=2, min_samples_leaf=2, min_samples_split=7, n_estimators=150 \n",
      "[CV]  bootstrap=False, max_depth=None, max_features=2, min_samples_leaf=2, min_samples_split=5, n_estimators=180, total=   3.7s\n",
      "[CV] bootstrap=False, max_depth=None, max_features=2, min_samples_leaf=2, min_samples_split=7, n_estimators=150 \n",
      "[CV]  bootstrap=False, max_depth=None, max_features=2, min_samples_leaf=2, min_samples_split=7, n_estimators=100, total=   2.1s\n",
      "[CV] bootstrap=False, max_depth=None, max_features=2, min_samples_leaf=2, min_samples_split=7, n_estimators=200 \n",
      "[CV]  bootstrap=False, max_depth=None, max_features=2, min_samples_leaf=2, min_samples_split=7, n_estimators=150, total=   3.0s\n",
      "[CV] bootstrap=False, max_depth=None, max_features=2, min_samples_leaf=2, min_samples_split=7, n_estimators=200 \n",
      "[CV]  bootstrap=False, max_depth=None, max_features=2, min_samples_leaf=2, min_samples_split=7, n_estimators=150, total=   3.0s\n",
      "[CV] bootstrap=False, max_depth=None, max_features=2, min_samples_leaf=2, min_samples_split=7, n_estimators=200 \n",
      "[CV]  bootstrap=False, max_depth=None, max_features=2, min_samples_leaf=2, min_samples_split=7, n_estimators=150, total=   3.0s\n",
      "[CV] bootstrap=False, max_depth=None, max_features=2, min_samples_leaf=2, min_samples_split=7, n_estimators=180 \n",
      "[CV]  bootstrap=False, max_depth=None, max_features=2, min_samples_leaf=2, min_samples_split=7, n_estimators=200, total=   3.9s\n",
      "[CV] bootstrap=False, max_depth=None, max_features=2, min_samples_leaf=2, min_samples_split=7, n_estimators=180 \n",
      "[CV]  bootstrap=False, max_depth=None, max_features=2, min_samples_leaf=2, min_samples_split=7, n_estimators=200, total=   3.9s\n",
      "[CV] bootstrap=False, max_depth=None, max_features=2, min_samples_leaf=2, min_samples_split=7, n_estimators=180 \n",
      "[CV]  bootstrap=False, max_depth=None, max_features=2, min_samples_leaf=2, min_samples_split=7, n_estimators=180, total=   3.5s\n",
      "[CV]  bootstrap=False, max_depth=None, max_features=2, min_samples_leaf=2, min_samples_split=7, n_estimators=200, total=   4.0s\n",
      "[CV] bootstrap=False, max_depth=None, max_features=2, min_samples_leaf=3, min_samples_split=3, n_estimators=100 \n",
      "[CV] bootstrap=False, max_depth=None, max_features=2, min_samples_leaf=3, min_samples_split=3, n_estimators=100 \n",
      "[CV]  bootstrap=False, max_depth=None, max_features=2, min_samples_leaf=2, min_samples_split=7, n_estimators=180, total=   3.5s\n",
      "[CV] bootstrap=False, max_depth=None, max_features=2, min_samples_leaf=3, min_samples_split=3, n_estimators=100 \n",
      "[CV]  bootstrap=False, max_depth=None, max_features=2, min_samples_leaf=3, min_samples_split=3, n_estimators=100, total=   1.5s\n",
      "[CV] bootstrap=False, max_depth=None, max_features=2, min_samples_leaf=3, min_samples_split=3, n_estimators=150 \n",
      "[CV]  bootstrap=False, max_depth=None, max_features=2, min_samples_leaf=3, min_samples_split=3, n_estimators=100, total=   1.7s\n",
      "[CV] bootstrap=False, max_depth=None, max_features=2, min_samples_leaf=3, min_samples_split=3, n_estimators=150 \n",
      "[CV]  bootstrap=False, max_depth=None, max_features=2, min_samples_leaf=2, min_samples_split=7, n_estimators=180, total=   3.5s\n",
      "[CV] bootstrap=False, max_depth=None, max_features=2, min_samples_leaf=3, min_samples_split=3, n_estimators=150 \n",
      "[CV]  bootstrap=False, max_depth=None, max_features=2, min_samples_leaf=3, min_samples_split=3, n_estimators=100, total=   1.8s\n",
      "[CV] bootstrap=False, max_depth=None, max_features=2, min_samples_leaf=3, min_samples_split=3, n_estimators=200 \n",
      "[CV]  bootstrap=False, max_depth=None, max_features=2, min_samples_leaf=3, min_samples_split=3, n_estimators=150, total=   2.5s\n",
      "[CV] bootstrap=False, max_depth=None, max_features=2, min_samples_leaf=3, min_samples_split=3, n_estimators=200 \n",
      "[CV]  bootstrap=False, max_depth=None, max_features=2, min_samples_leaf=3, min_samples_split=3, n_estimators=150, total=   2.5s\n",
      "[CV] bootstrap=False, max_depth=None, max_features=2, min_samples_leaf=3, min_samples_split=3, n_estimators=200 \n"
     ]
    },
    {
     "name": "stdout",
     "output_type": "stream",
     "text": [
      "[CV]  bootstrap=False, max_depth=None, max_features=2, min_samples_leaf=3, min_samples_split=3, n_estimators=150, total=   2.5s\n",
      "[CV] bootstrap=False, max_depth=None, max_features=2, min_samples_leaf=3, min_samples_split=3, n_estimators=180 \n",
      "[CV]  bootstrap=False, max_depth=None, max_features=2, min_samples_leaf=3, min_samples_split=3, n_estimators=200, total=   3.2s\n",
      "[CV] bootstrap=False, max_depth=None, max_features=2, min_samples_leaf=3, min_samples_split=3, n_estimators=180 \n",
      "[CV]  bootstrap=False, max_depth=None, max_features=2, min_samples_leaf=3, min_samples_split=3, n_estimators=200, total=   3.2s\n",
      "[CV] bootstrap=False, max_depth=None, max_features=2, min_samples_leaf=3, min_samples_split=3, n_estimators=180 \n",
      "[CV]  bootstrap=False, max_depth=None, max_features=2, min_samples_leaf=3, min_samples_split=3, n_estimators=200, total=   3.2s\n",
      "[CV] bootstrap=False, max_depth=None, max_features=2, min_samples_leaf=3, min_samples_split=5, n_estimators=100 \n",
      "[CV]  bootstrap=False, max_depth=None, max_features=2, min_samples_leaf=3, min_samples_split=3, n_estimators=180, total=   2.9s\n",
      "[CV] bootstrap=False, max_depth=None, max_features=2, min_samples_leaf=3, min_samples_split=5, n_estimators=100 \n",
      "[CV]  bootstrap=False, max_depth=None, max_features=2, min_samples_leaf=3, min_samples_split=5, n_estimators=100, total=   1.6s\n",
      "[CV] bootstrap=False, max_depth=None, max_features=2, min_samples_leaf=3, min_samples_split=5, n_estimators=100 \n",
      "[CV]  bootstrap=False, max_depth=None, max_features=2, min_samples_leaf=3, min_samples_split=3, n_estimators=180, total=   3.0s\n",
      "[CV] bootstrap=False, max_depth=None, max_features=2, min_samples_leaf=3, min_samples_split=5, n_estimators=150 \n",
      "[CV]  bootstrap=False, max_depth=None, max_features=2, min_samples_leaf=3, min_samples_split=5, n_estimators=100, total=   1.7s\n",
      "[CV] bootstrap=False, max_depth=None, max_features=2, min_samples_leaf=3, min_samples_split=5, n_estimators=150 \n",
      "[CV]  bootstrap=False, max_depth=None, max_features=2, min_samples_leaf=3, min_samples_split=3, n_estimators=180, total=   3.1s\n",
      "[CV] bootstrap=False, max_depth=None, max_features=2, min_samples_leaf=3, min_samples_split=5, n_estimators=150 \n",
      "[CV]  bootstrap=False, max_depth=None, max_features=2, min_samples_leaf=3, min_samples_split=5, n_estimators=100, total=   2.0s\n",
      "[CV] bootstrap=False, max_depth=None, max_features=2, min_samples_leaf=3, min_samples_split=5, n_estimators=200 \n",
      "[CV]  bootstrap=False, max_depth=None, max_features=2, min_samples_leaf=3, min_samples_split=5, n_estimators=150, total=   2.6s\n",
      "[CV] bootstrap=False, max_depth=None, max_features=2, min_samples_leaf=3, min_samples_split=5, n_estimators=200 \n",
      "[CV]  bootstrap=False, max_depth=None, max_features=2, min_samples_leaf=3, min_samples_split=5, n_estimators=150, total=   2.9s\n",
      "[CV] bootstrap=False, max_depth=None, max_features=2, min_samples_leaf=3, min_samples_split=5, n_estimators=200 \n",
      "[CV]  bootstrap=False, max_depth=None, max_features=2, min_samples_leaf=3, min_samples_split=5, n_estimators=150, total=   2.7s\n",
      "[CV] bootstrap=False, max_depth=None, max_features=2, min_samples_leaf=3, min_samples_split=5, n_estimators=180 \n",
      "[CV]  bootstrap=False, max_depth=None, max_features=2, min_samples_leaf=3, min_samples_split=5, n_estimators=200, total=   3.5s\n",
      "[CV] bootstrap=False, max_depth=None, max_features=2, min_samples_leaf=3, min_samples_split=5, n_estimators=180 \n",
      "[CV]  bootstrap=False, max_depth=None, max_features=2, min_samples_leaf=3, min_samples_split=5, n_estimators=200, total=   3.4s\n",
      "[CV] bootstrap=False, max_depth=None, max_features=2, min_samples_leaf=3, min_samples_split=5, n_estimators=180 \n",
      "[CV]  bootstrap=False, max_depth=None, max_features=2, min_samples_leaf=3, min_samples_split=5, n_estimators=200, total=   3.3s\n",
      "[CV] bootstrap=False, max_depth=None, max_features=2, min_samples_leaf=3, min_samples_split=7, n_estimators=100 \n",
      "[CV]  bootstrap=False, max_depth=None, max_features=2, min_samples_leaf=3, min_samples_split=5, n_estimators=180, total=   2.9s\n",
      "[CV] bootstrap=False, max_depth=None, max_features=2, min_samples_leaf=3, min_samples_split=7, n_estimators=100 \n",
      "[CV]  bootstrap=False, max_depth=None, max_features=2, min_samples_leaf=3, min_samples_split=7, n_estimators=100, total=   2.2s\n",
      "[CV] bootstrap=False, max_depth=None, max_features=2, min_samples_leaf=3, min_samples_split=7, n_estimators=100 \n",
      "[CV]  bootstrap=False, max_depth=None, max_features=2, min_samples_leaf=3, min_samples_split=5, n_estimators=180, total=   3.6s\n",
      "[CV] bootstrap=False, max_depth=None, max_features=2, min_samples_leaf=3, min_samples_split=7, n_estimators=150 \n",
      "[CV]  bootstrap=False, max_depth=None, max_features=2, min_samples_leaf=3, min_samples_split=7, n_estimators=100, total=   2.4s\n",
      "[CV] bootstrap=False, max_depth=None, max_features=2, min_samples_leaf=3, min_samples_split=7, n_estimators=150 \n",
      "[CV]  bootstrap=False, max_depth=None, max_features=2, min_samples_leaf=3, min_samples_split=5, n_estimators=180, total=   4.5s\n",
      "[CV] bootstrap=False, max_depth=None, max_features=2, min_samples_leaf=3, min_samples_split=7, n_estimators=150 \n",
      "[CV]  bootstrap=False, max_depth=None, max_features=2, min_samples_leaf=3, min_samples_split=7, n_estimators=100, total=   3.2s\n",
      "[CV] bootstrap=False, max_depth=None, max_features=2, min_samples_leaf=3, min_samples_split=7, n_estimators=200 \n",
      "[CV]  bootstrap=False, max_depth=None, max_features=2, min_samples_leaf=3, min_samples_split=7, n_estimators=150, total=   4.4s\n",
      "[CV] bootstrap=False, max_depth=None, max_features=2, min_samples_leaf=3, min_samples_split=7, n_estimators=200 \n",
      "[CV]  bootstrap=False, max_depth=None, max_features=2, min_samples_leaf=3, min_samples_split=7, n_estimators=150, total=   4.7s\n",
      "[CV] bootstrap=False, max_depth=None, max_features=2, min_samples_leaf=3, min_samples_split=7, n_estimators=200 \n",
      "[CV]  bootstrap=False, max_depth=None, max_features=2, min_samples_leaf=3, min_samples_split=7, n_estimators=150, total=   4.5s\n",
      "[CV] bootstrap=False, max_depth=None, max_features=2, min_samples_leaf=3, min_samples_split=7, n_estimators=180 \n",
      "[CV]  bootstrap=False, max_depth=None, max_features=2, min_samples_leaf=3, min_samples_split=7, n_estimators=200, total=   5.6s\n",
      "[CV] bootstrap=False, max_depth=None, max_features=2, min_samples_leaf=3, min_samples_split=7, n_estimators=180 \n",
      "[CV]  bootstrap=False, max_depth=None, max_features=2, min_samples_leaf=3, min_samples_split=7, n_estimators=200, total=   5.4s\n",
      "[CV] bootstrap=False, max_depth=None, max_features=2, min_samples_leaf=3, min_samples_split=7, n_estimators=180 \n",
      "[CV]  bootstrap=False, max_depth=None, max_features=2, min_samples_leaf=3, min_samples_split=7, n_estimators=200, total=   5.4s\n",
      "[CV] bootstrap=False, max_depth=None, max_features=2, min_samples_leaf=4, min_samples_split=3, n_estimators=100 \n",
      "[CV]  bootstrap=False, max_depth=None, max_features=2, min_samples_leaf=3, min_samples_split=7, n_estimators=180, total=   4.1s\n",
      "[CV] bootstrap=False, max_depth=None, max_features=2, min_samples_leaf=4, min_samples_split=3, n_estimators=100 \n",
      "[CV]  bootstrap=False, max_depth=None, max_features=2, min_samples_leaf=4, min_samples_split=3, n_estimators=100, total=   1.6s\n",
      "[CV] bootstrap=False, max_depth=None, max_features=2, min_samples_leaf=4, min_samples_split=3, n_estimators=100 \n",
      "[CV]  bootstrap=False, max_depth=None, max_features=2, min_samples_leaf=3, min_samples_split=7, n_estimators=180, total=   3.4s\n",
      "[CV] bootstrap=False, max_depth=None, max_features=2, min_samples_leaf=4, min_samples_split=3, n_estimators=150 \n",
      "[CV]  bootstrap=False, max_depth=None, max_features=2, min_samples_leaf=4, min_samples_split=3, n_estimators=100, total=   1.5s\n",
      "[CV] bootstrap=False, max_depth=None, max_features=2, min_samples_leaf=4, min_samples_split=3, n_estimators=150 \n",
      "[CV]  bootstrap=False, max_depth=None, max_features=2, min_samples_leaf=3, min_samples_split=7, n_estimators=180, total=   3.2s\n",
      "[CV] bootstrap=False, max_depth=None, max_features=2, min_samples_leaf=4, min_samples_split=3, n_estimators=150 \n",
      "[CV]  bootstrap=False, max_depth=None, max_features=2, min_samples_leaf=4, min_samples_split=3, n_estimators=100, total=   1.6s\n",
      "[CV] bootstrap=False, max_depth=None, max_features=2, min_samples_leaf=4, min_samples_split=3, n_estimators=200 \n"
     ]
    },
    {
     "name": "stdout",
     "output_type": "stream",
     "text": [
      "[CV]  bootstrap=False, max_depth=None, max_features=2, min_samples_leaf=4, min_samples_split=3, n_estimators=150, total=   2.4s\n",
      "[CV] bootstrap=False, max_depth=None, max_features=2, min_samples_leaf=4, min_samples_split=3, n_estimators=200 \n",
      "[CV]  bootstrap=False, max_depth=None, max_features=2, min_samples_leaf=4, min_samples_split=3, n_estimators=150, total=   2.2s\n",
      "[CV] bootstrap=False, max_depth=None, max_features=2, min_samples_leaf=4, min_samples_split=3, n_estimators=200 \n",
      "[CV]  bootstrap=False, max_depth=None, max_features=2, min_samples_leaf=4, min_samples_split=3, n_estimators=150, total=   2.3s\n",
      "[CV] bootstrap=False, max_depth=None, max_features=2, min_samples_leaf=4, min_samples_split=3, n_estimators=180 \n",
      "[CV]  bootstrap=False, max_depth=None, max_features=2, min_samples_leaf=4, min_samples_split=3, n_estimators=200, total=   2.9s\n",
      "[CV] bootstrap=False, max_depth=None, max_features=2, min_samples_leaf=4, min_samples_split=3, n_estimators=180 \n",
      "[CV]  bootstrap=False, max_depth=None, max_features=2, min_samples_leaf=4, min_samples_split=3, n_estimators=200, total=   2.9s\n",
      "[CV] bootstrap=False, max_depth=None, max_features=2, min_samples_leaf=4, min_samples_split=3, n_estimators=180 \n",
      "[CV]  bootstrap=False, max_depth=None, max_features=2, min_samples_leaf=4, min_samples_split=3, n_estimators=200, total=   2.9s\n",
      "[CV] bootstrap=False, max_depth=None, max_features=2, min_samples_leaf=4, min_samples_split=5, n_estimators=100 \n",
      "[CV]  bootstrap=False, max_depth=None, max_features=2, min_samples_leaf=4, min_samples_split=3, n_estimators=180, total=   2.7s\n",
      "[CV] bootstrap=False, max_depth=None, max_features=2, min_samples_leaf=4, min_samples_split=5, n_estimators=100 \n",
      "[CV]  bootstrap=False, max_depth=None, max_features=2, min_samples_leaf=4, min_samples_split=5, n_estimators=100, total=   1.5s\n",
      "[CV] bootstrap=False, max_depth=None, max_features=2, min_samples_leaf=4, min_samples_split=5, n_estimators=100 \n",
      "[CV]  bootstrap=False, max_depth=None, max_features=2, min_samples_leaf=4, min_samples_split=3, n_estimators=180, total=   2.9s\n",
      "[CV] bootstrap=False, max_depth=None, max_features=2, min_samples_leaf=4, min_samples_split=5, n_estimators=150 \n",
      "[CV]  bootstrap=False, max_depth=None, max_features=2, min_samples_leaf=4, min_samples_split=5, n_estimators=100, total=   1.7s\n",
      "[CV] bootstrap=False, max_depth=None, max_features=2, min_samples_leaf=4, min_samples_split=5, n_estimators=150 \n",
      "[CV]  bootstrap=False, max_depth=None, max_features=2, min_samples_leaf=4, min_samples_split=3, n_estimators=180, total=   2.9s\n",
      "[CV] bootstrap=False, max_depth=None, max_features=2, min_samples_leaf=4, min_samples_split=5, n_estimators=150 \n",
      "[CV]  bootstrap=False, max_depth=None, max_features=2, min_samples_leaf=4, min_samples_split=5, n_estimators=100, total=   2.0s\n",
      "[CV] bootstrap=False, max_depth=None, max_features=2, min_samples_leaf=4, min_samples_split=5, n_estimators=200 \n",
      "[CV]  bootstrap=False, max_depth=None, max_features=2, min_samples_leaf=4, min_samples_split=5, n_estimators=150, total=   2.9s\n",
      "[CV] bootstrap=False, max_depth=None, max_features=2, min_samples_leaf=4, min_samples_split=5, n_estimators=200 \n",
      "[CV]  bootstrap=False, max_depth=None, max_features=2, min_samples_leaf=4, min_samples_split=5, n_estimators=150, total=   3.1s\n",
      "[CV] bootstrap=False, max_depth=None, max_features=2, min_samples_leaf=4, min_samples_split=5, n_estimators=200 \n",
      "[CV]  bootstrap=False, max_depth=None, max_features=2, min_samples_leaf=4, min_samples_split=5, n_estimators=150, total=   3.0s\n",
      "[CV] bootstrap=False, max_depth=None, max_features=2, min_samples_leaf=4, min_samples_split=5, n_estimators=180 \n",
      "[CV]  bootstrap=False, max_depth=None, max_features=2, min_samples_leaf=4, min_samples_split=5, n_estimators=200, total=   4.2s\n",
      "[CV] bootstrap=False, max_depth=None, max_features=2, min_samples_leaf=4, min_samples_split=5, n_estimators=180 \n",
      "[CV]  bootstrap=False, max_depth=None, max_features=2, min_samples_leaf=4, min_samples_split=5, n_estimators=200, total=   4.4s\n",
      "[CV] bootstrap=False, max_depth=None, max_features=2, min_samples_leaf=4, min_samples_split=5, n_estimators=180 \n",
      "[CV]  bootstrap=False, max_depth=None, max_features=2, min_samples_leaf=4, min_samples_split=5, n_estimators=200, total=   4.7s\n",
      "[CV] bootstrap=False, max_depth=None, max_features=2, min_samples_leaf=4, min_samples_split=7, n_estimators=100 \n",
      "[CV]  bootstrap=False, max_depth=None, max_features=2, min_samples_leaf=4, min_samples_split=5, n_estimators=180, total=   4.0s\n",
      "[CV] bootstrap=False, max_depth=None, max_features=2, min_samples_leaf=4, min_samples_split=7, n_estimators=100 \n",
      "[CV]  bootstrap=False, max_depth=None, max_features=2, min_samples_leaf=4, min_samples_split=5, n_estimators=180, total=   3.7s\n",
      "[CV] bootstrap=False, max_depth=None, max_features=2, min_samples_leaf=4, min_samples_split=7, n_estimators=100 \n",
      "[CV]  bootstrap=False, max_depth=None, max_features=2, min_samples_leaf=4, min_samples_split=7, n_estimators=100, total=   1.8s\n",
      "[CV] bootstrap=False, max_depth=None, max_features=2, min_samples_leaf=4, min_samples_split=7, n_estimators=150 \n",
      "[CV]  bootstrap=False, max_depth=None, max_features=2, min_samples_leaf=4, min_samples_split=7, n_estimators=100, total=   2.0s\n",
      "[CV] bootstrap=False, max_depth=None, max_features=2, min_samples_leaf=4, min_samples_split=7, n_estimators=150 \n",
      "[CV]  bootstrap=False, max_depth=None, max_features=2, min_samples_leaf=4, min_samples_split=5, n_estimators=180, total=   3.8s\n",
      "[CV] bootstrap=False, max_depth=None, max_features=2, min_samples_leaf=4, min_samples_split=7, n_estimators=150 \n",
      "[CV]  bootstrap=False, max_depth=None, max_features=2, min_samples_leaf=4, min_samples_split=7, n_estimators=100, total=   2.4s\n",
      "[CV] bootstrap=False, max_depth=None, max_features=2, min_samples_leaf=4, min_samples_split=7, n_estimators=200 \n",
      "[CV]  bootstrap=False, max_depth=None, max_features=2, min_samples_leaf=4, min_samples_split=7, n_estimators=150, total=   3.5s\n",
      "[CV] bootstrap=False, max_depth=None, max_features=2, min_samples_leaf=4, min_samples_split=7, n_estimators=200 \n",
      "[CV]  bootstrap=False, max_depth=None, max_features=2, min_samples_leaf=4, min_samples_split=7, n_estimators=150, total=   3.8s\n",
      "[CV] bootstrap=False, max_depth=None, max_features=2, min_samples_leaf=4, min_samples_split=7, n_estimators=200 \n",
      "[CV]  bootstrap=False, max_depth=None, max_features=2, min_samples_leaf=4, min_samples_split=7, n_estimators=150, total=   3.9s\n",
      "[CV] bootstrap=False, max_depth=None, max_features=2, min_samples_leaf=4, min_samples_split=7, n_estimators=180 \n",
      "[CV]  bootstrap=False, max_depth=None, max_features=2, min_samples_leaf=4, min_samples_split=7, n_estimators=200, total=   5.0s\n",
      "[CV] bootstrap=False, max_depth=None, max_features=2, min_samples_leaf=4, min_samples_split=7, n_estimators=180 \n",
      "[CV]  bootstrap=False, max_depth=None, max_features=2, min_samples_leaf=4, min_samples_split=7, n_estimators=200, total=   4.6s\n",
      "[CV] bootstrap=False, max_depth=None, max_features=2, min_samples_leaf=4, min_samples_split=7, n_estimators=180 \n",
      "[CV]  bootstrap=False, max_depth=None, max_features=2, min_samples_leaf=4, min_samples_split=7, n_estimators=200, total=   4.1s\n",
      "[CV] bootstrap=False, max_depth=None, max_features=3, min_samples_leaf=2, min_samples_split=3, n_estimators=100 \n",
      "[CV]  bootstrap=False, max_depth=None, max_features=2, min_samples_leaf=4, min_samples_split=7, n_estimators=180, total=   3.8s\n",
      "[CV] bootstrap=False, max_depth=None, max_features=3, min_samples_leaf=2, min_samples_split=3, n_estimators=100 \n",
      "[CV]  bootstrap=False, max_depth=None, max_features=2, min_samples_leaf=4, min_samples_split=7, n_estimators=180, total=   2.6s\n",
      "[CV] bootstrap=False, max_depth=None, max_features=3, min_samples_leaf=2, min_samples_split=3, n_estimators=100 \n",
      "[CV]  bootstrap=False, max_depth=None, max_features=2, min_samples_leaf=4, min_samples_split=7, n_estimators=180, total=   2.6s\n",
      "[CV] bootstrap=False, max_depth=None, max_features=3, min_samples_leaf=2, min_samples_split=3, n_estimators=150 \n",
      "[CV]  bootstrap=False, max_depth=None, max_features=3, min_samples_leaf=2, min_samples_split=3, n_estimators=100, total=   2.7s\n",
      "[CV] bootstrap=False, max_depth=None, max_features=3, min_samples_leaf=2, min_samples_split=3, n_estimators=150 \n"
     ]
    },
    {
     "name": "stdout",
     "output_type": "stream",
     "text": [
      "[CV]  bootstrap=False, max_depth=None, max_features=3, min_samples_leaf=2, min_samples_split=3, n_estimators=100, total=   2.7s\n",
      "[CV] bootstrap=False, max_depth=None, max_features=3, min_samples_leaf=2, min_samples_split=3, n_estimators=150 \n",
      "[CV]  bootstrap=False, max_depth=None, max_features=3, min_samples_leaf=2, min_samples_split=3, n_estimators=100, total=   2.6s\n",
      "[CV] bootstrap=False, max_depth=None, max_features=3, min_samples_leaf=2, min_samples_split=3, n_estimators=200 \n",
      "[CV]  bootstrap=False, max_depth=None, max_features=3, min_samples_leaf=2, min_samples_split=3, n_estimators=150, total=   4.0s\n",
      "[CV] bootstrap=False, max_depth=None, max_features=3, min_samples_leaf=2, min_samples_split=3, n_estimators=200 \n",
      "[CV]  bootstrap=False, max_depth=None, max_features=3, min_samples_leaf=2, min_samples_split=3, n_estimators=150, total=   4.1s\n",
      "[CV] bootstrap=False, max_depth=None, max_features=3, min_samples_leaf=2, min_samples_split=3, n_estimators=200 \n",
      "[CV]  bootstrap=False, max_depth=None, max_features=3, min_samples_leaf=2, min_samples_split=3, n_estimators=150, total=   4.1s\n",
      "[CV] bootstrap=False, max_depth=None, max_features=3, min_samples_leaf=2, min_samples_split=3, n_estimators=180 \n",
      "[CV]  bootstrap=False, max_depth=None, max_features=3, min_samples_leaf=2, min_samples_split=3, n_estimators=200, total=   5.6s\n",
      "[CV] bootstrap=False, max_depth=None, max_features=3, min_samples_leaf=2, min_samples_split=3, n_estimators=180 \n",
      "[CV]  bootstrap=False, max_depth=None, max_features=3, min_samples_leaf=2, min_samples_split=3, n_estimators=200, total=   5.6s\n",
      "[CV] bootstrap=False, max_depth=None, max_features=3, min_samples_leaf=2, min_samples_split=3, n_estimators=180 \n",
      "[CV]  bootstrap=False, max_depth=None, max_features=3, min_samples_leaf=2, min_samples_split=3, n_estimators=180, total=   5.1s\n",
      "[CV] bootstrap=False, max_depth=None, max_features=3, min_samples_leaf=2, min_samples_split=5, n_estimators=100 \n",
      "[CV]  bootstrap=False, max_depth=None, max_features=3, min_samples_leaf=2, min_samples_split=3, n_estimators=200, total=   5.7s\n",
      "[CV] bootstrap=False, max_depth=None, max_features=3, min_samples_leaf=2, min_samples_split=5, n_estimators=100 \n",
      "[CV]  bootstrap=False, max_depth=None, max_features=3, min_samples_leaf=2, min_samples_split=5, n_estimators=100, total=   2.5s\n",
      "[CV] bootstrap=False, max_depth=None, max_features=3, min_samples_leaf=2, min_samples_split=5, n_estimators=100 \n",
      "[CV]  bootstrap=False, max_depth=None, max_features=3, min_samples_leaf=2, min_samples_split=5, n_estimators=100, total=   2.5s\n",
      "[CV] bootstrap=False, max_depth=None, max_features=3, min_samples_leaf=2, min_samples_split=5, n_estimators=150 \n",
      "[CV]  bootstrap=False, max_depth=None, max_features=3, min_samples_leaf=2, min_samples_split=3, n_estimators=180, total=   4.7s\n",
      "[CV] bootstrap=False, max_depth=None, max_features=3, min_samples_leaf=2, min_samples_split=5, n_estimators=150 \n",
      "[CV]  bootstrap=False, max_depth=None, max_features=3, min_samples_leaf=2, min_samples_split=3, n_estimators=180, total=   5.0s\n",
      "[CV] bootstrap=False, max_depth=None, max_features=3, min_samples_leaf=2, min_samples_split=5, n_estimators=150 \n",
      "[CV]  bootstrap=False, max_depth=None, max_features=3, min_samples_leaf=2, min_samples_split=5, n_estimators=100, total=   2.8s\n",
      "[CV] bootstrap=False, max_depth=None, max_features=3, min_samples_leaf=2, min_samples_split=5, n_estimators=200 \n",
      "[CV]  bootstrap=False, max_depth=None, max_features=3, min_samples_leaf=2, min_samples_split=5, n_estimators=150, total=   4.0s\n",
      "[CV] bootstrap=False, max_depth=None, max_features=3, min_samples_leaf=2, min_samples_split=5, n_estimators=200 \n",
      "[CV]  bootstrap=False, max_depth=None, max_features=3, min_samples_leaf=2, min_samples_split=5, n_estimators=150, total=   4.1s\n",
      "[CV] bootstrap=False, max_depth=None, max_features=3, min_samples_leaf=2, min_samples_split=5, n_estimators=200 \n",
      "[CV]  bootstrap=False, max_depth=None, max_features=3, min_samples_leaf=2, min_samples_split=5, n_estimators=150, total=   3.9s\n",
      "[CV] bootstrap=False, max_depth=None, max_features=3, min_samples_leaf=2, min_samples_split=5, n_estimators=180 \n",
      "[CV]  bootstrap=False, max_depth=None, max_features=3, min_samples_leaf=2, min_samples_split=5, n_estimators=200, total=   5.1s\n",
      "[CV] bootstrap=False, max_depth=None, max_features=3, min_samples_leaf=2, min_samples_split=5, n_estimators=180 \n",
      "[CV]  bootstrap=False, max_depth=None, max_features=3, min_samples_leaf=2, min_samples_split=5, n_estimators=200, total=   5.1s\n",
      "[CV] bootstrap=False, max_depth=None, max_features=3, min_samples_leaf=2, min_samples_split=5, n_estimators=180 \n",
      "[CV]  bootstrap=False, max_depth=None, max_features=3, min_samples_leaf=2, min_samples_split=5, n_estimators=200, total=   5.1s\n",
      "[CV] bootstrap=False, max_depth=None, max_features=3, min_samples_leaf=2, min_samples_split=7, n_estimators=100 \n",
      "[CV]  bootstrap=False, max_depth=None, max_features=3, min_samples_leaf=2, min_samples_split=5, n_estimators=180, total=   4.6s\n",
      "[CV] bootstrap=False, max_depth=None, max_features=3, min_samples_leaf=2, min_samples_split=7, n_estimators=100 \n",
      "[CV]  bootstrap=False, max_depth=None, max_features=3, min_samples_leaf=2, min_samples_split=7, n_estimators=100, total=   2.5s\n",
      "[CV] bootstrap=False, max_depth=None, max_features=3, min_samples_leaf=2, min_samples_split=7, n_estimators=100 \n",
      "[CV]  bootstrap=False, max_depth=None, max_features=3, min_samples_leaf=2, min_samples_split=5, n_estimators=180, total=   4.5s\n",
      "[CV] bootstrap=False, max_depth=None, max_features=3, min_samples_leaf=2, min_samples_split=7, n_estimators=150 \n",
      "[CV]  bootstrap=False, max_depth=None, max_features=3, min_samples_leaf=2, min_samples_split=7, n_estimators=100, total=   2.5s\n",
      "[CV] bootstrap=False, max_depth=None, max_features=3, min_samples_leaf=2, min_samples_split=7, n_estimators=150 \n",
      "[CV]  bootstrap=False, max_depth=None, max_features=3, min_samples_leaf=2, min_samples_split=5, n_estimators=180, total=   4.7s\n",
      "[CV] bootstrap=False, max_depth=None, max_features=3, min_samples_leaf=2, min_samples_split=7, n_estimators=150 \n",
      "[CV]  bootstrap=False, max_depth=None, max_features=3, min_samples_leaf=2, min_samples_split=7, n_estimators=100, total=   2.4s\n",
      "[CV] bootstrap=False, max_depth=None, max_features=3, min_samples_leaf=2, min_samples_split=7, n_estimators=200 \n",
      "[CV]  bootstrap=False, max_depth=None, max_features=3, min_samples_leaf=2, min_samples_split=7, n_estimators=150, total=   3.9s\n",
      "[CV] bootstrap=False, max_depth=None, max_features=3, min_samples_leaf=2, min_samples_split=7, n_estimators=200 \n",
      "[CV]  bootstrap=False, max_depth=None, max_features=3, min_samples_leaf=2, min_samples_split=7, n_estimators=150, total=   3.9s\n",
      "[CV] bootstrap=False, max_depth=None, max_features=3, min_samples_leaf=2, min_samples_split=7, n_estimators=200 \n",
      "[CV]  bootstrap=False, max_depth=None, max_features=3, min_samples_leaf=2, min_samples_split=7, n_estimators=150, total=   3.8s\n",
      "[CV] bootstrap=False, max_depth=None, max_features=3, min_samples_leaf=2, min_samples_split=7, n_estimators=180 \n",
      "[CV]  bootstrap=False, max_depth=None, max_features=3, min_samples_leaf=2, min_samples_split=7, n_estimators=200, total=   5.1s\n",
      "[CV] bootstrap=False, max_depth=None, max_features=3, min_samples_leaf=2, min_samples_split=7, n_estimators=180 \n",
      "[CV]  bootstrap=False, max_depth=None, max_features=3, min_samples_leaf=2, min_samples_split=7, n_estimators=200, total=   5.2s\n",
      "[CV] bootstrap=False, max_depth=None, max_features=3, min_samples_leaf=2, min_samples_split=7, n_estimators=180 \n",
      "[CV]  bootstrap=False, max_depth=None, max_features=3, min_samples_leaf=2, min_samples_split=7, n_estimators=180, total=   4.7s\n",
      "[CV]  bootstrap=False, max_depth=None, max_features=3, min_samples_leaf=2, min_samples_split=7, n_estimators=200, total=   5.3s\n",
      "[CV] bootstrap=False, max_depth=None, max_features=3, min_samples_leaf=3, min_samples_split=3, n_estimators=100 \n",
      "[CV] bootstrap=False, max_depth=None, max_features=3, min_samples_leaf=3, min_samples_split=3, n_estimators=100 \n"
     ]
    },
    {
     "name": "stderr",
     "output_type": "stream",
     "text": [
      "[Parallel(n_jobs=-1)]: Done 357 tasks      | elapsed:  4.9min\n"
     ]
    },
    {
     "name": "stdout",
     "output_type": "stream",
     "text": [
      "[CV]  bootstrap=False, max_depth=None, max_features=3, min_samples_leaf=2, min_samples_split=7, n_estimators=180, total=   4.8s\n",
      "[CV] bootstrap=False, max_depth=None, max_features=3, min_samples_leaf=3, min_samples_split=3, n_estimators=100 \n",
      "[CV]  bootstrap=False, max_depth=None, max_features=3, min_samples_leaf=3, min_samples_split=3, n_estimators=100, total=   2.3s\n",
      "[CV] bootstrap=False, max_depth=None, max_features=3, min_samples_leaf=3, min_samples_split=3, n_estimators=150 \n",
      "[CV]  bootstrap=False, max_depth=None, max_features=3, min_samples_leaf=3, min_samples_split=3, n_estimators=100, total=   2.3s\n",
      "[CV] bootstrap=False, max_depth=None, max_features=3, min_samples_leaf=3, min_samples_split=3, n_estimators=150 \n",
      "[CV]  bootstrap=False, max_depth=None, max_features=3, min_samples_leaf=2, min_samples_split=7, n_estimators=180, total=   4.6s\n",
      "[CV] bootstrap=False, max_depth=None, max_features=3, min_samples_leaf=3, min_samples_split=3, n_estimators=150 \n",
      "[CV]  bootstrap=False, max_depth=None, max_features=3, min_samples_leaf=3, min_samples_split=3, n_estimators=100, total=   2.3s\n",
      "[CV] bootstrap=False, max_depth=None, max_features=3, min_samples_leaf=3, min_samples_split=3, n_estimators=200 \n",
      "[CV]  bootstrap=False, max_depth=None, max_features=3, min_samples_leaf=3, min_samples_split=3, n_estimators=150, total=   3.2s\n",
      "[CV] bootstrap=False, max_depth=None, max_features=3, min_samples_leaf=3, min_samples_split=3, n_estimators=200 \n",
      "[CV]  bootstrap=False, max_depth=None, max_features=3, min_samples_leaf=3, min_samples_split=3, n_estimators=150, total=   3.2s\n",
      "[CV] bootstrap=False, max_depth=None, max_features=3, min_samples_leaf=3, min_samples_split=3, n_estimators=200 \n",
      "[CV]  bootstrap=False, max_depth=None, max_features=3, min_samples_leaf=3, min_samples_split=3, n_estimators=150, total=   3.3s\n",
      "[CV] bootstrap=False, max_depth=None, max_features=3, min_samples_leaf=3, min_samples_split=3, n_estimators=180 \n",
      "[CV]  bootstrap=False, max_depth=None, max_features=3, min_samples_leaf=3, min_samples_split=3, n_estimators=200, total=   4.3s\n",
      "[CV] bootstrap=False, max_depth=None, max_features=3, min_samples_leaf=3, min_samples_split=3, n_estimators=180 \n",
      "[CV]  bootstrap=False, max_depth=None, max_features=3, min_samples_leaf=3, min_samples_split=3, n_estimators=200, total=   4.3s\n",
      "[CV] bootstrap=False, max_depth=None, max_features=3, min_samples_leaf=3, min_samples_split=3, n_estimators=180 \n",
      "[CV]  bootstrap=False, max_depth=None, max_features=3, min_samples_leaf=3, min_samples_split=3, n_estimators=200, total=   4.2s\n",
      "[CV] bootstrap=False, max_depth=None, max_features=3, min_samples_leaf=3, min_samples_split=5, n_estimators=100 \n",
      "[CV]  bootstrap=False, max_depth=None, max_features=3, min_samples_leaf=3, min_samples_split=3, n_estimators=180, total=   4.0s\n",
      "[CV] bootstrap=False, max_depth=None, max_features=3, min_samples_leaf=3, min_samples_split=5, n_estimators=100 \n",
      "[CV]  bootstrap=False, max_depth=None, max_features=3, min_samples_leaf=3, min_samples_split=5, n_estimators=100, total=   2.2s\n",
      "[CV] bootstrap=False, max_depth=None, max_features=3, min_samples_leaf=3, min_samples_split=5, n_estimators=100 \n",
      "[CV]  bootstrap=False, max_depth=None, max_features=3, min_samples_leaf=3, min_samples_split=3, n_estimators=180, total=   3.9s\n",
      "[CV] bootstrap=False, max_depth=None, max_features=3, min_samples_leaf=3, min_samples_split=5, n_estimators=150 \n",
      "[CV]  bootstrap=False, max_depth=None, max_features=3, min_samples_leaf=3, min_samples_split=5, n_estimators=100, total=   2.4s\n",
      "[CV] bootstrap=False, max_depth=None, max_features=3, min_samples_leaf=3, min_samples_split=5, n_estimators=150 \n",
      "[CV]  bootstrap=False, max_depth=None, max_features=3, min_samples_leaf=3, min_samples_split=3, n_estimators=180, total=   4.7s\n",
      "[CV] bootstrap=False, max_depth=None, max_features=3, min_samples_leaf=3, min_samples_split=5, n_estimators=150 \n",
      "[CV]  bootstrap=False, max_depth=None, max_features=3, min_samples_leaf=3, min_samples_split=5, n_estimators=100, total=   3.2s\n",
      "[CV] bootstrap=False, max_depth=None, max_features=3, min_samples_leaf=3, min_samples_split=5, n_estimators=200 \n",
      "[CV]  bootstrap=False, max_depth=None, max_features=3, min_samples_leaf=3, min_samples_split=5, n_estimators=150, total=   4.4s\n",
      "[CV] bootstrap=False, max_depth=None, max_features=3, min_samples_leaf=3, min_samples_split=5, n_estimators=200 \n",
      "[CV]  bootstrap=False, max_depth=None, max_features=3, min_samples_leaf=3, min_samples_split=5, n_estimators=150, total=   4.3s\n",
      "[CV] bootstrap=False, max_depth=None, max_features=3, min_samples_leaf=3, min_samples_split=5, n_estimators=200 \n",
      "[CV]  bootstrap=False, max_depth=None, max_features=3, min_samples_leaf=3, min_samples_split=5, n_estimators=150, total=   3.9s\n",
      "[CV] bootstrap=False, max_depth=None, max_features=3, min_samples_leaf=3, min_samples_split=5, n_estimators=180 \n",
      "[CV]  bootstrap=False, max_depth=None, max_features=3, min_samples_leaf=3, min_samples_split=5, n_estimators=200, total=   4.7s\n",
      "[CV] bootstrap=False, max_depth=None, max_features=3, min_samples_leaf=3, min_samples_split=5, n_estimators=180 \n",
      "[CV]  bootstrap=False, max_depth=None, max_features=3, min_samples_leaf=3, min_samples_split=5, n_estimators=200, total=   4.5s\n",
      "[CV] bootstrap=False, max_depth=None, max_features=3, min_samples_leaf=3, min_samples_split=5, n_estimators=180 \n",
      "[CV]  bootstrap=False, max_depth=None, max_features=3, min_samples_leaf=3, min_samples_split=5, n_estimators=200, total=   4.4s\n",
      "[CV] bootstrap=False, max_depth=None, max_features=3, min_samples_leaf=3, min_samples_split=7, n_estimators=100 \n",
      "[CV]  bootstrap=False, max_depth=None, max_features=3, min_samples_leaf=3, min_samples_split=5, n_estimators=180, total=   4.0s\n",
      "[CV] bootstrap=False, max_depth=None, max_features=3, min_samples_leaf=3, min_samples_split=7, n_estimators=100 \n",
      "[CV]  bootstrap=False, max_depth=None, max_features=3, min_samples_leaf=3, min_samples_split=5, n_estimators=180, total=   4.0s\n",
      "[CV]  bootstrap=False, max_depth=None, max_features=3, min_samples_leaf=3, min_samples_split=7, n_estimators=100, total=   2.1s\n",
      "[CV] bootstrap=False, max_depth=None, max_features=3, min_samples_leaf=3, min_samples_split=7, n_estimators=100 \n",
      "[CV] bootstrap=False, max_depth=None, max_features=3, min_samples_leaf=3, min_samples_split=7, n_estimators=150 \n",
      "[CV]  bootstrap=False, max_depth=None, max_features=3, min_samples_leaf=3, min_samples_split=7, n_estimators=100, total=   2.1s\n",
      "[CV] bootstrap=False, max_depth=None, max_features=3, min_samples_leaf=3, min_samples_split=7, n_estimators=150 \n",
      "[CV]  bootstrap=False, max_depth=None, max_features=3, min_samples_leaf=3, min_samples_split=5, n_estimators=180, total=   3.9s\n",
      "[CV] bootstrap=False, max_depth=None, max_features=3, min_samples_leaf=3, min_samples_split=7, n_estimators=150 \n",
      "[CV]  bootstrap=False, max_depth=None, max_features=3, min_samples_leaf=3, min_samples_split=7, n_estimators=100, total=   2.1s\n",
      "[CV] bootstrap=False, max_depth=None, max_features=3, min_samples_leaf=3, min_samples_split=7, n_estimators=200 \n",
      "[CV]  bootstrap=False, max_depth=None, max_features=3, min_samples_leaf=3, min_samples_split=7, n_estimators=150, total=   3.3s\n",
      "[CV] bootstrap=False, max_depth=None, max_features=3, min_samples_leaf=3, min_samples_split=7, n_estimators=200 \n",
      "[CV]  bootstrap=False, max_depth=None, max_features=3, min_samples_leaf=3, min_samples_split=7, n_estimators=150, total=   3.2s\n",
      "[CV] bootstrap=False, max_depth=None, max_features=3, min_samples_leaf=3, min_samples_split=7, n_estimators=200 \n",
      "[CV]  bootstrap=False, max_depth=None, max_features=3, min_samples_leaf=3, min_samples_split=7, n_estimators=150, total=   3.3s\n",
      "[CV] bootstrap=False, max_depth=None, max_features=3, min_samples_leaf=3, min_samples_split=7, n_estimators=180 \n",
      "[CV]  bootstrap=False, max_depth=None, max_features=3, min_samples_leaf=3, min_samples_split=7, n_estimators=200, total=   4.3s\n",
      "[CV] bootstrap=False, max_depth=None, max_features=3, min_samples_leaf=3, min_samples_split=7, n_estimators=180 \n",
      "[CV]  bootstrap=False, max_depth=None, max_features=3, min_samples_leaf=3, min_samples_split=7, n_estimators=200, total=   4.2s\n",
      "[CV] bootstrap=False, max_depth=None, max_features=3, min_samples_leaf=3, min_samples_split=7, n_estimators=180 \n"
     ]
    },
    {
     "name": "stdout",
     "output_type": "stream",
     "text": [
      "[CV]  bootstrap=False, max_depth=None, max_features=3, min_samples_leaf=3, min_samples_split=7, n_estimators=200, total=   4.3s\n",
      "[CV] bootstrap=False, max_depth=None, max_features=3, min_samples_leaf=4, min_samples_split=3, n_estimators=100 \n",
      "[CV]  bootstrap=False, max_depth=None, max_features=3, min_samples_leaf=3, min_samples_split=7, n_estimators=180, total=   3.9s\n",
      "[CV] bootstrap=False, max_depth=None, max_features=3, min_samples_leaf=4, min_samples_split=3, n_estimators=100 \n",
      "[CV]  bootstrap=False, max_depth=None, max_features=3, min_samples_leaf=4, min_samples_split=3, n_estimators=100, total=   2.0s\n",
      "[CV] bootstrap=False, max_depth=None, max_features=3, min_samples_leaf=4, min_samples_split=3, n_estimators=100 \n",
      "[CV]  bootstrap=False, max_depth=None, max_features=3, min_samples_leaf=3, min_samples_split=7, n_estimators=180, total=   3.9s\n",
      "[CV] bootstrap=False, max_depth=None, max_features=3, min_samples_leaf=4, min_samples_split=3, n_estimators=150 \n",
      "[CV]  bootstrap=False, max_depth=None, max_features=3, min_samples_leaf=4, min_samples_split=3, n_estimators=100, total=   2.0s\n",
      "[CV] bootstrap=False, max_depth=None, max_features=3, min_samples_leaf=4, min_samples_split=3, n_estimators=150 \n",
      "[CV]  bootstrap=False, max_depth=None, max_features=3, min_samples_leaf=3, min_samples_split=7, n_estimators=180, total=   3.9s\n",
      "[CV] bootstrap=False, max_depth=None, max_features=3, min_samples_leaf=4, min_samples_split=3, n_estimators=150 \n",
      "[CV]  bootstrap=False, max_depth=None, max_features=3, min_samples_leaf=4, min_samples_split=3, n_estimators=100, total=   2.0s\n",
      "[CV] bootstrap=False, max_depth=None, max_features=3, min_samples_leaf=4, min_samples_split=3, n_estimators=200 \n",
      "[CV]  bootstrap=False, max_depth=None, max_features=3, min_samples_leaf=4, min_samples_split=3, n_estimators=150, total=   2.9s\n",
      "[CV] bootstrap=False, max_depth=None, max_features=3, min_samples_leaf=4, min_samples_split=3, n_estimators=200 \n",
      "[CV]  bootstrap=False, max_depth=None, max_features=3, min_samples_leaf=4, min_samples_split=3, n_estimators=150, total=   2.9s\n",
      "[CV] bootstrap=False, max_depth=None, max_features=3, min_samples_leaf=4, min_samples_split=3, n_estimators=200 \n",
      "[CV]  bootstrap=False, max_depth=None, max_features=3, min_samples_leaf=4, min_samples_split=3, n_estimators=150, total=   3.0s\n",
      "[CV] bootstrap=False, max_depth=None, max_features=3, min_samples_leaf=4, min_samples_split=3, n_estimators=180 \n",
      "[CV]  bootstrap=False, max_depth=None, max_features=3, min_samples_leaf=4, min_samples_split=3, n_estimators=200, total=   4.0s\n",
      "[CV] bootstrap=False, max_depth=None, max_features=3, min_samples_leaf=4, min_samples_split=3, n_estimators=180 \n",
      "[CV]  bootstrap=False, max_depth=None, max_features=3, min_samples_leaf=4, min_samples_split=3, n_estimators=200, total=   4.2s\n",
      "[CV] bootstrap=False, max_depth=None, max_features=3, min_samples_leaf=4, min_samples_split=3, n_estimators=180 \n",
      "[CV]  bootstrap=False, max_depth=None, max_features=3, min_samples_leaf=4, min_samples_split=3, n_estimators=200, total=   4.1s\n",
      "[CV] bootstrap=False, max_depth=None, max_features=3, min_samples_leaf=4, min_samples_split=5, n_estimators=100 \n",
      "[CV]  bootstrap=False, max_depth=None, max_features=3, min_samples_leaf=4, min_samples_split=3, n_estimators=180, total=   3.6s\n",
      "[CV] bootstrap=False, max_depth=None, max_features=3, min_samples_leaf=4, min_samples_split=5, n_estimators=100 \n",
      "[CV]  bootstrap=False, max_depth=None, max_features=3, min_samples_leaf=4, min_samples_split=3, n_estimators=180, total=   3.6s\n",
      "[CV] bootstrap=False, max_depth=None, max_features=3, min_samples_leaf=4, min_samples_split=5, n_estimators=100 \n",
      "[CV]  bootstrap=False, max_depth=None, max_features=3, min_samples_leaf=4, min_samples_split=5, n_estimators=100, total=   2.1s\n",
      "[CV] bootstrap=False, max_depth=None, max_features=3, min_samples_leaf=4, min_samples_split=5, n_estimators=150 \n",
      "[CV]  bootstrap=False, max_depth=None, max_features=3, min_samples_leaf=4, min_samples_split=5, n_estimators=100, total=   2.0s\n",
      "[CV] bootstrap=False, max_depth=None, max_features=3, min_samples_leaf=4, min_samples_split=5, n_estimators=150 \n",
      "[CV]  bootstrap=False, max_depth=None, max_features=3, min_samples_leaf=4, min_samples_split=3, n_estimators=180, total=   3.6s\n",
      "[CV] bootstrap=False, max_depth=None, max_features=3, min_samples_leaf=4, min_samples_split=5, n_estimators=150 \n",
      "[CV]  bootstrap=False, max_depth=None, max_features=3, min_samples_leaf=4, min_samples_split=5, n_estimators=100, total=   2.0s\n",
      "[CV] bootstrap=False, max_depth=None, max_features=3, min_samples_leaf=4, min_samples_split=5, n_estimators=200 \n",
      "[CV]  bootstrap=False, max_depth=None, max_features=3, min_samples_leaf=4, min_samples_split=5, n_estimators=150, total=   2.9s\n",
      "[CV] bootstrap=False, max_depth=None, max_features=3, min_samples_leaf=4, min_samples_split=5, n_estimators=200 \n",
      "[CV]  bootstrap=False, max_depth=None, max_features=3, min_samples_leaf=4, min_samples_split=5, n_estimators=150, total=   2.9s\n",
      "[CV] bootstrap=False, max_depth=None, max_features=3, min_samples_leaf=4, min_samples_split=5, n_estimators=200 \n",
      "[CV]  bootstrap=False, max_depth=None, max_features=3, min_samples_leaf=4, min_samples_split=5, n_estimators=150, total=   3.0s\n",
      "[CV] bootstrap=False, max_depth=None, max_features=3, min_samples_leaf=4, min_samples_split=5, n_estimators=180 \n",
      "[CV]  bootstrap=False, max_depth=None, max_features=3, min_samples_leaf=4, min_samples_split=5, n_estimators=200, total=   3.9s\n",
      "[CV] bootstrap=False, max_depth=None, max_features=3, min_samples_leaf=4, min_samples_split=5, n_estimators=180 \n",
      "[CV]  bootstrap=False, max_depth=None, max_features=3, min_samples_leaf=4, min_samples_split=5, n_estimators=200, total=   4.1s\n",
      "[CV] bootstrap=False, max_depth=None, max_features=3, min_samples_leaf=4, min_samples_split=5, n_estimators=180 \n",
      "[CV]  bootstrap=False, max_depth=None, max_features=3, min_samples_leaf=4, min_samples_split=5, n_estimators=200, total=   3.9s\n",
      "[CV] bootstrap=False, max_depth=None, max_features=3, min_samples_leaf=4, min_samples_split=7, n_estimators=100 \n",
      "[CV]  bootstrap=False, max_depth=None, max_features=3, min_samples_leaf=4, min_samples_split=5, n_estimators=180, total=   3.5s\n",
      "[CV] bootstrap=False, max_depth=None, max_features=3, min_samples_leaf=4, min_samples_split=7, n_estimators=100 \n",
      "[CV]  bootstrap=False, max_depth=None, max_features=3, min_samples_leaf=4, min_samples_split=7, n_estimators=100, total=   2.1s\n",
      "[CV] bootstrap=False, max_depth=None, max_features=3, min_samples_leaf=4, min_samples_split=7, n_estimators=100 \n",
      "[CV]  bootstrap=False, max_depth=None, max_features=3, min_samples_leaf=4, min_samples_split=5, n_estimators=180, total=   3.6s\n",
      "[CV] bootstrap=False, max_depth=None, max_features=3, min_samples_leaf=4, min_samples_split=7, n_estimators=150 \n",
      "[CV]  bootstrap=False, max_depth=None, max_features=3, min_samples_leaf=4, min_samples_split=7, n_estimators=100, total=   2.0s\n",
      "[CV] bootstrap=False, max_depth=None, max_features=3, min_samples_leaf=4, min_samples_split=7, n_estimators=150 \n",
      "[CV]  bootstrap=False, max_depth=None, max_features=3, min_samples_leaf=4, min_samples_split=5, n_estimators=180, total=   3.6s\n",
      "[CV] bootstrap=False, max_depth=None, max_features=3, min_samples_leaf=4, min_samples_split=7, n_estimators=150 \n",
      "[CV]  bootstrap=False, max_depth=None, max_features=3, min_samples_leaf=4, min_samples_split=7, n_estimators=100, total=   2.0s\n",
      "[CV] bootstrap=False, max_depth=None, max_features=3, min_samples_leaf=4, min_samples_split=7, n_estimators=200 \n",
      "[CV]  bootstrap=False, max_depth=None, max_features=3, min_samples_leaf=4, min_samples_split=7, n_estimators=150, total=   2.9s\n",
      "[CV] bootstrap=False, max_depth=None, max_features=3, min_samples_leaf=4, min_samples_split=7, n_estimators=200 \n",
      "[CV]  bootstrap=False, max_depth=None, max_features=3, min_samples_leaf=4, min_samples_split=7, n_estimators=150, total=   2.9s\n",
      "[CV] bootstrap=False, max_depth=None, max_features=3, min_samples_leaf=4, min_samples_split=7, n_estimators=200 \n",
      "[CV]  bootstrap=False, max_depth=None, max_features=3, min_samples_leaf=4, min_samples_split=7, n_estimators=150, total=   2.9s\n",
      "[CV] bootstrap=False, max_depth=None, max_features=3, min_samples_leaf=4, min_samples_split=7, n_estimators=180 \n"
     ]
    },
    {
     "name": "stdout",
     "output_type": "stream",
     "text": [
      "[CV]  bootstrap=False, max_depth=None, max_features=3, min_samples_leaf=4, min_samples_split=7, n_estimators=200, total=   4.0s\n",
      "[CV] bootstrap=False, max_depth=None, max_features=3, min_samples_leaf=4, min_samples_split=7, n_estimators=180 \n",
      "[CV]  bootstrap=False, max_depth=None, max_features=3, min_samples_leaf=4, min_samples_split=7, n_estimators=200, total=   3.9s\n",
      "[CV] bootstrap=False, max_depth=None, max_features=3, min_samples_leaf=4, min_samples_split=7, n_estimators=180 \n",
      "[CV]  bootstrap=False, max_depth=None, max_features=3, min_samples_leaf=4, min_samples_split=7, n_estimators=200, total=   4.0s\n",
      "[CV]  bootstrap=False, max_depth=None, max_features=3, min_samples_leaf=4, min_samples_split=7, n_estimators=180, total=   3.6s\n",
      "[CV]  bootstrap=False, max_depth=None, max_features=3, min_samples_leaf=4, min_samples_split=7, n_estimators=180, total=   2.9s\n",
      "[CV]  bootstrap=False, max_depth=None, max_features=3, min_samples_leaf=4, min_samples_split=7, n_estimators=180, total=   2.4s\n"
     ]
    },
    {
     "name": "stderr",
     "output_type": "stream",
     "text": [
      "[Parallel(n_jobs=-1)]: Done 432 out of 432 | elapsed:  6.1min finished\n"
     ]
    },
    {
     "data": {
      "text/plain": [
       "{'bootstrap': False,\n",
       " 'max_depth': None,\n",
       " 'max_features': 3,\n",
       " 'min_samples_leaf': 2,\n",
       " 'min_samples_split': 5,\n",
       " 'n_estimators': 150}"
      ]
     },
     "execution_count": 160,
     "metadata": {},
     "output_type": "execute_result"
    }
   ],
   "source": [
    "# Fit the grid search to the data\n",
    "grid_search.fit(X_train_reg, y_train_reg)\n",
    "grid_search.best_params_"
   ]
  },
  {
   "cell_type": "code",
   "execution_count": 161,
   "metadata": {},
   "outputs": [
    {
     "data": {
      "text/plain": [
       "{'bootstrap': False,\n",
       " 'max_depth': None,\n",
       " 'max_features': 3,\n",
       " 'min_samples_leaf': 2,\n",
       " 'min_samples_split': 5,\n",
       " 'n_estimators': 150}"
      ]
     },
     "execution_count": 161,
     "metadata": {},
     "output_type": "execute_result"
    }
   ],
   "source": [
    "grid_search.best_params_"
   ]
  },
  {
   "cell_type": "code",
   "execution_count": 162,
   "metadata": {},
   "outputs": [
    {
     "name": "stdout",
     "output_type": "stream",
     "text": [
      "Model Performance\n",
      "Average Error: 89760.1261 degrees.\n",
      "Accuracy = 82.63%.\n"
     ]
    }
   ],
   "source": [
    "best_grid = grid_search.best_estimator_\n",
    "grid_accuracy = evaluate_reg(best_grid, X_test_reg, y_test_reg)\n",
    "roc_4 = grid_accuracy"
   ]
  },
  {
   "cell_type": "markdown",
   "metadata": {},
   "source": [
    "### XGBoost Regression Algorithm (eXtreme Gradient Boosting)"
   ]
  },
  {
   "cell_type": "code",
   "execution_count": 163,
   "metadata": {},
   "outputs": [],
   "source": [
    "from xgboost import XGBRegressor"
   ]
  },
  {
   "cell_type": "code",
   "execution_count": 164,
   "metadata": {},
   "outputs": [
    {
     "name": "stdout",
     "output_type": "stream",
     "text": [
      "Model Performance\n",
      "Average Error: 79615.0745 degrees.\n",
      "Accuracy = 84.92%.\n"
     ]
    }
   ],
   "source": [
    "base_model = XGBRegressor()\n",
    "base_model.fit(X_train_reg, y_train_reg)\n",
    "base_accuracy = evaluate_reg(base_model, X_test_reg, y_test_reg)"
   ]
  },
  {
   "cell_type": "code",
   "execution_count": 165,
   "metadata": {},
   "outputs": [
    {
     "data": {
      "text/plain": [
       "XGBRegressor(base_score=0.5, booster='gbtree', colsample_bylevel=1,\n",
       "       colsample_bytree=1, gamma=0, learning_rate=0.1, max_delta_step=0,\n",
       "       max_depth=3, min_child_weight=1, missing=None, n_estimators=100,\n",
       "       n_jobs=1, nthread=None, objective='reg:linear', random_state=0,\n",
       "       reg_alpha=0, reg_lambda=1, scale_pos_weight=1, seed=None,\n",
       "       silent=True, subsample=1)"
      ]
     },
     "execution_count": 165,
     "metadata": {},
     "output_type": "execute_result"
    }
   ],
   "source": [
    "base_model"
   ]
  },
  {
   "cell_type": "code",
   "execution_count": 166,
   "metadata": {},
   "outputs": [
    {
     "name": "stdout",
     "output_type": "stream",
     "text": [
      "Best: 0.702213 using {'n_estimators': 200}\n",
      "0.678271 (0.009226) with: {'n_estimators': 50}\n",
      "0.691425 (0.008511) with: {'n_estimators': 100}\n",
      "0.697196 (0.008360) with: {'n_estimators': 150}\n",
      "0.702213 (0.008356) with: {'n_estimators': 200}\n"
     ]
    },
    {
     "data": {
      "image/png": "[encoded data removed]",
      "text/plain": [
       "<Figure size 432x288 with 1 Axes>"
      ]
     },
     "metadata": {
      "needs_background": "light"
     },
     "output_type": "display_data"
    }
   ],
   "source": [
    "model = XGBRegressor()\n",
    "n_estimators = range(50, 250, 50)\n",
    "param_grid = dict(n_estimators=n_estimators)\n",
    "kfold = StratifiedKFold(n_splits=10, shuffle=True, random_state=7)\n",
    "grid_search = GridSearchCV(model, param_grid, n_jobs=-1, cv=kfold)\n",
    "grid_result = grid_search.fit(X_train, y_train)\n",
    "# summarize results\n",
    "print(\"Best: %f using %s\" % (grid_result.best_score_, grid_result.best_params_))\n",
    "means = grid_result.cv_results_['mean_test_score']\n",
    "stds = grid_result.cv_results_['std_test_score']\n",
    "params = grid_result.cv_results_['params']\n",
    "for mean, stdev, param in zip(means, stds, params):\n",
    "\tprint(\"%f (%f) with: %r\" % (mean, stdev, param))\n",
    "# plot\n",
    "plt.errorbar(n_estimators, means, yerr=stds)\n",
    "plt.title(\"XGBoost n_estimators vs Log Loss\")\n",
    "plt.xlabel('n_estimators')\n",
    "plt.ylabel('Log Loss') # Tune the Size of Decision Trees in XGBoost\n",
    "plt.savefig('n_estimators.png')"
   ]
  },
  {
   "cell_type": "markdown",
   "metadata": {},
   "source": [
    "We can see that the cross validation log loss scores are negative. This is because the scikit-learn cross validation framework inverted them. The reason is that internally, the framework requires that all metrics that are being optimized are to be maximized, whereas log loss is a minimization metric. It can easily be made maximizing by inverting the scores.\n",
    "\n",
    "The best number of trees was n_estimators=200 resulting in a log loss of -0.200312, but really not a significant difference from n_estimators=150. In fact, there is not a large relative difference in the number of trees between 50 and 200 if we plot the results."
   ]
  },
  {
   "cell_type": "markdown",
   "metadata": {},
   "source": [
    "### Tune the Size of Decision Trees in XGBoost\n",
    "\n",
    "In gradient boosting, we can control the size of decision trees, also called the number of layers or the depth.\n",
    "\n",
    "Shallow trees are expected to have poor performance because they capture few details of the problem and are generally referred to as weak learners. Deeper trees generally capture too many details of the problem and overfit the training dataset, limiting the ability to make good predictions on new data.\n",
    "\n",
    "Generally, boosting algorithms are configured with weak learners, decision trees with few layers, sometimes as simple as just a root node, also called a decision stump rather than a decision tree.\n",
    "\n",
    "The maximum depth can be specified in the XGBClassifier and XGBRegressor wrapper classes for XGBoost in the max_depth parameter. This parameter takes an integer value and defaults to a value of 3."
   ]
  },
  {
   "cell_type": "code",
   "execution_count": 167,
   "metadata": {},
   "outputs": [
    {
     "name": "stdout",
     "output_type": "stream",
     "text": [
      "range(1, 11, 2)\n",
      "Fitting 10 folds for each of 5 candidates, totalling 50 fits\n"
     ]
    },
    {
     "name": "stderr",
     "output_type": "stream",
     "text": [
      "/anaconda3/lib/python3.7/site-packages/sklearn/model_selection/_split.py:605: Warning: The least populated class in y has only 1 members, which is too few. The minimum number of members in any class cannot be less than n_splits=10.\n",
      "  % (min_groups, self.n_splits)), Warning)\n",
      "[Parallel(n_jobs=-1)]: Done  42 tasks      | elapsed:  1.9min\n",
      "[Parallel(n_jobs=-1)]: Done  50 out of  50 | elapsed:  2.5min finished\n"
     ]
    },
    {
     "name": "stdout",
     "output_type": "stream",
     "text": [
      "Best: 0.844663 using {'max_depth': 5}\n",
      "0.657198 (0.041209) with: {'max_depth': 1}\n",
      "0.810671 (0.030810) with: {'max_depth': 3}\n",
      "0.844663 (0.032456) with: {'max_depth': 5}\n",
      "0.839380 (0.038641) with: {'max_depth': 7}\n",
      "0.835827 (0.038532) with: {'max_depth': 9}\n"
     ]
    }
   ],
   "source": [
    "model = XGBRegressor()\n",
    "max_depth = range(1, 11, 2)\n",
    "print(max_depth)\n",
    "param_grid = dict(max_depth=max_depth)\n",
    "kfold = StratifiedKFold(n_splits=10, shuffle=True, random_state=7)\n",
    "grid_search = GridSearchCV(model, param_grid, n_jobs=-1, cv=kfold, verbose=1)\n",
    "grid_result = grid_search.fit(X_train_reg, y_train_reg)\n",
    "# summarize results\n",
    "print(\"Best: %f using %s\" % (grid_result.best_score_, grid_result.best_params_))\n",
    "means = grid_result.cv_results_['mean_test_score']\n",
    "stds = grid_result.cv_results_['std_test_score']\n",
    "params = grid_result.cv_results_['params']\n",
    "for mean, stdev, param in zip(means, stds, params):\n",
    "\tprint(\"%f (%f) with: %r\" % (mean, stdev, param))"
   ]
  },
  {
   "cell_type": "code",
   "execution_count": 168,
   "metadata": {},
   "outputs": [
    {
     "data": {
      "image/png": "[encoded data removed]",
      "text/plain": [
       "<Figure size 432x288 with 1 Axes>"
      ]
     },
     "metadata": {
      "needs_background": "light"
     },
     "output_type": "display_data"
    }
   ],
   "source": [
    "# plot\n",
    "plt.errorbar(max_depth, means, yerr=stds)\n",
    "plt.title(\"XGBoost max_depth vs Log Loss\")\n",
    "plt.xlabel('max_depth')\n",
    "plt.ylabel('Log Loss')\n",
    "plt.savefig('max_depth.png')"
   ]
  },
  {
   "cell_type": "markdown",
   "metadata": {},
   "source": [
    "Reviewing the plot of log loss scores, we can see a marked jump from max_depth=1 to max_depth=3 then pretty even performance for the rest the values of max_depth.\n",
    "\n",
    "Although the best score was observed for max_depth=5, it is interesting to note that there was practically little difference between max_depth=5 and max_depth=7.\n",
    "\n",
    "This suggests a point of diminishing returns in max_depth on a problem that you can tease out using grid search. A graph of max_depth values is plotted against (inverted) logarithmic loss below."
   ]
  },
  {
   "cell_type": "markdown",
   "metadata": {},
   "source": [
    "### Tune The Number of Trees and Max Depth in XGBoost\n",
    "\n",
    "There is a relationship between the number of trees in the model and the depth of each tree.\n",
    "\n",
    "We would expect that deeper trees would result in fewer trees being required in the model, and the inverse where simpler trees (such as decision stumps) require many more trees to achieve similar results.\n",
    "\n",
    "We can investigate this relationship by evaluating a grid of n_estimators and max_depth configuration values. To avoid the evaluation taking too long, we will limit the total number of configuration values evaluated. Parameters were chosen to tease out the relationship rather than optimize the model.\n",
    "\n",
    "We will create a grid of 4 different n_estimators values (50,100,150,200) and 4 different max_depth values (4,5,6,7) and each combination will be evaluated using 10-fold cross validation."
   ]
  },
  {
   "cell_type": "code",
   "execution_count": 169,
   "metadata": {},
   "outputs": [
    {
     "name": "stdout",
     "output_type": "stream",
     "text": [
      "[4, 5, 6, 7]\n",
      "Fitting 10 folds for each of 16 candidates, totalling 160 fits\n"
     ]
    },
    {
     "name": "stderr",
     "output_type": "stream",
     "text": [
      "[Parallel(n_jobs=-1)]: Done  42 tasks      | elapsed:  2.0min\n",
      "[Parallel(n_jobs=-1)]: Done 160 out of 160 | elapsed: 10.5min finished\n"
     ]
    },
    {
     "name": "stdout",
     "output_type": "stream",
     "text": [
      "Best: 0.733227 using {'max_depth': 7, 'n_estimators': 100}\n",
      "0.703784 (0.007598) with: {'max_depth': 4, 'n_estimators': 50}\n",
      "0.712436 (0.007923) with: {'max_depth': 4, 'n_estimators': 100}\n",
      "0.716787 (0.008999) with: {'max_depth': 4, 'n_estimators': 150}\n",
      "0.718928 (0.008811) with: {'max_depth': 4, 'n_estimators': 200}\n",
      "0.718037 (0.007883) with: {'max_depth': 5, 'n_estimators': 50}\n",
      "0.723844 (0.008501) with: {'max_depth': 5, 'n_estimators': 100}\n",
      "0.725700 (0.008632) with: {'max_depth': 5, 'n_estimators': 150}\n",
      "0.726046 (0.008341) with: {'max_depth': 5, 'n_estimators': 200}\n",
      "0.727453 (0.009123) with: {'max_depth': 6, 'n_estimators': 50}\n",
      "0.731183 (0.010458) with: {'max_depth': 6, 'n_estimators': 100}\n",
      "0.731361 (0.010912) with: {'max_depth': 6, 'n_estimators': 150}\n",
      "0.731289 (0.010497) with: {'max_depth': 6, 'n_estimators': 200}\n",
      "0.732018 (0.008292) with: {'max_depth': 7, 'n_estimators': 50}\n",
      "0.733227 (0.008468) with: {'max_depth': 7, 'n_estimators': 100}\n",
      "0.732461 (0.008218) with: {'max_depth': 7, 'n_estimators': 150}\n",
      "0.730670 (0.008184) with: {'max_depth': 7, 'n_estimators': 200}\n"
     ]
    }
   ],
   "source": [
    "# grid search\n",
    "model = XGBRegressor()\n",
    "n_estimators = [50,100,150,200]\n",
    "max_depth = [4,5,6,7]\n",
    "print(max_depth)\n",
    "param_grid = dict(max_depth=max_depth, n_estimators=n_estimators)\n",
    "kfold = StratifiedKFold(n_splits=10, shuffle=True, random_state=7)\n",
    "grid_search = GridSearchCV(model, param_grid, n_jobs=-1, cv=kfold, verbose=1)\n",
    "grid_result = grid_search.fit(X_train, y_train)\n",
    "# summarize results\n",
    "print(\"Best: %f using %s\" % (grid_result.best_score_, grid_result.best_params_))\n",
    "means = grid_result.cv_results_['mean_test_score']\n",
    "stds = grid_result.cv_results_['std_test_score']\n",
    "params = grid_result.cv_results_['params']\n",
    "for mean, stdev, param in zip(means, stds, params):\n",
    "\tprint(\"%f (%f) with: %r\" % (mean, stdev, param))"
   ]
  },
  {
   "cell_type": "code",
   "execution_count": 170,
   "metadata": {},
   "outputs": [
    {
     "data": {
      "image/png": "[encoded data removed]",
      "text/plain": [
       "<Figure size 432x288 with 1 Axes>"
      ]
     },
     "metadata": {
      "needs_background": "light"
     },
     "output_type": "display_data"
    }
   ],
   "source": [
    "# plot results\n",
    "scores = np.array(means).reshape(len(max_depth), len(n_estimators))\n",
    "for i, value in enumerate(max_depth):\n",
    "    plt.plot(n_estimators, scores[i], label='depth: ' + str(value))\n",
    "plt.legend()\n",
    "plt.xlabel('n_estimators')\n",
    "plt.ylabel('Log Loss')\n",
    "plt.savefig('n_estimators_vs_max_depth.png')"
   ]
  },
  {
   "cell_type": "markdown",
   "metadata": {},
   "source": [
    "We can see that the best result was achieved with a n_estimators=200 and max_depth=7, similar to the best values found from the previous two rounds of standalone parameter tuning (n_estimators=200, max_depth=5).\n",
    "\n",
    "We can plot the relationship between each series of max_depth values for a given n_estimators.\n",
    "\n",
    "Fewer boosted trees are required with increased tree depth.\n",
    "\n",
    "Further, we would expect the increase complexity provided by deeper individual trees to result in greater overfitting of the training data which would be exacerbated by having more trees, in turn resulting in a lower cross validation score. We don’t see this here as our trees are not that deep nor do we have too many. Exploring this expectation is left as an exercise you could explore yourself."
   ]
  },
  {
   "cell_type": "markdown",
   "metadata": {},
   "source": [
    "#### Creating the model with the best values for Hyper parameters"
   ]
  },
  {
   "cell_type": "code",
   "execution_count": 171,
   "metadata": {},
   "outputs": [
    {
     "data": {
      "text/plain": [
       "XGBRegressor(base_score=0.5, booster='gbtree', colsample_bylevel=1,\n",
       "       colsample_bytree=1, gamma=0, learning_rate=0.1, max_delta_step=0,\n",
       "       max_depth=7, min_child_weight=1, missing=None, n_estimators=100,\n",
       "       n_jobs=1, nthread=None, objective='reg:linear', random_state=0,\n",
       "       reg_alpha=0, reg_lambda=1, scale_pos_weight=1, seed=None,\n",
       "       silent=True, subsample=1)"
      ]
     },
     "execution_count": 171,
     "metadata": {},
     "output_type": "execute_result"
    }
   ],
   "source": [
    "best_XGBoost = grid_result.best_estimator_\n",
    "best_XGBoost"
   ]
  },
  {
   "cell_type": "code",
   "execution_count": 172,
   "metadata": {},
   "outputs": [
    {
     "name": "stdout",
     "output_type": "stream",
     "text": [
      "Model Performance\n",
      "Average Error: 67194.5532 degrees.\n",
      "Accuracy = 87.42%.\n"
     ]
    }
   ],
   "source": [
    "best_XGBoost.fit(X_train_reg, y_train_reg)\n",
    "best_accuracy = evaluate_reg(best_XGBoost, X_test_reg, y_test_reg)\n",
    "roc_5= best_accuracy"
   ]
  },
  {
   "cell_type": "markdown",
   "metadata": {},
   "source": [
    "#### XGBoost Algo provides better predictions than Random Forest for the regression problem. And both of them provide a lower RMSE than Linear Regression\n",
    "\n",
    "The accuracy of the XGBoost Regression is not better thean the Part A models."
   ]
  },
  {
   "cell_type": "markdown",
   "metadata": {},
   "source": [
    "## Part D:\n",
    "\n",
    "### Regression Models \n",
    "\n",
    "Linear Regression:\n"
   ]
  },
  {
   "cell_type": "code",
   "execution_count": 173,
   "metadata": {},
   "outputs": [],
   "source": [
    "from sklearn.metrics import mean_squared_error\n",
    "from math import sqrt"
   ]
  },
  {
   "cell_type": "code",
   "execution_count": 174,
   "metadata": {},
   "outputs": [
    {
     "name": "stdout",
     "output_type": "stream",
     "text": [
      "Random forest best model RMSE is : 125845.11\n"
     ]
    }
   ],
   "source": [
    "#Random Forest best model\n",
    "print('Random forest best model RMSE is : ' + str(round(sqrt(mean_squared_error(best_random.predict(X_test_reg), y_test_reg)),2)))"
   ]
  },
  {
   "cell_type": "code",
   "execution_count": 175,
   "metadata": {},
   "outputs": [
    {
     "name": "stdout",
     "output_type": "stream",
     "text": [
      "XGBoost best model RMSE is : 119696.72\n"
     ]
    }
   ],
   "source": [
    "#XGBoost Best model\n",
    "print('XGBoost best model RMSE is : ' + str(round(sqrt(mean_squared_error(best_XGBoost.predict(X_test_reg), y_test_reg)),2)))"
   ]
  },
  {
   "cell_type": "code",
   "execution_count": 176,
   "metadata": {},
   "outputs": [
    {
     "name": "stdout",
     "output_type": "stream",
     "text": [
      "Linear regression best model from Assignment 3: 205986.42\n"
     ]
    }
   ],
   "source": [
    "#Linear regression - multiple linear regression model from previous assignment\n",
    "print('Linear regression best model from Assignment 3: ' + str(205986.42))"
   ]
  },
  {
   "cell_type": "code",
   "execution_count": 177,
   "metadata": {},
   "outputs": [
    {
     "name": "stdout",
     "output_type": "stream",
     "text": [
      "-35221581.61114453 [-1.89740445e+04  4.04201375e+04  8.17926183e+01  1.17691474e-01\n",
      "  5.01479970e+05  5.39560902e+01  2.78348496e+01 -1.83835359e+03\n",
      "  3.54094502e+03  5.82818313e+05 -9.58838264e+04  3.63686484e+01\n",
      " -4.10670398e-01  1.31346356e+04 -6.98891883e+06 -5.16472972e+04\n",
      " -4.28381657e+04 -4.62075546e+04  7.99981149e+04 -2.16606938e+03\n",
      "  6.28609719e+04 -1.06376434e+05  9.58950675e+02 -3.34927465e+04\n",
      "  1.30630811e+04  1.25847149e+05 -7.30620447e+04 -6.02945614e+03\n",
      " -1.68217112e+04  2.40732222e+04  7.18399899e+04 -2.76910351e+05\n",
      " -2.44983358e+05 -3.97147238e+05 -4.31586029e+05 -3.99945391e+05\n",
      " -3.56825220e+05 -2.94367599e+05 -1.83038198e+05 -2.07731166e+04\n",
      "  2.51781729e+05  6.55914502e+05  1.69788027e+06  1.73768039e+03\n",
      " -6.92644095e+03 -2.73077534e+04 -1.66753380e+04 -5.76225300e+04\n",
      " -4.35974650e+04]\n"
     ]
    }
   ],
   "source": [
    "from sklearn import linear_model\n",
    "\n",
    "# Fit the linear model\n",
    "model = linear_model.LinearRegression()\n",
    "results = model.fit(X_train_reg, y_train_reg)\n",
    "\n",
    "# Print the coefficients\n",
    "print (results.intercept_, results.coef_)"
   ]
  },
  {
   "cell_type": "code",
   "execution_count": 178,
   "metadata": {},
   "outputs": [],
   "source": [
    "y_pred = model.predict(X_test_reg)"
   ]
  },
  {
   "cell_type": "code",
   "execution_count": 179,
   "metadata": {},
   "outputs": [
    {
     "name": "stdout",
     "output_type": "stream",
     "text": [
      "Accuracy of linear regression classifier on test set: 0.73\n"
     ]
    }
   ],
   "source": [
    "print('Accuracy of linear regression classifier on test set: {:.2f}'.format(model.score(X_test_reg, y_test_reg)))\n",
    "roc_6 = model.score(X_test_reg, y_test_reg)"
   ]
  },
  {
   "cell_type": "markdown",
   "metadata": {},
   "source": [
    "### Ridge Regression : \n",
    "\n",
    "In ridge regression, the cost function is altered by adding a penalty equivalent to square of the magnitude of the coefficients. As ridge regression shrinks the coefficients and it helps to reduce the model complexity and multi-collinearity. "
   ]
  },
  {
   "cell_type": "code",
   "execution_count": 180,
   "metadata": {},
   "outputs": [
    {
     "data": {
      "text/plain": [
       "Ridge(alpha=100, copy_X=True, fit_intercept=True, max_iter=None,\n",
       "   normalize=False, random_state=None, solver='auto', tol=0.001)"
      ]
     },
     "execution_count": 180,
     "metadata": {},
     "output_type": "execute_result"
    }
   ],
   "source": [
    "from sklearn.linear_model import Ridge\n",
    "\n",
    "rr = Ridge(alpha=0.01) # \n",
    "rr.fit(X_train_reg, y_train_reg) # restricted and in this case linear and ridge regression resembles\n",
    "rr100 = Ridge(alpha=100) #  comparison with alpha value\n",
    "rr100.fit(X_train, y_train)"
   ]
  },
  {
   "cell_type": "markdown",
   "metadata": {},
   "source": [
    "The higher the alpha value, more restriction on the coefficients; low alpha > more generalization, coefficients are barely restricted. In this case linear and ridge regression resembles the comparison with the alpha value."
   ]
  },
  {
   "cell_type": "code",
   "execution_count": 185,
   "metadata": {},
   "outputs": [
    {
     "name": "stdout",
     "output_type": "stream",
     "text": [
      "ridge regression train score low alpha: 0.725152515952371\n",
      "ridge regression test score low alpha: 0.733879527022287\n",
      "ridge regression train score high alpha: -2.1902662626165936\n",
      "ridge regression test score high alpha: -2.1080396901192637\n"
     ]
    },
    {
     "data": {
      "image/png": "[encoded data removed]",
      "text/plain": [
       "<Figure size 432x288 with 1 Axes>"
      ]
     },
     "metadata": {
      "needs_background": "light"
     },
     "output_type": "display_data"
    }
   ],
   "source": [
    "Ridge_train_score = rr.score(X_train_reg,y_train_reg)\n",
    "Ridge_test_score = rr.score(X_test_reg, y_test_reg)\n",
    "Ridge_train_score100 = rr100.score(X_train_reg,y_train_reg)\n",
    "Ridge_test_score100 = rr100.score(X_test_reg, y_test_reg)\n",
    "print (\"ridge regression train score low alpha:\", Ridge_train_score)\n",
    "print (\"ridge regression test score low alpha:\", Ridge_test_score)\n",
    "print (\"ridge regression train score high alpha:\", Ridge_train_score100)\n",
    "print (\"ridge regression test score high alpha:\", Ridge_test_score100)\n",
    "plt.plot(rr.coef_,alpha=0.7,linestyle='none',marker='*',markersize=5,color='red',label=r'Ridge; $\\alpha = 0.01$',zorder=7) # zorder for ordering the markers\n",
    "plt.plot(rr100.coef_,alpha=0.5,linestyle='none',marker='d',markersize=6,color='blue',label=r'Ridge; $\\alpha = 100$') # alpha here is for transparency\n",
    "plt.xlabel('Coefficient Index',fontsize=16)\n",
    "plt.ylabel('Coefficient Magnitude',fontsize=16)\n",
    "plt.legend(fontsize=13,loc=4)\n",
    "plt.show()"
   ]
  },
  {
   "cell_type": "markdown",
   "metadata": {},
   "source": [
    "The lower the constraint (low lambda value of 0.01) on the features, the model will resemble the linear regression model with the same accuray of that of the linear regression."
   ]
  },
  {
   "cell_type": "markdown",
   "metadata": {},
   "source": [
    "### Part E :\n",
    "#### SVM(Support Vector Machine)\n",
    "\n",
    "A Support Vector Machine is a supervised machine learning algorithm which can be used for both classification and regression problems. It follows a technique called the kernel trick to transform the data and based on these transformations, it finds an optimal boundary between the possible outputs."
   ]
  },
  {
   "cell_type": "code",
   "execution_count": 186,
   "metadata": {},
   "outputs": [],
   "source": [
    "from sklearn.svm import SVC  # Import the SVC from the scikitlearn"
   ]
  },
  {
   "cell_type": "markdown",
   "metadata": {},
   "source": [
    "#### Parameters for the SVM:\n",
    "\n",
    "sklearn.svm.SVC (C=1.0, kernel=’rbf’, degree=3, gamma=’auto’)\n",
    "\n",
    "\n",
    "C: It is the regularization parameter, C, of the error term.\n",
    "\n",
    "kernel: It specifies the kernel type to be used in the algorithm. It can be ‘linear’, ‘poly’, ‘rbf’, ‘sigmoid’, ‘precomputed’, or a callable. The default value is ‘rbf’.\n",
    "\n",
    "degree: It is the degree of the polynomial kernel function (‘poly’) and is ignored by all other kernels. The default value is 3.\n",
    "\n",
    "gamma: It is the kernel coefficient for ‘rbf’, ‘poly’, and ‘sigmoid’. If gamma is ‘auto’, then 1/n_features will be used instead."
   ]
  },
  {
   "cell_type": "code",
   "execution_count": 187,
   "metadata": {},
   "outputs": [
    {
     "data": {
      "text/plain": [
       "SVC(C=1.0, cache_size=200, class_weight=None, coef0=0.0,\n",
       "  decision_function_shape='ovr', degree=3, gamma='auto', kernel='rbf',\n",
       "  max_iter=-1, probability=False, random_state=None, shrinking=True,\n",
       "  tol=0.001, verbose=False)"
      ]
     },
     "execution_count": 187,
     "metadata": {},
     "output_type": "execute_result"
    }
   ],
   "source": [
    "svclassifier = SVC(kernel ='rbf')  # SVM Classifier for the classification problem \n",
    "svclassifier.fit(X_train, y_train)  # Training the data using SVM Classifier"
   ]
  },
  {
   "cell_type": "code",
   "execution_count": 188,
   "metadata": {},
   "outputs": [],
   "source": [
    "y_pred = svclassifier.predict(X_test)  # SVM Classifier to predict the data"
   ]
  },
  {
   "cell_type": "code",
   "execution_count": 189,
   "metadata": {},
   "outputs": [
    {
     "name": "stdout",
     "output_type": "stream",
     "text": [
      "[[3247   15]\n",
      " [3202   20]]\n",
      "             precision    recall  f1-score   support\n",
      "\n",
      "         -1       0.50      1.00      0.67      3262\n",
      "          1       0.57      0.01      0.01      3222\n",
      "\n",
      "avg / total       0.54      0.50      0.34      6484\n",
      "\n"
     ]
    }
   ],
   "source": [
    "from sklearn.metrics import classification_report\n",
    "from sklearn.metrics import confusion_matrix\n",
    "\n",
    "print(confusion_matrix(y_test, y_pred))\n",
    "print(classification_report(y_test, y_pred))"
   ]
  },
  {
   "cell_type": "code",
   "execution_count": 190,
   "metadata": {},
   "outputs": [
    {
     "name": "stdout",
     "output_type": "stream",
     "text": [
      "Accuracy of SVM classifier on training set: 1.00\n",
      "Accuracy of SVM classifier on test set: 0.50\n"
     ]
    }
   ],
   "source": [
    "print('Accuracy of SVM classifier on training set: {:.2f}'   # Accuracy of the SVM Classifier\n",
    "     .format(svclassifier.score(X_train, y_train)))\n",
    "print('Accuracy of SVM classifier on test set: {:.2f}'\n",
    "     .format(svclassifier.score(X_test, y_test)))"
   ]
  },
  {
   "cell_type": "code",
   "execution_count": 191,
   "metadata": {},
   "outputs": [
    {
     "name": "stdout",
     "output_type": "stream",
     "text": [
      "{'kernel': ['rbf', 'sigmoid']}\n"
     ]
    }
   ],
   "source": [
    "kernel = ['rbf', 'sigmoid']\n",
    "\n",
    "random_grid = {'kernel' : kernel}\n",
    "pprint(random_grid)"
   ]
  },
  {
   "cell_type": "code",
   "execution_count": 192,
   "metadata": {},
   "outputs": [
    {
     "name": "stdout",
     "output_type": "stream",
     "text": [
      "Fitting 3 folds for each of 2 candidates, totalling 6 fits\n",
      "[CV] kernel=rbf ......................................................\n",
      "[CV] kernel=rbf ......................................................\n",
      "[CV] kernel=rbf ......................................................\n",
      "[CV] kernel=sigmoid ..................................................\n",
      "[CV] ................................... kernel=sigmoid, total=  26.2s\n",
      "[CV] kernel=sigmoid ..................................................\n",
      "[CV] ....................................... kernel=rbf, total=  36.7s\n",
      "[CV] kernel=sigmoid ..................................................\n",
      "[CV] ....................................... kernel=rbf, total=  41.9s\n"
     ]
    },
    {
     "name": "stderr",
     "output_type": "stream",
     "text": [
      "[Parallel(n_jobs=-1)]: Done   3 out of   6 | elapsed:   54.0s remaining:   54.0s\n"
     ]
    },
    {
     "name": "stdout",
     "output_type": "stream",
     "text": [
      "[CV] ....................................... kernel=rbf, total=  49.5s\n",
      "[CV] ................................... kernel=sigmoid, total=  22.5s\n",
      "[CV] ................................... kernel=sigmoid, total=  18.6s\n"
     ]
    },
    {
     "name": "stderr",
     "output_type": "stream",
     "text": [
      "[Parallel(n_jobs=-1)]: Done   6 out of   6 | elapsed:  1.2min finished\n"
     ]
    },
    {
     "data": {
      "text/plain": [
       "GridSearchCV(cv=3, error_score='raise',\n",
       "       estimator=SVC(C=1.0, cache_size=200, class_weight=None, coef0=0.0,\n",
       "  decision_function_shape='ovr', degree=3, gamma='auto', kernel='rbf',\n",
       "  max_iter=-1, probability=False, random_state=None, shrinking=True,\n",
       "  tol=0.001, verbose=False),\n",
       "       fit_params=None, iid=True, n_jobs=-1,\n",
       "       param_grid={'kernel': ['rbf', 'sigmoid']}, pre_dispatch='2*n_jobs',\n",
       "       refit=True, return_train_score='warn', scoring=None, verbose=2)"
      ]
     },
     "execution_count": 192,
     "metadata": {},
     "output_type": "execute_result"
    }
   ],
   "source": [
    "from sklearn.model_selection import GridSearchCV\n",
    "\n",
    "clf_base = SVC()\n",
    "clf_random = GridSearchCV(estimator = clf_base, param_grid = random_grid, \n",
    "                          cv = 3, n_jobs = -1, verbose = 2)\n",
    "clf_random.fit(X_train,y_train)"
   ]
  },
  {
   "cell_type": "code",
   "execution_count": 193,
   "metadata": {},
   "outputs": [
    {
     "data": {
      "text/plain": [
       "{'kernel': 'rbf'}"
      ]
     },
     "execution_count": 193,
     "metadata": {},
     "output_type": "execute_result"
    }
   ],
   "source": [
    "clf_random.best_params_"
   ]
  },
  {
   "cell_type": "code",
   "execution_count": 194,
   "metadata": {},
   "outputs": [],
   "source": [
    "best_grid = clf_random.best_estimator_"
   ]
  },
  {
   "cell_type": "code",
   "execution_count": 195,
   "metadata": {},
   "outputs": [
    {
     "name": "stdout",
     "output_type": "stream",
     "text": [
      "ROC for best grid search model : 0.5008044593785598\n"
     ]
    }
   ],
   "source": [
    "roc_7 = str(evaluate(best_grid,X_train,y_train, X_test, y_test))\n",
    "print('ROC for best grid search model : ' + str(evaluate(best_grid,X_train,y_train, X_test, y_test)))"
   ]
  },
  {
   "cell_type": "markdown",
   "metadata": {},
   "source": [
    "## Conculsion:\n",
    "\n",
    "By analysing the data using various supervised algorithms we could predict the selling price for the house where each alogrithm was passed with different parameters to give out different prediction scores. XGBoost Classifier performed well with an accuracy of 0.9091610 than the other supervised algorithms with comparison to the accuracy of each algorithm.\n"
   ]
  },
  {
   "cell_type": "code",
   "execution_count": 198,
   "metadata": {},
   "outputs": [
    {
     "name": "stdout",
     "output_type": "stream",
     "text": [
      "1. Accuracy of Random Forest Classifier Algorithm 0.9012936429916792\n",
      "2. Accuracy of XGBoost Classifier 0.9121069852002309\n",
      "3. Accuracy of Logistic Regression 0.8078695178147917\n",
      "4. Accuracy of Random Forest Regression Algorithm 82.62908751288145\n",
      "5. Accuracy of XGBoost Regression 87.41571965700818\n",
      "6. Accuracy of Linear Regression 0.7340052587384369\n",
      "7. Accuracy of Lasso Regression 0.733879527022287\n",
      "8. Accuracy of SVM Classifier 0.5008044593785598\n"
     ]
    }
   ],
   "source": [
    "print(\"1. Accuracy of Random Forest Classifier Algorithm\", roc_1)\n",
    "print(\"2. Accuracy of XGBoost Classifier\", roc_2)\n",
    "print(\"3. Accuracy of Logistic Regression\", roc_3)\n",
    "print(\"4. Accuracy of Random Forest Regression Algorithm\", roc_4)\n",
    "print(\"5. Accuracy of XGBoost Regression\", roc_5)\n",
    "print(\"6. Accuracy of Linear Regression\", roc_6)\n",
    "print(\"7. Accuracy of Lasso Regression\", Ridge_test_score)\n",
    "print(\"8. Accuracy of SVM Classifier\", roc_7)"
   ]
  },
  {
   "cell_type": "markdown",
   "metadata": {},
   "source": [
    "## Contributions statement:\n",
    "\n",
    "I have conributed to this assignment by rewriting the several forms of the code and corrected the ways of the analysing the data. Edited a few hyperparameters to make the Classification and Regression model to perform even better at a short period of time. By adding the Linear Regression, Lasso Regresssion and SVM could evaluate how well the Random Forest Algorithms and the XGBoost Algorithms perform better than the Regression and Classification models."
   ]
  },
  {
   "cell_type": "markdown",
   "metadata": {},
   "source": [
    "## Citation: \n",
    "\n",
    "https://towardsdatascience.com/the-random-forest-algorithm-d457d499ffcd\n",
    "\n",
    "https://medium.com/@srnghn/the-mathematics-of-decision-trees-random-forest-and-feature-importance-in-scikit-learn-and-spark-f2861df67e3\n",
    "\n",
    "https://medium.com/all-things-ai/in-depth-parameter-tuning-for-random-forest-d67bb7e920d\n",
    "\n",
    "https://towardsdatascience.com/ridge-and-lasso-regression-a-complete-guide-with-python-scikit-learn-e20e34bcbf0b\n",
    "\n",
    "https://medium.com/machine-learning-101/chapter-5-random-forest-classifier-56dc7425c3e1\n",
    "\n",
    "https://machinelearningmastery.com/roc-curves-and-precision-recall-curves-for-classification-in-python/\n",
    "\n",
    "https://towardsdatascience.com/understanding-auc-roc-curve-68b2303cc9c5\n",
    "\n",
    "https://github.com/nikbearbrown/CSYE_7245/blob/master/Assignments/Assignment_1_Properly_Format_and_Explain.ipynb\n",
    "\n",
    "https://www.datacamp.com/community/tutorials/random-forests-classifier-python\n",
    "\n",
    "https://towardsdatascience.com/hyperparameter-tuning-the-random-forest-in-python-using-scikit-learn-28d2aa77dd74\n",
    "\n",
    "https://machinelearningmastery.com/develop-first-xgboost-model-python-scikit-learn/\n",
    "\n",
    "https://machinelearningmastery.com/tune-number-size-decision-trees-xgboost-python/\n",
    "\n",
    "http://www.michaeljgrogan.com/statsmodels-sklearn-linear-regression/\n",
    "\n",
    "https://www.hackerearth.com/blog/machine-learning/simple-tutorial-svm-parameter-tuning-python-r/\n",
    "\n",
    "https://stackabuse.com/implementing-svm-and-kernel-svm-with-pythons-scikit-learn/\n",
    "\n",
    "https://towardsdatascience.com/solving-a-simple-classification-problem-with-python-fruits-lovers-edition-d20ab6b071d2\n",
    "\n",
    "https://www.analyticsvidhya.com/blog/2015/06/tuning-random-forest-model/\n",
    "\n",
    "https://medium.com/@aneesha/svm-parameter-tuning-in-scikit-learn-using-gridsearchcv-2413c02125a0\n",
    "\n",
    "https://towardsdatascience.com/the-random-forest-algorithm-d457d499ffcd"
   ]
  },
  {
   "cell_type": "markdown",
   "metadata": {},
   "source": [
    "## License :\n",
    "\n",
    "Copyright (c) 2019 Johail Sherieff\n",
    "\n",
    "Permission is hereby granted, free of charge, to any person obtaining a copy of this software and associated documentation files (the \"Software\"), to deal in the Software without restriction, including without limitation the rights to use, copy, modify, merge, publish, distribute, sublicense, and/or sell copies of the Software, and to permit persons to whom the Software is furnished to do so, subject to the following conditions:\n",
    "\n",
    "The above copyright notice and this permission notice shall be included in all copies or substantial portions of the Software.\n",
    "\n",
    "THE SOFTWARE IS PROVIDED \"AS IS\", WITHOUT WARRANTY OF ANY KIND, EXPRESS OR IMPLIED, INCLUDING BUT NOT LIMITED TO THE WARRANTIES OF MERCHANTABILITY, FITNESS FOR A PARTICULAR PURPOSE AND NONINFRINGEMENT. IN NO EVENT SHALL THE AUTHORS OR COPYRIGHT HOLDERS BE LIABLE FOR ANY CLAIM, DAMAGES OR OTHER LIABILITY, WHETHER IN AN ACTION OF CONTRACT, TORT OR OTHERWISE, ARISING FROM, OUT OF OR IN CONNECTION WITH THE SOFTWARE OR THE USE OR OTHER DEALINGS IN THE SOFTWARE."
   ]
  }
 ],
 "metadata": {
  "kernelspec": {
   "display_name": "Python 2",
   "language": "python",
   "name": "python2"
  },
  "language_info": {
   "codemirror_mode": {
    "name": "ipython",
    "version": 2
   },
   "file_extension": ".py",
   "mimetype": "text/x-python",
   "name": "python",
   "nbconvert_exporter": "python",
   "pygments_lexer": "ipython2",
   "version": "2.7.15"
  }
 },
 "nbformat": 4,
 "nbformat_minor": 2
}
